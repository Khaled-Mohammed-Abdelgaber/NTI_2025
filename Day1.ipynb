{
 "cells": [
  {
   "cell_type": "code",
   "execution_count": 1,
   "id": "5aaf2ff8",
   "metadata": {},
   "outputs": [
    {
     "name": "stdout",
     "output_type": "stream",
     "text": [
      "hello world\n",
      "hello world\n"
     ]
    }
   ],
   "source": [
    "print ('hello world') # Generate \"hello world\".\n",
    "print(\"hello world\") # Generate \"hello world\". The output is the same when single and double quotation marks are carried in input"
   ]
  },
  {
   "cell_type": "code",
   "execution_count": 2,
   "id": "69575473",
   "metadata": {},
   "outputs": [
    {
     "name": "stdout",
     "output_type": "stream",
     "text": [
      "Hello Huawei\n",
      "this is the long string \n",
      "     this is the second\n",
      "     the thrid line\n",
      "hello world\n"
     ]
    }
   ],
   "source": [
    "#string using double qoutes \n",
    "print(\"Hello Huawei\")\n",
    "\n",
    "#multiple line string\n",
    "print( '''this is the long string \n",
    "     this is the second\n",
    "     the thrid line''')\n",
    "\n",
    "#when you need to write the string in multiple lines\n",
    "print(\"hello \" \\\n",
    "      \"world\"\n",
    "      )"
   ]
  },
  {
   "cell_type": "markdown",
   "id": "a3c0a38b",
   "metadata": {},
   "source": [
    "### Comments"
   ]
  },
  {
   "cell_type": "code",
   "execution_count": 4,
   "id": "0d1e6732",
   "metadata": {},
   "outputs": [],
   "source": [
    "# This is a comment\n",
    "height = 442 # Meters"
   ]
  },
  {
   "cell_type": "code",
   "execution_count": 5,
   "id": "f5ccb600",
   "metadata": {},
   "outputs": [
    {
     "data": {
      "text/plain": [
       "'\\nfor i in range(10):\\nprint(\"Hello\", i)\\n...\\n'"
      ]
     },
     "execution_count": 5,
     "metadata": {},
     "output_type": "execute_result"
    }
   ],
   "source": [
    "# All of this code is ignored\n",
    "'''\n",
    "for i in range(10):\n",
    "print(\"Hello\", i)\n",
    "...\n",
    "'''"
   ]
  },
  {
   "cell_type": "markdown",
   "id": "8f5068a0",
   "metadata": {},
   "source": [
    "### Variables"
   ]
  },
  {
   "cell_type": "code",
   "execution_count": 6,
   "id": "4a107aba",
   "metadata": {},
   "outputs": [],
   "source": [
    "\"\"\"A variable is a name for some value\n",
    "Variable names usually follow same rules as C\n",
    "[A-Za-z_][A-Za-z0-9_]\n",
    "You do not declare types (int, float, etc.)\n",
    "\"\"\"\n",
    "height = 442 # An integer\n",
    "height = 442.0 # Floating point\n",
    "height = 'Really tall' # A string"
   ]
  },
  {
   "cell_type": "code",
   "execution_count": 7,
   "id": "32230965",
   "metadata": {},
   "outputs": [],
   "source": [
    "π = 3.14159\n",
    "휏 = 2*π"
   ]
  },
  {
   "cell_type": "markdown",
   "id": "9ccbe355",
   "metadata": {},
   "source": [
    "#### Declaring"
   ]
  },
  {
   "cell_type": "code",
   "execution_count": 8,
   "id": "14efdec5",
   "metadata": {},
   "outputs": [
    {
     "name": "stdout",
     "output_type": "stream",
     "text": [
      "Before declare:  100\n",
      "After re-declare: 120.3\n"
     ]
    }
   ],
   "source": [
    "# declaring the var\n",
    "Number = 100\n",
    "\n",
    "# display\n",
    "print(\"Before declare: \", Number)\n",
    "\n",
    "# re-declare the var\n",
    "Number = 120.3\n",
    "  \n",
    "print(\"After re-declare:\", Number)"
   ]
  },
  {
   "cell_type": "code",
   "execution_count": 9,
   "id": "c58b52bc",
   "metadata": {},
   "outputs": [
    {
     "name": "stdout",
     "output_type": "stream",
     "text": [
      "10\n",
      "10\n",
      "10\n"
     ]
    }
   ],
   "source": [
    "a = b = c = 10\n",
    "\n",
    "print(a)\n",
    "print(b)\n",
    "print(c)"
   ]
  },
  {
   "cell_type": "code",
   "execution_count": 10,
   "id": "47abad84",
   "metadata": {},
   "outputs": [
    {
     "name": "stdout",
     "output_type": "stream",
     "text": [
      "1\n",
      "20.2\n",
      "GeeksforGeeks\n"
     ]
    }
   ],
   "source": [
    "a, b, c = 1, 20.2, \"GeeksforGeeks\"\n",
    "\n",
    "print(a)\n",
    "print(b)\n",
    "print(c)"
   ]
  },
  {
   "cell_type": "code",
   "execution_count": 11,
   "id": "d5a6418c",
   "metadata": {},
   "outputs": [
    {
     "name": "stdout",
     "output_type": "stream",
     "text": [
      "GeeksforGeeks\n"
     ]
    }
   ],
   "source": [
    "a = 10\n",
    "a = \"GeeksforGeeks\"\n",
    "\n",
    "print(a)"
   ]
  },
  {
   "cell_type": "code",
   "execution_count": 12,
   "id": "d8d37e37",
   "metadata": {},
   "outputs": [
    {
     "name": "stdout",
     "output_type": "stream",
     "text": [
      "30\n",
      "GeeksforGeeks\n"
     ]
    }
   ],
   "source": [
    "a = 10\n",
    "b = 20\n",
    "print(a+b)\n",
    "\n",
    "a = \"Geeksfor\"\n",
    "b = \"Geeks\"\n",
    "print(a+b)"
   ]
  },
  {
   "cell_type": "code",
   "execution_count": 13,
   "id": "cb264df2",
   "metadata": {},
   "outputs": [
    {
     "ename": "TypeError",
     "evalue": "unsupported operand type(s) for +: 'int' and 'str'",
     "output_type": "error",
     "traceback": [
      "\u001b[31m---------------------------------------------------------------------------\u001b[39m",
      "\u001b[31mTypeError\u001b[39m                                 Traceback (most recent call last)",
      "\u001b[36mCell\u001b[39m\u001b[36m \u001b[39m\u001b[32mIn[13]\u001b[39m\u001b[32m, line 3\u001b[39m\n\u001b[32m      1\u001b[39m a = \u001b[32m10\u001b[39m\n\u001b[32m      2\u001b[39m b = \u001b[33m\"\u001b[39m\u001b[33mGeeks\u001b[39m\u001b[33m\"\u001b[39m\n\u001b[32m----> \u001b[39m\u001b[32m3\u001b[39m \u001b[38;5;28mprint\u001b[39m(\u001b[43ma\u001b[49m\u001b[43m+\u001b[49m\u001b[43mb\u001b[49m)\n",
      "\u001b[31mTypeError\u001b[39m: unsupported operand type(s) for +: 'int' and 'str'"
     ]
    }
   ],
   "source": [
    "a = 10\n",
    "b = \"Geeks\"\n",
    "print(a+b)"
   ]
  },
  {
   "cell_type": "markdown",
   "id": "f6971341",
   "metadata": {},
   "source": [
    "#### Naming Conventions"
   ]
  },
  {
   "cell_type": "code",
   "execution_count": 14,
   "id": "3a1d1c68",
   "metadata": {},
   "outputs": [],
   "source": [
    "#Use \"snake case\" for multiple words\n",
    "first_name = \"Guido\"\n",
    "last_name = \"van Rossum\""
   ]
  },
  {
   "cell_type": "code",
   "execution_count": 16,
   "id": "f813001f",
   "metadata": {},
   "outputs": [],
   "source": [
    "#Use leading _ for \"private\" names\n",
    "_name = \"khaled\""
   ]
  },
  {
   "cell_type": "markdown",
   "id": "b91f8f35",
   "metadata": {},
   "source": [
    "### Input"
   ]
  },
  {
   "cell_type": "code",
   "execution_count": 17,
   "id": "b2734f98",
   "metadata": {},
   "outputs": [
    {
     "name": "stdout",
     "output_type": "stream",
     "text": [
      "You entered: 5\n"
     ]
    }
   ],
   "source": [
    "a = input(\"Enter a number: \")\n",
    "print(\"You entered:\", a)"
   ]
  },
  {
   "cell_type": "markdown",
   "id": "0d2536e1",
   "metadata": {},
   "source": [
    "### Exercises"
   ]
  },
  {
   "cell_type": "markdown",
   "id": "95272201",
   "metadata": {},
   "source": [
    "Python Exercise: Printing, Comments, and Variables\n",
    "Instructions\n",
    "\n",
    "Create variables to store your name, age, and favorite color.\n",
    "\n",
    "Use comments to explain each step of your code.\n",
    "\n",
    "Use the print() function to display these details in a full sentence.\n",
    "\n",
    "Add another print statement to display each variable on a separate line.\n",
    "\n",
    "Run your code and make sure the output is correct."
   ]
  },
  {
   "cell_type": "code",
   "execution_count": null,
   "id": "55adaf7c",
   "metadata": {},
   "outputs": [],
   "source": []
  },
  {
   "cell_type": "markdown",
   "id": "a3dc75f3",
   "metadata": {},
   "source": [
    "Changing Variable Values\n",
    "\n",
    "Create a variable called temperature and set it to 30.\n",
    "\n",
    "Print \"The temperature is 30°C today.\"\n",
    "\n",
    "Change the value to 35.\n",
    "\n",
    "Print \"The temperature is now 35°C.\""
   ]
  },
  {
   "cell_type": "code",
   "execution_count": null,
   "id": "7ee7dd6b",
   "metadata": {},
   "outputs": [],
   "source": []
  },
  {
   "cell_type": "markdown",
   "id": "a3061c39",
   "metadata": {},
   "source": [
    "Create variables:\n",
    "\n",
    "apples = 5\n",
    "\n",
    "bananas = 8\n",
    "\n",
    "Print \"I have 5 apples and 8 bananas.\"\n",
    "\n",
    "Print the total number of fruits using a variable total_fruits."
   ]
  },
  {
   "cell_type": "code",
   "execution_count": null,
   "id": "b3c2762b",
   "metadata": {},
   "outputs": [],
   "source": []
  },
  {
   "cell_type": "markdown",
   "id": "5056f713",
   "metadata": {},
   "source": [
    "Ask the user to enter their name and age using input().\n",
    "\n",
    "Store them in variables.\n",
    "\n",
    "Print:\n",
    "\"Hello, [name]! You are [age] years old.\"\n",
    "\n",
    "Add comments explaining each step"
   ]
  },
  {
   "cell_type": "code",
   "execution_count": null,
   "id": "4e1a5b3d",
   "metadata": {},
   "outputs": [],
   "source": []
  },
  {
   "cell_type": "markdown",
   "id": "d9cd454a",
   "metadata": {},
   "source": [
    "#### Operators"
   ]
  },
  {
   "cell_type": "code",
   "execution_count": null,
   "id": "21560235",
   "metadata": {},
   "outputs": [],
   "source": [
    "print(True+False)# The output is 1. By default, True indicates 1, and False indicates 0.\n",
    "print(True or False)# If True is displayed, enter or or perform the OR operation.\n",
    "print(5//2)# The output is 2, and // is the rounding operator. \n",
    "int(5)/int(2) #no casting for the operation\n",
    "print(5/2)# The output is 2.5, and // is the rounding operator.\n",
    "print(5%2)# The output is 1, and % is the modulo operator.  \n",
    "print(3**2) # The output is 9, and ** indicates the power operation. \n",
    "print(5+1.6) # The output is 6.6. By default, the sum of numbers of different precisions is the number of the highest precision type.\n"
   ]
  },
  {
   "cell_type": "code",
   "execution_count": null,
   "id": "d8aead07",
   "metadata": {},
   "outputs": [],
   "source": [
    "# Addition (+)\n",
    "print(5 + 3)   # 8\n",
    "\n",
    "# Subtraction (-)\n",
    "print(10 - 4)  # 6\n",
    "\n",
    "# Multiplication (*)\n",
    "print(7 * 6)   # 42\n",
    "\n",
    "# Division (/)\n",
    "print(8 / 2)   # 4.0  (always returns float in Python 3)\n",
    "\n",
    "# Modulus (%) → remainder\n",
    "print(10 % 3)  # 1\n"
   ]
  },
  {
   "cell_type": "code",
   "execution_count": null,
   "id": "97a51478",
   "metadata": {},
   "outputs": [],
   "source": [
    "# Left Shift (<<) → shifts bits to the left, filling with zeros\n",
    "print(5 << 1)  # 10   (binary: 101 → 1010)\n",
    "\n",
    "# Right Shift (>>) → shifts bits to the right, dropping bits\n",
    "print(20 >> 2) # 5    (binary: 10100 → 101)\n"
   ]
  },
  {
   "cell_type": "code",
   "execution_count": null,
   "id": "07721e30",
   "metadata": {},
   "outputs": [],
   "source": [
    "# AND (&) → bit-by-bit AND\n",
    "print(5 & 3)   # 1   (binary: 101 & 011 → 001)\n",
    "\n",
    "# OR (|) → bit-by-bit OR\n",
    "print(5 | 3)   # 7   (binary: 101 | 011 → 111)\n",
    "\n",
    "# XOR (^) → bit-by-bit exclusive OR\n",
    "print(5 ^ 3)   # 6   (binary: 101 ^ 011 → 110)\n",
    "\n",
    "# Bitwise NOT (~) → flips all bits\n",
    "print(~5)      # -6  (in two's complement form)\n"
   ]
  },
  {
   "cell_type": "markdown",
   "id": "5ede0346",
   "metadata": {},
   "source": [
    "#### Expressions"
   ]
  },
  {
   "cell_type": "code",
   "execution_count": null,
   "id": "d1e71515",
   "metadata": {},
   "outputs": [],
   "source": [
    "\"\"\"\n",
    "An expression → something that returns a value.\n",
    "\n",
    "A statement → something that does an action (may or may not return a value).\n",
    "\n",
    "\"\"\"\n",
    "\n",
    "x = 5 + 3   # \"5 + 3\" is an expression → evaluates to 8\n",
    "print(x)    # print is a statement → action: display the value\n",
    "\n",
    "\n"
   ]
  },
  {
   "cell_type": "code",
   "execution_count": null,
   "id": "ca7fecf4",
   "metadata": {},
   "outputs": [],
   "source": [
    "#Relational / Comparison Expressions\n",
    "#Return True or False:\n",
    "\n",
    "print(5 > 3)   # True\n",
    "print(10 == 5) # False\n",
    "print(7 != 2)  # True\n"
   ]
  },
  {
   "cell_type": "code",
   "execution_count": null,
   "id": "e2cd791a",
   "metadata": {},
   "outputs": [],
   "source": [
    "\"\"\"Logical Expressions\n",
    "Combine boolean values:\n",
    "\"\"\"\n",
    "\n",
    "x = True\n",
    "y = False\n",
    "print(x and y)  # False\n",
    "print(x or y)   # True\n",
    "print(not x)    # False"
   ]
  },
  {
   "cell_type": "code",
   "execution_count": null,
   "id": "c4e25ced",
   "metadata": {},
   "outputs": [],
   "source": [
    "# Bitwise Expressions\n",
    "print(5 & 3)  # 1  (101 & 011 = 001)\n",
    "print(5 | 3)  # 7  (101 | 011 = 111)"
   ]
  },
  {
   "cell_type": "markdown",
   "id": "4c35e522",
   "metadata": {},
   "source": [
    "### Formatted Printing"
   ]
  },
  {
   "cell_type": "code",
   "execution_count": null,
   "id": "066698ca",
   "metadata": {},
   "outputs": [],
   "source": [
    "# f-strings\n",
    "name = \"Khaled\"\n",
    "age = 25\n",
    "print(f\"My name is {name} and I am {age} years old.\")"
   ]
  },
  {
   "cell_type": "code",
   "execution_count": null,
   "id": "4642d26b",
   "metadata": {},
   "outputs": [],
   "source": [
    "x = 5\n",
    "y = 3\n",
    "print(f\"{x} + {y} = {x + y}\")"
   ]
  },
  {
   "cell_type": "code",
   "execution_count": null,
   "id": "eaa67d5c",
   "metadata": {},
   "outputs": [],
   "source": [
    "pi = 3.14159265\n",
    "print(f\"Pi to 2 decimal places: {pi:.2f}\")"
   ]
  },
  {
   "cell_type": "code",
   "execution_count": null,
   "id": "ec4c4b00",
   "metadata": {},
   "outputs": [],
   "source": [
    "salary = 1500000\n",
    "print(f\"My salary is {salary:,}\")"
   ]
  },
  {
   "cell_type": "code",
   "execution_count": null,
   "id": "5020a3d0",
   "metadata": {},
   "outputs": [],
   "source": [
    "score = 0.875\n",
    "print(f\"Success rate: {score:.2%}\")"
   ]
  },
  {
   "cell_type": "code",
   "execution_count": null,
   "id": "99a941ab",
   "metadata": {},
   "outputs": [],
   "source": [
    "# .format() method\n",
    "print(\"My name is {} and I am {} years old.\".format(name, age))"
   ]
  },
  {
   "cell_type": "code",
   "execution_count": null,
   "id": "8aad90f9",
   "metadata": {},
   "outputs": [],
   "source": [
    "print(\"{0} is learning {1}\".format(\"Khaled\", \"Python\"))\n",
    "print(\"{1} is being learned by {0}\".format(\"Khaled\", \"Python\"))"
   ]
  },
  {
   "cell_type": "code",
   "execution_count": null,
   "id": "786c0900",
   "metadata": {},
   "outputs": [],
   "source": [
    "print(\"My name is {name} and I am from {country}\".format(name=\"Ali\", country=\"Egypt\"))"
   ]
  },
  {
   "cell_type": "code",
   "execution_count": null,
   "id": "709e7a38",
   "metadata": {},
   "outputs": [],
   "source": [
    "pi = 3.14159265\n",
    "print(\"Pi to 2 decimal places: {:.2f}\".format(pi))"
   ]
  },
  {
   "cell_type": "code",
   "execution_count": null,
   "id": "3947d04a",
   "metadata": {},
   "outputs": [],
   "source": [
    "salary = 1500000\n",
    "print(\"My salary is {:,}\".format(salary))"
   ]
  },
  {
   "cell_type": "markdown",
   "id": "3a63277d",
   "metadata": {},
   "source": [
    "| Placeholder | Meaning                 | Example Value   |\n",
    "| ----------- | ----------------------- | --------------- |\n",
    "| `%s`        | String                  | `\"Python\"`      |\n",
    "| `%d`        | Integer (decimal)       | `42`            |\n",
    "| `%f`        | Floating-point number   | `3.14`          |\n",
    "| `%.nf`      | Float with `n` decimals | `%.2f` → `3.14` |\n",
    "| `%x`        | Hexadecimal (lowercase) | `255` → `ff`    |\n",
    "| `%o`        | Octal                   | `8` → `10`      |\n"
   ]
  },
  {
   "cell_type": "code",
   "execution_count": null,
   "id": "615117e9",
   "metadata": {},
   "outputs": [],
   "source": [
    "name = \"Khaled\"\n",
    "age = 25\n",
    "print(\"My name is %s and I am %d years old.\" % (name, age))"
   ]
  },
  {
   "cell_type": "code",
   "execution_count": null,
   "id": "12c7681a",
   "metadata": {},
   "outputs": [],
   "source": [
    "pi = 3.14159265\n",
    "print(\"Pi to 2 decimal places: %.2f\" % pi)"
   ]
  },
  {
   "cell_type": "code",
   "execution_count": null,
   "id": "6ad0edd5",
   "metadata": {},
   "outputs": [],
   "source": [
    "item = \"apple\"\n",
    "price = 2.5\n",
    "print(\"The %s costs $%.2f\" % (item, price))"
   ]
  },
  {
   "cell_type": "code",
   "execution_count": null,
   "id": "f1cf113e",
   "metadata": {},
   "outputs": [],
   "source": [
    "number = 42\n",
    "print(\"Binary: %b is not supported directly in %% formatting\")\n",
    "print(\"Hex: %x\" % number)  # Hexadecimal\n",
    "print(\"Octal: %o\" % number) # Octal"
   ]
  },
  {
   "cell_type": "code",
   "execution_count": null,
   "id": "1d2c98d3",
   "metadata": {},
   "outputs": [],
   "source": [
    "name = \"Sara\"\n",
    "score = 95.678\n",
    "print(\"%s scored %.1f%% in the exam.\" % (name, score))\n",
    "\"\"\"\n",
    "Explanation:\n",
    "\n",
    "%s → Placeholder for a string → \"Sara\"\n",
    "\n",
    "%.1f → Floating-point number with 1 decimal place → 95.7\n",
    "\n",
    "%% → Escapes the % symbol → prints % literally.\n",
    "\"\"\""
   ]
  },
  {
   "cell_type": "markdown",
   "id": "edc4e296",
   "metadata": {},
   "source": [
    "### Exercises "
   ]
  },
  {
   "cell_type": "markdown",
   "id": "1335f259",
   "metadata": {},
   "source": [
    "Create two variables:\n",
    "\n",
    "x = 10  \n",
    "y = 3\n",
    "\n",
    "\n",
    "Use Python operators to calculate:\n",
    "\n",
    "Addition\n",
    "\n",
    "Subtraction\n",
    "\n",
    "Multiplication\n",
    "\n",
    "Division\n",
    "\n",
    "Floor division\n",
    "\n",
    "Modulus (remainder)\n",
    "\n",
    "Exponentiation (x to the power of y)\n",
    "\n",
    "Print each result in a descriptive way.\n",
    "(Example: print(\"x + y =\", x + y))"
   ]
  },
  {
   "cell_type": "code",
   "execution_count": null,
   "id": "cc8fee7d",
   "metadata": {},
   "outputs": [],
   "source": []
  },
  {
   "cell_type": "markdown",
   "id": "8c18a661",
   "metadata": {},
   "source": [
    "Create two variables:\n",
    "\n",
    "age1 = 18  \n",
    "age2 = 21\n",
    "\n",
    "\n",
    "Compare them using:\n",
    "\n",
    "Greater than\n",
    "\n",
    "Less than\n",
    "\n",
    "Equal to\n",
    "\n",
    "Not equal to\n",
    "\n",
    "Greater than or equal to\n",
    "\n",
    "Less than or equal to\n",
    "\n",
    "Print the results.\n",
    "(Example: print(\"age1 > age2:\", age1 > age2))"
   ]
  },
  {
   "cell_type": "code",
   "execution_count": null,
   "id": "8d87d413",
   "metadata": {},
   "outputs": [],
   "source": []
  },
  {
   "cell_type": "markdown",
   "id": "1c4a4a38",
   "metadata": {},
   "source": [
    "Create two Boolean variables:\n",
    "\n",
    "is_student = True  \n",
    "has_id_card = False\n",
    "\n",
    "\n",
    "Use logical operators to check:\n",
    "\n",
    "and → Is the person a student and has an ID card?\n",
    "\n",
    "or → Is the person a student or has an ID card?\n",
    "\n",
    "not → Is the person not a student?\n",
    "\n",
    "Print the results."
   ]
  },
  {
   "cell_type": "code",
   "execution_count": null,
   "id": "caf8e808",
   "metadata": {},
   "outputs": [],
   "source": []
  },
  {
   "cell_type": "markdown",
   "id": "d4086541",
   "metadata": {},
   "source": [
    "Create two variables:\n",
    "\n",
    "a = 6   # binary: 110  \n",
    "b = 3   # binary: 011\n",
    "\n",
    "\n",
    "Perform and print results of:\n",
    "\n",
    "a & b (Bitwise AND)\n",
    "\n",
    "a | b (Bitwise OR)\n",
    "\n",
    "a ^ b (Bitwise XOR)"
   ]
  },
  {
   "cell_type": "code",
   "execution_count": null,
   "id": "9687de0b",
   "metadata": {},
   "outputs": [],
   "source": []
  },
  {
   "cell_type": "markdown",
   "id": "eb86f1c2",
   "metadata": {},
   "source": [
    "Take a number n = 5 (binary: 101).\n",
    "\n",
    "Perform:\n",
    "\n",
    "Left shift by 1 (n << 1)\n",
    "\n",
    "Right shift by 1 (n >> 1)\n",
    "\n",
    "Print results and explain what happened in comments."
   ]
  },
  {
   "cell_type": "code",
   "execution_count": null,
   "id": "5122a073",
   "metadata": {},
   "outputs": [],
   "source": []
  },
  {
   "cell_type": "markdown",
   "id": "de2ea3cc",
   "metadata": {},
   "source": [
    "Let:\n",
    "\n",
    "x = 12   # binary: 1100\n",
    "y = 8    # binary: 1000\n",
    "\n",
    "\n",
    "Check:\n",
    "\n",
    "If (x & y) > 0 → print \"x and y share common bits\"\n",
    "\n",
    "Else → print \"No common bits\""
   ]
  },
  {
   "cell_type": "code",
   "execution_count": null,
   "id": "cea94e97",
   "metadata": {},
   "outputs": [],
   "source": []
  },
  {
   "cell_type": "markdown",
   "id": "3d2bcbc4",
   "metadata": {},
   "source": []
  },
  {
   "cell_type": "markdown",
   "id": "a1d5525f",
   "metadata": {},
   "source": [
    "### Conditionals"
   ]
  },
  {
   "cell_type": "markdown",
   "id": "3bbfa04c",
   "metadata": {},
   "source": [
    "#### 1️⃣ The if Statement"
   ]
  },
  {
   "cell_type": "code",
   "execution_count": null,
   "id": "209b8bd0",
   "metadata": {},
   "outputs": [],
   "source": [
    "x = 10\n",
    "if x > 5:\n",
    "    print(\"x is greater than 5\")"
   ]
  },
  {
   "cell_type": "markdown",
   "id": "9a800408",
   "metadata": {},
   "source": [
    "#### 2️⃣ if...else Statemen"
   ]
  },
  {
   "cell_type": "code",
   "execution_count": null,
   "id": "efc14092",
   "metadata": {},
   "outputs": [],
   "source": [
    "x = 3\n",
    "if x > 5:\n",
    "    print(\"x is greater than 5\")\n",
    "else:\n",
    "    print(\"x is not greater than 5\")\n"
   ]
  },
  {
   "cell_type": "markdown",
   "id": "9758c8cb",
   "metadata": {},
   "source": [
    "#### 3️⃣ if...elif...else Statement"
   ]
  },
  {
   "cell_type": "code",
   "execution_count": null,
   "id": "b3e2507e",
   "metadata": {},
   "outputs": [],
   "source": [
    "x = 7\n",
    "if x > 10:\n",
    "    print(\"x is greater than 10\")\n",
    "elif x > 5:\n",
    "    print(\"x is greater than 5 but not greater than 10\")\n",
    "else:\n",
    "    print(\"x is 5 or less\")"
   ]
  },
  {
   "cell_type": "markdown",
   "id": "1918ced2",
   "metadata": {},
   "source": [
    "#### 4️⃣ Nested Conditionals"
   ]
  },
  {
   "cell_type": "code",
   "execution_count": null,
   "id": "76d720cd",
   "metadata": {},
   "outputs": [],
   "source": [
    "x = 12\n",
    "if x > 5:\n",
    "    if x % 2 == 0:\n",
    "        print(\"x is greater than 5 and even\")"
   ]
  },
  {
   "cell_type": "markdown",
   "id": "e00dcd02",
   "metadata": {},
   "source": [
    "#### 5️⃣ Conditional Expressions (Ternary Operator)\n",
    "Single-line if...else for quick assignments."
   ]
  },
  {
   "cell_type": "code",
   "execution_count": null,
   "id": "23c2fb15",
   "metadata": {},
   "outputs": [],
   "source": [
    "x = 8\n",
    "result = \"Even\" if x % 2 == 0 else \"Odd\"\n",
    "print(result)  # Even\n"
   ]
  },
  {
   "cell_type": "markdown",
   "id": "13012d8a",
   "metadata": {},
   "source": [
    "#### 6️⃣ Truthy and Falsy in Conditionals"
   ]
  },
  {
   "cell_type": "code",
   "execution_count": null,
   "id": "51f19979",
   "metadata": {},
   "outputs": [],
   "source": [
    "name = \"\"\n",
    "if name:\n",
    "    print(\"Name exists\")\n",
    "else:\n",
    "    print(\"No name\")  # runs because \"\" is falsy"
   ]
  },
  {
   "cell_type": "markdown",
   "id": "fb9320d0",
   "metadata": {},
   "source": [
    "Conditionals work closely with comparison operators (>, <, ==, !=, >=, <=) and logical operators (and, or, not) to form complex decisions."
   ]
  },
  {
   "cell_type": "code",
   "execution_count": null,
   "id": "da3836aa",
   "metadata": {},
   "outputs": [],
   "source": [
    "age = 25\n",
    "income = 40000\n",
    "has_degree = True\n",
    "\n",
    "if (age >= 21 and income > 30000) or not has_degree:\n",
    "    print(\"Eligible for the program\")\n",
    "else:\n",
    "    print(\"Not eligible\")"
   ]
  },
  {
   "cell_type": "code",
   "execution_count": null,
   "id": "63a8242a",
   "metadata": {},
   "outputs": [],
   "source": [
    "a = 10\n",
    "b = 12\n",
    "c = 0\n",
    "if a or b or c:\n",
    "    print(\"Atleast one number has boolean value as True\")\n",
    "else:\n",
    "    print(\"All the numbers have boolean value as False\")"
   ]
  },
  {
   "cell_type": "code",
   "execution_count": null,
   "id": "d2069adb",
   "metadata": {},
   "outputs": [],
   "source": [
    "a = 10\n",
    "b = -10\n",
    "c = 0\n",
    "if a > 0 or b > 0:\n",
    "    print(\"Either of the number is greater than 0\")\n",
    "else:\n",
    "    print(\"No number is greater than 0\")\n",
    "if b > 0 or c > 0:\n",
    "    print(\"Either of the number is greater than 0\")\n",
    "else:\n",
    "    print(\"No number is greater than 0\")"
   ]
  },
  {
   "cell_type": "code",
   "execution_count": null,
   "id": "c79321a6",
   "metadata": {},
   "outputs": [],
   "source": [
    "if name in namelist:\n",
    "    # Not implemented yet (or nothing)\n",
    "    pass\n",
    "else:\n",
    "    statements"
   ]
  },
  {
   "cell_type": "markdown",
   "id": "19c92e0c",
   "metadata": {},
   "source": [
    "## Exercises"
   ]
  },
  {
   "cell_type": "markdown",
   "id": "6ee9014d",
   "metadata": {},
   "source": [
    "**Challenge: Movie Ticket Price Calculator**\n",
    "\n",
    "**Scenario:**\n",
    "A cinema charges ticket prices based on **age** and **membership** status:\n",
    "\n",
    "* **Age Rules:**\n",
    "\n",
    "  * Children (under 12) → 5 USD\n",
    "  * Teens (12–17) → 7 USD\n",
    "  * Adults (18–59) → 10 USD\n",
    "  * Seniors (60+) → 6 USD\n",
    "\n",
    "* **Membership Discount:**\n",
    "\n",
    "  * Members get **2 USD** off the price.\n",
    "\n",
    "---\n",
    "\n",
    "**Your Task**\n",
    "\n",
    "1. Ask the user to enter their **age**.\n",
    "2. Ask if they are a cinema **member** (`yes` or `no`).\n",
    "3. Use `if`, `elif`, and `else` to determine the ticket price.\n",
    "4. If they are a member, subtract 2 from the price.\n",
    "5. Print the final ticket price.\n",
    "\n",
    "---\n",
    "\n",
    "**Example Output**\n",
    "\n",
    "```\n",
    "Enter your age: 15\n",
    "Are you a member? yes\n",
    "Your ticket price is: $5\n",
    "```"
   ]
  },
  {
   "cell_type": "code",
   "execution_count": null,
   "id": "cfc335fb",
   "metadata": {},
   "outputs": [],
   "source": []
  },
  {
   "cell_type": "markdown",
   "id": "daf80a19",
   "metadata": {},
   "source": [
    " **Number Sign & Even/Odd Checker** *(Easy → Medium)*\n",
    "\n",
    "**Task:**\n",
    "\n",
    "1. Ask the user to enter a number.\n",
    "2. Use `if` conditions to check:\n",
    "\n",
    "   * If the number is **positive**, **negative**, or **zero**.\n",
    "   * If it is **even** or **odd**.\n",
    "3. Print the results.\n",
    "\n",
    "**Example Output:**\n",
    "\n",
    "```\n",
    "Enter a number: -7\n",
    "The number is negative and odd.\n",
    "```\n",
    "\n",
    "---\n",
    "\n",
    "**2. Student Grade Evaluator** *(Medium)*\n",
    "\n",
    "**Rules:**\n",
    "\n",
    "* 90+ → A\n",
    "* 80–89 → B\n",
    "* 70–79 → C\n",
    "* 60–69 → D\n",
    "* Below 60 → F\n",
    "\n",
    "**Task:**\n",
    "\n",
    "1. Ask the user for their exam score (0–100).\n",
    "2. Use `if`, `elif`, and `else` to determine the grade.\n",
    "3. Print the grade.\n",
    "\n",
    "**Example Output:**\n",
    "\n",
    "```\n",
    "Enter your score: 85\n",
    "Your grade is: B\n",
    "```"
   ]
  },
  {
   "cell_type": "code",
   "execution_count": null,
   "id": "a872c44a",
   "metadata": {},
   "outputs": [],
   "source": []
  },
  {
   "cell_type": "markdown",
   "id": "0fc0cf09",
   "metadata": {},
   "source": [
    "**ATM Withdrawal Simulation** *(Medium → Hard)*\n",
    "\n",
    "**Scenario:**\n",
    "\n",
    "* The ATM only gives cash in multiples of **50**.\n",
    "* Maximum withdrawal per transaction is **500**.\n",
    "* The balance is **1000**.\n",
    "\n",
    "**Task:**\n",
    "\n",
    "1. Ask the user for the withdrawal amount.\n",
    "2. Use `if` statements to check:\n",
    "\n",
    "   * If the amount is greater than balance → print `\"Insufficient balance\"`\n",
    "   * If the amount is not a multiple of 50 → print `\"Invalid amount. Must be multiple of 50\"`\n",
    "   * If the amount is greater than 500 → print `\"Limit exceeded\"`\n",
    "   * Otherwise → deduct from balance and print `\"Withdrawal successful. Remaining balance: ...\"`\n",
    "\n",
    "**Example Output:**\n",
    "\n",
    "```\n",
    "Enter withdrawal amount: 250\n",
    "Withdrawal successful. Remaining balance: 750\n",
    "```"
   ]
  },
  {
   "cell_type": "markdown",
   "id": "ba7080f3",
   "metadata": {},
   "source": [
    "## Strings"
   ]
  },
  {
   "cell_type": "code",
   "execution_count": 3,
   "id": "0658b46f",
   "metadata": {},
   "outputs": [],
   "source": [
    "# \"\"\"\n",
    "# A string is a sequence of Unicode characters.\n",
    "\n",
    "# Enclosed in:\n",
    "\n",
    "# Single quotes → 'Hello'\n",
    "\n",
    "# Double quotes → \"Hello\"\n",
    "\n",
    "# Triple quotes → '''Hello''' or \"\"\"Hello\"\"\" (used for multi-line strings or docstrings).\n",
    "# \"\"\""
   ]
  },
  {
   "cell_type": "code",
   "execution_count": null,
   "id": "80a17093",
   "metadata": {},
   "outputs": [],
   "source": [
    "s1 = 'hello'\n",
    "s2 = \"world\"\n",
    "s3 = \"\"\"This is\n",
    "a multi-line string.\"\"\"\n"
   ]
  },
  {
   "cell_type": "code",
   "execution_count": null,
   "id": "ba01d976",
   "metadata": {},
   "outputs": [],
   "source": [
    "# 2. Characteristics\n",
    "\n",
    "# Ordered: Characters have a fixed order.\n",
    "\n",
    "# Immutable: Cannot be changed after creation.\n",
    "\n",
    "# Iterable: You can loop through them.\n",
    "\n",
    "# Indexed: Characters accessed by position."
   ]
  },
  {
   "cell_type": "code",
   "execution_count": null,
   "id": "6cdd48ff",
   "metadata": {},
   "outputs": [],
   "source": [
    "s = \"Python\"\n",
    "print(s[0])     # P\n",
    "print(s[-1])    # n\n",
    "print(s[2:5])   # tho\n",
    "print(s[:3])    # Pyt\n",
    "print(s[3:])    # hon\n",
    "print(s[::-1])  # nohtyP (reverse string)"
   ]
  },
  {
   "cell_type": "markdown",
   "id": "37ab1e20",
   "metadata": {},
   "source": [
    "| Operation     | Example                | Output          |\n",
    "| ------------- | ---------------------- | --------------- |\n",
    "| Concatenation | `\"Hello\" + \"World\"`    | `\"HelloWorld\"`  |\n",
    "| Repetition    | `\"Hi\" * 3`             | `\"HiHiHi\"`      |\n",
    "| Membership    | `\"a\" in \"cat\"`         | `True`          |\n",
    "| Comparison    | `\"abc\" == \"ABC\"`       | `False`         |\n",
    "| Iteration     | `[ch for ch in \"dog\"]` | `['d','o','g']` |\n"
   ]
  },
  {
   "cell_type": "code",
   "execution_count": null,
   "id": "d64cb7b2",
   "metadata": {},
   "outputs": [],
   "source": [
    "\"Hello\" + \"World\""
   ]
  },
  {
   "cell_type": "code",
   "execution_count": null,
   "id": "ef6ad259",
   "metadata": {},
   "outputs": [],
   "source": [
    "\"Hi\" * 3"
   ]
  },
  {
   "cell_type": "code",
   "execution_count": null,
   "id": "f8eb4140",
   "metadata": {},
   "outputs": [],
   "source": [
    "\"a\" in \"cat\""
   ]
  },
  {
   "cell_type": "code",
   "execution_count": null,
   "id": "e9b6cdcb",
   "metadata": {},
   "outputs": [],
   "source": [
    "\"abc\" == \"ABC\""
   ]
  },
  {
   "cell_type": "code",
   "execution_count": null,
   "id": "0ffc4838",
   "metadata": {},
   "outputs": [],
   "source": [
    "[ch for ch in \"dog\"]"
   ]
  },
  {
   "cell_type": "code",
   "execution_count": null,
   "id": "62194fc7",
   "metadata": {},
   "outputs": [],
   "source": []
  },
  {
   "cell_type": "markdown",
   "id": "3e4d77eb",
   "metadata": {},
   "source": [
    "| Escape Code | Meaning         | Example Output               |\n",
    "| ----------- | --------------- | ---------------------------- |\n",
    "| `\\'`        | Single Quote    | `'It\\'s OK' → It's OK`       |\n",
    "| `\\\"`        | Double Quote    | `\"She said \\\"Yes\\\"\"`         |\n",
    "| `\\\\`        | Backslash       | `\\\\ → \\`                     |\n",
    "| `\\n`        | New Line        | `\"Hello\\nWorld\"`             |\n",
    "| `\\t`        | Tab             | `\"Hello\\tWorld\"`             |\n",
    "| `\\r`        | Carriage return | `\"Hello\\rWorld\" → World`     |\n",
    "| `\\b`        | Backspace       | `\"Hello\\bWorld\" → HellWorld` |\n"
   ]
  },
  {
   "cell_type": "code",
   "execution_count": null,
   "id": "c088974d",
   "metadata": {},
   "outputs": [
    {
     "data": {
      "text/plain": [
       "\"It's OK\""
      ]
     },
     "execution_count": 6,
     "metadata": {},
     "output_type": "execute_result"
    }
   ],
   "source": [
    "s = 'It\\'s OK' \n",
    "print(s)  # Output: It's OK (escaped single quote)"
   ]
  },
  {
   "cell_type": "code",
   "execution_count": null,
   "id": "07bb6bf9",
   "metadata": {},
   "outputs": [
    {
     "data": {
      "text/plain": [
       "'She said \"Yes\"'"
      ]
     },
     "execution_count": 7,
     "metadata": {},
     "output_type": "execute_result"
    }
   ],
   "source": [
    "s = \"She said \\\"Yes\\\"\"\n",
    "print(s)"
   ]
  },
  {
   "cell_type": "code",
   "execution_count": null,
   "id": "1aed5289",
   "metadata": {},
   "outputs": [
    {
     "data": {
      "text/plain": [
       "'Hello\\nWorld'"
      ]
     },
     "execution_count": 8,
     "metadata": {},
     "output_type": "execute_result"
    }
   ],
   "source": [
    "s = \"Hello\\nWorld\"\n",
    "print(s)"
   ]
  },
  {
   "cell_type": "code",
   "execution_count": 5,
   "id": "a5c380d8",
   "metadata": {},
   "outputs": [
    {
     "name": "stdout",
     "output_type": "stream",
     "text": [
      "World\n"
     ]
    }
   ],
   "source": [
    "s = \"Hello\\rWorld\"\n",
    "print(s)  # Output: \"World\" (carriage return moves cursor back to start of line)"
   ]
  },
  {
   "cell_type": "code",
   "execution_count": null,
   "id": "0880be46",
   "metadata": {},
   "outputs": [],
   "source": [
    "s = \"Hello\\tWorld\"\n",
    "print(s) "
   ]
  },
  {
   "cell_type": "code",
   "execution_count": null,
   "id": "78ec98c8",
   "metadata": {},
   "outputs": [],
   "source": [
    "s = \"Hello\\rWorld\"\n",
    "print(s) "
   ]
  },
  {
   "cell_type": "code",
   "execution_count": null,
   "id": "12042975",
   "metadata": {},
   "outputs": [],
   "source": [
    "s = \"Hello\\bWorld\"\n",
    "print(s) "
   ]
  },
  {
   "cell_type": "markdown",
   "id": "d2d3fbb2",
   "metadata": {},
   "source": [
    "#### Methods"
   ]
  },
  {
   "cell_type": "code",
   "execution_count": null,
   "id": "f4f4f19a",
   "metadata": {},
   "outputs": [],
   "source": [
    "s = \"hello world\"\n",
    "print(s.upper())   # HELLO WORLD\n",
    "print(s.lower())   # hello world\n",
    "print(s.title())   # Hello World\n",
    "print(s.capitalize())  # Hello world\n",
    "print(s.swapcase())    # HELLO WORLD → hello world, vice versa"
   ]
  },
  {
   "cell_type": "markdown",
   "id": "56e5597b",
   "metadata": {},
   "source": [
    "#### Searching"
   ]
  },
  {
   "cell_type": "code",
   "execution_count": null,
   "id": "d819c248",
   "metadata": {},
   "outputs": [],
   "source": [
    "s = \"Python programming\"\n",
    "print(s.find(\"pro\"))     # 7 (first occurrence)\n",
    "print(s.rfind(\"o\"))      # 9 (last occurrence)\n",
    "print(s.index(\"Py\"))     # 0\n",
    "print(s.startswith(\"Py\")) # True\n",
    "print(s.endswith(\"ing\"))  # True"
   ]
  },
  {
   "cell_type": "markdown",
   "id": "d097ff3e",
   "metadata": {},
   "source": [
    "#### Modification"
   ]
  },
  {
   "cell_type": "code",
   "execution_count": null,
   "id": "3f0044e6",
   "metadata": {},
   "outputs": [],
   "source": [
    "s = \"   hello world   \"\n",
    "print(s.strip())   # \"hello world\"\n",
    "print(s.lstrip())  # \"hello world   \"\n",
    "print(s.rstrip())  # \"   hello world\"\n",
    "print(s.replace(\"world\",\"Python\"))  # hello Python"
   ]
  },
  {
   "cell_type": "markdown",
   "id": "ee13859f",
   "metadata": {},
   "source": [
    "#### Splitting & Joining"
   ]
  },
  {
   "cell_type": "code",
   "execution_count": null,
   "id": "09798440",
   "metadata": {},
   "outputs": [],
   "source": [
    "s = \"apple,banana,cherry\"\n",
    "print(s.split(\",\"))   # ['apple', 'banana', 'cherry']\n",
    "print(\" \".join([\"I\",\"love\",\"Python\"]))  # I love Python\n"
   ]
  },
  {
   "cell_type": "markdown",
   "id": "42b2431a",
   "metadata": {},
   "source": [
    "#### Validation Methods (Boolean)"
   ]
  },
  {
   "cell_type": "code",
   "execution_count": 9,
   "id": "c5cd9585",
   "metadata": {},
   "outputs": [
    {
     "name": "stdout",
     "output_type": "stream",
     "text": [
      "False\n",
      "True\n",
      "True\n",
      "True\n",
      "True\n",
      "True\n",
      "True\n"
     ]
    }
   ],
   "source": [
    "s = \"Python3\"\n",
    "print(s.isalpha())   # False (contains number)\n",
    "print(\"123\".isdigit()) # True\n",
    "print(\"abc123\".isalnum()) # True\n",
    "print(\"hello\".islower())  # True\n",
    "print(\"HELLO\".isupper())  # True\n",
    "print(\"  \".isspace())     # True\n",
    "print(\"Python\".istitle()) # True\n"
   ]
  },
  {
   "cell_type": "markdown",
   "id": "b93dd3b0",
   "metadata": {},
   "source": [
    "#### Raw Strings"
   ]
  },
  {
   "cell_type": "code",
   "execution_count": 10,
   "id": "60ab9bc1",
   "metadata": {},
   "outputs": [
    {
     "name": "stdout",
     "output_type": "stream",
     "text": [
      "C:\\Users\\Khaled\\Documents\n"
     ]
    }
   ],
   "source": [
    "path = r\"C:\\Users\\Khaled\\Documents\"\n",
    "print(path)  # C:\\Users\\Khaled\\Documents\n"
   ]
  },
  {
   "cell_type": "markdown",
   "id": "ea462bad",
   "metadata": {},
   "source": [
    "#### Useful Tricks"
   ]
  },
  {
   "cell_type": "code",
   "execution_count": null,
   "id": "a58a5a1d",
   "metadata": {},
   "outputs": [],
   "source": [
    "# Reverse a string\n",
    "s = \"Python\"\n",
    "print(s[::-1])  # nohtyP\n",
    "\n",
    "# Count characters\n",
    "print(len(s))   # 6\n",
    "\n",
    "# Count frequency of letters\n",
    "from collections import Counter\n",
    "print(Counter(\"banana\"))  # {'a':3, 'b':1, 'n':2}\n",
    "\n",
    "# Palindrome check\n",
    "word = \"madam\"\n",
    "print(word == word[::-1])  # True\n"
   ]
  },
  {
   "cell_type": "markdown",
   "id": "9af99963",
   "metadata": {},
   "source": [
    "#### 🔹 Strings, Bytes, Encoding & Decoding"
   ]
  },
  {
   "cell_type": "markdown",
   "id": "69e97567",
   "metadata": {},
   "source": [
    "**1. Strings in Python (`str`)**\n",
    "\n",
    "* A **string** (`str`) in Python is a sequence of **Unicode characters**.\n",
    "* Unicode is a universal standard that assigns a unique number (code point) to every character in every language (`'A' = U+0041`, `'ب' = U+0628`, etc.).\n",
    "\n",
    "Example:"
   ]
  },
  {
   "cell_type": "code",
   "execution_count": 11,
   "id": "ffd55827",
   "metadata": {},
   "outputs": [
    {
     "name": "stdout",
     "output_type": "stream",
     "text": [
      "<class 'str'>\n"
     ]
    }
   ],
   "source": [
    "s = \"Python\"\n",
    "print(type(s))   # <class 'str'>"
   ]
  },
  {
   "cell_type": "markdown",
   "id": "6457eaba",
   "metadata": {},
   "source": [
    "**2. Encoding (`str → bytes`)**\n",
    "\n",
    "When you **encode** a string, you convert the **Unicode characters** into a sequence of **bytes** using a specific encoding (like UTF-8).\n",
    "\n",
    "* **UTF-8** is the most common encoding because it supports all Unicode characters."
   ]
  },
  {
   "cell_type": "code",
   "execution_count": null,
   "id": "6b7f64a4",
   "metadata": {},
   "outputs": [],
   "source": [
    "s = \"Python\"\n",
    "encoded = s.encode(\"utf-8\")\n",
    "print(encoded)       # b'Python'\n",
    "print(type(encoded)) # <class 'bytes'>\n",
    "#Notice the prefix `b'...'` → it means the object is of type **bytes**, not string."
   ]
  },
  {
   "cell_type": "markdown",
   "id": "8e133f8c",
   "metadata": {},
   "source": [
    "**3. Decoding (`bytes → str`)**\n",
    "\n",
    "When you **decode**, you take those **bytes** and interpret them back into a **string** using the same encoding."
   ]
  },
  {
   "cell_type": "code",
   "execution_count": null,
   "id": "e2928a84",
   "metadata": {},
   "outputs": [],
   "source": [
    "decoded = encoded.decode(\"utf-8\")\n",
    "print(decoded)        # Python\n",
    "print(type(decoded))  # <class 'str'>\n",
    "#If you decode with the wrong encoding, you may get errors or strange characters."
   ]
  },
  {
   "cell_type": "markdown",
   "id": "58d64a60",
   "metadata": {},
   "source": [
    "**4. Why is this important?**\n",
    "\n",
    "* **When reading/writing files:**"
   ]
  },
  {
   "cell_type": "code",
   "execution_count": null,
   "id": "251e8821",
   "metadata": {},
   "outputs": [],
   "source": [
    "with open(\"file.txt\", \"w\", encoding=\"utf-8\") as f:\n",
    "    f.write(\"مرحبا بالعالم\")  # Arabic text\n",
    "#  If you don’t specify the encoding, Python might default to the system encoding, which can cause problems with non-English text.\n"
   ]
  },
  {
   "cell_type": "markdown",
   "id": "532aa67f",
   "metadata": {},
   "source": [
    "* **When working with networks/APIs:** Data sent over the internet is in **bytes**, so you must **encode** before sending and **decode** after receiving.\n"
   ]
  },
  {
   "cell_type": "code",
   "execution_count": null,
   "id": "49bcbe07",
   "metadata": {},
   "outputs": [],
   "source": []
  },
  {
   "cell_type": "markdown",
   "id": "9b4a6faf",
   "metadata": {},
   "source": [
    "**5. Example with Non-English Text**"
   ]
  },
  {
   "cell_type": "code",
   "execution_count": 13,
   "id": "8ffb550c",
   "metadata": {},
   "outputs": [
    {
     "name": "stdout",
     "output_type": "stream",
     "text": [
      "b'\\xd9\\x85\\xd8\\xb1\\xd8\\xad\\xd8\\xa8\\xd8\\xa7'\n"
     ]
    }
   ],
   "source": [
    "s = \"مرحبا\"\n",
    "encoded = s.encode(\"utf-8\")  \n",
    "print(encoded)         # b'\\xd9\\x85\\xd8\\xb1\\xd8\\xad\\xd8\\xa8\\xd8\\xa7'"
   ]
  },
  {
   "cell_type": "code",
   "execution_count": 14,
   "id": "fcbf9fcc",
   "metadata": {},
   "outputs": [
    {
     "name": "stdout",
     "output_type": "stream",
     "text": [
      "مرحبا\n"
     ]
    }
   ],
   "source": [
    "decoded = encoded.decode(\"utf-8\")\n",
    "print(decoded)         # مرحبا"
   ]
  },
  {
   "cell_type": "markdown",
   "id": "dbe3af33",
   "metadata": {},
   "source": [
    "**examples of encoding in Python**"
   ]
  },
  {
   "cell_type": "code",
   "execution_count": null,
   "id": "5a022cc3",
   "metadata": {},
   "outputs": [],
   "source": [
    "## 🔹 Example 1: Basic UTF-8 Encoding\n",
    "s = \"Python\"\n",
    "encoded = s.encode(\"utf-8\")\n",
    "print(encoded)  "
   ]
  },
  {
   "cell_type": "code",
   "execution_count": null,
   "id": "78a46c1d",
   "metadata": {},
   "outputs": [],
   "source": [
    "## 🔹 Example 2: Encoding Non-English Text\n",
    "## 👉 Each Arabic character is represented with **2 bytes** in UTF-8.\n",
    "s = \"مرحبا\"   # Arabic word for \"Hello\"\n",
    "encoded = s.encode(\"utf-8\")\n",
    "print(encoded)"
   ]
  },
  {
   "cell_type": "code",
   "execution_count": null,
   "id": "ad551f99",
   "metadata": {},
   "outputs": [],
   "source": [
    "\n",
    "## 🔹 Example 3: Encoding in UTF-16\n",
    "\n",
    "s = \"Hello\"\n",
    "encoded = s.encode(\"utf-16\")\n",
    "print(encoded)\n"
   ]
  },
  {
   "cell_type": "markdown",
   "id": "a09ccb0f",
   "metadata": {},
   "source": [
    "\n",
    "## 🔹 Example 4: Encoding with ASCII\n",
    "\n",
    "```python\n",
    "s = \"Python\"\n",
    "encoded = s.encode(\"ascii\")\n",
    "print(encoded)   # b'Python'\n",
    "```\n",
    "\n",
    "But if you try:\n",
    "\n",
    "```python\n",
    "s = \"مرحبا\"\n",
    "encoded = s.encode(\"ascii\")  # ❌ Error\n",
    "```\n",
    "\n",
    "You’ll get:\n",
    "\n",
    "```\n",
    "UnicodeEncodeError: 'ascii' codec can't encode characters in position 0-4\n",
    "```\n",
    "\n",
    "👉 Because ASCII only supports **0–127 characters** (English letters, digits, symbols).\n",
    "\n",
    "---\n",
    "\n",
    "## 🔹 Example 5: Safe Encoding with Errors Handling\n",
    "\n",
    "```python\n",
    "s = \"مرحبا Python\"\n",
    "encoded = s.encode(\"ascii\", errors=\"ignore\")\n",
    "print(encoded)   # b' Python'\n",
    "\n",
    "encoded = s.encode(\"ascii\", errors=\"replace\")\n",
    "print(encoded)   # b'????? Python'\n",
    "```\n",
    "\n",
    "👉 `\"ignore\"` removes unsupported characters, `\"replace\"` substitutes them with `?`.\n",
    "\n",
    "---\n",
    "\n",
    "✅ **Key Takeaway:**\n",
    "\n",
    "* Use `.encode(\"utf-8\")` for most real-world applications (web, files, APIs).\n",
    "* Other encodings (`ascii`, `utf-16`, `latin-1`) exist but are less universal.\n"
   ]
  },
  {
   "cell_type": "code",
   "execution_count": null,
   "id": "6f017a3c",
   "metadata": {},
   "outputs": [],
   "source": []
  },
  {
   "cell_type": "markdown",
   "id": "f5f5c6fc",
   "metadata": {},
   "source": [
    "# 📝 String Exercises in Python\n",
    "\n",
    "## 🔹 Exercise 1: Basic String Operations\n",
    "\n",
    "1. Create a string variable called `name` with your name.\n",
    "2. Print:\n",
    "\n",
    "   * The first character.\n",
    "   * The last character.\n",
    "   * The length of the string.\n",
    "\n",
    "👉 Example:\n",
    "\n",
    "```python\n",
    "name = \"Python\"\n",
    "# Output: P, n, 6\n",
    "```\n",
    "\n",
    "---\n",
    "\n",
    "## 🔹 Exercise 2: String Slicing\n",
    "\n",
    "Given:\n",
    "\n",
    "```python\n",
    "text = \"Artificial Intelligence\"\n",
    "```\n",
    "\n",
    "1. Print the substring `\"Artificial\"`.\n",
    "2. Print the substring `\"Intelligence\"`.\n",
    "3. Print only `\"Intel\"`.\n",
    "4. Print the string in reverse.\n",
    "\n",
    "---\n",
    "\n",
    "## 🔹 Exercise 3: String Methods\n",
    "\n",
    "Take the string:\n",
    "\n",
    "```python\n",
    "quote = \"python programming is fun\"\n",
    "```\n",
    "\n",
    "1. Convert it to **uppercase**.\n",
    "2. Convert it to **title case**.\n",
    "3. Count how many times `\"n\"` appears.\n",
    "4. Replace `\"fun\"` with `\"awesome\"`.\n",
    "\n",
    "---\n",
    "\n",
    "## 🔹 Exercise 4: String Search\n",
    "\n",
    "Given:\n",
    "\n",
    "```python\n",
    "sentence = \"I love learning Python programming\"\n",
    "```\n",
    "\n",
    "1. Check if the word `\"Python\"` exists in the sentence.\n",
    "2. Find the index of `\"learning\"`.\n",
    "3. Check if the sentence starts with `\"I love\"`.\n",
    "4. Check if the sentence ends with `\"programming\"`.\n",
    "\n",
    "---\n",
    "\n",
    "## 🔹 Exercise 5: Palindrome Checker (Challenge)\n",
    "\n",
    "A **palindrome** is a word that reads the same backward and forward (e.g., `\"madam\"`, `\"racecar\"`).\n",
    "👉 Write a program that asks the user to enter a word and checks if it is a palindrome.\n",
    "\n",
    "---\n",
    "\n",
    "## 🔹 Exercise 6: String Encoding\n",
    "\n",
    "1. Take the string `\"مرحبا\"` and encode it into UTF-8.\n",
    "2. Decode it back to normal text.\n",
    "3. Try encoding it in ASCII with error handling (`ignore` or `replace`).\n",
    "\n"
   ]
  },
  {
   "cell_type": "code",
   "execution_count": null,
   "id": "ded3aa85",
   "metadata": {},
   "outputs": [],
   "source": []
  },
  {
   "cell_type": "markdown",
   "id": "bcca1e79",
   "metadata": {},
   "source": [
    "## LIST"
   ]
  },
  {
   "cell_type": "markdown",
   "id": "c41dc0c3",
   "metadata": {},
   "source": [
    "**1. What is a List?**\n",
    "\n",
    "A list in Python is an ordered collection of items that can be of any data type (numbers, strings, booleans, even other lists).<br>\n",
    "Lists are mutable, meaning you can change them after creation."
   ]
  },
  {
   "cell_type": "code",
   "execution_count": null,
   "id": "712a30eb",
   "metadata": {},
   "outputs": [],
   "source": [
    "# Empty list\n",
    "my_list = []\n",
    "\n",
    "# List with numbers\n",
    "numbers = [1, 2, 3, 4, 5]\n",
    "\n",
    "# List with mixed data types\n",
    "mixed = [1, \"apple\", True, 3.14]\n",
    "\n",
    "# List of lists (nested list)\n",
    "nested = [[1, 2], [3, 4]]\n"
   ]
  },
  {
   "cell_type": "code",
   "execution_count": null,
   "id": "c9219857",
   "metadata": {},
   "outputs": [],
   "source": [
    "fruits = [\"apple\", \"banana\", \"cherry\"]\n",
    "\n",
    "print(fruits[0])   # First item: apple\n",
    "print(fruits[1])   # Second item: banana\n",
    "print(fruits[-1])  # Last item: cherry\n"
   ]
  },
  {
   "cell_type": "code",
   "execution_count": null,
   "id": "75a4d88b",
   "metadata": {},
   "outputs": [],
   "source": [
    "fruits = [\"apple\", \"banana\", \"cherry\"]\n",
    "fruits[1] = \"blueberry\"\n",
    "print(fruits)  # ['apple', 'blueberry', 'cherry']\n"
   ]
  },
  {
   "cell_type": "code",
   "execution_count": null,
   "id": "03fa3473",
   "metadata": {},
   "outputs": [],
   "source": [
    "fruits = [\"apple\", \"banana\"]\n",
    "\n",
    "# Append (add to the end)\n",
    "fruits.append(\"cherry\")  \n",
    "\n",
    "# Insert at a specific position\n",
    "fruits.insert(1, \"mango\")\n",
    "\n",
    "print(fruits)  # ['apple', 'mango', 'banana', 'cherry']\n"
   ]
  },
  {
   "cell_type": "code",
   "execution_count": null,
   "id": "c2eab2bb",
   "metadata": {},
   "outputs": [],
   "source": [
    "fruits = [\"apple\", \"banana\", \"cherry\"]\n",
    "\n",
    "# Remove by value\n",
    "fruits.remove(\"banana\")\n",
    "\n",
    "# Remove by index\n",
    "del fruits[0]\n",
    "\n",
    "# Pop (remove and return item)\n",
    "last_fruit = fruits.pop()  \n",
    "\n",
    "print(last_fruit)  # cherry\n",
    "print(fruits)      # []\n"
   ]
  },
  {
   "cell_type": "code",
   "execution_count": null,
   "id": "72390538",
   "metadata": {},
   "outputs": [],
   "source": [
    "numbers = [0, 1, 2, 3, 4, 5]\n",
    "\n",
    "print(numbers[1:4])   # [1, 2, 3]\n",
    "print(numbers[:3])    # [0, 1, 2]\n",
    "print(numbers[3:])    # [3, 4, 5]\n",
    "print(numbers[::2])   # [0, 2, 4] (every second element)\n"
   ]
  },
  {
   "cell_type": "code",
   "execution_count": null,
   "id": "c502487f",
   "metadata": {},
   "outputs": [],
   "source": [
    "fruits = [\"apple\", \"banana\", \"cherry\"]\n",
    "\n",
    "for fruit in fruits:\n",
    "    print(fruit)\n"
   ]
  },
  {
   "cell_type": "code",
   "execution_count": null,
   "id": "bdaaf392",
   "metadata": {},
   "outputs": [],
   "source": [
    "fruits = [\"apple\", \"banana\", \"cherry\"]\n",
    "\n",
    "print(\"apple\" in fruits)   # True\n",
    "print(\"mango\" not in fruits)  # True\n"
   ]
  },
  {
   "cell_type": "markdown",
   "id": "06f98d8c",
   "metadata": {},
   "source": [
    "11. List Comprehensions\n",
    "\n",
    "A quick way to create lists in one line."
   ]
  },
  {
   "cell_type": "code",
   "execution_count": null,
   "id": "4e7e6515",
   "metadata": {},
   "outputs": [],
   "source": [
    "squares = [x**2 for x in range(5)]\n",
    "print(squares)  # [0, 1, 4, 9, 16]"
   ]
  },
  {
   "cell_type": "code",
   "execution_count": null,
   "id": "df2b10e4",
   "metadata": {},
   "outputs": [],
   "source": [
    "evens = [x for x in range(10) if x % 2 == 0]\n",
    "print(evens)  # [0, 2, 4, 6, 8]"
   ]
  },
  {
   "cell_type": "code",
   "execution_count": null,
   "id": "767e6f43",
   "metadata": {},
   "outputs": [
    {
     "name": "stdout",
     "output_type": "stream",
     "text": [
      "[1, 2, 3]\n",
      "[1, 2, 3, 4]\n"
     ]
    }
   ],
   "source": [
    "list1 = [1, 2, 3]\n",
    "list2 = list1.copy()\n",
    "\n",
    "list2.append(4)\n",
    "\n",
    "print(list1)  # [1, 2, 3]\n",
    "print(list2)  # [1, 2, 3, 4]\n",
    "# (Avoid list2 = list1 because it links both lists to the same memory reference.)"
   ]
  },
  {
   "cell_type": "code",
   "execution_count": null,
   "id": "7a57a736",
   "metadata": {},
   "outputs": [],
   "source": [
    "matrix = [\n",
    "    [1, 2, 3],\n",
    "    [4, 5, 6]\n",
    "]\n",
    "\n",
    "print(matrix[1][2])  # 6"
   ]
  },
  {
   "cell_type": "markdown",
   "id": "76d1cf2d",
   "metadata": {},
   "source": [
    "### Methods and Functions"
   ]
  },
  {
   "cell_type": "code",
   "execution_count": null,
   "id": "4a257a29",
   "metadata": {},
   "outputs": [],
   "source": [
    "fruits = [\"apple\", \"banana\", \"cherry\"]\n",
    "len(fruits)"
   ]
  },
  {
   "cell_type": "code",
   "execution_count": null,
   "id": "f9c70354",
   "metadata": {},
   "outputs": [],
   "source": [
    "max([4, 7, 1])"
   ]
  },
  {
   "cell_type": "code",
   "execution_count": null,
   "id": "fa32a799",
   "metadata": {},
   "outputs": [],
   "source": [
    "min([4, 7, 1])"
   ]
  },
  {
   "cell_type": "code",
   "execution_count": null,
   "id": "1aca39ea",
   "metadata": {},
   "outputs": [],
   "source": [
    "sum([4, 7, 1])"
   ]
  },
  {
   "cell_type": "code",
   "execution_count": null,
   "id": "99094243",
   "metadata": {},
   "outputs": [],
   "source": [
    "sorted([3,1,2])"
   ]
  },
  {
   "cell_type": "code",
   "execution_count": null,
   "id": "4f56ba4e",
   "metadata": {},
   "outputs": [],
   "source": [
    "sorted([3,1,2])"
   ]
  },
  {
   "cell_type": "code",
   "execution_count": null,
   "id": "91428fca",
   "metadata": {},
   "outputs": [],
   "source": [
    "fruits = [\"apple\", \"banana\"]\n",
    "\n",
    "fruits.append(\"cherry\")     # add at end\n",
    "fruits.insert(1, \"orange\")  # insert at index 1\n",
    "fruits.extend([\"mango\", \"grape\"])  # add multiple\n",
    "print(fruits)"
   ]
  },
  {
   "cell_type": "code",
   "execution_count": null,
   "id": "1647bf57",
   "metadata": {},
   "outputs": [],
   "source": [
    "fruits = [\"apple\", \"banana\", \"cherry\"]\n",
    "\n",
    "fruits.remove(\"banana\")  # remove by value\n",
    "last_item = fruits.pop() # remove last (or by index)\n",
    "fruits.clear()           # remove all"
   ]
  },
  {
   "cell_type": "code",
   "execution_count": null,
   "id": "24664539",
   "metadata": {},
   "outputs": [],
   "source": [
    "numbers = [1, 2, 3, 2, 4, 2]\n",
    "\n",
    "print(numbers.index(3))   # 2 → first occurrence index\n",
    "print(numbers.count(2))   # 3 → number of times 2 appears"
   ]
  },
  {
   "cell_type": "code",
   "execution_count": null,
   "id": "baab5e20",
   "metadata": {},
   "outputs": [],
   "source": [
    "nums = [4, 1, 7, 3]\n",
    "\n",
    "nums.sort()          # in-place sort\n",
    "nums.sort(reverse=True) # descending\n",
    "nums.reverse()       # reverse order (not sort)\n",
    "\n",
    "print(nums)"
   ]
  },
  {
   "cell_type": "code",
   "execution_count": null,
   "id": "3a5fcd2d",
   "metadata": {},
   "outputs": [],
   "source": [
    "fruits = [\"apple\", \"banana\"]\n",
    "copy_list = fruits.copy()   # shallow copy"
   ]
  },
  {
   "cell_type": "markdown",
   "id": "ad9a2674",
   "metadata": {},
   "source": [
    "### List Exercise"
   ]
  },
  {
   "cell_type": "markdown",
   "id": "80b78eeb",
   "metadata": {},
   "source": [
    "**📝 Exercises on Python List Functions & Methods**\n",
    "\n",
    "---\n",
    "\n",
    "**1. Basic Exercises**\n",
    "\n",
    "1. Create a list of 5 numbers and print:\n",
    "\n",
    "   * The length of the list\n",
    "   * The maximum value\n",
    "   * The minimum value\n",
    "   * The sum of all numbers\n",
    "\n",
    "2. Create a list of fruits.\n",
    "\n",
    "   * Add `\"mango\"` at the end.\n",
    "   * Insert `\"orange\"` at index `1`.\n",
    "   * Extend the list with `[\"kiwi\", \"grape\"]`.\n",
    "   * Print the updated list.\n",
    "\n",
    "3. Start with this list:\n",
    "\n",
    "   ```python\n",
    "   colors = [\"red\", \"blue\", \"green\", \"blue\", \"yellow\", \"blue\"]\n",
    "   ```\n",
    "\n",
    "   * Remove `\"green\"`.\n",
    "   * Remove the last item using `.pop()`.\n",
    "   * Count how many times `\"blue\"` appears.\n",
    "\n",
    "---\n",
    "\n",
    "**2. Intermediate Exercises**\n",
    "\n",
    "4. Create a list:\n",
    "\n",
    "   ```python\n",
    "   numbers = [5, 2, 9, 1, 5, 6]\n",
    "   ```\n",
    "\n",
    "   * Sort it in ascending order.\n",
    "   * Sort it in descending order.\n",
    "   * Reverse the list without sorting.\n",
    "\n",
    "5. Copy a list of animals into another list and prove that modifying the new list does not affect the original one.\n",
    "\n",
    "6. Create a list of 10 random numbers (you can write them manually).\n",
    "\n",
    "   * Use list comprehension to create a new list containing only even numbers.\n",
    "   * Use list comprehension to create a new list of their squares.\n",
    "\n",
    "---\n",
    "\n",
    "**3. Challenge Exercises**\n",
    "\n",
    "7. Create a 2D list (matrix):\n",
    "\n",
    "   ```python\n",
    "   matrix = [[1,2,3], [4,5,6], [7,8,9]]\n",
    "   ```\n",
    "\n",
    "   * Print the element in the **second row, third column**.\n",
    "   * Print all elements of the first column.\n",
    "\n",
    "8. Given a list of student scores:\n",
    "\n",
    "   ```python\n",
    "   scores = [85, 42, 79, 95, 66, 58, 90]\n",
    "   ```\n",
    "\n",
    "   * Find the highest and lowest score.\n",
    "   * Sort the list.\n",
    "   * Find how many students passed (score ≥ 60).\n",
    "\n",
    "9. Write a Python program that:\n",
    "\n",
    "   * Asks the user to enter 5 numbers (store them in a list).\n",
    "   * Prints the average of those numbers.\n",
    "   * Prints all numbers greater than the average.\n"
   ]
  },
  {
   "cell_type": "markdown",
   "id": "bc82bd5c",
   "metadata": {},
   "source": [
    "## Set"
   ]
  },
  {
   "cell_type": "markdown",
   "id": "1e8542f8",
   "metadata": {},
   "source": [
    "**🔹 What is a Set in Python?**\n",
    "\n",
    "A **set** is a **collection of unique, unordered, and mutable elements**.\n",
    "\n",
    "* ✅ **Unique** → no duplicates allowed\n",
    "* ✅ **Unordered** → elements have no index or position\n",
    "* ✅ **Mutable** → you can add or remove elements\n",
    "* ❌ **Not indexable** → you cannot access by position (`myset[0] ❌`)"
   ]
  },
  {
   "cell_type": "markdown",
   "id": "b3380078",
   "metadata": {},
   "source": [
    "**🔹 Creating Sets**"
   ]
  },
  {
   "cell_type": "code",
   "execution_count": null,
   "id": "5fc63b28",
   "metadata": {},
   "outputs": [],
   "source": [
    "# Empty set\n",
    "s1 = set()\n",
    "\n",
    "# Set with values\n",
    "s2 = {1, 2, 3, 4}\n",
    "\n",
    "# Set automatically removes duplicates\n",
    "s3 = {1, 2, 2, 3, 4, 4}\n",
    "print(s3)  # {1, 2, 3, 4}"
   ]
  },
  {
   "cell_type": "markdown",
   "id": "2157177f",
   "metadata": {},
   "source": [
    "**🔹 Set Functions & Methods**"
   ]
  },
  {
   "cell_type": "code",
   "execution_count": 15,
   "id": "3dc48f60",
   "metadata": {},
   "outputs": [],
   "source": [
    "s = {1, 2, 3}\n",
    "s.add(4)        # Add one element\n",
    "s.update([5,6]) # Add multiple elements\n",
    "s.remove(2)     # Remove element (error if not found)\n",
    "s.discard(10)   # Remove safely (no error if not found)\n",
    "s.pop()         # Removes and returns a random element\n",
    "s.clear()       # Remove all elements"
   ]
  },
  {
   "cell_type": "markdown",
   "id": "f7e574a2",
   "metadata": {},
   "source": [
    "**2. Set Operations (like math)**"
   ]
  },
  {
   "cell_type": "code",
   "execution_count": null,
   "id": "bfe36883",
   "metadata": {},
   "outputs": [],
   "source": [
    "A = {1, 2, 3, 4}\n",
    "B = {3, 4, 5, 6}\n",
    "\n",
    "print(A | B)   # Union: {1, 2, 3, 4, 5, 6}\n",
    "print(A & B)   # Intersection: {3, 4}\n",
    "print(A - B)   # Difference: {1, 2}\n",
    "print(A ^ B)   # Symmetric Difference: {1, 2, 5, 6}"
   ]
  },
  {
   "cell_type": "markdown",
   "id": "883e8e87",
   "metadata": {},
   "source": [
    "**3. Membership & Length**"
   ]
  },
  {
   "cell_type": "code",
   "execution_count": null,
   "id": "8ba27e10",
   "metadata": {},
   "outputs": [],
   "source": [
    "s = {10, 20, 30}\n",
    "print(20 in s)     # True\n",
    "print(40 not in s) # True\n",
    "print(len(s))      # 3"
   ]
  },
  {
   "cell_type": "markdown",
   "id": "3c24a39e",
   "metadata": {},
   "source": [
    "**🔹 Frozen Sets**"
   ]
  },
  {
   "cell_type": "code",
   "execution_count": null,
   "id": "0ff0e8c6",
   "metadata": {},
   "outputs": [],
   "source": [
    "fs = frozenset([1, 2, 3, 4])\n",
    "print(fs)\n",
    "# fs.add(5) ❌ (Error: can't modify frozenset)"
   ]
  },
  {
   "cell_type": "code",
   "execution_count": 16,
   "id": "12608afd",
   "metadata": {},
   "outputs": [
    {
     "name": "stdout",
     "output_type": "stream",
     "text": [
      "Common: {'cherry'}\n",
      "Unique: {'mango', 'banana', 'orange', 'apple'}\n"
     ]
    }
   ],
   "source": [
    "fruits = {\"apple\", \"banana\", \"cherry\"}\n",
    "more_fruits = {\"cherry\", \"orange\", \"mango\"}\n",
    "\n",
    "# Find common fruits\n",
    "common = fruits & more_fruits\n",
    "print(\"Common:\", common)\n",
    "\n",
    "# Find unique fruits\n",
    "unique = fruits ^ more_fruits\n",
    "print(\"Unique:\", unique)"
   ]
  },
  {
   "cell_type": "markdown",
   "id": "0c7cd4ce",
   "metadata": {},
   "source": [
    "**🔹 Advanced Set Operations**"
   ]
  },
  {
   "cell_type": "code",
   "execution_count": 17,
   "id": "7261930e",
   "metadata": {},
   "outputs": [
    {
     "name": "stdout",
     "output_type": "stream",
     "text": [
      "True\n",
      "True\n",
      "True\n"
     ]
    }
   ],
   "source": [
    "### 1. Subset, Superset, Disjoint\n",
    "\n",
    "A = {1, 2, 3}\n",
    "B = {1, 2, 3, 4, 5}\n",
    "C = {6, 7}\n",
    "\n",
    "print(A.issubset(B))   # True (A ⊆ B)\n",
    "print(B.issuperset(A)) # True (B ⊇ A)\n",
    "print(A.isdisjoint(C)) # True (no common elements)"
   ]
  },
  {
   "cell_type": "code",
   "execution_count": null,
   "id": "47cc1dd9",
   "metadata": {},
   "outputs": [
    {
     "name": "stdout",
     "output_type": "stream",
     "text": [
      "{1, 2, 3}\n"
     ]
    }
   ],
   "source": [
    "### 2. Copying Sets\n",
    "s1 = {1, 2, 3}\n",
    "s2 = s1.copy()\n",
    "print(s2)  # {1, 2, 3}"
   ]
  },
  {
   "cell_type": "code",
   "execution_count": null,
   "id": "dd54413f",
   "metadata": {},
   "outputs": [],
   "source": [
    "\n",
    "### 3. Set Comprehension\n",
    "\n",
    "#Like list comprehension, but creates a set:\n",
    "\n",
    "\n",
    "squares = {x*x for x in range(6)}\n",
    "print(squares)  # {0, 1, 4, 9, 16, 25}"
   ]
  },
  {
   "cell_type": "code",
   "execution_count": null,
   "id": "c38e91f1",
   "metadata": {},
   "outputs": [],
   "source": [
    "### 4. Removing Duplicates Using Sets\n",
    "\n",
    "nums = [1, 2, 2, 3, 4, 4, 5]\n",
    "unique_nums = list(set(nums))\n",
    "print(unique_nums)  # [1, 2, 3, 4, 5]\n"
   ]
  },
  {
   "cell_type": "code",
   "execution_count": null,
   "id": "71d85bd0",
   "metadata": {},
   "outputs": [],
   "source": [
    "### 5. Difference Between `remove()` and `discard()`\n",
    "\n",
    "\n",
    "s = {1, 2, 3}\n",
    "s.remove(2)   # Works fine\n",
    "# s.remove(10) ❌ Error\n",
    "\n",
    "s.discard(10) # No error if element not found\n"
   ]
  },
  {
   "cell_type": "markdown",
   "id": "47a1dd64",
   "metadata": {},
   "source": [
    "**🔹 Real-World Use Cases of Sets**"
   ]
  },
  {
   "cell_type": "markdown",
   "id": "de640f35",
   "metadata": {},
   "source": [
    "1. *Remove Duplicates from Data*"
   ]
  },
  {
   "cell_type": "code",
   "execution_count": null,
   "id": "594e8784",
   "metadata": {},
   "outputs": [],
   "source": [
    "emails = [\"a@gmail.com\", \"b@gmail.com\", \"a@gmail.com\"]\n",
    "unique_emails = set(emails)\n",
    "print(unique_emails)  # {'a@gmail.com', 'b@gmail.com'}"
   ]
  },
  {
   "cell_type": "markdown",
   "id": "820750d6",
   "metadata": {},
   "source": [
    "2. *Find Common Students in Courses*"
   ]
  },
  {
   "cell_type": "code",
   "execution_count": null,
   "id": "f4ad1e7c",
   "metadata": {},
   "outputs": [],
   "source": [
    "courseA = {\"Ali\", \"Sara\", \"Omar\"}\n",
    "courseB = {\"Sara\", \"Mona\", \"Ali\"}\n",
    "\n",
    "common = courseA & courseB\n",
    "print(\"Students in both courses:\", common)"
   ]
  },
  {
   "cell_type": "markdown",
   "id": "b834fac1",
   "metadata": {},
   "source": [
    "3. *Check Unique Characters*"
   ]
  },
  {
   "cell_type": "code",
   "execution_count": null,
   "id": "d02261bf",
   "metadata": {},
   "outputs": [],
   "source": [
    "word = \"programming\"\n",
    "print(len(set(word)))   # Unique letters count"
   ]
  },
  {
   "cell_type": "markdown",
   "id": "d950d677",
   "metadata": {},
   "source": [
    "## 🔹 Practice Exercises on Sets"
   ]
  },
  {
   "cell_type": "markdown",
   "id": "f08df796",
   "metadata": {},
   "source": [
    "### **Exercise 1: Remove Duplicates**\n",
    "\n",
    "Write a program that takes a list of numbers with duplicates and prints the unique numbers using a set.\n",
    "\n",
    "---\n",
    "\n",
    "### **Exercise 2: Common Elements**\n",
    "\n",
    "Given two sets of fruits:\n",
    "\n",
    "```python\n",
    "A = {\"apple\", \"banana\", \"mango\"}\n",
    "B = {\"mango\", \"orange\", \"apple\"}\n",
    "```\n",
    "\n",
    "Find:\n",
    "\n",
    "* Fruits that are common in both sets\n",
    "* Fruits that are only in A\n",
    "* Fruits that are only in B\n",
    "\n",
    "---\n",
    "\n",
    "### **Exercise 3: Subset Check**\n",
    "\n",
    "Check if:\n",
    "\n",
    "```python\n",
    "A = {1, 2, 3}\n",
    "B = {1, 2, 3, 4, 5}\n",
    "```\n",
    "\n",
    "Is `A` a subset of `B`?\n",
    "\n",
    "---\n",
    "\n",
    "### **Exercise 4: Unique Characters**\n",
    "\n",
    "Write a function that takes a string and returns the number of **unique characters** in it using sets.\n",
    "Example: `\"hello\"` → 4 unique characters (`h`, `e`, `l`, `o`).\n",
    "\n",
    "---\n",
    "\n",
    "### **Exercise 5: Symmetric Difference**\n",
    "\n",
    "Two classes attended a workshop:\n",
    "\n",
    "```python\n",
    "class1 = {\"Ahmed\", \"Khaled\", \"Sara\"}\n",
    "class2 = {\"Sara\", \"Omar\", \"Hana\"}\n",
    "```\n",
    "\n",
    "Find students who attended **only one class but not both**.\n",
    "\n",
    "\n"
   ]
  },
  {
   "cell_type": "markdown",
   "id": "b4b0aeb6",
   "metadata": {},
   "source": []
  },
  {
   "cell_type": "markdown",
   "id": "48fb6f23",
   "metadata": {},
   "source": [
    "# Dictionary"
   ]
  },
  {
   "cell_type": "markdown",
   "id": "be0155e1",
   "metadata": {},
   "source": [
    "* **Keys must be immutable** → e.g., `str`, `int`, `tuple` (but not `list` or `dict`).\n",
    "* **Values can be any type** → even lists, dicts, or objects.\n",
    "* **Insertion order is preserved (Python 3.7+)**.\n",
    "* Lookup (`d[key]`) is **O(1)** on average (very fast)."
   ]
  },
  {
   "cell_type": "markdown",
   "id": "9c1399d0",
   "metadata": {},
   "source": [
    "**🧩 2. Advanced Dictionary Creation**"
   ]
  },
  {
   "cell_type": "code",
   "execution_count": null,
   "id": "41144e72",
   "metadata": {},
   "outputs": [],
   "source": [
    "# Empty dictionary\n",
    "d1 = {}\n",
    "\n",
    "# Using dict()\n",
    "d2 = dict()\n",
    "\n",
    "# With key-value pairs\n",
    "d3 = {\"name\": \"Alice\", \"age\": 25, \"city\": \"Cairo\"}\n",
    "\n",
    "# Keys must be unique → last one wins\n",
    "d4 = {\"a\": 1, \"a\": 2}\n",
    "print(d4)  # {\"a\": 2}"
   ]
  },
  {
   "cell_type": "code",
   "execution_count": 26,
   "id": "897f1e20",
   "metadata": {},
   "outputs": [
    {
     "name": "stdout",
     "output_type": "stream",
     "text": [
      "dict_keys(['name', 'grade', 'age'])\n",
      "dict_values(['Ali', 'A', 20])\n",
      "dict_items([('name', 'Ali'), ('grade', 'A'), ('age', 20)])\n"
     ]
    }
   ],
   "source": [
    "student = {\"name\": \"Ali\", \"grade\": \"A\", \"age\": 20}\n",
    "\n",
    "print(student.keys())    # dict_keys(['name', 'grade', 'age'])\n",
    "print(student.values())  # dict_values(['Ali', 'A', 20])\n",
    "print(student.items())   # dict_items([('name', 'Ali'), ('grade', 'A'), ('age', 20)])"
   ]
  },
  {
   "cell_type": "code",
   "execution_count": null,
   "id": "421cdf73",
   "metadata": {},
   "outputs": [],
   "source": [
    "# From list of tuples\n",
    "pairs = [(\"a\", 1), (\"b\", 2)]\n",
    "d1 = dict(pairs)  # {'a': 1, 'b': 2}\n",
    "\n",
    "# From keyword arguments\n",
    "d2 = dict(x=10, y=20)  # {'x': 10, 'y': 20}\n",
    "\n",
    "# Using dictionary comprehension\n",
    "d3 = {x: x**2 for x in range(5)}  \n",
    "# {0: 0, 1: 1, 2: 4, 3: 9, 4: 16}"
   ]
  },
  {
   "cell_type": "markdown",
   "id": "193b7be9",
   "metadata": {},
   "source": [
    "**🧩 3. Accessing with `.get()` and `setdefault()`**"
   ]
  },
  {
   "cell_type": "code",
   "execution_count": 22,
   "id": "6ba57e7b",
   "metadata": {},
   "outputs": [
    {
     "name": "stdout",
     "output_type": "stream",
     "text": [
      "Not available\n",
      "20\n",
      "{'name': 'Ali', 'age': 20}\n"
     ]
    }
   ],
   "source": [
    "person = {\"name\": \"Ali\"}\n",
    "\n",
    "# .get() → safe access\n",
    "print(person.get(\"age\", \"Not available\"))  # Not available\n",
    "\n",
    "# .setdefault() → return value if key exists, else create it\n",
    "print(person.setdefault(\"age\", 20))   # 20 (creates age)\n",
    "print(person)  # {'name': 'Ali', 'age': 20}"
   ]
  },
  {
   "cell_type": "markdown",
   "id": "05e020eb",
   "metadata": {},
   "source": [
    "**🧩 4. Updating & Merging Dictionaries**"
   ]
  },
  {
   "cell_type": "code",
   "execution_count": 23,
   "id": "385f356d",
   "metadata": {},
   "outputs": [
    {
     "name": "stdout",
     "output_type": "stream",
     "text": [
      "{'a': 1, 'b': 3, 'c': 4}\n"
     ]
    }
   ],
   "source": [
    "d1 = {\"a\": 1, \"b\": 2}\n",
    "d2 = {\"b\": 3, \"c\": 4}\n",
    "\n",
    "# update() overwrites\n",
    "d1.update(d2)\n",
    "print(d1)  # {'a': 1, 'b': 3, 'c': 4}\n",
    "\n",
    "# New in Python 3.9+: merge operators\n",
    "d3 = d1 | {\"d\": 5}   # Union → {'a': 1, 'b': 3, 'c': 4, 'd': 5}\n",
    "d4 = d1 | d2         # Right dict wins → {'a': 1, 'b': 3, 'c': 4}"
   ]
  },
  {
   "cell_type": "markdown",
   "id": "f3be3c38",
   "metadata": {},
   "source": [
    "**🧩 5. Deleting Keys Safely**"
   ]
  },
  {
   "cell_type": "code",
   "execution_count": null,
   "id": "6c7ccc93",
   "metadata": {},
   "outputs": [],
   "source": [
    "d = {\"x\": 1, \"y\": 2}\n",
    "\n",
    "# pop()\n",
    "value = d.pop(\"x\", \"Not found\")  \n",
    "print(value)  # 1\n",
    "print(d)      # {'y': 2}\n",
    "\n",
    "# popitem() → last inserted key-value\n",
    "key, val = d.popitem()\n",
    "print(key, val)  # y 2"
   ]
  },
  {
   "cell_type": "markdown",
   "id": "ef911c3b",
   "metadata": {},
   "source": [
    "**🧩 6. Looping Tricks**"
   ]
  },
  {
   "cell_type": "code",
   "execution_count": 25,
   "id": "a83ff656",
   "metadata": {},
   "outputs": [
    {
     "name": "stdout",
     "output_type": "stream",
     "text": [
      "0 Ali\n",
      "1 Sara\n",
      "2 Omar\n",
      "Ali 90\n",
      "Omar 78\n",
      "Sara 85\n",
      "Ali 90\n",
      "Sara 85\n",
      "Omar 78\n"
     ]
    }
   ],
   "source": [
    "grades = {\"Ali\": 90, \"Sara\": 85, \"Omar\": 78}\n",
    "\n",
    "# Enumerate keys\n",
    "for i, key in enumerate(grades):\n",
    "    print(i, key)\n",
    "\n",
    "# Loop sorted by keys\n",
    "for k in sorted(grades):\n",
    "    print(k, grades[k])\n",
    "\n",
    "# Loop sorted by values\n",
    "for k, v in sorted(grades.items(), key=lambda item: item[1], reverse=True):\n",
    "    print(k, v)"
   ]
  },
  {
   "cell_type": "markdown",
   "id": "edae0433",
   "metadata": {},
   "source": [
    "**🧩 7. Dictionary Views**\n",
    "\n",
    "Dictionary methods like `.keys()`, `.values()`, and `.items()` return **views**, not lists.\n",
    "\n",
    "They are dynamic → reflect changes in the dictionary."
   ]
  },
  {
   "cell_type": "code",
   "execution_count": null,
   "id": "3e06eca4",
   "metadata": {},
   "outputs": [],
   "source": [
    "d = {\"a\": 1, \"b\": 2}\n",
    "keys_view = d.keys()\n",
    "print(keys_view)   # dict_keys(['a', 'b'])\n",
    "\n",
    "d[\"c\"] = 3\n",
    "print(keys_view)   # dict_keys(['a', 'b', 'c']) (updated automatically)"
   ]
  },
  {
   "cell_type": "markdown",
   "id": "33e3f923",
   "metadata": {},
   "source": [
    "**🧩 8. Nested Dictionaries (Complex Data)**"
   ]
  },
  {
   "cell_type": "code",
   "execution_count": null,
   "id": "86364b22",
   "metadata": {},
   "outputs": [],
   "source": [
    "company = {\n",
    "    \"employee1\": {\"name\": \"Ali\", \"age\": 25, \"skills\": [\"Python\", \"ML\"]},\n",
    "    \"employee2\": {\"name\": \"Sara\", \"age\": 28, \"skills\": [\"Java\", \"SQL\"]}\n",
    "}\n",
    "\n",
    "print(company[\"employee1\"][\"skills\"][0])  # Python"
   ]
  },
  {
   "cell_type": "markdown",
   "id": "6169a359",
   "metadata": {},
   "source": [
    "**🧩 9. Dictionary Comprehension Examples**"
   ]
  },
  {
   "cell_type": "code",
   "execution_count": null,
   "id": "d2f3b2ff",
   "metadata": {},
   "outputs": [],
   "source": [
    "# Invert a dictionary\n",
    "d = {\"a\": 1, \"b\": 2, \"c\": 3}\n",
    "inverted = {v: k for k, v in d.items()}  \n",
    "print(inverted)  # {1: 'a', 2: 'b', 3: 'c'}\n",
    "\n",
    "# Count characters\n",
    "text = \"banana\"\n",
    "count = {ch: text.count(ch) for ch in set(text)}\n",
    "print(count)  # {'b': 1, 'n': 2, 'a': 3}"
   ]
  },
  {
   "cell_type": "markdown",
   "id": "0aafb3bf",
   "metadata": {},
   "source": [
    "**🧩 10. Special Dictionary Types (from `collections`)**\n",
    "\n",
    "Python’s `collections` module has **powerful dictionary variations**:"
   ]
  },
  {
   "cell_type": "code",
   "execution_count": 24,
   "id": "f6e52f66",
   "metadata": {},
   "outputs": [
    {
     "name": "stdout",
     "output_type": "stream",
     "text": [
      "defaultdict(<class 'int'>, {'x': 1})\n",
      "Counter({'a': 3, 'n': 2, 'b': 1})\n"
     ]
    }
   ],
   "source": [
    "from collections import defaultdict, OrderedDict, Counter\n",
    "\n",
    "# defaultdict → auto-create keys\n",
    "dd = defaultdict(int)\n",
    "dd[\"x\"] += 1\n",
    "print(dd)  # defaultdict(<class 'int'>, {'x': 1})\n",
    "\n",
    "# OrderedDict → remembers order (Python 3.7+ normal dict also does this)\n",
    "od = OrderedDict(a=1, b=2)\n",
    "\n",
    "# Counter → frequency counter\n",
    "cnt = Counter(\"banana\")\n",
    "print(cnt)  # Counter({'a': 3, 'n': 2, 'b': 1})"
   ]
  },
  {
   "cell_type": "markdown",
   "id": "cbfd3590",
   "metadata": {},
   "source": [
    "**🧩 11. Dictionary Performance Notes**\n",
    "\n",
    "* Lookup time: **O(1)** average → fast.\n",
    "* Insertion time: **O(1)** average.\n",
    "* Worst case: **O(n)** if too many hash collisions (very rare)."
   ]
  },
  {
   "cell_type": "markdown",
   "id": "c8965e82",
   "metadata": {},
   "source": [
    "**🧩 12. Real-Life Example**"
   ]
  },
  {
   "cell_type": "code",
   "execution_count": null,
   "id": "5d6bb889",
   "metadata": {},
   "outputs": [],
   "source": [
    "phone_book = {\n",
    "    \"Ali\": \"01012345678\",\n",
    "    \"Sara\": \"01198765432\",\n",
    "    \"Omar\": \"01234567890\"\n",
    "}\n",
    "\n",
    "# Search\n",
    "name = \"Sara\"\n",
    "print(f\"{name}'s number is {phone_book.get(name, 'Not found')}\")\n",
    "\n",
    "# Add new contact\n",
    "phone_book[\"Mona\"] = \"0151112233\"\n",
    "\n",
    "# Show all\n",
    "for person, number in phone_book.items():\n",
    "    print(person, \"->\", number)"
   ]
  },
  {
   "cell_type": "markdown",
   "id": "68148bf1",
   "metadata": {},
   "source": [
    "**🔹 Exercise 1: Countries & Capitals**\n",
    "\n",
    "Create a dictionary of 3 countries and their capitals.\n",
    "\n",
    "* Print the capital of one country.\n",
    "* Add a new country-capital pair.\n",
    "* Update one capital.\n",
    "* Delete one country.\n",
    "\n",
    "---\n",
    "\n",
    "**🔹 Exercise 2: Word Counter**\n",
    "\n",
    "Write a program to count how many times each word appears in the sentence:\n",
    "\n",
    "```python\n",
    "sentence = \"python is fun and python is powerful\"\n",
    "```\n",
    "\n",
    "👉 Expected Output:\n",
    "\n",
    "```\n",
    "{'python': 2, 'is': 2, 'fun': 1, 'and': 1, 'powerful': 1}\n",
    "```\n",
    "\n",
    "---\n",
    "\n",
    "**🔹 Exercise 3: Student Grades**\n",
    "\n",
    "Make a dictionary of students and their grades:\n",
    "\n",
    "```python\n",
    "grades = {\"Ali\": 85, \"Sara\": 90, \"Omar\": 78}\n",
    "```\n",
    "\n",
    "* Print each student with their grade.\n",
    "* Find the student with the highest grade.\n",
    "* Calculate the average grade.\n",
    "\n",
    "---\n",
    "\n",
    "**🔹 Exercise 4: Shopping Cart**\n",
    "\n",
    "Create a dictionary that stores items and their prices:\n",
    "\n",
    "```python\n",
    "cart = {\"apple\": 3, \"banana\": 2, \"milk\": 5}\n",
    "```\n",
    "\n",
    "* Add a new item.\n",
    "* Update the price of an item.\n",
    "* Calculate the total cost of all items.\n",
    "\n",
    "---\n",
    "\n",
    "**🔹 Exercise 5: Nested Dictionary – School System**\n",
    "\n",
    "Create a nested dictionary to represent students:\n",
    "\n",
    "```python\n",
    "school = {\n",
    "    \"student1\": {\"name\": \"Ali\", \"age\": 20, \"grade\": \"A\"},\n",
    "    \"student2\": {\"name\": \"Sara\", \"age\": 22, \"grade\": \"B\"}\n",
    "}\n",
    "```\n",
    "\n",
    "* Print the name of student1.\n",
    "* Change student2’s grade to \"A+\".\n",
    "* Add a new student.\n"
   ]
  },
  {
   "cell_type": "code",
   "execution_count": null,
   "id": "e4e474cd",
   "metadata": {},
   "outputs": [],
   "source": []
  },
  {
   "cell_type": "code",
   "execution_count": null,
   "id": "23695681",
   "metadata": {},
   "outputs": [],
   "source": []
  },
  {
   "cell_type": "markdown",
   "id": "fb896dc6",
   "metadata": {},
   "source": [
    "# Tuples"
   ]
  },
  {
   "cell_type": "markdown",
   "id": "5619c057",
   "metadata": {},
   "source": [
    "### ✅ 1. Definition Recap\n",
    "\n",
    "* A **tuple** is an ordered, immutable collection.\n",
    "* Defined with `()` but can also be created without parentheses by separating values with commas."
   ]
  },
  {
   "cell_type": "code",
   "execution_count": 19,
   "id": "326f2304",
   "metadata": {},
   "outputs": [
    {
     "name": "stdout",
     "output_type": "stream",
     "text": [
      "(1, 2, 3)\n"
     ]
    }
   ],
   "source": [
    "t = 1, 2, 3     # Tuple without parentheses\n",
    "print(t)        # (1, 2, 3)"
   ]
  },
  {
   "cell_type": "markdown",
   "id": "41d2e26c",
   "metadata": {},
   "source": [
    "### ✅ 2. Immutability (Important Detail)\n",
    "\n",
    "* You cannot **add, remove, or change** tuple elements directly.\n",
    "* But if the tuple contains **mutable objects** (like lists), their contents can be modified.\n",
    "* ⚠️ The tuple reference is immutable, but the object inside can still change."
   ]
  },
  {
   "cell_type": "code",
   "execution_count": 20,
   "id": "8ef1640a",
   "metadata": {},
   "outputs": [
    {
     "name": "stdout",
     "output_type": "stream",
     "text": [
      "(1, [2, 3, 99], 4)\n"
     ]
    }
   ],
   "source": [
    "t = (1, [2, 3], 4)\n",
    "t[1].append(99) \n",
    "print(t)   # (1, [2, 3, 99], 4) ✅"
   ]
  },
  {
   "cell_type": "markdown",
   "id": "7fa56c6a",
   "metadata": {},
   "source": [
    "### ✅ 3. Tuple vs List (Key Differences)\n",
    "\n",
    "| Feature      | Tuple `( )`                         | List `[ ]`                       |\n",
    "| ------------ | ----------------------------------- | -------------------------------- |\n",
    "| Mutability   | Immutable                           | Mutable                          |\n",
    "| Performance  | Faster                              | Slower                           |\n",
    "| Memory usage | Lower                               | Higher                           |\n",
    "| Methods      | Only `count`, `index`               | Many (append, pop, extend, etc.) |\n",
    "| Hashable     | Yes (if all elements are immutable) | No                               |\n",
    "| Use Cases    | Fixed data, dict keys               | Dynamic data, frequent changes   |"
   ]
  },
  {
   "cell_type": "markdown",
   "id": "a663c84c",
   "metadata": {},
   "source": [
    "### ✅ 4. Nested Tuples\n",
    "\n",
    "Tuples can contain other tuples (multi-dimensional structure):"
   ]
  },
  {
   "cell_type": "code",
   "execution_count": null,
   "id": "1db92d9c",
   "metadata": {},
   "outputs": [],
   "source": [
    "matrix = ((1, 2, 3),\n",
    "          (4, 5, 6),\n",
    "          (7, 8, 9))\n",
    "print(matrix[1][2])  # 6"
   ]
  },
  {
   "cell_type": "markdown",
   "id": "d1598e82",
   "metadata": {},
   "source": [
    "### ✅ 5. Tuple Unpacking (Advanced)\n",
    "\n",
    "You can unpack tuples in flexible ways:"
   ]
  },
  {
   "cell_type": "code",
   "execution_count": null,
   "id": "6b4cc265",
   "metadata": {},
   "outputs": [],
   "source": [
    "# Normal unpacking\n",
    "name, age, country = (\"Ali\", 25, \"Egypt\")\n",
    "\n",
    "# Using *\n",
    "numbers = (1, 2, 3, 4, 5)\n",
    "a, b, *rest = numbers\n",
    "print(a, b, rest)  # 1 2 [3, 4, 5]\n",
    "\n",
    "# Ignoring values\n",
    "x, _, y = (10, 20, 30)\n",
    "print(x, y)  # 10 30"
   ]
  },
  {
   "cell_type": "markdown",
   "id": "9bbeaa41",
   "metadata": {},
   "source": [
    "### ✅ 6. Returning Multiple Values\n",
    "\n",
    "A function can return multiple values naturally as a tuple:"
   ]
  },
  {
   "cell_type": "code",
   "execution_count": null,
   "id": "fd949841",
   "metadata": {},
   "outputs": [],
   "source": [
    "def calc(a, b):\n",
    "    return a+b, a-b, a*b\n",
    "\n",
    "result = calc(5, 2)\n",
    "print(result)       # (7, 3, 10)\n",
    "sum_, diff, prod = result\n",
    "print(sum_, prod)   # 7 10"
   ]
  },
  {
   "cell_type": "markdown",
   "id": "0e9fc6c0",
   "metadata": {},
   "source": [
    "### ✅ 7. Tuple as Dictionary Keys\n",
    "* Because tuples are immutable (and hashable), they can be used as **keys in dictionaries**\n",
    "* Lists cannot be used as dictionary keys since they are mutable."
   ]
  },
  {
   "cell_type": "code",
   "execution_count": null,
   "id": "2992f5c8",
   "metadata": {},
   "outputs": [],
   "source": [
    "coordinates = {\n",
    "    (30.0444, 31.2357): \"Cairo\",\n",
    "    (51.5074, -0.1278): \"London\"\n",
    "}\n",
    "print(coordinates[(30.0444, 31.2357)])  # Cairo"
   ]
  },
  {
   "cell_type": "markdown",
   "id": "a84af733",
   "metadata": {},
   "source": [
    "### ✅ 8. Built-in Functions with Tuples\n",
    "\n",
    "Tuples support many Python built-ins:\n"
   ]
  },
  {
   "cell_type": "code",
   "execution_count": null,
   "id": "1f3b97d2",
   "metadata": {},
   "outputs": [],
   "source": [
    "t = (10, 20, 30, 40)\n",
    "\n",
    "print(len(t))     # 4\n",
    "print(max(t))     # 40\n",
    "print(min(t))     # 10\n",
    "print(sum(t))     # 100\n",
    "print(sorted(t))  # [10, 20, 30, 40] -> returns list"
   ]
  },
  {
   "cell_type": "markdown",
   "id": "8839dce8",
   "metadata": {},
   "source": [
    "### ✅ 9. Singleton Tuple (Tricky Case)\n"
   ]
  },
  {
   "cell_type": "code",
   "execution_count": 21,
   "id": "76570af0",
   "metadata": {},
   "outputs": [
    {
     "name": "stdout",
     "output_type": "stream",
     "text": [
      "<class 'int'>\n",
      "<class 'tuple'>\n"
     ]
    }
   ],
   "source": [
    "a = (5)     # ❌ Not a tuple, just an integer\n",
    "b = (5,)    # ✅ Tuple\n",
    "print(type(a))  # int\n",
    "print(type(b))  # tuple"
   ]
  },
  {
   "cell_type": "markdown",
   "id": "9cebb4fb",
   "metadata": {},
   "source": [
    "### ✅ 10. Memory & Performance\n",
    "\n",
    "* Tuples are **faster** and **use less memory** than lists because they don’t need to support item modification."
   ]
  },
  {
   "cell_type": "code",
   "execution_count": null,
   "id": "904864af",
   "metadata": {},
   "outputs": [],
   "source": [
    "import sys\n",
    "\n",
    "lst = [1, 2, 3, 4]\n",
    "tpl = (1, 2, 3, 4)\n",
    "\n",
    "print(sys.getsizeof(lst))  # 88 (example)\n",
    "print(sys.getsizeof(tpl))  # 72 (smaller)"
   ]
  },
  {
   "cell_type": "markdown",
   "id": "d7cad627",
   "metadata": {},
   "source": [
    "\n",
    "# 🔹 Advanced Exercises on Tuples\n",
    "\n",
    "### **Exercise 1: Nested Tuples**\n",
    "\n",
    "Create a 3×3 tuple (matrix) and print the middle element.\n",
    "\n",
    "---\n",
    "\n",
    "### **Exercise 2: Tuple Unpacking**\n",
    "\n",
    "Given:\n",
    "\n",
    "```python\n",
    "data = (\"Ahmed\", \"Python\", 2025, \"Egypt\")\n",
    "```\n",
    "\n",
    "Unpack only the first and last values into variables.\n",
    "\n",
    "---\n",
    "\n",
    "### **Exercise 3: Function Return**\n",
    "\n",
    "Write a function that takes a list of numbers and returns a tuple:\n",
    "\n",
    "* Smallest number\n",
    "* Largest number\n",
    "* Total sum\n",
    "* Average\n",
    "\n",
    "---\n",
    "\n",
    "### **Exercise 4: Tuple as Keys**\n",
    "\n",
    "Make a dictionary with tuples as keys `(x, y)` representing points, and values as distances from the origin.\n",
    "Example: `(3, 4)` → 5.0\n",
    "\n",
    "---\n",
    "\n",
    "### **Exercise 5: Memory Check**\n",
    "\n",
    "Compare memory usage of a list `(1,2,3,...,1000)` vs a tuple `(1,2,3,...,1000)`.\n"
   ]
  },
  {
   "cell_type": "markdown",
   "id": "b37a9312",
   "metadata": {},
   "source": [
    "## LOOPS"
   ]
  },
  {
   "cell_type": "markdown",
   "id": "efd9da50",
   "metadata": {},
   "source": [
    "### For Loop"
   ]
  },
  {
   "cell_type": "code",
   "execution_count": null,
   "id": "0f1b44b3",
   "metadata": {},
   "outputs": [],
   "source": [
    "for variable in sequence:\n",
    "    # code to repeat"
   ]
  },
  {
   "cell_type": "code",
   "execution_count": null,
   "id": "e515cb8f",
   "metadata": {},
   "outputs": [],
   "source": [
    "fruits = [\"apple\", \"banana\", \"cherry\"]\n",
    "for fruit in fruits:\n",
    "    print(fruit)"
   ]
  },
  {
   "cell_type": "code",
   "execution_count": null,
   "id": "71c3f4d3",
   "metadata": {},
   "outputs": [],
   "source": [
    "# Using range() in a loop\n",
    "\n",
    "# range(start, stop, step) generates a sequence of numbers.\n",
    "\n",
    "for i in range(1, 6):\n",
    "    print(i)"
   ]
  },
  {
   "cell_type": "code",
   "execution_count": null,
   "id": "a3a8451c",
   "metadata": {},
   "outputs": [],
   "source": [
    "for letter in \"Python\":\n",
    "    print(letter)"
   ]
  },
  {
   "cell_type": "markdown",
   "id": "cf16991d",
   "metadata": {},
   "source": [
    "### While"
   ]
  },
  {
   "cell_type": "code",
   "execution_count": null,
   "id": "ee9b93ba",
   "metadata": {},
   "outputs": [],
   "source": [
    "while condition:\n",
    "    # code to repeat"
   ]
  },
  {
   "cell_type": "code",
   "execution_count": null,
   "id": "c17596f0",
   "metadata": {},
   "outputs": [],
   "source": [
    "count = 1\n",
    "while count <= 5:\n",
    "    print(count)\n",
    "    count += 1  # increase count to avoid infinite loop"
   ]
  },
  {
   "cell_type": "code",
   "execution_count": null,
   "id": "e6913981",
   "metadata": {},
   "outputs": [],
   "source": [
    "password = \"\"\n",
    "while password != \"python123\":\n",
    "    password = input(\"Enter password: \")\n",
    "print(\"Access granted!\")"
   ]
  },
  {
   "cell_type": "markdown",
   "id": "71ef1010",
   "metadata": {},
   "source": [
    "### Break and Continue"
   ]
  },
  {
   "cell_type": "code",
   "execution_count": null,
   "id": "33b0d024",
   "metadata": {},
   "outputs": [],
   "source": [
    "for i in range(1, 10):\n",
    "    if i == 5:\n",
    "        break\n",
    "    print(i)"
   ]
  },
  {
   "cell_type": "code",
   "execution_count": null,
   "id": "11a2c4b4",
   "metadata": {},
   "outputs": [],
   "source": [
    "for i in range(1, 6):\n",
    "    if i == 3:\n",
    "        continue\n",
    "    print(i)"
   ]
  },
  {
   "cell_type": "markdown",
   "id": "b4526f4c",
   "metadata": {},
   "source": [
    "### More "
   ]
  },
  {
   "cell_type": "code",
   "execution_count": null,
   "id": "f6779b61",
   "metadata": {},
   "outputs": [],
   "source": [
    "for i in range(3):\n",
    "    print(i)\n",
    "else:\n",
    "    print(\"Loop finished!\")"
   ]
  },
  {
   "cell_type": "code",
   "execution_count": null,
   "id": "550fb7e6",
   "metadata": {},
   "outputs": [],
   "source": [
    "for i in range(1, 4):\n",
    "    for j in range(1, 3):\n",
    "        print(f\"i = {i}, j = {j}\")"
   ]
  },
  {
   "cell_type": "code",
   "execution_count": null,
   "id": "e502a269",
   "metadata": {},
   "outputs": [],
   "source": [
    "total = 0\n",
    "for i in range(1, 11):\n",
    "    total += i\n",
    "print(\"Sum:\", total)"
   ]
  },
  {
   "cell_type": "code",
   "execution_count": null,
   "id": "493d66e0",
   "metadata": {},
   "outputs": [],
   "source": [
    "num = 5\n",
    "for i in range(1, 11):\n",
    "    print(f\"{num} x {i} = {num * i}\")"
   ]
  },
  {
   "cell_type": "code",
   "execution_count": null,
   "id": "4911ea36",
   "metadata": {},
   "outputs": [],
   "source": [
    "n = 5\n",
    "while n > 0:\n",
    "    print(n)\n",
    "    n -= 1\n",
    "print(\"Blast off!\")"
   ]
  },
  {
   "cell_type": "markdown",
   "id": "a8515855",
   "metadata": {},
   "source": [
    "### 🔹 1. `enumerate()`\n",
    "\n",
    "The **`enumerate()` function** adds a counter (index) to an iterable (like a list, tuple, or string).\n",
    "\n",
    "📌 **Syntax:**\n",
    "\n",
    "```python\n",
    "enumerate(iterable, start=0)\n",
    "```\n",
    "\n",
    "* `iterable` → list, tuple, string, etc.\n",
    "* `start` → the starting index (default = 0).\n",
    "\n",
    "📌 **Example:**"
   ]
  },
  {
   "cell_type": "code",
   "execution_count": null,
   "id": "8eae50f9",
   "metadata": {},
   "outputs": [],
   "source": [
    "fruits = [\"apple\", \"banana\", \"cherry\"]\n",
    "\n",
    "for index, fruit in enumerate(fruits, start=1):\n",
    "    print(index, fruit)"
   ]
  },
  {
   "cell_type": "markdown",
   "id": "5d0a8b96",
   "metadata": {},
   "source": [
    "✅ Use case: When you want both the **index and value** while looping."
   ]
  },
  {
   "cell_type": "code",
   "execution_count": null,
   "id": "83b82d8e",
   "metadata": {},
   "outputs": [],
   "source": []
  },
  {
   "cell_type": "code",
   "execution_count": null,
   "id": "03730879",
   "metadata": {},
   "outputs": [],
   "source": []
  },
  {
   "cell_type": "markdown",
   "id": "a4a13ccf",
   "metadata": {},
   "source": [
    "# 🔹 2. `zip()`\n",
    "\n",
    "The **`zip()` function** combines two (or more) iterables element by element.\n",
    "\n",
    "📌 **Syntax:**\n",
    "\n",
    "```python\n",
    "zip(iterable1, iterable2, ...)\n",
    "```\n",
    "📌 **Example:**\n",
    "✅ Use case: Combine related data (like student names & grades)."
   ]
  },
  {
   "cell_type": "code",
   "execution_count": null,
   "id": "dc5fe837",
   "metadata": {},
   "outputs": [],
   "source": [
    "names = [\"Ali\", \"Sara\", \"Omar\"]\n",
    "grades = [85, 90, 78]\n",
    "\n",
    "for name, grade in zip(names, grades):\n",
    "    print(name, grade)"
   ]
  },
  {
   "cell_type": "markdown",
   "id": "efd4fb45",
   "metadata": {},
   "source": [
    "# 🔹 3. Similar Functions & Concepts\n",
    "\n",
    "### ✅ `items()` (Dictionary Alternative to `enumerate`)\n",
    "\n",
    "When looping through a dictionary, `items()` gives **key-value pairs**:"
   ]
  },
  {
   "cell_type": "code",
   "execution_count": null,
   "id": "cc5d2fe3",
   "metadata": {},
   "outputs": [],
   "source": [
    "student = {\"Ali\": 85, \"Sara\": 90}\n",
    "\n",
    "for name, grade in student.items():\n",
    "    print(name, grade)"
   ]
  },
  {
   "cell_type": "markdown",
   "id": "11265b72",
   "metadata": {},
   "source": [
    "### ✅ `range(len(...))` (Old way instead of `enumerate`)\n",
    "\n",
    "Without `enumerate`, people used `range()`:"
   ]
  },
  {
   "cell_type": "code",
   "execution_count": null,
   "id": "0e33c8fb",
   "metadata": {},
   "outputs": [],
   "source": [
    "fruits = [\"apple\", \"banana\", \"cherry\"]\n",
    "\n",
    "for i in range(len(fruits)):\n",
    "    print(i, fruits[i])"
   ]
  },
  {
   "cell_type": "markdown",
   "id": "1844c630",
   "metadata": {},
   "source": [
    "👉 But **`enumerate` is cleaner**.\n"
   ]
  },
  {
   "cell_type": "code",
   "execution_count": null,
   "id": "ef8b34c1",
   "metadata": {},
   "outputs": [],
   "source": []
  },
  {
   "cell_type": "markdown",
   "id": "e0227afd",
   "metadata": {},
   "source": [
    "### ✅ `itertools.zip_longest()` (Safer `zip`)\n",
    "\n",
    "If iterables have different lengths, `zip` stops at the shortest.\n",
    "Use `zip_longest` to fill missing values:"
   ]
  },
  {
   "cell_type": "code",
   "execution_count": null,
   "id": "3939f678",
   "metadata": {},
   "outputs": [],
   "source": [
    "from itertools import zip_longest\n",
    "\n",
    "names = [\"Ali\", \"Sara\"]\n",
    "grades = [85, 90, 78]\n",
    "\n",
    "for name, grade in zip_longest(names, grades, fillvalue=\"N/A\"):\n",
    "    print(name, grade)"
   ]
  },
  {
   "cell_type": "markdown",
   "id": "873f2d96",
   "metadata": {},
   "source": [
    "**🔹 Comparison Table**\n",
    "\n",
    "| Function        | Purpose                                        | Example Output            |\n",
    "| --------------- | ---------------------------------------------- | ------------------------- |\n",
    "| `enumerate()`   | Adds index to iterable                         | `(0, \"apple\")`            |\n",
    "| `zip()`         | Combines multiple iterables element by element | `(\"Ali\", 85)`             |\n",
    "| `dict.items()`  | Loops over dictionary key-value pairs          | `(\"Ali\", 85)`             |\n",
    "| `zip_longest()` | Like `zip`, but handles unequal length lists   | `(\"Sara\", 90), (N/A, 78)` |"
   ]
  },
  {
   "cell_type": "code",
   "execution_count": null,
   "id": "58915d9f",
   "metadata": {},
   "outputs": [],
   "source": [
    "students = [\"Ali\", \"Sara\", \"Omar\"]\n",
    "grades = [85, 90, 78]\n",
    "\n",
    "for index, (name, grade) in enumerate(zip(students, grades), start=1):\n",
    "    print(f\"{index}. {name} got {grade}\")"
   ]
  },
  {
   "cell_type": "code",
   "execution_count": null,
   "id": "136309cc",
   "metadata": {},
   "outputs": [],
   "source": []
  },
  {
   "cell_type": "markdown",
   "id": "a6d2f9c3",
   "metadata": {},
   "source": [
    "# 🔹 Exercises on Loops in Python\n",
    "\n",
    "### **Exercise 1: Print Numbers**\n",
    "\n",
    "Write a loop to print numbers from **1 to 10**.\n",
    "👉 Hint: use `range()`.\n",
    "\n",
    "---\n",
    "\n",
    "### **Exercise 2: Sum of Numbers**\n",
    "\n",
    "Write a loop that calculates the **sum of numbers from 1 to 100**.\n",
    "👉 Expected Output: `5050`\n",
    "\n",
    "---\n",
    "\n",
    "### **Exercise 3: Multiplication Table**\n",
    "\n",
    "Ask the user for a number (e.g., `5`) and print its multiplication table up to `10`.\n",
    "👉 Example for 5:\n",
    "\n",
    "```\n",
    "5 x 1 = 5\n",
    "5 x 2 = 10\n",
    "...\n",
    "5 x 10 = 50\n",
    "```\n",
    "\n",
    "---\n",
    "\n",
    "### **Exercise 4: Even Numbers**\n",
    "\n",
    "Write a loop that prints only the **even numbers** between `1` and `50`.\n",
    "\n",
    "---\n",
    "\n",
    "### **Exercise 5: Reverse String**\n",
    "\n",
    "Take a string `\"Python\"` and print it **in reverse order** using a loop.\n",
    "👉 Output: `nohtyP`\n",
    "\n",
    "---\n",
    "\n",
    "### **Exercise 6: Factorial**\n",
    "\n",
    "Write a loop that finds the factorial of a number (e.g., `5! = 120`).\n",
    "\n",
    "---\n",
    "\n",
    "### **Exercise 7: Guessing Game**\n",
    "\n",
    "Use a `while` loop to create a simple guessing game:\n",
    "\n",
    "* The program stores a secret number (say `7`).\n",
    "* The user keeps entering guesses until they guess correctly.\n",
    "\n",
    "---\n",
    "\n",
    "### **Exercise 8: Nested Loop – Star Pattern**\n",
    "\n",
    "Print the following pattern with a nested loop:\n",
    "\n",
    "```\n",
    "*\n",
    "**\n",
    "***\n",
    "****\n",
    "*****\n",
    "```\n",
    "\n",
    "---\n",
    "\n",
    "### **Exercise 9: List Iteration**\n",
    "\n",
    "Given a list:\n",
    "\n",
    "```python\n",
    "fruits = [\"apple\", \"banana\", \"cherry\"]\n",
    "```\n",
    "\n",
    "Write a loop to print each fruit with its position (use `enumerate`).\n",
    "\n",
    "---\n",
    "\n",
    "### **Exercise 10: Break & Continue**\n",
    "\n",
    "Loop through numbers `1 to 10`:\n",
    "\n",
    "* Skip (continue) if the number is `5`.\n",
    "* Stop (break) if the number is `8`.\n",
    "\n",
    "👉 Output should be: `1 2 3 4 6 7`\n"
   ]
  },
  {
   "cell_type": "markdown",
   "id": "2c179c9c",
   "metadata": {},
   "source": []
  },
  {
   "cell_type": "code",
   "execution_count": null,
   "id": "675b09e2",
   "metadata": {},
   "outputs": [],
   "source": []
  },
  {
   "cell_type": "code",
   "execution_count": null,
   "id": "159aa467",
   "metadata": {},
   "outputs": [],
   "source": []
  },
  {
   "cell_type": "markdown",
   "id": "2f1adf07",
   "metadata": {},
   "source": [
    "## 🔹 **Challenge 1: Student Management System**\n",
    "\n",
    "You are building a simple **student management system**.\n",
    "\n",
    "1. Store students in a **dictionary**, where keys are student names and values are **tuples** containing `(age, [grades])`.\n",
    "   Example:\n",
    "\n",
    "   ```python\n",
    "   {\n",
    "       \"Ali\": (20, [80, 90, 85]),\n",
    "       \"Sara\": (22, [70, 60, 75])\n",
    "   }\n",
    "   ```\n",
    "2. Write a **menu loop** where the user can:\n",
    "\n",
    "   * Add a new student\n",
    "   * Update grades\n",
    "   * Calculate average grade of each student\n",
    "   * Find students who passed (avg ≥ 60) and failed (avg < 60)\n",
    "   * Show all unique ages using a **set**\n",
    "\n",
    "---\n",
    "\n",
    "## 🔹 **Challenge 2: Word Frequency Analyzer**\n",
    "\n",
    "Build a **Word Frequency Analyzer** for a text paragraph.\n",
    "\n",
    "1. Ask the user for a paragraph of text.\n",
    "2. Use **string methods** to:\n",
    "\n",
    "   * Convert all words to lowercase\n",
    "   * Remove punctuation\n",
    "   * Split into words (list).\n",
    "3. Build a **dictionary** with word counts.\n",
    "4. Find the **most frequent word** and print it.\n",
    "5. Encode the text into UTF-8, then decode it back.\n",
    "6. Use a **loop + zip()** to pair each word with its frequency and print nicely.\n",
    "\n",
    "---\n",
    "\n",
    "## 🔹 **Challenge 3: Online Shopping Simulation**\n",
    "\n",
    "Simulate an **online store checkout system**.\n",
    "\n",
    "1. You have two lists:\n",
    "\n",
    "   ```python\n",
    "   items = [\"laptop\", \"phone\", \"headphones\", \"mouse\"]\n",
    "   prices = [800, 500, 100, 50]\n",
    "   ```\n",
    "\n",
    "   Use **zip()** to create a dictionary of products and their prices.\n",
    "\n",
    "2. Create a **shopping cart** as a dictionary where keys are items and values are quantities.\n",
    "\n",
    "3. Use a **loop** to:\n",
    "\n",
    "   * Allow the user to add items to the cart\n",
    "   * If the item doesn’t exist, show an error\n",
    "   * Show the current cart\n",
    "\n",
    "4. At checkout:\n",
    "\n",
    "   * Calculate the total price\n",
    "   * Apply a discount (10%) if total > 1000\n",
    "   * Print the final bill\n",
    "\n",
    "5. Bonus: Store the final bill in a **tuple** `(customer_name, total_amount, items_purchased)`\n",
    "\n"
   ]
  },
  {
   "cell_type": "markdown",
   "id": "278afd5d",
   "metadata": {},
   "source": []
  },
  {
   "cell_type": "markdown",
   "id": "d061d4ef",
   "metadata": {},
   "source": [
    "# ✅ **Challenge 1: Student Management System**\n",
    "\n",
    "```python\n",
    "# Student Management System\n",
    "\n",
    "students = {\n",
    "    \"Ali\": (20, [80, 90, 85]),\n",
    "    \"Sara\": (22, [70, 60, 75])\n",
    "}\n",
    "\n",
    "while True:\n",
    "    print(\"\\n---- Student Management ----\")\n",
    "    print(\"1. Add Student\")\n",
    "    print(\"2. Update Grades\")\n",
    "    print(\"3. Show Averages\")\n",
    "    print(\"4. Pass/Fail List\")\n",
    "    print(\"5. Show Unique Ages\")\n",
    "    print(\"6. Exit\")\n",
    "\n",
    "    choice = input(\"Enter choice: \")\n",
    "\n",
    "    if choice == \"1\":\n",
    "        name = input(\"Enter student name: \")\n",
    "        age = int(input(\"Enter age: \"))\n",
    "        students[name] = (age, [])\n",
    "        print(f\"{name} added!\")\n",
    "\n",
    "    elif choice == \"2\":\n",
    "        name = input(\"Enter student name: \")\n",
    "        if name in students:\n",
    "            grade = int(input(\"Enter grade: \"))\n",
    "            students[name][1].append(grade)\n",
    "            print(f\"Grade {grade} added for {name}\")\n",
    "        else:\n",
    "            print(\"Student not found!\")\n",
    "\n",
    "    elif choice == \"3\":\n",
    "        for name, (age, grades) in students.items():\n",
    "            if grades:\n",
    "                avg = sum(grades) / len(grades)\n",
    "                print(f\"{name} (age {age}): Average = {avg:.2f}\")\n",
    "            else:\n",
    "                print(f\"{name}: No grades yet.\")\n",
    "\n",
    "    elif choice == \"4\":\n",
    "        passed = []\n",
    "        failed = []\n",
    "        for name, (age, grades) in students.items():\n",
    "            if grades:\n",
    "                avg = sum(grades) / len(grades)\n",
    "                if avg >= 60:\n",
    "                    passed.append(name)\n",
    "                else:\n",
    "                    failed.append(name)\n",
    "        print(\"✅ Passed:\", passed)\n",
    "        print(\"❌ Failed:\", failed)\n",
    "\n",
    "    elif choice == \"5\":\n",
    "        ages = {age for age, grades in students.values()}\n",
    "        print(\"Unique ages:\", ages)\n",
    "\n",
    "    elif choice == \"6\":\n",
    "        print(\"Goodbye!\")\n",
    "        break\n",
    "    else:\n",
    "        print(\"Invalid choice!\")\n",
    "```\n",
    "\n",
    "---\n",
    "\n",
    "# ✅ **Challenge 2: Word Frequency Analyzer**\n",
    "\n",
    "```python\n",
    "import string\n",
    "\n",
    "# Step 1: Input text\n",
    "text = input(\"Enter a paragraph: \")\n",
    "\n",
    "# Step 2: Clean text\n",
    "text = text.lower()\n",
    "for p in string.punctuation:\n",
    "    text = text.replace(p, \"\")\n",
    "\n",
    "words = text.split()\n",
    "\n",
    "# Step 3: Count frequencies\n",
    "word_count = {}\n",
    "for word in words:\n",
    "    word_count[word] = word_count.get(word, 0) + 1\n",
    "\n",
    "# Step 4: Find most frequent word\n",
    "most_word = max(word_count, key=word_count.get)\n",
    "print(f\"Most frequent word: '{most_word}' ({word_count[most_word]} times)\")\n",
    "\n",
    "# Step 5: Encoding and Decoding\n",
    "encoded = text.encode(\"utf-8\")\n",
    "decoded = encoded.decode(\"utf-8\")\n",
    "print(\"Decoded back:\", decoded)\n",
    "\n",
    "# Step 6: Print nicely with zip\n",
    "for word, count in zip(word_count.keys(), word_count.values()):\n",
    "    print(f\"{word}: {count}\")\n",
    "```\n",
    "\n",
    "---\n",
    "\n",
    "# ✅ **Challenge 3: Online Shopping Simulation**\n",
    "\n",
    "```python\n",
    "# Step 1: Items and Prices\n",
    "items = [\"laptop\", \"phone\", \"headphones\", \"mouse\"]\n",
    "prices = [800, 500, 100, 50]\n",
    "\n",
    "store = dict(zip(items, prices))  # Create store dictionary\n",
    "cart = {}\n",
    "\n",
    "# Step 2: Shopping Loop\n",
    "while True:\n",
    "    print(\"\\n--- Store ---\")\n",
    "    for item, price in store.items():\n",
    "        print(f\"{item} - ${price}\")\n",
    "\n",
    "    choice = input(\"Enter item to add (or 'checkout' to finish): \")\n",
    "\n",
    "    if choice == \"checkout\":\n",
    "        break\n",
    "    elif choice in store:\n",
    "        qty = int(input(\"Enter quantity: \"))\n",
    "        cart[choice] = cart.get(choice, 0) + qty\n",
    "        print(f\"Added {qty} {choice}(s) to cart.\")\n",
    "    else:\n",
    "        print(\"Item not found!\")\n",
    "\n",
    "# Step 3: Checkout\n",
    "total = sum(store[item] * qty for item, qty in cart.items())\n",
    "print(\"\\n🛒 Your Cart:\")\n",
    "for item, qty in cart.items():\n",
    "    print(f\"{item} x {qty} = ${store[item] * qty}\")\n",
    "\n",
    "# Step 4: Discount\n",
    "if total > 1000:\n",
    "    total *= 0.9\n",
    "    print(\"🎉 10% discount applied!\")\n",
    "\n",
    "print(f\"Final Total: ${total:.2f}\")\n",
    "\n",
    "# Step 5: Save final bill in tuple\n",
    "customer = input(\"Enter your name: \")\n",
    "bill = (customer, total, list(cart.keys()))\n",
    "print(\"\\nBill Summary:\", bill)\n",
    "```\n",
    "\n"
   ]
  },
  {
   "cell_type": "markdown",
   "id": "abb4efc0",
   "metadata": {},
   "source": []
  },
  {
   "cell_type": "markdown",
   "id": "8fedc372",
   "metadata": {},
   "source": [
    "## 📘 **Python File Handling**"
   ]
  },
  {
   "cell_type": "markdown",
   "id": "49b1c897",
   "metadata": {},
   "source": [
    "**1. 🔑 Opening a File**\n",
    "In Python, you use the `open()` function:"
   ]
  },
  {
   "cell_type": "code",
   "execution_count": null,
   "id": "ed173f5b",
   "metadata": {},
   "outputs": [],
   "source": [
    "#open(filename, mode)\n",
    "file = open(\"example.txt\", \"r\")"
   ]
  },
  {
   "cell_type": "markdown",
   "id": "13a17edc",
   "metadata": {},
   "source": [
    "**Common Modes:**\n",
    "\n",
    "* `\"r\"` → **Read** (default). File must exist.\n",
    "* `\"w\"` → **Write**. Creates a new file or overwrites an existing one.\n",
    "* `\"a\"` → **Append**. Adds data to the end of the file without deleting existing content.\n",
    "* `\"x\"` → **Create**. Creates a new file, gives an error if the file exists.\n",
    "* `\"b\"` → Binary mode (used with images, audio, etc.).\n",
    "* `\"t\"` → Text mode (default)."
   ]
  },
  {
   "cell_type": "code",
   "execution_count": null,
   "id": "30e6b0bd",
   "metadata": {},
   "outputs": [],
   "source": [
    "f = open(\"data.txt\", \"rt\")  # text read\n",
    "f = open(\"image.png\", \"rb\") # binary read"
   ]
  },
  {
   "cell_type": "markdown",
   "id": "f8c98d02",
   "metadata": {},
   "source": [
    "**2. 📖 Reading Files**"
   ]
  },
  {
   "cell_type": "code",
   "execution_count": null,
   "id": "32d88405",
   "metadata": {},
   "outputs": [],
   "source": [
    "with open(\"example.txt\", \"r\") as f:\n",
    "    content = f.read()\n",
    "    print(content)"
   ]
  },
  {
   "cell_type": "code",
   "execution_count": null,
   "id": "58ba2711",
   "metadata": {},
   "outputs": [],
   "source": [
    "### Read first N characters:\n",
    "with open(\"example.txt\", \"r\") as f:\n",
    "    print(f.read(10))  # first 10 characters\n"
   ]
  },
  {
   "cell_type": "code",
   "execution_count": null,
   "id": "0795b509",
   "metadata": {},
   "outputs": [],
   "source": [
    "### Read first N characters:\n",
    "\n",
    "with open(\"example.txt\", \"r\") as f:\n",
    "    print(f.read(10))  # first 10 characters\n"
   ]
  },
  {
   "cell_type": "code",
   "execution_count": null,
   "id": "d13758c6",
   "metadata": {},
   "outputs": [],
   "source": [
    "### Read line by line:\n",
    "with open(\"example.txt\", \"r\") as f:\n",
    "    for line in f:\n",
    "        print(line.strip())  # remove \\n"
   ]
  },
  {
   "cell_type": "code",
   "execution_count": null,
   "id": "a317eb50",
   "metadata": {},
   "outputs": [],
   "source": [
    "### Read all lines into a list:\n",
    "\n",
    "\n",
    "with open(\"example.txt\", \"r\") as f:\n",
    "    lines = f.readlines()\n",
    "    print(lines)\n"
   ]
  },
  {
   "cell_type": "markdown",
   "id": "30dd8c44",
   "metadata": {},
   "source": [
    "**3. ✍️ Writing to Files**"
   ]
  },
  {
   "cell_type": "code",
   "execution_count": null,
   "id": "1bde0c6e",
   "metadata": {},
   "outputs": [],
   "source": [
    "### Overwrite (w mode):\n",
    "\n",
    "with open(\"example.txt\", \"w\") as f:\n",
    "    f.write(\"Hello, world!\\n\")\n",
    "    f.write(\"This will overwrite the old content.\")\n"
   ]
  },
  {
   "cell_type": "code",
   "execution_count": null,
   "id": "07ff8e5f",
   "metadata": {},
   "outputs": [],
   "source": [
    "### Append (a mode):\n",
    "\n",
    "\n",
    "with open(\"example.txt\", \"a\") as f:\n",
    "    f.write(\"\\nNew line added at the end.\")\n"
   ]
  },
  {
   "cell_type": "markdown",
   "id": "849778a4",
   "metadata": {},
   "source": [
    "**4. 📑 File Position (Pointer)**\n",
    "\n",
    "The file object maintains a \"cursor\" (pointer)."
   ]
  },
  {
   "cell_type": "code",
   "execution_count": 27,
   "id": "d3a6e773",
   "metadata": {},
   "outputs": [
    {
     "ename": "FileNotFoundError",
     "evalue": "[Errno 2] No such file or directory: 'example.txt'",
     "output_type": "error",
     "traceback": [
      "\u001b[31m---------------------------------------------------------------------------\u001b[39m",
      "\u001b[31mFileNotFoundError\u001b[39m                         Traceback (most recent call last)",
      "\u001b[36mCell\u001b[39m\u001b[36m \u001b[39m\u001b[32mIn[27]\u001b[39m\u001b[32m, line 4\u001b[39m\n\u001b[32m      1\u001b[39m \u001b[38;5;66;03m#**Check position:**\u001b[39;00m\n\u001b[32m----> \u001b[39m\u001b[32m4\u001b[39m \u001b[38;5;28;01mwith\u001b[39;00m \u001b[38;5;28;43mopen\u001b[39;49m\u001b[43m(\u001b[49m\u001b[33;43m\"\u001b[39;49m\u001b[33;43mexample.txt\u001b[39;49m\u001b[33;43m\"\u001b[39;49m\u001b[43m,\u001b[49m\u001b[43m \u001b[49m\u001b[33;43m\"\u001b[39;49m\u001b[33;43mr\u001b[39;49m\u001b[33;43m\"\u001b[39;49m\u001b[43m)\u001b[49m \u001b[38;5;28;01mas\u001b[39;00m f:\n\u001b[32m      5\u001b[39m     \u001b[38;5;28mprint\u001b[39m(f.tell())  \u001b[38;5;66;03m# shows current position\u001b[39;00m\n",
      "\u001b[36mFile \u001b[39m\u001b[32mi:\\programs installed\\miniConda\\Lib\\site-packages\\IPython\\core\\interactiveshell.py:327\u001b[39m, in \u001b[36m_modified_open\u001b[39m\u001b[34m(file, *args, **kwargs)\u001b[39m\n\u001b[32m    320\u001b[39m \u001b[38;5;28;01mif\u001b[39;00m file \u001b[38;5;129;01min\u001b[39;00m {\u001b[32m0\u001b[39m, \u001b[32m1\u001b[39m, \u001b[32m2\u001b[39m}:\n\u001b[32m    321\u001b[39m     \u001b[38;5;28;01mraise\u001b[39;00m \u001b[38;5;167;01mValueError\u001b[39;00m(\n\u001b[32m    322\u001b[39m         \u001b[33mf\u001b[39m\u001b[33m\"\u001b[39m\u001b[33mIPython won\u001b[39m\u001b[33m'\u001b[39m\u001b[33mt let you open fd=\u001b[39m\u001b[38;5;132;01m{\u001b[39;00mfile\u001b[38;5;132;01m}\u001b[39;00m\u001b[33m by default \u001b[39m\u001b[33m\"\u001b[39m\n\u001b[32m    323\u001b[39m         \u001b[33m\"\u001b[39m\u001b[33mas it is likely to crash IPython. If you know what you are doing, \u001b[39m\u001b[33m\"\u001b[39m\n\u001b[32m    324\u001b[39m         \u001b[33m\"\u001b[39m\u001b[33myou can use builtins\u001b[39m\u001b[33m'\u001b[39m\u001b[33m open.\u001b[39m\u001b[33m\"\u001b[39m\n\u001b[32m    325\u001b[39m     )\n\u001b[32m--> \u001b[39m\u001b[32m327\u001b[39m \u001b[38;5;28;01mreturn\u001b[39;00m \u001b[43mio_open\u001b[49m\u001b[43m(\u001b[49m\u001b[43mfile\u001b[49m\u001b[43m,\u001b[49m\u001b[43m \u001b[49m\u001b[43m*\u001b[49m\u001b[43margs\u001b[49m\u001b[43m,\u001b[49m\u001b[43m \u001b[49m\u001b[43m*\u001b[49m\u001b[43m*\u001b[49m\u001b[43mkwargs\u001b[49m\u001b[43m)\u001b[49m\n",
      "\u001b[31mFileNotFoundError\u001b[39m: [Errno 2] No such file or directory: 'example.txt'"
     ]
    }
   ],
   "source": [
    "#**Check position:**\n",
    "\n",
    "\n",
    "with open(\"example.txt\", \"r\") as f:\n",
    "    print(f.tell())  # shows current position"
   ]
  },
  {
   "cell_type": "code",
   "execution_count": null,
   "id": "432f70f9",
   "metadata": {},
   "outputs": [],
   "source": [
    "# **Move pointer:**\n",
    "\n",
    "with open(\"example.txt\", \"r\") as f:\n",
    "    f.seek(5)  # move cursor to 5th character\n",
    "    print(f.read())\n"
   ]
  },
  {
   "cell_type": "markdown",
   "id": "806eb510",
   "metadata": {},
   "source": [
    "**5. 🧹 Closing Files**\n",
    "\n",
    "* 👉 Using `with` is better because it **automatically closes** the file.\n",
    "\n",
    "* If you don’t use `with`, you must close the file manually:"
   ]
  },
  {
   "cell_type": "code",
   "execution_count": null,
   "id": "b3cbd2a3",
   "metadata": {},
   "outputs": [],
   "source": [
    "\n",
    "f = open(\"example.txt\", \"r\")\n",
    "print(f.read())\n",
    "f.close()"
   ]
  },
  {
   "cell_type": "markdown",
   "id": "8e971b6e",
   "metadata": {},
   "source": [
    "**6. ⚠️ Handling Errors**\n",
    "\n",
    "Use `try-except` to handle file errors:"
   ]
  },
  {
   "cell_type": "code",
   "execution_count": null,
   "id": "ccc3961e",
   "metadata": {},
   "outputs": [],
   "source": [
    "try:\n",
    "    with open(\"notfound.txt\", \"r\") as f:\n",
    "        data = f.read()\n",
    "except FileNotFoundError:\n",
    "    print(\"File does not exist!\")"
   ]
  },
  {
   "cell_type": "markdown",
   "id": "ed6ca829",
   "metadata": {},
   "source": [
    "**7. ✅ Best Practices**\n",
    "\n",
    "1. Always use `with` for safe file handling.\n",
    "2. Use `\"utf-8\"` encoding for text files:"
   ]
  },
  {
   "cell_type": "code",
   "execution_count": null,
   "id": "7e6621ad",
   "metadata": {},
   "outputs": [],
   "source": [
    "with open(\"file.txt\", \"r\", encoding=\"utf-8\") as f:\n",
    "       print(f.read())"
   ]
  },
  {
   "cell_type": "markdown",
   "id": "c680dd1c",
   "metadata": {},
   "source": [
    "3. Catch exceptions (`try-except`).\n",
    "4. For large files, read in **chunks** instead of loading everything at once:"
   ]
  },
  {
   "cell_type": "code",
   "execution_count": null,
   "id": "a4911ab7",
   "metadata": {},
   "outputs": [],
   "source": [
    "with open(\"bigfile.txt\", \"r\") as f:\n",
    "    while chunk := f.read(1024):  # 1024 characters per chunk\n",
    "        print(chunk)"
   ]
  },
  {
   "cell_type": "markdown",
   "id": "c2abca15",
   "metadata": {},
   "source": [
    "### Exercise"
   ]
  },
  {
   "cell_type": "markdown",
   "id": "fd75cc4f",
   "metadata": {},
   "source": [
    "**🔹 Exercise 1: Writing and Reading a File**\n",
    "\n",
    "1. Create a text file called `notes.txt`.\n",
    "2. Write three lines of text into it.\n",
    "3. Read the file and print its contents.\n",
    "\n",
    "---\n",
    "\n",
    "**🔹 Exercise 2: Counting Words in a File**\n",
    "\n",
    "1. Write a paragraph (5–6 sentences) into a file called `story.txt`.\n",
    "2. Write a program that:\n",
    "\n",
    "   * Reads the file.\n",
    "   * Counts how many words are in the file.\n",
    "   * Prints the total word count.\n",
    "\n",
    "---\n",
    "\n",
    "**🔹 Exercise 3: Copy File Content**\n",
    "\n",
    "1. Create a file `source.txt` with some text.\n",
    "2. Write a program that reads the file and copies its contents into `destination.txt`.\n",
    "\n",
    "---\n",
    "\n",
    "**🔹 Exercise 4: Search in a File**\n",
    "\n",
    "1. Create a file `data.txt` with at least 10 lines of text.\n",
    "2. Write a program that asks the user to enter a word.\n",
    "3. Check if that word exists in the file and print the line number(s) where it appears.\n",
    "\n",
    "---\n",
    "\n",
    "**🔹 Exercise 5: Append Data to File**\n",
    "\n",
    "1. Create a file `log.txt`.\n",
    "2. Write a program that:\n",
    "\n",
    "   * Appends the current date and time each time the program runs.\n",
    "   * Prints all the log entries.\n",
    "\n",
    "---\n",
    "\n",
    "**🔹 Exercise 6 (Challenge): Student Grades System**\n",
    "\n",
    "1. Create a file `students.txt` with the following format:\n",
    "\n",
    "   ```\n",
    "   Ali,85\n",
    "   Sara,90\n",
    "   Omar,78\n",
    "   ```\n",
    "2. Write a program that:\n",
    "\n",
    "   * Reads the file into a dictionary (student → grade).\n",
    "   * Prints all students and their grades.\n",
    "   * Finds the student with the highest grade.\n",
    "   * Calculates the average grade.\n"
   ]
  },
  {
   "cell_type": "code",
   "execution_count": null,
   "id": "0ba4c76b",
   "metadata": {},
   "outputs": [],
   "source": []
  },
  {
   "cell_type": "markdown",
   "id": "4d9379b3",
   "metadata": {},
   "source": [
    "\n",
    "#### ✅ Exercise 1: Writing and Reading a File\n",
    "\n",
    "```python\n",
    "# Write to a file\n",
    "with open(\"notes.txt\", \"w\", encoding=\"utf-8\") as f:\n",
    "    f.write(\"This is the first line.\\n\")\n",
    "    f.write(\"This is the second line.\\n\")\n",
    "    f.write(\"This is the third line.\\n\")\n",
    "\n",
    "# Read the file\n",
    "with open(\"notes.txt\", \"r\", encoding=\"utf-8\") as f:\n",
    "    content = f.read()\n",
    "    print(\"File content:\\n\", content)\n",
    "```\n",
    "\n",
    "---\n",
    "\n",
    "#### ✅ Exercise 2: Counting Words in a File\n",
    "\n",
    "```python\n",
    "# Write a paragraph into story.txt\n",
    "with open(\"story.txt\", \"w\", encoding=\"utf-8\") as f:\n",
    "    f.write(\"Once upon a time there was a student learning Python.\\n\")\n",
    "    f.write(\"They practiced every day and solved many exercises.\\n\")\n",
    "    f.write(\"Sometimes it was hard, but they never gave up.\\n\")\n",
    "    f.write(\"With time, they became very good at programming.\\n\")\n",
    "    f.write(\"Practice and patience are the keys to success.\\n\")\n",
    "\n",
    "# Read and count words\n",
    "with open(\"story.txt\", \"r\", encoding=\"utf-8\") as f:\n",
    "    text = f.read()\n",
    "    words = text.split()\n",
    "    print(\"Total words:\", len(words))\n",
    "```\n",
    "\n",
    "---\n",
    "\n",
    "#### ✅ Exercise 3: Copy File Content\n",
    "\n",
    "```python\n",
    "# Create source file\n",
    "with open(\"source.txt\", \"w\", encoding=\"utf-8\") as f:\n",
    "    f.write(\"This is the content of the source file.\\nIt will be copied.\")\n",
    "\n",
    "# Copy content\n",
    "with open(\"source.txt\", \"r\", encoding=\"utf-8\") as source, open(\"destination.txt\", \"w\", encoding=\"utf-8\") as dest:\n",
    "    for line in source:\n",
    "        dest.write(line)\n",
    "\n",
    "print(\"Content copied to destination.txt\")\n",
    "```\n",
    "\n",
    "---\n",
    "\n",
    "#### ✅ Exercise 4: Search in a File\n",
    "\n",
    "```python\n",
    "# Create data.txt with multiple lines\n",
    "with open(\"data.txt\", \"w\", encoding=\"utf-8\") as f:\n",
    "    f.write(\"Python is fun.\\n\")\n",
    "    f.write(\"I love programming.\\n\")\n",
    "    f.write(\"Python is powerful.\\n\")\n",
    "    f.write(\"Learning new things is exciting.\\n\")\n",
    "    f.write(\"Python makes automation easy.\\n\")\n",
    "\n",
    "#### Search word\n",
    "word = input(\"Enter a word to search: \")\n",
    "found = False\n",
    "\n",
    "with open(\"data.txt\", \"r\", encoding=\"utf-8\") as f:\n",
    "    for i, line in enumerate(f, start=1):\n",
    "        if word.lower() in line.lower():\n",
    "            print(f\"Found '{word}' in line {i}: {line.strip()}\")\n",
    "            found = True\n",
    "\n",
    "if not found:\n",
    "    print(f\"'{word}' not found in the file.\")\n",
    "```\n",
    "\n",
    "---\n",
    "\n",
    "#### ✅ Exercise 5: Append Data to File\n",
    "\n",
    "```python\n",
    "import datetime\n",
    "\n",
    "# Append current date and time to log.txt\n",
    "with open(\"log.txt\", \"a\", encoding=\"utf-8\") as f:\n",
    "    now = datetime.datetime.now()\n",
    "    f.write(f\"Program run at: {now}\\n\")\n",
    "\n",
    "# Print all log entries\n",
    "with open(\"log.txt\", \"r\", encoding=\"utf-8\") as f:\n",
    "    print(\"Log entries:\\n\", f.read())\n",
    "```\n",
    "\n",
    "---\n",
    "\n",
    "#### ✅ Exercise 6 (Challenge): Student Grades System\n",
    "\n",
    "```python\n",
    "# Create students.txt\n",
    "with open(\"students.txt\", \"w\", encoding=\"utf-8\") as f:\n",
    "    f.write(\"Ali,85\\n\")\n",
    "    f.write(\"Sara,90\\n\")\n",
    "    f.write(\"Omar,78\\n\")\n",
    "\n",
    "# Read file into dictionary\n",
    "students = {}\n",
    "with open(\"students.txt\", \"r\", encoding=\"utf-8\") as f:\n",
    "    for line in f:\n",
    "        name, grade = line.strip().split(\",\")\n",
    "        students[name] = int(grade)\n",
    "\n",
    "# Print all students and grades\n",
    "print(\"Student Grades:\")\n",
    "for name, grade in students.items():\n",
    "    print(f\"{name}: {grade}\")\n",
    "\n",
    "# Find highest grade\n",
    "top_student = max(students, key=students.get)\n",
    "print(f\"Top student: {top_student} with grade {students[top_student]}\")\n",
    "\n",
    "# Calculate average grade\n",
    "average = sum(students.values()) / len(students)\n",
    "print(f\"Average grade: {average:.2f}\")\n",
    "```\n",
    "\n"
   ]
  },
  {
   "cell_type": "markdown",
   "id": "cde0827e",
   "metadata": {},
   "source": []
  }
 ],
 "metadata": {
  "kernelspec": {
   "display_name": "base",
   "language": "python",
   "name": "python3"
  },
  "language_info": {
   "codemirror_mode": {
    "name": "ipython",
    "version": 3
   },
   "file_extension": ".py",
   "mimetype": "text/x-python",
   "name": "python",
   "nbconvert_exporter": "python",
   "pygments_lexer": "ipython3",
   "version": "3.13.2"
  }
 },
 "nbformat": 4,
 "nbformat_minor": 5
}
