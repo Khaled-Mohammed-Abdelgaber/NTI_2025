{
 "cells": [
  {
   "cell_type": "markdown",
   "id": "7e8823aa",
   "metadata": {},
   "source": [
    "### 🔹 `try` and `except` Tutorial\n",
    "\n",
    "In Python, errors that occur during runtime are called **exceptions**. If they are not handled, they will stop your program.\n",
    "To handle them gracefully, we use `try` and `except`."
   ]
  },
  {
   "cell_type": "markdown",
   "id": "d00ef177",
   "metadata": {},
   "source": [
    "**1. Basic Structure**"
   ]
  },
  {
   "cell_type": "code",
   "execution_count": 9,
   "id": "fa2f290e",
   "metadata": {},
   "outputs": [
    {
     "name": "stdout",
     "output_type": "stream",
     "text": [
      "An error occurred\n"
     ]
    }
   ],
   "source": [
    "try:\n",
    "    # Code that may cause an error\n",
    "    result = 10 / 0\n",
    "except:\n",
    "    # Code to run if an error happens\n",
    "    print(\"An error occurred\")\n",
    "\n",
    "#Here, dividing by zero causes an exception, and the program jumps to `except`."
   ]
  },
  {
   "cell_type": "markdown",
   "id": "34af48e7",
   "metadata": {},
   "source": [
    "**2. Catching Specific Exceptions**\n",
    "\n",
    "Instead of catching all errors, you can catch **specific exception types**.\n",
    "This is a better practice because it avoids hiding other bugs."
   ]
  },
  {
   "cell_type": "code",
   "execution_count": 10,
   "id": "7a3a096e",
   "metadata": {},
   "outputs": [
    {
     "name": "stdout",
     "output_type": "stream",
     "text": [
      "You must enter a number\n"
     ]
    }
   ],
   "source": [
    "try:\n",
    "    num = int(\"abc\")  # invalid conversion\n",
    "except ValueError:\n",
    "    print(\"You must enter a number\")"
   ]
  },
  {
   "cell_type": "markdown",
   "id": "46daa409",
   "metadata": {},
   "source": [
    "**3. Multiple Except Blocks**\n",
    "\n",
    "You can handle different types of errors separately:"
   ]
  },
  {
   "cell_type": "code",
   "execution_count": null,
   "id": "06aaf30a",
   "metadata": {},
   "outputs": [],
   "source": [
    "try:\n",
    "    value = 10 / int(input(\"Enter a number: \"))\n",
    "except ZeroDivisionError:\n",
    "    print(\"You cannot divide by zero!\")\n",
    "except ValueError:\n",
    "    print(\"That was not a valid number.\")"
   ]
  },
  {
   "cell_type": "markdown",
   "id": "4d54fb44",
   "metadata": {},
   "source": [
    "**4. Using `else`**\n",
    "\n",
    "The `else` block runs **if no exception occurs**:\n"
   ]
  },
  {
   "cell_type": "code",
   "execution_count": null,
   "id": "ea70322b",
   "metadata": {},
   "outputs": [
    {
     "name": "stdout",
     "output_type": "stream",
     "text": [
      "You entered 10\n"
     ]
    }
   ],
   "source": [
    "try:\n",
    "    num = int(input(\"Enter a number: \"))\n",
    "except ValueError:\n",
    "    print(\"Invalid input!\")\n",
    "else:\n",
    "    print(f\"You entered {num}\")"
   ]
  },
  {
   "cell_type": "markdown",
   "id": "8cca315d",
   "metadata": {},
   "source": [
    "**5. Using `finally`**\n",
    "\n",
    "The `finally` block runs **no matter what happens** (useful for cleanup like closing files):\n"
   ]
  },
  {
   "cell_type": "code",
   "execution_count": null,
   "id": "ba11969f",
   "metadata": {},
   "outputs": [
    {
     "name": "stdout",
     "output_type": "stream",
     "text": [
      "File not found!\n",
      "Closing program...\n"
     ]
    }
   ],
   "source": [
    "\n",
    "try:\n",
    "    file = open(\"test.txt\", \"r\")\n",
    "    content = file.read()\n",
    "except FileNotFoundError:\n",
    "    print(\"File not found!\")\n",
    "finally:\n",
    "    print(\"Closing program...\")   # always runs"
   ]
  },
  {
   "cell_type": "markdown",
   "id": "d7a64a70",
   "metadata": {},
   "source": [
    "**6. Raising Exceptions Manually**\n",
    "\n",
    "You can raise your own exceptions with `raise`:"
   ]
  },
  {
   "cell_type": "code",
   "execution_count": null,
   "id": "1376a8ba",
   "metadata": {},
   "outputs": [
    {
     "ename": "ValueError",
     "evalue": "Age cannot be negative!",
     "output_type": "error",
     "traceback": [
      "\u001b[31m---------------------------------------------------------------------------\u001b[39m",
      "\u001b[31mValueError\u001b[39m                                Traceback (most recent call last)",
      "\u001b[36mCell\u001b[39m\u001b[36m \u001b[39m\u001b[32mIn[6]\u001b[39m\u001b[32m, line 3\u001b[39m\n\u001b[32m      1\u001b[39m age = -\u001b[32m5\u001b[39m\n\u001b[32m      2\u001b[39m \u001b[38;5;28;01mif\u001b[39;00m age < \u001b[32m0\u001b[39m:\n\u001b[32m----> \u001b[39m\u001b[32m3\u001b[39m     \u001b[38;5;28;01mraise\u001b[39;00m \u001b[38;5;167;01mValueError\u001b[39;00m(\u001b[33m\"\u001b[39m\u001b[33mAge cannot be negative!\u001b[39m\u001b[33m\"\u001b[39m)\n",
      "\u001b[31mValueError\u001b[39m: Age cannot be negative!"
     ]
    }
   ],
   "source": [
    "age = -5\n",
    "if age < 0:\n",
    "    raise ValueError(\"Age cannot be negative!\")"
   ]
  },
  {
   "cell_type": "markdown",
   "id": "b09c77b0",
   "metadata": {},
   "source": [
    "**7. Custom Exceptions**\n",
    "\n",
    "You can create your own exception classes:"
   ]
  },
  {
   "cell_type": "code",
   "execution_count": null,
   "id": "0e340028",
   "metadata": {},
   "outputs": [
    {
     "name": "stdout",
     "output_type": "stream",
     "text": [
      "Age must be positive!\n"
     ]
    }
   ],
   "source": [
    "class NegativeAgeError(Exception):\n",
    "    pass\n",
    "\n",
    "try:\n",
    "    age = -2\n",
    "    if age < 0:\n",
    "        raise NegativeAgeError(\"Age must be positive!\")\n",
    "except NegativeAgeError as e:\n",
    "    print(e)"
   ]
  },
  {
   "cell_type": "markdown",
   "id": "90fc0098",
   "metadata": {},
   "source": [
    "# 🔹 Exercise 1: Division\n",
    "\n",
    "**Task:**\n",
    "Write a program that asks the user for two numbers and divides the first by the second.\n",
    "\n",
    "* Handle the case when the user enters a non-number.\n",
    "* Handle division by zero.\n",
    "\n",
    "---\n",
    "\n",
    "# 🔹 Exercise 2: File Reading\n",
    "\n",
    "**Task:**\n",
    "Write a program that tries to open a file called `data.txt` and prints its content.\n",
    "\n",
    "* Handle the case when the file does not exist.\n",
    "* Always print `\"Program finished\"` at the end.\n",
    "\n",
    "---\n",
    "\n",
    "# 🔹 Exercise 3: List Indexing\n",
    "\n",
    "**Task:**\n",
    "You have a list: `numbers = [1, 2, 3, 4, 5]`\n",
    "\n",
    "* Ask the user for an index and print the element at that index.\n",
    "* Handle the case when the user enters a non-integer.\n",
    "* Handle the case when the index is out of range.\n",
    "\n",
    "---\n",
    "\n",
    "# 🔹 Exercise 4: Multiple Exceptions\n",
    "\n",
    "**Task:**\n",
    "Write a program that asks the user to enter a number and divides 100 by that number.\n",
    "\n",
    "* Handle both `ValueError` and `ZeroDivisionError` separately.\n",
    "* Print a success message if no error occurs.\n",
    "\n",
    "---\n",
    "\n",
    "# 🔹 Exercise 5: Raising Exceptions\n",
    "\n",
    "**Task:**\n",
    "Write a program that asks the user to enter their age.\n",
    "\n",
    "* If the age is negative, raise a `ValueError` with the message `\"Age cannot be negative\"`.\n",
    "* Handle the exception and print the message.\n",
    "\n",
    "---\n",
    "\n",
    "# 🔹 Solutions\n",
    "\n",
    "```python\n",
    "# Solution 1\n",
    "try:\n",
    "    a = float(input(\"Enter first number: \"))\n",
    "    b = float(input(\"Enter second number: \"))\n",
    "    print(\"Result:\", a / b)\n",
    "except ValueError:\n",
    "    print(\"Please enter a valid number!\")\n",
    "except ZeroDivisionError:\n",
    "    print(\"Cannot divide by zero!\")\n",
    "\n",
    "# Solution 2\n",
    "try:\n",
    "    file = open(\"data.txt\", \"r\")\n",
    "    print(file.read())\n",
    "except FileNotFoundError:\n",
    "    print(\"File not found!\")\n",
    "finally:\n",
    "    print(\"Program finished\")\n",
    "\n",
    "# Solution 3\n",
    "numbers = [1, 2, 3, 4, 5]\n",
    "try:\n",
    "    index = int(input(\"Enter index: \"))\n",
    "    print(\"Element:\", numbers[index])\n",
    "except ValueError:\n",
    "    print(\"Invalid input, enter an integer!\")\n",
    "except IndexError:\n",
    "    print(\"Index out of range!\")\n",
    "\n",
    "# Solution 4\n",
    "try:\n",
    "    num = int(input(\"Enter a number: \"))\n",
    "    result = 100 / num\n",
    "except ValueError:\n",
    "    print(\"You must enter a number!\")\n",
    "except ZeroDivisionError:\n",
    "    print(\"Cannot divide by zero!\")\n",
    "else:\n",
    "    print(\"Success! Result is\", result)\n",
    "\n",
    "# Solution 5\n",
    "try:\n",
    "    age = int(input(\"Enter your age: \"))\n",
    "    if age < 0:\n",
    "        raise ValueError(\"Age cannot be negative\")\n",
    "except ValueError as e:\n",
    "    print(\"Error:\", e)\n",
    "```\n"
   ]
  },
  {
   "cell_type": "code",
   "execution_count": null,
   "id": "ca847179",
   "metadata": {},
   "outputs": [],
   "source": []
  },
  {
   "cell_type": "markdown",
   "id": "2ca52901",
   "metadata": {},
   "source": [
    "# 🔹 Python Functions\n",
    "\n",
    "A **function** in Python is a block of reusable code that performs a specific task. Functions help make code modular, readable, and maintainable."
   ]
  },
  {
   "cell_type": "markdown",
   "id": "4fd92c12",
   "metadata": {},
   "source": [
    "**1. Defining a Function**\n",
    "\n",
    "The `def` keyword is used to define a function:"
   ]
  },
  {
   "cell_type": "code",
   "execution_count": 1,
   "id": "84e6e19e",
   "metadata": {},
   "outputs": [],
   "source": [
    "def greet():\n",
    "    print(\"Hello, World!\")"
   ]
  },
  {
   "cell_type": "markdown",
   "id": "3211e154",
   "metadata": {},
   "source": [
    "* `def` → defines a function\n",
    "* `greet` → function name\n",
    "* `()` → parameters (empty here)\n",
    "* Code inside is indented\n"
   ]
  },
  {
   "cell_type": "markdown",
   "id": "277455f0",
   "metadata": {},
   "source": [
    "**Calling the function:**"
   ]
  },
  {
   "cell_type": "code",
   "execution_count": 2,
   "id": "88d2f1af",
   "metadata": {},
   "outputs": [
    {
     "name": "stdout",
     "output_type": "stream",
     "text": [
      "Hello, World!\n"
     ]
    }
   ],
   "source": [
    "greet()  # Output: Hello, World!"
   ]
  },
  {
   "cell_type": "markdown",
   "id": "1a04bcb1",
   "metadata": {},
   "source": [
    "**2. Functions with Parameters**\n",
    "\n",
    "Functions can take **inputs** called parameters:"
   ]
  },
  {
   "cell_type": "code",
   "execution_count": 3,
   "id": "d57a227c",
   "metadata": {},
   "outputs": [
    {
     "name": "stdout",
     "output_type": "stream",
     "text": [
      "Hello, Alice!\n",
      "Hello, Bob!\n"
     ]
    }
   ],
   "source": [
    "def greet_user(name):\n",
    "    print(f\"Hello, {name}!\")\n",
    "    \n",
    "greet_user(\"Alice\")  # Output: Hello, Alice!\n",
    "greet_user(\"Bob\")    # Output: Hello, Bob!"
   ]
  },
  {
   "cell_type": "markdown",
   "id": "8af039fc",
   "metadata": {},
   "source": [
    "* `name` is a parameter\n",
    "* Arguments are values we pass when calling the function"
   ]
  },
  {
   "cell_type": "markdown",
   "id": "7a809f6a",
   "metadata": {},
   "source": [
    "**3. Return Values**\n",
    "\n",
    "Functions can **return values** using `return`:"
   ]
  },
  {
   "cell_type": "code",
   "execution_count": 4,
   "id": "37bc1d2c",
   "metadata": {},
   "outputs": [
    {
     "name": "stdout",
     "output_type": "stream",
     "text": [
      "8\n"
     ]
    }
   ],
   "source": [
    "def add(a, b):\n",
    "    return a + b\n",
    "\n",
    "result = add(5, 3)\n",
    "print(result)  # Output: 8"
   ]
  },
  {
   "cell_type": "markdown",
   "id": "29d355ae",
   "metadata": {},
   "source": [
    "Without `return`, a function returns `None` by default."
   ]
  },
  {
   "cell_type": "markdown",
   "id": "3b823351",
   "metadata": {},
   "source": [
    "**4. Default Parameters**\n",
    "\n",
    "You can assign **default values** to parameters:"
   ]
  },
  {
   "cell_type": "code",
   "execution_count": 5,
   "id": "5c0ba2d7",
   "metadata": {},
   "outputs": [
    {
     "name": "stdout",
     "output_type": "stream",
     "text": [
      "Hello, Alice!\n",
      "Hello, Guest!\n"
     ]
    }
   ],
   "source": [
    "def greet(name=\"Guest\"):\n",
    "    print(f\"Hello, {name}!\")\n",
    "    \n",
    "greet(\"Alice\")  # Hello, Alice!\n",
    "greet()         # Hello, Guest!"
   ]
  },
  {
   "cell_type": "markdown",
   "id": "e0aa246d",
   "metadata": {},
   "source": [
    "**5. Keyword Arguments**\n",
    "\n",
    "You can pass arguments by **position** or by **name**:\n"
   ]
  },
  {
   "cell_type": "code",
   "execution_count": 6,
   "id": "8d723d6c",
   "metadata": {},
   "outputs": [
    {
     "name": "stdout",
     "output_type": "stream",
     "text": [
      "Buddy is a dog\n",
      "Kitty is a dog\n",
      "Milo is a cat\n"
     ]
    }
   ],
   "source": [
    "\n",
    "def describe_pet(name, species=\"dog\"):\n",
    "    print(f\"{name} is a {species}\")\n",
    "\n",
    "describe_pet(\"Buddy\")             # Buddy is a dog\n",
    "describe_pet(name=\"Kitty\")        # Kitty is a dog\n",
    "describe_pet(species=\"cat\", name=\"Milo\")  # Milo is a cat"
   ]
  },
  {
   "cell_type": "markdown",
   "id": "e1133757",
   "metadata": {},
   "source": [
    "**6. Variable-Length Arguments**"
   ]
  },
  {
   "cell_type": "markdown",
   "id": "e7b99580",
   "metadata": {},
   "source": [
    "**a)  *args – Variable Positional Arguments**\n",
    "\n",
    "*args allows a function to accept any number of positional arguments.\n",
    "\n",
    "Inside the function, args is treated as a tuple."
   ]
  },
  {
   "cell_type": "code",
   "execution_count": 7,
   "id": "2034e1e9",
   "metadata": {},
   "outputs": [
    {
     "name": "stdout",
     "output_type": "stream",
     "text": [
      "6\n",
      "22\n"
     ]
    }
   ],
   "source": [
    "def add_numbers(*args):\n",
    "    return sum(args)\n",
    "\n",
    "print(add_numbers(1, 2, 3))   # Output: 6\n",
    "print(add_numbers(4, 5, 6, 7)) # Output: 22"
   ]
  },
  {
   "cell_type": "code",
   "execution_count": 8,
   "id": "1721626d",
   "metadata": {},
   "outputs": [
    {
     "name": "stdout",
     "output_type": "stream",
     "text": [
      "Hello, Alice!\n",
      "Hello, Bob!\n",
      "Hello, Charlie!\n"
     ]
    }
   ],
   "source": [
    "def greet(*names):\n",
    "    for name in names:\n",
    "        print(f\"Hello, {name}!\")\n",
    "\n",
    "greet(\"Alice\", \"Bob\", \"Charlie\")"
   ]
  },
  {
   "cell_type": "markdown",
   "id": "10a0cfaa",
   "metadata": {},
   "source": [
    "`*args` collects all extra positional arguments as a **tuple**\n",
    "\n",
    "You can combine *args with normal parameters, but *args must come after regular parameters:"
   ]
  },
  {
   "cell_type": "code",
   "execution_count": 9,
   "id": "417abf64",
   "metadata": {},
   "outputs": [
    {
     "name": "stdout",
     "output_type": "stream",
     "text": [
      "Hi, Alice!\n",
      "Hi, Bob!\n"
     ]
    }
   ],
   "source": [
    "def greet(message, *names):\n",
    "    for name in names:\n",
    "        print(f\"{message}, {name}!\")\n",
    "\n",
    "greet(\"Hi\", \"Alice\", \"Bob\")"
   ]
  },
  {
   "cell_type": "markdown",
   "id": "b418b1db",
   "metadata": {},
   "source": [
    "**b) \\*\\*kwargs → for multiple keyword arguments**\n",
    "\n",
    "* **kwargs allows a function to accept any number of keyword arguments.\n",
    "\n",
    "* Inside the function, kwargs is treated as a **dictionary**."
   ]
  },
  {
   "cell_type": "code",
   "execution_count": 10,
   "id": "468a8840",
   "metadata": {},
   "outputs": [
    {
     "name": "stdout",
     "output_type": "stream",
     "text": [
      "name: Alice\n",
      "age: 25\n"
     ]
    }
   ],
   "source": [
    "def print_info(**kwargs):\n",
    "    for key, value in kwargs.items():\n",
    "        print(f\"{key}: {value}\")\n",
    "\n",
    "print_info(name=\"Alice\", age=25)"
   ]
  },
  {
   "cell_type": "code",
   "execution_count": 11,
   "id": "b4d4a5c0",
   "metadata": {},
   "outputs": [
    {
     "name": "stdout",
     "output_type": "stream",
     "text": [
      "Role: Admin\n",
      "Positional args: ('Alice', 'Bob')\n",
      "Keyword args: {'age': 30, 'city': 'Cairo'}\n"
     ]
    }
   ],
   "source": [
    "def user_profile(role, *args, **kwargs):\n",
    "    print(f\"Role: {role}\")\n",
    "    print(\"Positional args:\", args)\n",
    "    print(\"Keyword args:\", kwargs)\n",
    "\n",
    "user_profile(\"Admin\", \"Alice\", \"Bob\", age=30, city=\"Cairo\")"
   ]
  },
  {
   "cell_type": "markdown",
   "id": "9a1254ae",
   "metadata": {},
   "source": [
    "**Order matters:**\n",
    "\n",
    "```\n",
    "def f(a, b, *args, **kwargs):\n",
    "    ...\n",
    "```\n",
    "* Positional arguments → a, b\n",
    "\n",
    "* Extra positional → *args\n",
    "\n",
    "* Keyword arguments → **kwargs"
   ]
  },
  {
   "cell_type": "code",
   "execution_count": 12,
   "id": "f2a3f42f",
   "metadata": {},
   "outputs": [
    {
     "name": "stdout",
     "output_type": "stream",
     "text": [
      "Required: Hello\n",
      "Additional args: (1, 2, 3)\n",
      "Additional kwargs: {'name': 'Alice', 'age': 25}\n"
     ]
    }
   ],
   "source": [
    "def flexible_function(required, *args, **kwargs):\n",
    "    print(\"Required:\", required)\n",
    "    print(\"Additional args:\", args)\n",
    "    print(\"Additional kwargs:\", kwargs)\n",
    "\n",
    "flexible_function(\n",
    "    \"Hello\",\n",
    "    1, 2, 3,\n",
    "    name=\"Alice\",\n",
    "    age=25\n",
    ")"
   ]
  },
  {
   "cell_type": "markdown",
   "id": "7ac93acb",
   "metadata": {},
   "source": [
    "**Using * and ** to Unpack Arguments**\n",
    "\n",
    "You can unpack lists/tuples into *args and dictionaries into **kwargs."
   ]
  },
  {
   "cell_type": "code",
   "execution_count": 13,
   "id": "abcfd6b0",
   "metadata": {},
   "outputs": [
    {
     "name": "stdout",
     "output_type": "stream",
     "text": [
      "6\n",
      "60\n"
     ]
    }
   ],
   "source": [
    "def add(a, b, c):\n",
    "    return a + b + c\n",
    "\n",
    "numbers = [1, 2, 3]\n",
    "print(add(*numbers))  # Output: 6\n",
    "\n",
    "data = {'a': 10, 'b': 20, 'c': 30}\n",
    "print(add(**data))    # Output: 60"
   ]
  },
  {
   "cell_type": "markdown",
   "id": "c86491d7",
   "metadata": {},
   "source": [
    "**7. Scope of Variables**"
   ]
  },
  {
   "cell_type": "markdown",
   "id": "f87fc807",
   "metadata": {},
   "source": [
    "*Local vs Global Variables*"
   ]
  },
  {
   "cell_type": "markdown",
   "id": "a386944c",
   "metadata": {},
   "source": [
    "* Variables inside a function are **local**\n",
    "* Variables outside are **global**\n",
    "* You can use `global` keyword to modify a global variable:"
   ]
  },
  {
   "cell_type": "code",
   "execution_count": 14,
   "id": "12e9ef54",
   "metadata": {},
   "outputs": [
    {
     "name": "stdout",
     "output_type": "stream",
     "text": [
      "Inside: 10 5\n"
     ]
    },
    {
     "ename": "NameError",
     "evalue": "name 'y' is not defined",
     "output_type": "error",
     "traceback": [
      "\u001b[31m---------------------------------------------------------------------------\u001b[39m",
      "\u001b[31mNameError\u001b[39m                                 Traceback (most recent call last)",
      "\u001b[36mCell\u001b[39m\u001b[36m \u001b[39m\u001b[32mIn[14]\u001b[39m\u001b[32m, line 8\u001b[39m\n\u001b[32m      5\u001b[39m     \u001b[38;5;28mprint\u001b[39m(\u001b[33m\"\u001b[39m\u001b[33mInside:\u001b[39m\u001b[33m\"\u001b[39m, x, y)\n\u001b[32m      7\u001b[39m foo()        \u001b[38;5;66;03m# Inside: 10 5\u001b[39;00m\n\u001b[32m----> \u001b[39m\u001b[32m8\u001b[39m \u001b[38;5;28mprint\u001b[39m(\u001b[43my\u001b[49m)     \u001b[38;5;66;03m# Error! y is local to foo\u001b[39;00m\n",
      "\u001b[31mNameError\u001b[39m: name 'y' is not defined"
     ]
    }
   ],
   "source": [
    "x = 10  # global\n",
    "\n",
    "def foo():\n",
    "    y = 5  # local\n",
    "    print(\"Inside:\", x, y)\n",
    "\n",
    "foo()        # Inside: 10 5\n",
    "print(y)     # Error! y is local to foo"
   ]
  },
  {
   "cell_type": "code",
   "execution_count": 15,
   "id": "e205ed5f",
   "metadata": {},
   "outputs": [
    {
     "name": "stdout",
     "output_type": "stream",
     "text": [
      "1\n"
     ]
    }
   ],
   "source": [
    "count = 0\n",
    "\n",
    "def increment():\n",
    "    global count\n",
    "    count += 1\n",
    "\n",
    "increment()\n",
    "print(count)  # 1"
   ]
  },
  {
   "cell_type": "markdown",
   "id": "f9abe851",
   "metadata": {},
   "source": [
    "**8. Lambda Functions (Anonymous Functions)**\n",
    "\n",
    "* Lambda functions are anonymous (no `def`)\n",
    "* Best used for **short operations**\n",
    "\n",
    "For **small one-line functions**, Python allows `lambda`:"
   ]
  },
  {
   "cell_type": "code",
   "execution_count": 16,
   "id": "3df41060",
   "metadata": {},
   "outputs": [
    {
     "name": "stdout",
     "output_type": "stream",
     "text": [
      "25\n"
     ]
    }
   ],
   "source": [
    "square = lambda x: x ** 2\n",
    "print(square(5))  # Output: 25"
   ]
  },
  {
   "cell_type": "code",
   "execution_count": 17,
   "id": "4df97fc0",
   "metadata": {},
   "outputs": [
    {
     "name": "stdout",
     "output_type": "stream",
     "text": [
      "12\n"
     ]
    }
   ],
   "source": [
    "# With two arguments\n",
    "multiply = lambda a, b: a * b\n",
    "print(multiply(3, 4))  # Output: 12"
   ]
  },
  {
   "cell_type": "markdown",
   "id": "27c73850",
   "metadata": {},
   "source": [
    "**9. Nested Functions**\n",
    "\n",
    "* Useful for encapsulation and closures\n",
    "\n",
    "Functions can be **defined inside other functions**:"
   ]
  },
  {
   "cell_type": "code",
   "execution_count": 18,
   "id": "3ab3a524",
   "metadata": {},
   "outputs": [
    {
     "name": "stdout",
     "output_type": "stream",
     "text": [
      "Inside inner function\n"
     ]
    }
   ],
   "source": [
    "def outer():\n",
    "    def inner():\n",
    "        print(\"Inside inner function\")\n",
    "    inner()\n",
    "\n",
    "outer()"
   ]
  },
  {
   "cell_type": "markdown",
   "id": "60690e53",
   "metadata": {},
   "source": [
    "**10. Returning Functions (Closures)**\n",
    "\n",
    "Functions can **return other functions**:"
   ]
  },
  {
   "cell_type": "code",
   "execution_count": 19,
   "id": "3160802b",
   "metadata": {},
   "outputs": [
    {
     "name": "stdout",
     "output_type": "stream",
     "text": [
      "Hello Closure\n"
     ]
    }
   ],
   "source": [
    "def outer(msg):\n",
    "    def inner():\n",
    "        print(msg)\n",
    "    return inner\n",
    "\n",
    "f = outer(\"Hello Closure\")\n",
    "f()  # Output: Hello Closure\n",
    "# * This is called a **closure**"
   ]
  },
  {
   "cell_type": "markdown",
   "id": "79cb61dc",
   "metadata": {},
   "source": [
    "**11. Decorators (Advanced)**\n",
    "\n",
    "1. Functions are First-Class Objects\n",
    "\n",
    "- In Python, functions can be:\n",
    "\n",
    "- Assigned to variables\n",
    "\n",
    "- Passed as arguments\n",
    "\n",
    "- Returned from other functions"
   ]
  },
  {
   "cell_type": "code",
   "execution_count": 20,
   "id": "fb09c9bd",
   "metadata": {},
   "outputs": [
    {
     "name": "stdout",
     "output_type": "stream",
     "text": [
      "Hello!\n"
     ]
    }
   ],
   "source": [
    "def greet():\n",
    "    return \"Hello!\"\n",
    "\n",
    "say_hello = greet   # assign function\n",
    "print(say_hello())  # Output: Hello!"
   ]
  },
  {
   "cell_type": "markdown",
   "id": "c00de44d",
   "metadata": {},
   "source": [
    "This property allows decorators to exist.\n",
    "\n",
    "**2. Basic Decorator**\n",
    "\n",
    "*A simple decorator wraps a function:*"
   ]
  },
  {
   "cell_type": "code",
   "execution_count": 21,
   "id": "b57fb21e",
   "metadata": {},
   "outputs": [
    {
     "name": "stdout",
     "output_type": "stream",
     "text": [
      "Before the function runs\n",
      "Hello!\n",
      "After the function runs\n"
     ]
    }
   ],
   "source": [
    "def decorator(func):\n",
    "    def wrapper():\n",
    "        print(\"Before the function runs\")\n",
    "        func()\n",
    "        print(\"After the function runs\")\n",
    "    return wrapper\n",
    "\n",
    "def say_hello():\n",
    "    print(\"Hello!\")\n",
    "\n",
    "# Apply decorator manually\n",
    "say_hello = decorator(say_hello)\n",
    "say_hello()"
   ]
  },
  {
   "cell_type": "markdown",
   "id": "d85d4975",
   "metadata": {},
   "source": [
    "**3. Using the @ Syntax**\n",
    "\n",
    "Python provides a shorthand ```@decorator```:"
   ]
  },
  {
   "cell_type": "code",
   "execution_count": 22,
   "id": "ae43aae3",
   "metadata": {},
   "outputs": [
    {
     "name": "stdout",
     "output_type": "stream",
     "text": [
      "Before the function runs\n",
      "Hello!\n",
      "After the function runs\n"
     ]
    }
   ],
   "source": [
    "@decorator\n",
    "def say_hello():\n",
    "    print(\"Hello!\")\n",
    "\n",
    "say_hello()\n",
    "# This is equivalent to: say_hello = decorator(say_hello)"
   ]
  },
  {
   "cell_type": "markdown",
   "id": "314f1d2c",
   "metadata": {},
   "source": [
    "**4. Decorators with Arguments**\n",
    "\n",
    "To decorate functions that accept arguments, the wrapper function must also accept ```*args``` and ```**kwargs```:"
   ]
  },
  {
   "cell_type": "code",
   "execution_count": 23,
   "id": "b80e659b",
   "metadata": {},
   "outputs": [
    {
     "name": "stdout",
     "output_type": "stream",
     "text": [
      "Before function\n",
      "Hello, Alice!\n",
      "After function\n"
     ]
    }
   ],
   "source": [
    "def decorator(func):\n",
    "    def wrapper(*args, **kwargs):\n",
    "        print(\"Before function\")\n",
    "        result = func(*args, **kwargs)\n",
    "        print(\"After function\")\n",
    "        return result\n",
    "    return wrapper\n",
    "\n",
    "@decorator\n",
    "def greet(name):\n",
    "    print(f\"Hello, {name}!\")\n",
    "\n",
    "greet(\"Alice\")\n"
   ]
  },
  {
   "cell_type": "markdown",
   "id": "9e976b53",
   "metadata": {},
   "source": [
    "**5. Returning Values**\n",
    "\n",
    "Decorators can also modify or return values:"
   ]
  },
  {
   "cell_type": "code",
   "execution_count": 24,
   "id": "86fd5eef",
   "metadata": {},
   "outputs": [
    {
     "name": "stdout",
     "output_type": "stream",
     "text": [
      "HELLO, ALICE\n"
     ]
    }
   ],
   "source": [
    "def uppercase(func):\n",
    "    def wrapper(*args, **kwargs):\n",
    "        result = func(*args, **kwargs)\n",
    "        return result.upper()\n",
    "    return wrapper\n",
    "\n",
    "@uppercase\n",
    "def greet(name):\n",
    "    return f\"Hello, {name}\"\n",
    "\n",
    "print(greet(\"Alice\"))  # Output: HELLO, ALICE"
   ]
  },
  {
   "cell_type": "markdown",
   "id": "2585026e",
   "metadata": {},
   "source": [
    "**6. Stacking Decorators**\n",
    "\n",
    "- Decorators are applied bottom to top.\n",
    "- You can apply multiple decorators to a single function:"
   ]
  },
  {
   "cell_type": "code",
   "execution_count": 25,
   "id": "0f0b3c80",
   "metadata": {},
   "outputs": [
    {
     "name": "stdout",
     "output_type": "stream",
     "text": [
      "<b><i>Hello, Alice</i></b>\n"
     ]
    }
   ],
   "source": [
    "def bold(func):\n",
    "    def wrapper(*args, **kwargs):\n",
    "        return f\"<b>{func(*args, **kwargs)}</b>\"\n",
    "    return wrapper\n",
    "\n",
    "def italic(func):\n",
    "    def wrapper(*args, **kwargs):\n",
    "        return f\"<i>{func(*args, **kwargs)}</i>\"\n",
    "    return wrapper\n",
    "\n",
    "@bold\n",
    "@italic\n",
    "def greet(name):\n",
    "    return f\"Hello, {name}\"\n",
    "\n",
    "print(greet(\"Alice\"))  # Output: <b><i>Hello, Alice</i></b>\n"
   ]
  },
  {
   "cell_type": "markdown",
   "id": "c392b3a3",
   "metadata": {},
   "source": [
    "**7. Decorators with Arguments (Parameterized Decorators)**\n",
    "\n",
    "Sometimes you want the decorator itself to accept arguments:"
   ]
  },
  {
   "cell_type": "code",
   "execution_count": 26,
   "id": "d98dd988",
   "metadata": {},
   "outputs": [
    {
     "name": "stdout",
     "output_type": "stream",
     "text": [
      "Hello, Alice!\n",
      "Hello, Alice!\n",
      "Hello, Alice!\n"
     ]
    }
   ],
   "source": [
    "def repeat(times):\n",
    "    def decorator(func):\n",
    "        def wrapper(*args, **kwargs):\n",
    "            for _ in range(times):\n",
    "                func(*args, **kwargs)\n",
    "        return wrapper\n",
    "    return decorator\n",
    "\n",
    "@repeat(3)\n",
    "def greet(name):\n",
    "    print(f\"Hello, {name}!\")\n",
    "\n",
    "greet(\"Alice\")\n"
   ]
  },
  {
   "cell_type": "markdown",
   "id": "a1625823",
   "metadata": {},
   "source": [
    "**8. Preserving Metadata with functools.wraps**\n",
    "\n",
    "Without functools.wraps, the decorated function loses its name, docstring, and metadata:"
   ]
  },
  {
   "cell_type": "code",
   "execution_count": null,
   "id": "25052b37",
   "metadata": {},
   "outputs": [],
   "source": [
    "import functools\n",
    "\n",
    "def decorator(func):\n",
    "    @functools.wraps(func)\n",
    "    def wrapper(*args, **kwargs):\n",
    "        print(\"Before function\")\n",
    "        return func(*args, **kwargs)\n",
    "    return wrapper\n",
    "\n",
    "@decorator\n",
    "def greet():\n",
    "    \"\"\"This function says hello\"\"\"\n",
    "    print(\"Hello!\")\n",
    "\n",
    "print(greet.__name__)  # Output: greet\n",
    "print(greet.__doc__)   # Output: This function says hello"
   ]
  },
  {
   "cell_type": "markdown",
   "id": "8f5f55cd",
   "metadata": {},
   "source": [
    "**9. Practical Examples**\n",
    "\n",
    "*a) Logging*"
   ]
  },
  {
   "cell_type": "code",
   "execution_count": null,
   "id": "16ce3c53",
   "metadata": {},
   "outputs": [],
   "source": [
    "def log(func):\n",
    "    @functools.wraps(func)\n",
    "    def wrapper(*args, **kwargs):\n",
    "        print(f\"Calling {func.__name__} with args={args}, kwargs={kwargs}\")\n",
    "        return func(*args, **kwargs)\n",
    "    return wrapper\n",
    "\n",
    "@log\n",
    "def add(a, b):\n",
    "    return a + b\n",
    "\n",
    "print(add(2, 3))\n"
   ]
  },
  {
   "cell_type": "code",
   "execution_count": null,
   "id": "287fb006",
   "metadata": {},
   "outputs": [],
   "source": [
    "import time\n",
    "\n",
    "def timer(func):\n",
    "    @functools.wraps(func)\n",
    "    def wrapper(*args, **kwargs):\n",
    "        start = time.time()\n",
    "        result = func(*args, **kwargs)\n",
    "        end = time.time()\n",
    "        print(f\"{func.__name__} took {end - start:.4f} seconds\")\n",
    "        return result\n",
    "    return wrapper\n",
    "\n",
    "@timer\n",
    "def compute():\n",
    "    time.sleep(1)\n",
    "    print(\"Done computing!\")\n",
    "\n",
    "compute()\n"
   ]
  },
  {
   "cell_type": "markdown",
   "id": "3ee14ff9",
   "metadata": {},
   "source": [
    "**12. Recursion**\n",
    "\n",
    "A function can **call itself**:"
   ]
  },
  {
   "cell_type": "code",
   "execution_count": 27,
   "id": "27731da5",
   "metadata": {},
   "outputs": [
    {
     "name": "stdout",
     "output_type": "stream",
     "text": [
      "120\n"
     ]
    }
   ],
   "source": [
    "def factorial(n):\n",
    "    if n == 0:\n",
    "        return 1\n",
    "    else:\n",
    "        return n * factorial(n-1)\n",
    "\n",
    "print(factorial(5))  # Output: 120"
   ]
  },
  {
   "cell_type": "markdown",
   "id": "c2761397",
   "metadata": {},
   "source": [
    "**13. Type Hints (Python 3.5+)**\n",
    "\n",
    "You can **hint the type** of parameters and return value:\n"
   ]
  },
  {
   "cell_type": "code",
   "execution_count": null,
   "id": "e40f2159",
   "metadata": {},
   "outputs": [],
   "source": [
    "def greet(name: str) -> str:\n",
    "    return f\"Hello, {name}\"\n",
    "\n",
    "print(greet(\"Alice\"))"
   ]
  },
  {
   "cell_type": "markdown",
   "id": "df0bab07",
   "metadata": {},
   "source": [
    "**14. Docstrings (Documentation Strings)**\n",
    "\n",
    "Document your functions using `\"\"\"`:\n"
   ]
  },
  {
   "cell_type": "code",
   "execution_count": 28,
   "id": "ca5b76cf",
   "metadata": {},
   "outputs": [
    {
     "name": "stdout",
     "output_type": "stream",
     "text": [
      "Help on function add in module __main__:\n",
      "\n",
      "add(a, b)\n",
      "    This function returns the sum of a and b.\n",
      "    Parameters:\n",
      "        a (int or float)\n",
      "        b (int or float)\n",
      "    Returns:\n",
      "        int or float\n",
      "\n"
     ]
    }
   ],
   "source": [
    "\n",
    "def add(a, b):\n",
    "    \"\"\"\n",
    "    This function returns the sum of a and b.\n",
    "    Parameters:\n",
    "        a (int or float)\n",
    "        b (int or float)\n",
    "    Returns:\n",
    "        int or float\n",
    "    \"\"\"\n",
    "    return a + b\n",
    "\n",
    "help(add)"
   ]
  },
  {
   "cell_type": "markdown",
   "id": "ed4e7fca",
   "metadata": {},
   "source": [
    "\n",
    "**✅ Summary Table**\n",
    "\n",
    "| Concept           | Example                      | Notes                       |\n",
    "| ----------------- | ---------------------------- | --------------------------- |\n",
    "| Define Function   | `def foo():`                 | Basic structure             |\n",
    "| Parameters        | `def greet(name):`           | Inputs to function          |\n",
    "| Return            | `return a+b`                 | Sends value out             |\n",
    "| Default Arguments | `def f(x=5)`                 | Optional parameters         |\n",
    "| \\*args            | `def f(*args)`               | Variable positional args    |\n",
    "| \\*\\*kwargs        | `def f(**kwargs)`            | Variable keyword args       |\n",
    "| Global & Local    | `global var`                 | Scope rules                 |\n",
    "| Lambda            | `lambda x: x+1`              | Anonymous function          |\n",
    "| Nested Functions  | `def outer(): def inner():`  | Encapsulation               |\n",
    "| Closure           | `return inner`               | Function returning function |\n",
    "| Decorator         | `@decorator`                 | Modify function behavior    |\n",
    "| Recursion         | `def fact(n): ... fact(n-1)` | Function calls itself       |\n",
    "| Type Hints        | `def f(x: int) -> int`       | Optional typing             |\n",
    "| Docstrings        | `\"\"\"docstring\"\"\"`            | Documentation               |\n",
    "\n",
    "\n"
   ]
  },
  {
   "cell_type": "code",
   "execution_count": null,
   "id": "66162c4d",
   "metadata": {},
   "outputs": [],
   "source": []
  },
  {
   "cell_type": "markdown",
   "id": "0a6f00d1",
   "metadata": {},
   "source": [
    "\n",
    "# 🔹 Comprehensive Python Questions\n",
    "\n",
    "---\n",
    "\n",
    "### **Question 1: Student Grades Analyzer**\n",
    "\n",
    "**Scenario:**\n",
    "You are asked to create a program to analyze student grades for a class.\n",
    "\n",
    "**Requirements:**\n",
    "\n",
    "* Define a **dictionary** where the keys are student names and values are lists of grades (integers between 0–100).\n",
    "* Write a function `average_grade(grades)` that calculates the average grade for a student.\n",
    "* Loop through all students and print their **name, grades, and average**.\n",
    "* Create a **set** of students who scored above 90 in any subject.\n",
    "* Save the **summary report** to a text file `grades_report.txt`.\n",
    "\n",
    "**Skills Covered:**\n",
    "Variables, dictionary, list, function, loop, set, file operations, conditionals.\n",
    "\n",
    "---\n",
    "\n",
    "### **Question 2: Text File Word Processor**\n",
    "\n",
    "**Scenario:**\n",
    "You are given a text file `input.txt` containing several lines of text.\n",
    "\n",
    "**Requirements:**\n",
    "\n",
    "* Read the file line by line.\n",
    "* Create a function `word_count(text)` that returns the number of words in a line.\n",
    "* For each line, print: `\"Line <n>: <number_of_words> words\"`.\n",
    "* Find all **unique words** in the file (ignore case) and store them in a **set**.\n",
    "* Save these unique words in a file `unique_words.txt`, one word per line.\n",
    "\n",
    "**Skills Covered:**\n",
    "File operations, function, string operations, loops, set, case handling.\n",
    "\n",
    "---\n",
    "\n",
    "### **Question 3: Inventory Management System**\n",
    "\n",
    "**Scenario:**\n",
    "You are designing a simple inventory system for a store.\n",
    "\n",
    "**Requirements:**\n",
    "\n",
    "* Represent the inventory as a **list of dictionaries**, each containing `name`, `quantity`, and `price`.\n",
    "* Write functions:\n",
    "\n",
    "  * `total_value(item)` → returns total value (`quantity * price`) of one item.\n",
    "  * `inventory_value(inventory)` → returns total value of all items.\n",
    "* Print a table showing each item, quantity, price, and total value.\n",
    "* Find the **most expensive item** and **item with highest quantity** using tuple unpacking and `max()` function.\n",
    "\n",
    "**Skills Covered:**\n",
    "List, dictionary, tuple unpacking, functions, loops, conditionals, built-in functions.\n",
    "\n",
    "---\n",
    "\n",
    "### **Question 4: Number Analysis Tool**\n",
    "\n",
    "**Scenario:**\n",
    "Create a program that analyzes a list of numbers input by the user.\n",
    "\n",
    "**Requirements:**\n",
    "\n",
    "* Ask the user to input a series of numbers separated by commas and convert them into a **list of integers**.\n",
    "* Write functions:\n",
    "\n",
    "  * `even_numbers(numbers)` → returns a list of even numbers.\n",
    "  * `odd_numbers(numbers)` → returns a list of odd numbers.\n",
    "  * `prime_numbers(numbers)` → returns a list of prime numbers.\n",
    "* Calculate and print: **sum, max, min, average** of the numbers.\n",
    "* Store the **results in a dictionary** with keys `'sum'`, `'max'`, `'min'`, `'average'`, `'even'`, `'odd'`, `'prime'`.\n",
    "\n",
    "**Skills Covered:**\n",
    "Variables, input handling, lists, loops, conditionals, functions, dictionary, mathematical operations.\n",
    "\n",
    "---\n",
    "\n",
    "Perfect! We can replace **Question 5** with a new one that specifically covers **decorators** and **`*args` / `**kwargs`**, while keeping it detailed and realistic. Here's the updated version:\n",
    "\n",
    "---\n",
    "\n",
    "### **Question 5: Flexible Task Logger**\n",
    "\n",
    "**Scenario:**\n",
    "You are building a task logging system where any function performing a task should automatically log its execution details.\n",
    "\n",
    "**Requirements:**\n",
    "\n",
    "* Write a **decorator** `task_logger` that:\n",
    "\n",
    "  * Prints `\"Starting task: <function_name>\"` before the function runs.\n",
    "  * Prints `\"Finished task: <function_name>\"` after the function runs.\n",
    "  * Prints `\"Arguments: <args>\"` and `\"Keyword Arguments: <kwargs>\"`.\n",
    "* Create at least **three different functions** representing tasks:\n",
    "\n",
    "  1. `send_email(recipient, subject)` → prints `\"Email sent to <recipient> with subject <subject>\"`.\n",
    "  2. `generate_report(name, pages=1)` → prints `\"Report <name> generated with <pages> pages\"`.\n",
    "  3. `backup_files(*files)` → prints `\"Backing up files: <file list>\"`.\n",
    "* Apply the `task_logger` decorator to all three functions.\n",
    "* Call the functions with **different combinations of positional and keyword arguments** to demonstrate that the decorator correctly logs everything.\n",
    "\n",
    "**Skills Covered:**\n",
    "\n",
    "* Function decorators\n",
    "* `*args` and `**kwargs`\n",
    "* Function arguments (positional and keyword)\n",
    "* Printing and string formatting\n",
    "* Function metadata (`__name__`)\n",
    "\n",
    "---"
   ]
  },
  {
   "cell_type": "code",
   "execution_count": null,
   "id": "dd5f241b",
   "metadata": {},
   "outputs": [],
   "source": []
  },
  {
   "cell_type": "markdown",
   "id": "3a4396d4",
   "metadata": {},
   "source": [
    "## **Question 1: Student Grades Analyzer**\n",
    "\n",
    "```python\n",
    "# Define the student grades dictionary\n",
    "students = {\n",
    "    \"Alice\": [85, 92, 78],\n",
    "    \"Bob\": [95, 88, 91],\n",
    "    \"Charlie\": [70, 65, 80],\n",
    "    \"Diana\": [100, 98, 92]\n",
    "}\n",
    "\n",
    "# Function to calculate average grade\n",
    "def average_grade(grades):\n",
    "    return sum(grades) / len(grades)\n",
    "\n",
    "# Set to store students who scored above 90 in any subject\n",
    "high_achievers = set()\n",
    "\n",
    "# Open a file to save the summary report\n",
    "with open(\"grades_report.txt\", \"w\") as file:\n",
    "    for student, grades in students.items():\n",
    "        avg = average_grade(grades)\n",
    "        print(f\"{student}: Grades = {grades}, Average = {avg:.2f}\")\n",
    "        file.write(f\"{student}: Grades = {grades}, Average = {avg:.2f}\\n\")\n",
    "        \n",
    "        if any(grade > 90 for grade in grades):\n",
    "            high_achievers.add(student)\n",
    "\n",
    "print(\"Students who scored above 90 in any subject:\", high_achievers)\n",
    "```\n",
    "\n",
    "---\n",
    "\n",
    "## **Question 2: Text File Word Processor**\n",
    "\n",
    "```python\n",
    "# Function to count words in a line\n",
    "def word_count(text):\n",
    "    words = text.split()\n",
    "    return len(words)\n",
    "\n",
    "unique_words = set()\n",
    "\n",
    "# Read the input file line by line\n",
    "with open(\"input.txt\", \"r\") as infile, open(\"unique_words.txt\", \"w\") as outfile:\n",
    "    for i, line in enumerate(infile, start=1):\n",
    "        count = word_count(line)\n",
    "        print(f\"Line {i}: {count} words\")\n",
    "        \n",
    "        # Add lowercase words to the set for uniqueness\n",
    "        for word in line.strip().split():\n",
    "            unique_words.add(word.lower())\n",
    "    \n",
    "    # Save unique words to file\n",
    "    for word in sorted(unique_words):\n",
    "        outfile.write(word + \"\\n\")\n",
    "\n",
    "print(\"Unique words saved to unique_words.txt\")\n",
    "```\n",
    "\n",
    "---\n",
    "\n",
    "## **Question 3: Inventory Management System**\n",
    "\n",
    "```python\n",
    "# Inventory represented as list of dictionaries\n",
    "inventory = [\n",
    "    {\"name\": \"Laptop\", \"quantity\": 5, \"price\": 800},\n",
    "    {\"name\": \"Mouse\", \"quantity\": 50, \"price\": 20},\n",
    "    {\"name\": \"Keyboard\", \"quantity\": 30, \"price\": 35},\n",
    "    {\"name\": \"Monitor\", \"quantity\": 10, \"price\": 150}\n",
    "]\n",
    "\n",
    "# Function to calculate total value of one item\n",
    "def total_value(item):\n",
    "    return item['quantity'] * item['price']\n",
    "\n",
    "# Function to calculate total inventory value\n",
    "def inventory_value(inventory):\n",
    "    return sum(total_value(item) for item in inventory)\n",
    "\n",
    "print(\"Inventory Table:\")\n",
    "print(f\"{'Item':10} {'Qty':>5} {'Price':>7} {'Total':>7}\")\n",
    "for item in inventory:\n",
    "    total = total_value(item)\n",
    "    print(f\"{item['name']:10} {item['quantity']:5} {item['price']:7} {total:7}\")\n",
    "\n",
    "# Find most expensive item\n",
    "most_expensive = max(inventory, key=lambda x: x['price'])\n",
    "print(\"Most expensive item:\", most_expensive['name'])\n",
    "\n",
    "# Find item with highest quantity\n",
    "highest_qty = max(inventory, key=lambda x: x['quantity'])\n",
    "print(\"Item with highest quantity:\", highest_qty['name'])\n",
    "\n",
    "print(\"Total inventory value:\", inventory_value(inventory))\n",
    "```\n",
    "\n",
    "---\n",
    "\n",
    "## **Question 4: Number Analysis Tool**\n",
    "\n",
    "```python\n",
    "# Input numbers from user\n",
    "numbers_input = input(\"Enter numbers separated by commas: \")\n",
    "numbers = [int(num.strip()) for num in numbers_input.split(\",\")]\n",
    "\n",
    "# Function to get even numbers\n",
    "def even_numbers(nums):\n",
    "    return [n for n in nums if n % 2 == 0]\n",
    "\n",
    "# Function to get odd numbers\n",
    "def odd_numbers(nums):\n",
    "    return [n for n in nums if n % 2 != 0]\n",
    "\n",
    "# Function to get prime numbers\n",
    "def prime_numbers(nums):\n",
    "    primes = []\n",
    "    for n in nums:\n",
    "        if n > 1 and all(n % i != 0 for i in range(2, int(n**0.5)+1)):\n",
    "            primes.append(n)\n",
    "    return primes\n",
    "\n",
    "# Calculations\n",
    "results = {\n",
    "    \"sum\": sum(numbers),\n",
    "    \"max\": max(numbers),\n",
    "    \"min\": min(numbers),\n",
    "    \"average\": sum(numbers)/len(numbers),\n",
    "    \"even\": even_numbers(numbers),\n",
    "    \"odd\": odd_numbers(numbers),\n",
    "    \"prime\": prime_numbers(numbers)\n",
    "}\n",
    "\n",
    "# Print results\n",
    "for key, value in results.items():\n",
    "    print(f\"{key.capitalize()}: {value}\")\n",
    "```\n",
    "\n",
    "---\n",
    "\n",
    "## **Question 5: Flexible Task Logger (Decorator + `*args`, `**kwargs`)**\n",
    "\n",
    "```python\n",
    "import functools\n",
    "\n",
    "# Decorator to log task execution\n",
    "def task_logger(func):\n",
    "    @functools.wraps(func)\n",
    "    def wrapper(*args, **kwargs):\n",
    "        print(f\"\\nStarting task: {func.__name__}\")\n",
    "        print(f\"Arguments: {args}\")\n",
    "        print(f\"Keyword Arguments: {kwargs}\")\n",
    "        result = func(*args, **kwargs)\n",
    "        print(f\"Finished task: {func.__name__}\")\n",
    "        return result\n",
    "    return wrapper\n",
    "\n",
    "# Task functions\n",
    "@task_logger\n",
    "def send_email(recipient, subject):\n",
    "    print(f\"Email sent to {recipient} with subject '{subject}'\")\n",
    "\n",
    "@task_logger\n",
    "def generate_report(name, pages=1):\n",
    "    print(f\"Report '{name}' generated with {pages} pages\")\n",
    "\n",
    "@task_logger\n",
    "def backup_files(*files):\n",
    "    print(f\"Backing up files: {files}\")\n",
    "\n",
    "# Test the functions\n",
    "send_email(\"alice@example.com\", subject=\"Meeting Reminder\")\n",
    "generate_report(\"Annual Report\", pages=10)\n",
    "backup_files(\"file1.txt\", \"file2.txt\", \"file3.txt\")\n",
    "```\n",
    "\n",
    "\n"
   ]
  },
  {
   "cell_type": "markdown",
   "id": "7f6e2347",
   "metadata": {},
   "source": []
  }
 ],
 "metadata": {
  "kernelspec": {
   "display_name": "base",
   "language": "python",
   "name": "python3"
  },
  "language_info": {
   "codemirror_mode": {
    "name": "ipython",
    "version": 3
   },
   "file_extension": ".py",
   "mimetype": "text/x-python",
   "name": "python",
   "nbconvert_exporter": "python",
   "pygments_lexer": "ipython3",
   "version": "3.13.2"
  }
 },
 "nbformat": 4,
 "nbformat_minor": 5
}
