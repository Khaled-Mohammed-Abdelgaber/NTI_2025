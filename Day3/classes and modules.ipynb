{
 "cells": [
  {
   "cell_type": "markdown",
   "id": "d7071f5f",
   "metadata": {},
   "source": [
    "## **1. Everything in Python is an Object**\n",
    "\n",
    "Python’s philosophy: **“Everything is an object”**. This includes:\n",
    "\n",
    "* Numbers, strings, lists, dicts\n",
    "* Functions\n",
    "* Modules\n",
    "* Classes themselves\n"
   ]
  },
  {
   "cell_type": "code",
   "execution_count": 1,
   "id": "1586e8ca",
   "metadata": {},
   "outputs": [
    {
     "name": "stdout",
     "output_type": "stream",
     "text": [
      "<class 'int'>\n",
      "True\n"
     ]
    }
   ],
   "source": [
    "x = 42\n",
    "print(type(x))         # <class 'int'>\n",
    "print(isinstance(x, object))  # True"
   ]
  },
  {
   "cell_type": "code",
   "execution_count": 2,
   "id": "af825f55",
   "metadata": {},
   "outputs": [
    {
     "name": "stdout",
     "output_type": "stream",
     "text": [
      "<class 'function'>\n",
      "True\n"
     ]
    }
   ],
   "source": [
    "def hello():\n",
    "    return \"Hi\"\n",
    "\n",
    "print(type(hello))      # <class 'function'>\n",
    "print(isinstance(hello, object))  # True"
   ]
  },
  {
   "cell_type": "code",
   "execution_count": 3,
   "id": "e27b0af8",
   "metadata": {},
   "outputs": [
    {
     "name": "stdout",
     "output_type": "stream",
     "text": [
      "<class 'type'>\n",
      "True\n"
     ]
    }
   ],
   "source": [
    "class MyClass:\n",
    "    pass\n",
    "\n",
    "print(type(MyClass))    # <class 'type'>\n",
    "print(isinstance(MyClass, object))  # True"
   ]
  },
  {
   "cell_type": "markdown",
   "id": "0064dd48",
   "metadata": {},
   "source": [
    "💡 **Tip:** Since classes are objects, you can:\n",
    "\n",
    "* Pass classes as arguments to functions.\n",
    "* Return classes from functions.\n",
    "* Create classes dynamically using `type()`.\n"
   ]
  },
  {
   "cell_type": "code",
   "execution_count": 4,
   "id": "9e5ca2bd",
   "metadata": {},
   "outputs": [
    {
     "name": "stdout",
     "output_type": "stream",
     "text": [
      "Hello\n"
     ]
    }
   ],
   "source": [
    "# Dynamic class creation\n",
    "DynamicPerson = type(\"DynamicPerson\", (object,), {\"greet\": lambda self: \"Hello\"})\n",
    "p = DynamicPerson()\n",
    "print(p.greet())  # Hello"
   ]
  },
  {
   "cell_type": "markdown",
   "id": "bfde7de8",
   "metadata": {},
   "source": [
    "## **2. Class Anatomy in Python**\n",
    "\n",
    "A class in Python consists of:\n",
    "\n",
    "* **Attributes (fields)**: Variables associated with the object\n",
    "\n",
    "  * Instance attributes (`self.name`)\n",
    "  * Class attributes (`Person.species`)\n",
    "* **Methods**: Functions inside classes\n",
    "\n",
    "  * Instance methods (need `self`)\n",
    "  * Class methods (use `cls`)\n",
    "  * Static methods (don’t use `self` or `cls`)\n",
    "* **Special Methods**: Dunder methods (`__init__`, `__str__`, `__add__`, etc.)\n"
   ]
  },
  {
   "cell_type": "code",
   "execution_count": 5,
   "id": "8b0f3021",
   "metadata": {},
   "outputs": [],
   "source": [
    "class Car:\n",
    "    wheels = 4  # class attribute\n",
    "\n",
    "    def __init__(self, brand, color):\n",
    "        self.brand = brand  # instance attribute\n",
    "        self.color = color\n",
    "\n",
    "    def drive(self):\n",
    "        print(f\"{self.brand} is driving.\")\n",
    "\n",
    "    @classmethod\n",
    "    def car_info(cls):\n",
    "        print(f\"A car usually has {cls.wheels} wheels.\")\n",
    "\n",
    "    @staticmethod\n",
    "    def honk():\n",
    "        print(\"Beep beep!\")"
   ]
  },
  {
   "cell_type": "markdown",
   "id": "24e7ff34",
   "metadata": {},
   "source": [
    "## **3. Object Creation & Initialization**\n",
    "\n",
    "* Python calls `__new__()` to **allocate memory**.\n",
    "* Then `__init__()` **initializes the instance**.\n"
   ]
  },
  {
   "cell_type": "markdown",
   "id": "98add2c4",
   "metadata": {},
   "source": [
    "💡 **Tip:** You rarely need `__new__`, but it’s useful for **singleton patterns** or **immutable objects** like `int` or `str`."
   ]
  },
  {
   "cell_type": "code",
   "execution_count": 6,
   "id": "742bbecd",
   "metadata": {},
   "outputs": [
    {
     "name": "stdout",
     "output_type": "stream",
     "text": [
      "Creating instance...\n",
      "Initializing instance...\n"
     ]
    }
   ],
   "source": [
    "class Example:\n",
    "    def __new__(cls, *args, **kwargs):\n",
    "        print(\"Creating instance...\")\n",
    "        return super().__new__(cls)\n",
    "\n",
    "    def __init__(self, value):\n",
    "        print(\"Initializing instance...\")\n",
    "        self.value = value\n",
    "\n",
    "e = Example(10)"
   ]
  },
  {
   "cell_type": "markdown",
   "id": "bb6388ae",
   "metadata": {},
   "source": [
    "## **4. Instance vs Class Attributes**\n",
    "\n",
    "* **Instance attributes**: Unique to each object\n",
    "* **Class attributes**: Shared across all instances"
   ]
  },
  {
   "cell_type": "code",
   "execution_count": 7,
   "id": "c1e4a8d9",
   "metadata": {},
   "outputs": [
    {
     "name": "stdout",
     "output_type": "stream",
     "text": [
      "XYZ School Alice\n",
      "XYZ School Bob\n",
      "ABC School\n"
     ]
    }
   ],
   "source": [
    "class Student:\n",
    "    school = \"XYZ School\"  # class attribute\n",
    "\n",
    "    def __init__(self, name):\n",
    "        self.name = name  # instance attribute\n",
    "\n",
    "s1 = Student(\"Alice\")\n",
    "s2 = Student(\"Bob\")\n",
    "\n",
    "print(s1.school, s1.name)  # XYZ School Alice\n",
    "print(s2.school, s2.name)  # XYZ School Bob\n",
    "\n",
    "# Changing class attribute\n",
    "Student.school = \"ABC School\"\n",
    "print(s1.school)  # ABC School"
   ]
  },
  {
   "cell_type": "markdown",
   "id": "0b124c61",
   "metadata": {},
   "source": [
    "💡 **Trick:** Avoid mutable class attributes like lists or dicts unless intentional, because all instances share them."
   ]
  },
  {
   "cell_type": "code",
   "execution_count": 8,
   "id": "df68a92e",
   "metadata": {},
   "outputs": [
    {
     "name": "stdout",
     "output_type": "stream",
     "text": [
      "[1]\n"
     ]
    }
   ],
   "source": [
    "class BadExample:\n",
    "    items = []  # shared mutable list\n",
    "\n",
    "a = BadExample()\n",
    "b = BadExample()\n",
    "\n",
    "a.items.append(1)\n",
    "print(b.items)  # [1] → b shares the same list!"
   ]
  },
  {
   "cell_type": "markdown",
   "id": "89397cd4",
   "metadata": {},
   "source": [
    "✅ **Fix**: Use instance attributes for mutable defaults."
   ]
  },
  {
   "cell_type": "code",
   "execution_count": 9,
   "id": "befcdbf6",
   "metadata": {},
   "outputs": [],
   "source": [
    "class GoodExample:\n",
    "    def __init__(self):\n",
    "        self.items = []"
   ]
  },
  {
   "cell_type": "markdown",
   "id": "d7233796",
   "metadata": {},
   "source": [
    "## **5. Inheritance & Polymorphism**\n",
    "\n",
    "* **Single Inheritance**"
   ]
  },
  {
   "cell_type": "code",
   "execution_count": 10,
   "id": "b8f8f044",
   "metadata": {},
   "outputs": [
    {
     "name": "stdout",
     "output_type": "stream",
     "text": [
      "Bark\n"
     ]
    }
   ],
   "source": [
    "\n",
    "class Animal:\n",
    "    def speak(self):\n",
    "        print(\"Some sound\")\n",
    "\n",
    "class Dog(Animal):\n",
    "    def speak(self):\n",
    "        print(\"Bark\")\n",
    "\n",
    "d = Dog()\n",
    "d.speak()  # Bark"
   ]
  },
  {
   "cell_type": "markdown",
   "id": "28accf9b",
   "metadata": {},
   "source": [
    "* **Multiple Inheritance**"
   ]
  },
  {
   "cell_type": "code",
   "execution_count": 11,
   "id": "dcd85f44",
   "metadata": {},
   "outputs": [
    {
     "name": "stdout",
     "output_type": "stream",
     "text": [
      "Flying...\n",
      "Swimming...\n"
     ]
    }
   ],
   "source": [
    "class Flyer:\n",
    "    def fly(self):\n",
    "        print(\"Flying...\")\n",
    "\n",
    "class Swimmer:\n",
    "    def swim(self):\n",
    "        print(\"Swimming...\")\n",
    "\n",
    "class Duck(Flyer, Swimmer):\n",
    "    pass\n",
    "\n",
    "d = Duck()\n",
    "d.fly()   # Flying...\n",
    "d.swim()  # Swimming..."
   ]
  },
  {
   "cell_type": "markdown",
   "id": "5a2c3bca",
   "metadata": {},
   "source": [
    "💡 **Tip:** Python uses **Method Resolution Order (MRO)** to decide which method to call. Check it using:"
   ]
  },
  {
   "cell_type": "code",
   "execution_count": 12,
   "id": "71b4b399",
   "metadata": {},
   "outputs": [
    {
     "name": "stdout",
     "output_type": "stream",
     "text": [
      "[<class '__main__.Duck'>, <class '__main__.Flyer'>, <class '__main__.Swimmer'>, <class 'object'>]\n"
     ]
    }
   ],
   "source": [
    "print(Duck.mro())"
   ]
  },
  {
   "cell_type": "markdown",
   "id": "bf07a7b7",
   "metadata": {},
   "source": [
    "## **6. Encapsulation & Name Mangling**\n",
    "\n",
    "* **Public** → normal attributes\n",
    "* **Protected** → prefix `_` (convention, not enforced)\n",
    "* **Private** → prefix `__` (name mangling)"
   ]
  },
  {
   "cell_type": "code",
   "execution_count": 13,
   "id": "bf58f105",
   "metadata": {},
   "outputs": [
    {
     "name": "stdout",
     "output_type": "stream",
     "text": [
      "visible\n",
      "semi-hidden\n",
      "hidden\n"
     ]
    }
   ],
   "source": [
    "class Secret:\n",
    "    def __init__(self):\n",
    "        self.public = \"visible\"\n",
    "        self._protected = \"semi-hidden\"\n",
    "        self.__private = \"hidden\"\n",
    "\n",
    "s = Secret()\n",
    "print(s.public)       # visible\n",
    "print(s._protected)   # semi-hidden\n",
    "# print(s.__private)  # AttributeError\n",
    "print(s._Secret__private)  # hidden (name mangling)"
   ]
  },
  {
   "cell_type": "markdown",
   "id": "bd03c6bc",
   "metadata": {},
   "source": [
    "💡 **Trick:** Name mangling avoids accidental overrides in subclasses."
   ]
  },
  {
   "cell_type": "code",
   "execution_count": null,
   "id": "9cd6427d",
   "metadata": {},
   "outputs": [],
   "source": []
  },
  {
   "cell_type": "markdown",
   "id": "9b7f9255",
   "metadata": {},
   "source": [
    "## **7. Property Decorators (`@property`)**\n",
    "\n",
    "Pythonic way to create **getters and setters**.\n"
   ]
  },
  {
   "cell_type": "code",
   "execution_count": 14,
   "id": "16c20409",
   "metadata": {},
   "outputs": [
    {
     "name": "stdout",
     "output_type": "stream",
     "text": [
      "5\n"
     ]
    }
   ],
   "source": [
    "class Circle:\n",
    "    def __init__(self, radius):\n",
    "        self._radius = radius\n",
    "\n",
    "    @property\n",
    "    def radius(self):\n",
    "        return self._radius\n",
    "\n",
    "    @radius.setter\n",
    "    def radius(self, value):\n",
    "        if value <= 0:\n",
    "            raise ValueError(\"Radius must be positive\")\n",
    "        self._radius = value\n",
    "\n",
    "c = Circle(5)\n",
    "print(c.radius)  # 5\n",
    "c.radius = 10    # OK\n",
    "# c.radius = -3  # ValueError"
   ]
  },
  {
   "cell_type": "markdown",
   "id": "3a0bfa90",
   "metadata": {},
   "source": [
    "💡 **Tip:** Use `@property` to keep a clean API without exposing internal attributes.\n",
    "---"
   ]
  },
  {
   "cell_type": "markdown",
   "id": "71032576",
   "metadata": {},
   "source": [
    "## **8. Special Methods (Magic / Dunder Methods)**\n",
    "\n",
    "| Method        | Purpose                              |\n",
    "| ------------- | ------------------------------------ |\n",
    "| `__init__`    | Constructor                          |\n",
    "| `__new__`     | Memory allocation                    |\n",
    "| `__str__`     | Human-readable string                |\n",
    "| `__repr__`    | Official string representation       |\n",
    "| `__len__`     | Support `len(obj)`                   |\n",
    "| `__getitem__` | Indexing support `obj[key]`          |\n",
    "| `__setitem__` | Setting item `obj[key]=value`        |\n",
    "| `__add__`     | Overload `+` operator                |\n",
    "| `__call__`    | Make object callable like a function |\n",
    "\n",
    "**Example: Custom Vector Class**"
   ]
  },
  {
   "cell_type": "code",
   "execution_count": 15,
   "id": "51bc6587",
   "metadata": {},
   "outputs": [
    {
     "name": "stdout",
     "output_type": "stream",
     "text": [
      "Vector(4, 6)\n"
     ]
    }
   ],
   "source": [
    "class Vector:\n",
    "    def __init__(self, x, y):\n",
    "        self.x, self.y = x, y\n",
    "\n",
    "    def __add__(self, other):\n",
    "        return Vector(self.x + other.x, self.y + other.y)\n",
    "\n",
    "    def __repr__(self):\n",
    "        return f\"Vector({self.x}, {self.y})\"\n",
    "\n",
    "v1 = Vector(1, 2)\n",
    "v2 = Vector(3, 4)\n",
    "print(v1 + v2)  # Vector(4, 6)"
   ]
  },
  {
   "cell_type": "markdown",
   "id": "28d3df12",
   "metadata": {},
   "source": [
    "\n",
    "💡 **Trick:** Implementing `__repr__` properly makes debugging easier.\n",
    "\n",
    "---"
   ]
  },
  {
   "cell_type": "markdown",
   "id": "9be0d62a",
   "metadata": {},
   "source": [
    "## **9. Classmethods & Staticmethods**"
   ]
  },
  {
   "cell_type": "code",
   "execution_count": 16,
   "id": "3d825d31",
   "metadata": {},
   "outputs": [
    {
     "name": "stdout",
     "output_type": "stream",
     "text": [
      "Fahrenheit\n",
      "32.0\n"
     ]
    }
   ],
   "source": [
    "class Temperature:\n",
    "    scale = \"Celsius\"\n",
    "\n",
    "    @classmethod\n",
    "    def set_scale(cls, new_scale):\n",
    "        cls.scale = new_scale\n",
    "\n",
    "    @staticmethod\n",
    "    def c_to_f(c):\n",
    "        return c * 9/5 + 32\n",
    "\n",
    "Temperature.set_scale(\"Fahrenheit\")\n",
    "print(Temperature.scale)  # Fahrenheit\n",
    "print(Temperature.c_to_f(0))  # 32"
   ]
  },
  {
   "cell_type": "markdown",
   "id": "4d63e166",
   "metadata": {},
   "source": [
    "**Rules:**\n",
    "\n",
    "* `@staticmethod`: No access to `cls` or `self`\n",
    "* `@classmethod`: Access to class (`cls`) but not instance (`self`)\n",
    "\n",
    "---\n",
    "\n",
    "## **10. Metaclasses (Advanced)**\n",
    "* **Metaclasses** define **how classes themselves are created**.\n",
    "* Everything is an object; classes are instances of `type`."
   ]
  },
  {
   "cell_type": "code",
   "execution_count": 17,
   "id": "3d385e29",
   "metadata": {},
   "outputs": [
    {
     "name": "stdout",
     "output_type": "stream",
     "text": [
      "Creating class MyClass\n"
     ]
    }
   ],
   "source": [
    "class Meta(type):\n",
    "    def __new__(cls, name, bases, dct):\n",
    "        print(f\"Creating class {name}\")\n",
    "        return super().__new__(cls, name, bases, dct)\n",
    "\n",
    "class MyClass(metaclass=Meta):\n",
    "    pass\n",
    "\n",
    "# Output: Creating class MyClass"
   ]
  },
  {
   "cell_type": "markdown",
   "id": "ac4b8911",
   "metadata": {},
   "source": [
    "💡 **Tip:** Metaclasses are powerful for **frameworks, ORM models**, or **automatic registration of classes**.\n",
    "---\n",
    "## **11. Python Tips & Tricks with Classes**\n",
    "\n",
    "1. **Dynamic attributes**"
   ]
  },
  {
   "cell_type": "code",
   "execution_count": 18,
   "id": "4900d96f",
   "metadata": {},
   "outputs": [],
   "source": [
    "class Person: pass\n",
    "p = Person()\n",
    "p.name = \"Alice\"  # Add attribute at runtime"
   ]
  },
  {
   "cell_type": "markdown",
   "id": "303852c6",
   "metadata": {},
   "source": [
    "2. **Dynamic methods**"
   ]
  },
  {
   "cell_type": "code",
   "execution_count": 19,
   "id": "e2fac385",
   "metadata": {},
   "outputs": [
    {
     "name": "stdout",
     "output_type": "stream",
     "text": [
      "Hello!\n"
     ]
    }
   ],
   "source": [
    "def greet(self):\n",
    "    print(\"Hello!\")\n",
    "import types\n",
    "p.say_hello = types.MethodType(greet, p)\n",
    "p.say_hello()  # Hello!"
   ]
  },
  {
   "cell_type": "markdown",
   "id": "1072b2fc",
   "metadata": {},
   "source": [
    "3. **Using `__slots__`** to save memory for many objects"
   ]
  },
  {
   "cell_type": "code",
   "execution_count": 20,
   "id": "1698a6d5",
   "metadata": {},
   "outputs": [],
   "source": [
    "class Point:\n",
    "    __slots__ = (\"x\", \"y\")\n",
    "    def __init__(self, x, y):\n",
    "        self.x = x\n",
    "        self.y = y"
   ]
  },
  {
   "cell_type": "markdown",
   "id": "fd611c1d",
   "metadata": {},
   "source": [
    "4. **Callable objects**"
   ]
  },
  {
   "cell_type": "code",
   "execution_count": 21,
   "id": "e78c185d",
   "metadata": {},
   "outputs": [
    {
     "name": "stdout",
     "output_type": "stream",
     "text": [
      "15\n"
     ]
    }
   ],
   "source": [
    "class Adder:\n",
    "    def __init__(self, n):\n",
    "        self.n = n\n",
    "    def __call__(self, x):\n",
    "        return x + self.n\n",
    "\n",
    "add5 = Adder(5)\n",
    "print(add5(10))  # 15"
   ]
  },
  {
   "cell_type": "markdown",
   "id": "188cb126",
   "metadata": {},
   "source": [
    "\n",
    "5. **Singleton pattern**\n"
   ]
  },
  {
   "cell_type": "code",
   "execution_count": 22,
   "id": "eef492b4",
   "metadata": {},
   "outputs": [
    {
     "name": "stdout",
     "output_type": "stream",
     "text": [
      "True\n"
     ]
    }
   ],
   "source": [
    "class Singleton:\n",
    "    _instance = None\n",
    "    def __new__(cls, *args, **kwargs):\n",
    "        if not cls._instance:\n",
    "            cls._instance = super().__new__(cls)\n",
    "        return cls._instance\n",
    "\n",
    "a = Singleton()\n",
    "b = Singleton()\n",
    "print(a is b)  # True"
   ]
  },
  {
   "cell_type": "markdown",
   "id": "f83fb9df",
   "metadata": {},
   "source": [
    "## **12. Summary**\n",
    "\n",
    "* **Classes = Blueprints**, objects = instances.\n",
    "* **Everything in Python is an object**, even classes.\n",
    "* **Attributes**: Instance vs Class\n",
    "* **Methods**: Instance, Class, Static\n",
    "* **Encapsulation**: Public, Protected, Private\n",
    "* **Magic Methods**: Overload operators, indexing, calling\n",
    "* **Inheritance**: Single & Multiple\n",
    "* **Metaclasses**: Customize class creation\n",
    "* **Tips/Tricks**: Dynamic attributes, `__slots__`, callable objects, singletons."
   ]
  },
  {
   "cell_type": "code",
   "execution_count": null,
   "id": "ec87e6df",
   "metadata": {},
   "outputs": [],
   "source": [
    "\n"
   ]
  }
 ],
 "metadata": {
  "kernelspec": {
   "display_name": "base",
   "language": "python",
   "name": "python3"
  },
  "language_info": {
   "codemirror_mode": {
    "name": "ipython",
    "version": 3
   },
   "file_extension": ".py",
   "mimetype": "text/x-python",
   "name": "python",
   "nbconvert_exporter": "python",
   "pygments_lexer": "ipython3",
   "version": "3.13.2"
  }
 },
 "nbformat": 4,
 "nbformat_minor": 5
}
