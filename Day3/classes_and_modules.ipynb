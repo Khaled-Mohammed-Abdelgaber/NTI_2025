{
  "cells": [
    {
      "cell_type": "markdown",
      "id": "d7071f5f",
      "metadata": {
        "id": "d7071f5f"
      },
      "source": [
        "## **1. Everything in Python is an Object**\n",
        "\n",
        "Python’s philosophy: **“Everything is an object”**. This includes:\n",
        "\n",
        "* Numbers, strings, lists, dicts\n",
        "* Functions\n",
        "* Modules\n",
        "* Classes themselves\n"
      ]
    },
    {
      "cell_type": "code",
      "execution_count": null,
      "id": "1586e8ca",
      "metadata": {
        "id": "1586e8ca",
        "outputId": "66a8db2f-072d-45b0-b1cf-87d5728fec4e"
      },
      "outputs": [
        {
          "name": "stdout",
          "output_type": "stream",
          "text": [
            "<class 'int'>\n",
            "True\n"
          ]
        }
      ],
      "source": [
        "x = 42\n",
        "print(type(x))         # <class 'int'>\n",
        "print(isinstance(x, object))  # True"
      ]
    },
    {
      "cell_type": "code",
      "execution_count": null,
      "id": "af825f55",
      "metadata": {
        "id": "af825f55",
        "outputId": "ab1d1066-5008-40fd-980f-e070bf877f96"
      },
      "outputs": [
        {
          "name": "stdout",
          "output_type": "stream",
          "text": [
            "<class 'function'>\n",
            "True\n"
          ]
        }
      ],
      "source": [
        "def hello():\n",
        "    return \"Hi\"\n",
        "\n",
        "print(type(hello))      # <class 'function'>\n",
        "print(isinstance(hello, object))  # True"
      ]
    },
    {
      "cell_type": "code",
      "execution_count": null,
      "id": "e27b0af8",
      "metadata": {
        "id": "e27b0af8",
        "outputId": "b17d4c8c-2859-4b5e-d922-82fdae6441c7"
      },
      "outputs": [
        {
          "name": "stdout",
          "output_type": "stream",
          "text": [
            "<class 'type'>\n",
            "True\n"
          ]
        }
      ],
      "source": [
        "class MyClass:\n",
        "    pass\n",
        "\n",
        "print(type(MyClass))    # <class 'type'>\n",
        "print(isinstance(MyClass, object))  # True"
      ]
    },
    {
      "cell_type": "markdown",
      "id": "0064dd48",
      "metadata": {
        "id": "0064dd48"
      },
      "source": [
        "💡 **Tip:** Since classes are objects, you can:\n",
        "\n",
        "* Pass classes as arguments to functions.\n",
        "* Return classes from functions.\n",
        "* Create classes dynamically using `type()`.\n"
      ]
    },
    {
      "cell_type": "code",
      "execution_count": null,
      "id": "9e5ca2bd",
      "metadata": {
        "id": "9e5ca2bd",
        "outputId": "57d846c6-604d-4bf0-c907-63efa8caf5b7"
      },
      "outputs": [
        {
          "name": "stdout",
          "output_type": "stream",
          "text": [
            "Hello\n"
          ]
        }
      ],
      "source": [
        "# Dynamic class creation\n",
        "DynamicPerson = type(\"DynamicPerson\", (object,), {\"greet\": lambda self: \"Hello\"})\n",
        "p = DynamicPerson()\n",
        "print(p.greet())  # Hello"
      ]
    },
    {
      "cell_type": "markdown",
      "id": "bfde7de8",
      "metadata": {
        "id": "bfde7de8"
      },
      "source": [
        "## **2. Class Anatomy in Python**\n",
        "\n",
        "A class in Python consists of:\n",
        "\n",
        "* **Attributes (fields)**: Variables associated with the object\n",
        "\n",
        "  * Instance attributes (`self.name`)\n",
        "  * Class attributes (`Person.species`)\n",
        "* **Methods**: Functions inside classes\n",
        "\n",
        "  * Instance methods (need `self`)\n",
        "  * Class methods (use `cls`)\n",
        "  * Static methods (don’t use `self` or `cls`)\n",
        "* **Special Methods**: Dunder methods (`__init__`, `__str__`, `__add__`, etc.)\n"
      ]
    },
    {
      "cell_type": "code",
      "execution_count": null,
      "id": "8b0f3021",
      "metadata": {
        "id": "8b0f3021"
      },
      "outputs": [],
      "source": [
        "class Car:\n",
        "    wheels = 4  # class attribute\n",
        "\n",
        "    def __init__(self, brand, color):\n",
        "        self.brand = brand  # instance attribute\n",
        "        self.color = color\n",
        "\n",
        "    def drive(self):\n",
        "        print(f\"{self.brand} is driving.\")\n",
        "\n",
        "    @classmethod\n",
        "    def car_info(cls):\n",
        "        print(f\"A car usually has {cls.wheels} wheels.\")\n",
        "\n",
        "    @staticmethod\n",
        "    def honk():\n",
        "        print(\"Beep beep!\")"
      ]
    },
    {
      "cell_type": "markdown",
      "id": "24e7ff34",
      "metadata": {
        "id": "24e7ff34"
      },
      "source": [
        "## **3. Object Creation & Initialization**\n",
        "\n",
        "* Python calls `__new__()` to **allocate memory**.\n",
        "* Then `__init__()` **initializes the instance**.\n"
      ]
    },
    {
      "cell_type": "markdown",
      "id": "98add2c4",
      "metadata": {
        "id": "98add2c4"
      },
      "source": [
        "💡 **Tip:** You rarely need `__new__`, but it’s useful for **singleton patterns** or **immutable objects** like `int` or `str`."
      ]
    },
    {
      "cell_type": "code",
      "execution_count": null,
      "id": "742bbecd",
      "metadata": {
        "id": "742bbecd",
        "outputId": "2634f834-7e0f-4df5-cfb0-675b2270ee6c"
      },
      "outputs": [
        {
          "name": "stdout",
          "output_type": "stream",
          "text": [
            "Creating instance...\n",
            "Initializing instance...\n"
          ]
        }
      ],
      "source": [
        "class Example:\n",
        "    def __new__(cls, *args, **kwargs):\n",
        "        print(\"Creating instance...\")\n",
        "        return super().__new__(cls)\n",
        "\n",
        "    def __init__(self, value):\n",
        "        print(\"Initializing instance...\")\n",
        "        self.value = value\n",
        "\n",
        "e = Example(10)"
      ]
    },
    {
      "cell_type": "markdown",
      "id": "bb6388ae",
      "metadata": {
        "id": "bb6388ae"
      },
      "source": [
        "## **4. Instance vs Class Attributes**\n",
        "\n",
        "* **Instance attributes**: Unique to each object\n",
        "* **Class attributes**: Shared across all instances"
      ]
    },
    {
      "cell_type": "code",
      "execution_count": null,
      "id": "c1e4a8d9",
      "metadata": {
        "id": "c1e4a8d9",
        "outputId": "42d4e760-66fd-4ef1-c0c0-6cbe3e871427"
      },
      "outputs": [
        {
          "name": "stdout",
          "output_type": "stream",
          "text": [
            "XYZ School Alice\n",
            "XYZ School Bob\n",
            "ABC School\n"
          ]
        }
      ],
      "source": [
        "class Student:\n",
        "    school = \"XYZ School\"  # class attribute\n",
        "\n",
        "    def __init__(self, name):\n",
        "        self.name = name  # instance attribute\n",
        "\n",
        "s1 = Student(\"Alice\")\n",
        "s2 = Student(\"Bob\")\n",
        "\n",
        "print(s1.school, s1.name)  # XYZ School Alice\n",
        "print(s2.school, s2.name)  # XYZ School Bob\n",
        "\n",
        "# Changing class attribute\n",
        "Student.school = \"ABC School\"\n",
        "print(s1.school)  # ABC School"
      ]
    },
    {
      "cell_type": "markdown",
      "id": "0b124c61",
      "metadata": {
        "id": "0b124c61"
      },
      "source": [
        "💡 **Trick:** Avoid mutable class attributes like lists or dicts unless intentional, because all instances share them."
      ]
    },
    {
      "cell_type": "code",
      "execution_count": null,
      "id": "df68a92e",
      "metadata": {
        "id": "df68a92e",
        "outputId": "c9c0c8a3-d21a-4f59-fdbf-2f2a8a4b5fdc"
      },
      "outputs": [
        {
          "name": "stdout",
          "output_type": "stream",
          "text": [
            "[1]\n"
          ]
        }
      ],
      "source": [
        "class BadExample:\n",
        "    items = []  # shared mutable list\n",
        "\n",
        "a = BadExample()\n",
        "b = BadExample()\n",
        "\n",
        "a.items.append(1)\n",
        "print(b.items)  # [1] → b shares the same list!"
      ]
    },
    {
      "cell_type": "markdown",
      "id": "89397cd4",
      "metadata": {
        "id": "89397cd4"
      },
      "source": [
        "✅ **Fix**: Use instance attributes for mutable defaults."
      ]
    },
    {
      "cell_type": "code",
      "execution_count": null,
      "id": "befcdbf6",
      "metadata": {
        "id": "befcdbf6"
      },
      "outputs": [],
      "source": [
        "class GoodExample:\n",
        "    def __init__(self):\n",
        "        self.items = []"
      ]
    },
    {
      "cell_type": "markdown",
      "id": "d7233796",
      "metadata": {
        "id": "d7233796"
      },
      "source": [
        "## **5. Inheritance & Polymorphism**\n",
        "\n",
        "* **Single Inheritance**"
      ]
    },
    {
      "cell_type": "code",
      "execution_count": null,
      "id": "b8f8f044",
      "metadata": {
        "id": "b8f8f044",
        "outputId": "21508d07-76f2-4f4e-a9e1-3fe0dcd0c39a"
      },
      "outputs": [
        {
          "name": "stdout",
          "output_type": "stream",
          "text": [
            "Bark\n"
          ]
        }
      ],
      "source": [
        "\n",
        "class Animal:\n",
        "    def speak(self):\n",
        "        print(\"Some sound\")\n",
        "\n",
        "class Dog(Animal):\n",
        "    def speak(self):\n",
        "        print(\"Bark\")\n",
        "\n",
        "d = Dog()\n",
        "d.speak()  # Bark"
      ]
    },
    {
      "cell_type": "markdown",
      "id": "28accf9b",
      "metadata": {
        "id": "28accf9b"
      },
      "source": [
        "* **Multiple Inheritance**"
      ]
    },
    {
      "cell_type": "code",
      "execution_count": null,
      "id": "dcd85f44",
      "metadata": {
        "id": "dcd85f44",
        "outputId": "6f0abe6a-b279-43ed-adc0-a058834a7aa4"
      },
      "outputs": [
        {
          "name": "stdout",
          "output_type": "stream",
          "text": [
            "Flying...\n",
            "Swimming...\n"
          ]
        }
      ],
      "source": [
        "class Flyer:\n",
        "    def fly(self):\n",
        "        print(\"Flying...\")\n",
        "\n",
        "class Swimmer:\n",
        "    def swim(self):\n",
        "        print(\"Swimming...\")\n",
        "\n",
        "class Duck(Flyer, Swimmer):\n",
        "    pass\n",
        "\n",
        "d = Duck()\n",
        "d.fly()   # Flying...\n",
        "d.swim()  # Swimming..."
      ]
    },
    {
      "cell_type": "markdown",
      "id": "5a2c3bca",
      "metadata": {
        "id": "5a2c3bca"
      },
      "source": [
        "💡 **Tip:** Python uses **Method Resolution Order (MRO)** to decide which method to call. Check it using:"
      ]
    },
    {
      "cell_type": "code",
      "execution_count": null,
      "id": "71b4b399",
      "metadata": {
        "id": "71b4b399",
        "outputId": "d7ad5e8d-bb7e-48f0-d850-07f3005667df"
      },
      "outputs": [
        {
          "name": "stdout",
          "output_type": "stream",
          "text": [
            "[<class '__main__.Duck'>, <class '__main__.Flyer'>, <class '__main__.Swimmer'>, <class 'object'>]\n"
          ]
        }
      ],
      "source": [
        "print(Duck.mro())"
      ]
    },
    {
      "cell_type": "markdown",
      "source": [
        "## 1. Quick Recap: What is Inheritance?\n",
        "\n",
        "Inheritance allows a **child (subclass)** to reuse and extend functionality of a **parent (base class)**.\n",
        "\n"
      ],
      "metadata": {
        "id": "_KUSxM3HqWXB"
      },
      "id": "_KUSxM3HqWXB"
    },
    {
      "cell_type": "code",
      "source": [
        "class Animal:\n",
        "    def eat(self):\n",
        "        print(\"This animal eats food.\")\n",
        "\n",
        "class Dog(Animal):\n",
        "    def bark(self):\n",
        "        print(\"Woof!\")"
      ],
      "metadata": {
        "id": "lJKA7ZLkqcRr"
      },
      "id": "lJKA7ZLkqcRr",
      "execution_count": null,
      "outputs": []
    },
    {
      "cell_type": "markdown",
      "source": [
        "## 2. Method Overriding (Redefining Parent Methods)\n",
        "\n",
        "Child classes can **override** parent methods.\n"
      ],
      "metadata": {
        "id": "JJ2dYPUoqgRy"
      },
      "id": "JJ2dYPUoqgRy"
    },
    {
      "cell_type": "code",
      "source": [
        "class Animal:\n",
        "    def sound(self):\n",
        "        print(\"Some generic sound\")\n",
        "\n",
        "class Dog(Animal):\n",
        "    def sound(self):\n",
        "        print(\"Woof!\")"
      ],
      "metadata": {
        "id": "ngyVX82_qjhf"
      },
      "id": "ngyVX82_qjhf",
      "execution_count": null,
      "outputs": []
    },
    {
      "cell_type": "markdown",
      "source": [
        "➡️ When calling `Dog().sound()`, Python prefers the child’s method.\n",
        "\n",
        "---\n",
        "\n",
        "## 3. Using `super()` for Parent Access\n",
        "\n",
        "Sometimes you want to **reuse the parent’s version** of a method while extending it."
      ],
      "metadata": {
        "id": "2TOEYVhzqwep"
      },
      "id": "2TOEYVhzqwep"
    },
    {
      "cell_type": "code",
      "source": [
        "class Animal:\n",
        "    def sound(self):\n",
        "        print(\"Generic animal sound\")\n",
        "\n",
        "class Dog(Animal):\n",
        "    def sound(self):\n",
        "        super().sound()   # Call parent method\n",
        "        print(\"Woof!\")"
      ],
      "metadata": {
        "id": "7wp9cLJGq1lB"
      },
      "id": "7wp9cLJGq1lB",
      "execution_count": null,
      "outputs": []
    },
    {
      "cell_type": "markdown",
      "source": [
        "## 4. Multiple Inheritance\n",
        "\n",
        "Python allows a class to inherit from **multiple parents**."
      ],
      "metadata": {
        "id": "u85t4IJuq4hy"
      },
      "id": "u85t4IJuq4hy"
    },
    {
      "cell_type": "code",
      "source": [
        "class Flyer:\n",
        "    def action(self):\n",
        "        print(\"I can fly\")\n",
        "\n",
        "class Swimmer:\n",
        "    def action(self):\n",
        "        print(\"I can swim\")\n",
        "\n",
        "class Duck(Flyer, Swimmer):\n",
        "    pass\n",
        "\n",
        "d = Duck()\n",
        "d.action()   # I can fly (why not swim?)"
      ],
      "metadata": {
        "id": "iknRtHvkq8tB"
      },
      "id": "iknRtHvkq8tB",
      "execution_count": null,
      "outputs": []
    },
    {
      "cell_type": "markdown",
      "source": [
        "\n",
        "👉 Python follows the **Method Resolution Order (MRO)** — left to right in the class definition (`Flyer` before `Swimmer`).\n",
        "\n",
        "---\n",
        "\n",
        "## 5. Method Resolution Order (MRO)\n",
        "\n",
        "Use `ClassName.mro()` or `help(ClassName)` to see the order."
      ],
      "metadata": {
        "id": "GQHzpdCorCRh"
      },
      "id": "GQHzpdCorCRh"
    },
    {
      "cell_type": "code",
      "source": [
        "print(Duck.mro())"
      ],
      "metadata": {
        "id": "MiibLNcorGei"
      },
      "id": "MiibLNcorGei",
      "execution_count": null,
      "outputs": []
    },
    {
      "cell_type": "markdown",
      "source": [
        "✅ Python looks for methods in that exact order."
      ],
      "metadata": {
        "id": "t-1ZnK0IrJ7B"
      },
      "id": "t-1ZnK0IrJ7B"
    },
    {
      "cell_type": "markdown",
      "source": [
        "---\n",
        "\n",
        "## 6. Diamond Problem in Inheritance\n",
        "\n",
        "What if a class inherits from two classes that both inherit from the same parent?"
      ],
      "metadata": {
        "id": "cbnxG4_urNlS"
      },
      "id": "cbnxG4_urNlS"
    },
    {
      "cell_type": "code",
      "source": [
        "class A:\n",
        "    def action(self):\n",
        "        print(\"A action\")\n",
        "\n",
        "class B(A):\n",
        "    def action(self):\n",
        "        print(\"B action\")\n",
        "\n",
        "class C(A):\n",
        "    def action(self):\n",
        "        print(\"C action\")\n",
        "\n",
        "class D(B, C):\n",
        "    pass\n",
        "\n",
        "d = D()\n",
        "d.action()"
      ],
      "metadata": {
        "id": "5ODDE2-IrQ3S"
      },
      "id": "5ODDE2-IrQ3S",
      "execution_count": null,
      "outputs": []
    },
    {
      "cell_type": "markdown",
      "source": [
        "✅ Because MRO is `D → B → C → A → object`.\n",
        "Python solves the **diamond problem** automatically using MRO.\n",
        "\n",
        "---\n",
        "\n",
        "## 7. Mixins (Reusable Behaviors)\n",
        "\n",
        "A **mixin** is a small class meant to add extra functionality, not stand alone."
      ],
      "metadata": {
        "id": "21QVencyrVeh"
      },
      "id": "21QVencyrVeh"
    },
    {
      "cell_type": "code",
      "source": [
        "class LoggerMixin:\n",
        "    def log(self, message):\n",
        "        print(f\"[LOG]: {message}\")\n",
        "\n",
        "class Service(LoggerMixin):\n",
        "    def process(self):\n",
        "        self.log(\"Service started\")\n",
        "        print(\"Processing...\")\n",
        "        self.log(\"Service finished\")\n",
        "\n",
        "s = Service()\n",
        "s.process()\n"
      ],
      "metadata": {
        "id": "oGgDly_PraQ6"
      },
      "id": "oGgDly_PraQ6",
      "execution_count": null,
      "outputs": []
    },
    {
      "cell_type": "markdown",
      "source": [
        "✅ Mixins let you **compose behaviors** across classes.\n",
        "\n",
        "---\n",
        "\n",
        "## 8. Abstract Base Classes (ABCs) + Inheritance\n",
        "\n",
        "Use `abc` module to enforce **method implementation**."
      ],
      "metadata": {
        "id": "Vy0hWtrJrczB"
      },
      "id": "Vy0hWtrJrczB"
    },
    {
      "cell_type": "code",
      "source": [
        "from abc import ABC, abstractmethod\n",
        "\n",
        "class Shape(ABC):\n",
        "    @abstractmethod\n",
        "    def area(self):\n",
        "        pass\n",
        "\n",
        "class Circle(Shape):\n",
        "    def __init__(self, r):\n",
        "        self.r = r\n",
        "    def area(self):\n",
        "        return 3.14 * self.r * self.r\n",
        "\n",
        "c = Circle(5)\n",
        "print(c.area())"
      ],
      "metadata": {
        "id": "vvfcjh5Irgj6"
      },
      "id": "vvfcjh5Irgj6",
      "execution_count": null,
      "outputs": []
    },
    {
      "cell_type": "markdown",
      "source": [
        "✅ Any subclass **must** implement `area()`.\n",
        "\n",
        "---\n",
        "\n",
        "## 9. Class vs Instance Variables in Inheritance\n",
        "\n",
        "* **Class variables** are shared across instances.\n",
        "* **Instance variables** are unique per object.\n",
        "\n"
      ],
      "metadata": {
        "id": "rE4LUNYaroSA"
      },
      "id": "rE4LUNYaroSA"
    },
    {
      "cell_type": "code",
      "source": [
        "class Animal:\n",
        "    species = \"Unknown\"   # class variable\n",
        "    def __init__(self, name):\n",
        "        self.name = name  # instance variable\n",
        "\n",
        "class Dog(Animal):\n",
        "    species = \"Canine\"\n",
        "\n",
        "a = Animal(\"Thing\")\n",
        "d = Dog(\"Rex\")\n",
        "\n",
        "print(a.species, a.name)  # Unknown Thing\n",
        "print(d.species, d.name)  # Canine Rex\n"
      ],
      "metadata": {
        "id": "F2TlmY1_rsnY"
      },
      "id": "F2TlmY1_rsnY",
      "execution_count": null,
      "outputs": []
    },
    {
      "cell_type": "markdown",
      "source": [
        "## 10. Best Practices for Advanced Inheritance\n",
        "\n",
        "✔ Prefer **composition over inheritance** when possible (e.g., “has-a” instead of “is-a”).\n",
        "✔ Use **mixins** for small, reusable behaviors.\n",
        "✔ Keep inheritance trees **shallow** (too many levels → complexity).\n",
        "✔ Always check `mro()` in multiple inheritance scenarios.\n",
        "✔ Use `super()` consistently (Python 3’s `super()` is safe and preferred).\n",
        "\n",
        "---\n",
        "\n",
        "# ✅ Summary\n",
        "\n",
        "* **Method overriding & super()** let child classes reuse/extend parent methods.\n",
        "* **Multiple inheritance** works with Python’s **MRO**.\n",
        "* **Diamond problem** is solved using C3 linearization.\n",
        "* **Mixins** are a great way to share reusable behavior.\n",
        "* **Abstract base classes** enforce structure.\n",
        "* Be mindful of class vs instance variables.\n"
      ],
      "metadata": {
        "id": "Fs6RoFzzrk5J"
      },
      "id": "Fs6RoFzzrk5J"
    },
    {
      "cell_type": "markdown",
      "id": "726445d4",
      "metadata": {
        "id": "726445d4"
      },
      "source": [
        "# 📝 Inheritance Practice Problems\n",
        "\n",
        "---\n",
        "\n",
        "## 🔹 **Beginner Level**\n",
        "\n",
        "### **Problem 1: Employee Inheritance**\n",
        "\n",
        "Create a base class `Employee` with attributes: `name`, `salary`.\n",
        "\n",
        "* Add a method `get_details()` that prints employee info.\n",
        "* Inherit a class `Manager` that adds an attribute `department` and overrides `get_details()` to include it.\n",
        "\n",
        "**Expected Behavior:**\n",
        "\n",
        "```python\n",
        "m = Manager(\"Alice\", 8000, \"IT\")\n",
        "m.get_details()\n",
        "# Output: Name: Alice, Salary: 8000, Department: IT\n",
        "```\n",
        "\n",
        "---\n",
        "\n",
        "### **Problem 2: Vehicle Hierarchy**\n",
        "\n",
        "* Define a base class `Vehicle` with method `move()`.\n",
        "* Create subclasses `Car`, `Bike`, and `Truck` that override `move()` appropriately.\n",
        "\n",
        "**Expected Behavior:**\n",
        "\n",
        "```python\n",
        "v = Car()\n",
        "v.move()  # Car drives on road\n",
        "```\n",
        "\n",
        "---\n",
        "\n",
        "## 🔹 **Intermediate Level**\n",
        "\n",
        "### **Problem 3: Bank Accounts**\n",
        "\n",
        "Create a class `Account` with attributes: `balance`.\n",
        "\n",
        "* Add `deposit()` and `withdraw()` methods.\n",
        "* Create subclasses `SavingsAccount` and `CheckingAccount`.\n",
        "\n",
        "  * `SavingsAccount` should have an `interest_rate` and method `add_interest()`.\n",
        "  * `CheckingAccount` should charge a fee on withdrawals.\n",
        "\n",
        "---\n",
        "\n",
        "### **Problem 4: Shapes (Polymorphism + Inheritance)**\n",
        "\n",
        "* Create an abstract class `Shape` with abstract method `area()`.\n",
        "* Implement subclasses `Circle` and `Rectangle` with their own `area()`.\n",
        "\n",
        "**Expected Behavior:**\n",
        "\n",
        "```python\n",
        "shapes = [Circle(5), Rectangle(4, 6)]\n",
        "for s in shapes:\n",
        "    print(s.area())\n",
        "# Output:\n",
        "# 78.5\n",
        "# 24\n",
        "```\n",
        "\n",
        "---\n",
        "\n",
        "## 🔹 **Advanced Level**\n",
        "\n",
        "### **Problem 5: Multiple Inheritance – Smart Devices**\n",
        "\n",
        "Create classes:\n",
        "\n",
        "* `Camera` with method `take_photo()`.\n",
        "* `Phone` with method `make_call()`.\n",
        "* `SmartPhone` that inherits from both and adds method `browse_internet()`.\n",
        "\n",
        "**Expected Behavior:**\n",
        "\n",
        "```python\n",
        "s = SmartPhone()\n",
        "s.take_photo()       # Taking photo...\n",
        "s.make_call(\"123\")   # Calling 123...\n",
        "s.browse_internet()  # Browsing internet...\n",
        "```\n",
        "\n",
        "---\n",
        "\n",
        "### **Problem 6: Abstract Transport System**\n",
        "\n",
        "* Create an abstract base class `Transport` with abstract methods `move()` and `capacity()`.\n",
        "* Create subclasses `Bus`, `Train`, `Airplane`.\n",
        "* Each subclass must implement both methods differently.\n",
        "\n",
        "**Expected Behavior:**\n",
        "```python\n",
        "t = Train()\n",
        "t.move()      # Train runs on tracks\n",
        "print(t.capacity())  # 300 passengers\n",
        "```\n"
      ]
    },
    {
      "cell_type": "markdown",
      "id": "bf07a7b7",
      "metadata": {
        "id": "bf07a7b7"
      },
      "source": [
        "## **6. Encapsulation & Name Mangling**\n",
        "\n",
        "* **Public** → normal attributes\n",
        "* **Protected** → prefix `_` (convention, not enforced)\n",
        "* **Private** → prefix `__` (name mangling)"
      ]
    },
    {
      "cell_type": "code",
      "execution_count": null,
      "id": "bf58f105",
      "metadata": {
        "id": "bf58f105",
        "outputId": "18e63a04-9286-4728-ecda-0c2a6a848fe9"
      },
      "outputs": [
        {
          "name": "stdout",
          "output_type": "stream",
          "text": [
            "visible\n",
            "semi-hidden\n",
            "hidden\n"
          ]
        }
      ],
      "source": [
        "class Secret:\n",
        "    def __init__(self):\n",
        "        self.public = \"visible\"\n",
        "        self._protected = \"semi-hidden\"\n",
        "        self.__private = \"hidden\"\n",
        "\n",
        "s = Secret()\n",
        "print(s.public)       # visible\n",
        "print(s._protected)   # semi-hidden\n",
        "# print(s.__private)  # AttributeError\n",
        "print(s._Secret__private)  # hidden (name mangling)"
      ]
    },
    {
      "cell_type": "markdown",
      "id": "bd03c6bc",
      "metadata": {
        "id": "bd03c6bc"
      },
      "source": [
        "💡 **Trick:** Name mangling avoids accidental overrides in subclasses."
      ]
    },
    {
      "cell_type": "markdown",
      "id": "9b7f9255",
      "metadata": {
        "id": "9b7f9255"
      },
      "source": [
        "## **7. Property Decorators (`@property`)**\n",
        "\n",
        "Pythonic way to create **getters and setters**.\n"
      ]
    },
    {
      "cell_type": "markdown",
      "source": [
        "## 🔹 What is `@property`?\n",
        "\n",
        "The `@property` decorator allows you to turn a **method** into an **attribute**.\n",
        "This lets you **access methods like attributes** without calling them with parentheses.\n",
        "\n",
        "It’s part of Python’s **descriptor protocol** and is widely used for **encapsulation**.\n",
        "\n",
        "---\n",
        "\n",
        "## 🔹 Example: Without vs With `@property`\n",
        "\n",
        "### ✅ Without `@property`"
      ],
      "metadata": {
        "id": "fOg-87i_r-Kh"
      },
      "id": "fOg-87i_r-Kh"
    },
    {
      "cell_type": "code",
      "source": [
        "class Circle:\n",
        "    def __init__(self, radius):\n",
        "        self.radius = radius\n",
        "\n",
        "    def get_area(self):   # method\n",
        "        return 3.14 * self.radius ** 2\n",
        "\n",
        "c = Circle(5)\n",
        "print(c.get_area())   # must call like a function"
      ],
      "metadata": {
        "id": "BwxMJKOBsF6H"
      },
      "id": "BwxMJKOBsF6H",
      "execution_count": null,
      "outputs": []
    },
    {
      "cell_type": "markdown",
      "source": [
        "### ✅ With `@property`"
      ],
      "metadata": {
        "id": "0F3B1P4fsJ9p"
      },
      "id": "0F3B1P4fsJ9p"
    },
    {
      "cell_type": "code",
      "source": [
        "class Circle:\n",
        "    def __init__(self, radius):\n",
        "        self.radius = radius\n",
        "\n",
        "    @property\n",
        "    def area(self):   # property method\n",
        "        return 3.14 * self.radius ** 2\n",
        "\n",
        "c = Circle(5)\n",
        "print(c.area)   # looks like an attribute, but calls the method"
      ],
      "metadata": {
        "id": "gWmOnrdwsNPR"
      },
      "id": "gWmOnrdwsNPR",
      "execution_count": null,
      "outputs": []
    },
    {
      "cell_type": "markdown",
      "source": [
        "👉 Now `c.area` behaves like an **attribute**, but behind the scenes, it runs the method.\n",
        "\n",
        "---\n",
        "\n",
        "## 🔹 Why use `@property`?\n",
        "\n",
        "1. **Encapsulation (getter/setter control)**\n",
        "   You can control access to an attribute — e.g., validate before setting.\n"
      ],
      "metadata": {
        "id": "hqBsdknlsTff"
      },
      "id": "hqBsdknlsTff"
    },
    {
      "cell_type": "code",
      "source": [
        "   class Person:\n",
        "       def __init__(self, name):\n",
        "           self._name = name   # private attribute (by convention)\n",
        "\n",
        "       @property\n",
        "       def name(self):   # getter\n",
        "           return self._name\n",
        "\n",
        "       @name.setter\n",
        "       def name(self, value):   # setter\n",
        "           if not value.strip():\n",
        "               raise ValueError(\"Name cannot be empty!\")\n",
        "           self._name = value\n",
        "\n",
        "       @name.deleter\n",
        "       def name(self):   # deleter\n",
        "           print(\"Deleting name...\")\n",
        "           del self._name\n",
        "\n",
        "   p = Person(\"Ali\")\n",
        "   print(p.name)     # calls getter\n",
        "   p.name = \"Sara\"   # calls setter\n",
        "   del p.name        # calls deleter"
      ],
      "metadata": {
        "id": "dhKzZNZ4sY3y"
      },
      "id": "dhKzZNZ4sY3y",
      "execution_count": null,
      "outputs": []
    },
    {
      "cell_type": "markdown",
      "source": [
        "2. **Read-only attributes**\n",
        "   Sometimes you want an attribute that can be *read* but not *modified*.\n"
      ],
      "metadata": {
        "id": "f7AcdL92sfSQ"
      },
      "id": "f7AcdL92sfSQ"
    },
    {
      "cell_type": "code",
      "source": [
        "   class Rectangle:\n",
        "       def __init__(self, width, height):\n",
        "           self.width = width\n",
        "           self.height = height\n",
        "\n",
        "       @property\n",
        "       def area(self):\n",
        "           return self.width * self.height\n",
        "\n",
        "   r = Rectangle(4, 5)\n",
        "   print(r.area)   # 20\n",
        "   r.area = 100    # ❌ AttributeError (read-only)"
      ],
      "metadata": {
        "id": "Z9kUmiLDshMi"
      },
      "id": "Z9kUmiLDshMi",
      "execution_count": null,
      "outputs": []
    },
    {
      "cell_type": "markdown",
      "source": [
        "3. **Cleaner API**\n",
        "   You can use **attribute-style access** for something that is actually computed dynamically.\n",
        "\n",
        "---\n",
        "\n",
        "## 🔹 How it works under the hood\n",
        "\n",
        "The `@property` decorator is actually a **class** (like `@classmethod`).\n",
        "Simplified version:\n"
      ],
      "metadata": {
        "id": "VJS1s8eTsoTx"
      },
      "id": "VJS1s8eTsoTx"
    },
    {
      "cell_type": "code",
      "source": [
        "class property:\n",
        "    def __init__(self, fget=None, fset=None, fdel=None):\n",
        "        self.fget = fget\n",
        "        self.fset = fset\n",
        "        self.fdel = fdel\n",
        "\n",
        "    def __get__(self, instance, owner):\n",
        "        return self.fget(instance)\n",
        "\n",
        "    def __set__(self, instance, value):\n",
        "        if self.fset is None:\n",
        "            raise AttributeError(\"can't set attribute\")\n",
        "        self.fset(instance, value)\n",
        "\n",
        "    def __delete__(self, instance):\n",
        "        if self.fdel is None:\n",
        "            raise AttributeError(\"can't delete attribute\")\n",
        "        self.fdel(instance)"
      ],
      "metadata": {
        "id": "aG2nKAsmsr1Z"
      },
      "id": "aG2nKAsmsr1Z",
      "execution_count": null,
      "outputs": []
    },
    {
      "cell_type": "markdown",
      "id": "d673696e",
      "metadata": {
        "id": "d673696e"
      },
      "source": [
        "So:\n",
        "\n",
        "* `@property` → makes a getter\n",
        "* `@x.setter` → makes a setter\n",
        "* `@x.deleter` → makes a deleter\n",
        "\n",
        "---\n",
        "\n",
        "## ✅ Summary\n",
        "\n",
        "* `@property` turns a method into an attribute.\n",
        "* Allows **getter/setter/deleter** control while keeping a clean syntax.\n",
        "* Useful for **encapsulation, validation, computed attributes, and read-only values**.\n",
        "\n",
        "---\n"
      ]
    },
    {
      "cell_type": "code",
      "execution_count": null,
      "id": "16c20409",
      "metadata": {
        "id": "16c20409",
        "outputId": "a8832751-6ab9-4dc5-ae76-bf9d3270a01d"
      },
      "outputs": [
        {
          "name": "stdout",
          "output_type": "stream",
          "text": [
            "5\n"
          ]
        }
      ],
      "source": [
        "class Circle:\n",
        "    def __init__(self, radius):\n",
        "        self._radius = radius\n",
        "\n",
        "    @property\n",
        "    def radius(self):\n",
        "        return self._radius\n",
        "\n",
        "    @radius.setter\n",
        "    def radius(self, value):\n",
        "        if value <= 0:\n",
        "            raise ValueError(\"Radius must be positive\")\n",
        "        self._radius = value\n",
        "\n",
        "c = Circle(5)\n",
        "print(c.radius)  # 5\n",
        "c.radius = 10    # OK\n",
        "# c.radius = -3  # ValueError"
      ]
    },
    {
      "cell_type": "markdown",
      "id": "3a0bfa90",
      "metadata": {
        "id": "3a0bfa90"
      },
      "source": [
        "💡 **Tip:** Use `@property` to keep a clean API without exposing internal attributes.\n",
        "---"
      ]
    },
    {
      "cell_type": "markdown",
      "id": "71032576",
      "metadata": {
        "id": "71032576"
      },
      "source": [
        "## **8. Special Methods (Magic / Dunder Methods)**\n",
        "\n",
        "| Method        | Purpose                              |\n",
        "| ------------- | ------------------------------------ |\n",
        "| `__init__`    | Constructor                          |\n",
        "| `__new__`     | Memory allocation                    |\n",
        "| `__str__`     | Human-readable string                |\n",
        "| `__repr__`    | Official string representation       |\n",
        "| `__len__`     | Support `len(obj)`                   |\n",
        "| `__getitem__` | Indexing support `obj[key]`          |\n",
        "| `__setitem__` | Setting item `obj[key]=value`        |\n",
        "| `__add__`     | Overload `+` operator                |\n",
        "| `__call__`    | Make object callable like a function |\n",
        "\n",
        "**Example: Custom Vector Class**"
      ]
    },
    {
      "cell_type": "code",
      "execution_count": null,
      "id": "51bc6587",
      "metadata": {
        "id": "51bc6587",
        "outputId": "72df15c5-7cf4-4bc1-e3fb-0d88924b3920"
      },
      "outputs": [
        {
          "name": "stdout",
          "output_type": "stream",
          "text": [
            "Vector(4, 6)\n"
          ]
        }
      ],
      "source": [
        "class Vector:\n",
        "    def __init__(self, x, y):\n",
        "        self.x, self.y = x, y\n",
        "\n",
        "    def __add__(self, other):\n",
        "        return Vector(self.x + other.x, self.y + other.y)\n",
        "\n",
        "    def __repr__(self):\n",
        "        return f\"Vector({self.x}, {self.y})\"\n",
        "\n",
        "v1 = Vector(1, 2)\n",
        "v2 = Vector(3, 4)\n",
        "print(v1 + v2)  # Vector(4, 6)"
      ]
    },
    {
      "cell_type": "markdown",
      "id": "28d3df12",
      "metadata": {
        "id": "28d3df12"
      },
      "source": [
        "\n",
        "💡 **Trick:** Implementing `__repr__` properly makes debugging easier.\n",
        "\n",
        "---"
      ]
    },
    {
      "cell_type": "code",
      "execution_count": null,
      "id": "774920dd",
      "metadata": {
        "id": "774920dd"
      },
      "outputs": [],
      "source": [
        "class Person:\n",
        "    def __init__(self, name, age):\n",
        "        self.name = name\n",
        "        self.age = age\n",
        "\n",
        "    def __repr__(self):\n",
        "        return f\"Person(name='{self.name}', age={self.age})\"\n",
        "\n",
        "    def __str__(self):\n",
        "        return f\"{self.name}, {self.age} years old\"\n",
        "\n",
        "p = Person(\"Alice\", 30)\n",
        "\n",
        "print(repr(p))   # Person(name='Alice', age=30)\n",
        "print(str(p))    # Alice, 30 years old\n",
        "print(p)         # Alice, 30 years old (because print() calls __str__)\n"
      ]
    },
    {
      "cell_type": "markdown",
      "id": "35b7e4f0",
      "metadata": {
        "id": "35b7e4f0"
      },
      "source": [
        "# 📝 Encapsulation Practice Problems\n",
        "\n",
        "---\n",
        "\n",
        "## 🔹 **Beginner Level**\n",
        "\n",
        "### **Problem 1: Bank Account (Private Balance)**\n",
        "\n",
        "Create a class `BankAccount` with:\n",
        "\n",
        "* A **private attribute** `__balance`.\n",
        "* Methods `deposit(amount)` and `withdraw(amount)` that modify the balance safely.\n",
        "* A method `get_balance()` to check the balance.\n",
        "\n",
        "**Expected Behavior:**\n",
        "\n",
        "```python\n",
        "acc = BankAccount(1000)\n",
        "acc.deposit(500)\n",
        "print(acc.get_balance())   # 1500\n",
        "acc.withdraw(2000)         # Error: Insufficient balance\n",
        "```\n",
        "\n",
        "---\n",
        "\n",
        "### **Problem 2: Student Data**\n",
        "\n",
        "Create a `Student` class with **private attributes** `__name` and `__grade`.\n",
        "\n",
        "* Provide getter and setter methods for both.\n",
        "* Validate that `grade` is always between 0 and 100.\n",
        "\n",
        "---\n",
        "\n",
        "## 🔹 **Intermediate Level**\n",
        "\n",
        "### **Problem 3: Employee Salary Protection**\n",
        "\n",
        "Create a class `Employee`:\n",
        "\n",
        "* Store `__salary` as private.\n",
        "* Add a setter that prevents setting salary below 3000.\n",
        "* Add a getter to display salary.\n",
        "\n",
        "**Expected Behavior:**\n",
        "\n",
        "```python\n",
        "emp = Employee(\"Ali\", 2500)\n",
        "# Should raise: Salary must be >= 3000\n",
        "```\n",
        "\n",
        "---\n",
        "\n",
        "### **Problem 4: Encapsulated Shopping Cart**\n",
        "\n",
        "Create a `ShoppingCart` class:\n",
        "\n",
        "* Store items in a private list `__items`.\n",
        "* Provide methods `add_item(item)`, `remove_item(item)`, and `view_cart()`.\n",
        "* Prevent direct access to `__items`.\n",
        "\n",
        "---\n",
        "\n",
        "## 🔹 **Advanced Level**\n",
        "\n",
        "### **Problem 5: Property Decorator with Encapsulation**\n",
        "\n",
        "Create a class `Temperature`:\n",
        "\n",
        "* Private attribute `__celsius`.\n",
        "* Use `@property` and `@setter` to allow reading/writing temperature.\n",
        "* Automatically convert negative values to `0` (no negative temperatures).\n",
        "\n",
        "**Expected Behavior:**\n",
        "\n",
        "```python\n",
        "t = Temperature(25)\n",
        "print(t.celsius)   # 25\n",
        "t.celsius = -10\n",
        "print(t.celsius)   # 0\n",
        "```\n",
        "\n",
        "---\n",
        "\n",
        "### **Problem 6: Secure Login System**\n",
        "\n",
        "Create a class `User`:\n",
        "\n",
        "* Private attributes: `__username`, `__password`.\n",
        "* Provide a method `check_password(pwd)` to validate login.\n",
        "* Disallow direct access to password.\n",
        "\n",
        "---\n",
        "\n",
        "### **Problem 7: Banking with Inheritance + Encapsulation**\n",
        "\n",
        "Create a base class `Account`:\n",
        "\n",
        "* Private balance with getters/setters.\n",
        "* Methods `deposit()` and `withdraw()`.\n",
        "\n",
        "Create subclass `SavingsAccount`:\n",
        "\n",
        "* Adds interest rate.\n",
        "* Method `add_interest()` updates balance.\n",
        "\n",
        "**Expected Behavior:**\n",
        "\n",
        "```python\n",
        "s = SavingsAccount(1000, 0.05)\n",
        "s.add_interest()\n",
        "print(s.get_balance())   # 1050\n",
        "```"
      ]
    },
    {
      "cell_type": "code",
      "execution_count": null,
      "id": "471b5a6b",
      "metadata": {
        "id": "471b5a6b"
      },
      "outputs": [],
      "source": []
    },
    {
      "cell_type": "code",
      "execution_count": null,
      "id": "068dba77",
      "metadata": {
        "id": "068dba77"
      },
      "outputs": [],
      "source": []
    },
    {
      "cell_type": "markdown",
      "id": "9be0d62a",
      "metadata": {
        "id": "9be0d62a"
      },
      "source": [
        "## **9. Classmethods & Staticmethods**"
      ]
    },
    {
      "cell_type": "code",
      "execution_count": null,
      "id": "3d825d31",
      "metadata": {
        "id": "3d825d31",
        "outputId": "5ed1e66e-7eba-4fe1-db97-f50e415ae7f5"
      },
      "outputs": [
        {
          "name": "stdout",
          "output_type": "stream",
          "text": [
            "Fahrenheit\n",
            "32.0\n"
          ]
        }
      ],
      "source": [
        "class Temperature:\n",
        "    scale = \"Celsius\"\n",
        "\n",
        "    @classmethod\n",
        "    def set_scale(cls, new_scale):\n",
        "        cls.scale = new_scale\n",
        "\n",
        "    @staticmethod\n",
        "    def c_to_f(c):\n",
        "        return c * 9/5 + 32\n",
        "\n",
        "Temperature.set_scale(\"Fahrenheit\")\n",
        "print(Temperature.scale)  # Fahrenheit\n",
        "print(Temperature.c_to_f(0))  # 32"
      ]
    },
    {
      "cell_type": "markdown",
      "id": "4d63e166",
      "metadata": {
        "id": "4d63e166"
      },
      "source": [
        "**Rules:**\n",
        "\n",
        "* `@staticmethod`: No access to `cls` or `self`\n",
        "* `@classmethod`: Access to class (`cls`) but not instance (`self`)\n",
        "\n",
        "---\n",
        "\n",
        "## **10. Metaclasses (Advanced)**\n",
        "* **Metaclasses** define **how classes themselves are created**.\n",
        "* Everything is an object; classes are instances of `type`."
      ]
    },
    {
      "cell_type": "code",
      "execution_count": null,
      "id": "3d385e29",
      "metadata": {
        "id": "3d385e29",
        "outputId": "8b5e7da2-74a3-4f79-a6e7-90339db9ba00"
      },
      "outputs": [
        {
          "name": "stdout",
          "output_type": "stream",
          "text": [
            "Creating class MyClass\n"
          ]
        }
      ],
      "source": [
        "class Meta(type):\n",
        "    def __new__(cls, name, bases, dct):\n",
        "        print(f\"Creating class {name}\")\n",
        "        return super().__new__(cls, name, bases, dct)\n",
        "\n",
        "class MyClass(metaclass=Meta):\n",
        "    pass\n",
        "\n",
        "# Output: Creating class MyClass"
      ]
    },
    {
      "cell_type": "markdown",
      "id": "ac4b8911",
      "metadata": {
        "id": "ac4b8911"
      },
      "source": [
        "💡 **Tip:** Metaclasses are powerful for **frameworks, ORM models**, or **automatic registration of classes**.\n",
        "---\n",
        "## **11. Python Tips & Tricks with Classes**\n",
        "\n",
        "1. **Dynamic attributes**"
      ]
    },
    {
      "cell_type": "code",
      "execution_count": null,
      "id": "4900d96f",
      "metadata": {
        "id": "4900d96f"
      },
      "outputs": [],
      "source": [
        "class Person: pass\n",
        "p = Person()\n",
        "p.name = \"Alice\"  # Add attribute at runtime"
      ]
    },
    {
      "cell_type": "markdown",
      "id": "303852c6",
      "metadata": {
        "id": "303852c6"
      },
      "source": [
        "2. **Dynamic methods**"
      ]
    },
    {
      "cell_type": "code",
      "execution_count": null,
      "id": "e2fac385",
      "metadata": {
        "id": "e2fac385",
        "outputId": "ac402211-7564-4cc2-92bf-7cfdcb0195ce"
      },
      "outputs": [
        {
          "name": "stdout",
          "output_type": "stream",
          "text": [
            "Hello!\n"
          ]
        }
      ],
      "source": [
        "def greet(self):\n",
        "    print(\"Hello!\")\n",
        "import types\n",
        "p.say_hello = types.MethodType(greet, p)\n",
        "p.say_hello()  # Hello!"
      ]
    },
    {
      "cell_type": "markdown",
      "id": "1072b2fc",
      "metadata": {
        "id": "1072b2fc"
      },
      "source": [
        "3. **Using `__slots__`** to save memory for many objects"
      ]
    },
    {
      "cell_type": "code",
      "source": [
        "class Point:\n",
        "    __slots__ = (\"x\", \"y\")\n",
        "\n",
        "    def __init__(self, x, y):\n",
        "        self.x = x\n",
        "        self.y = y"
      ],
      "metadata": {
        "id": "bJaROY3Qs3e6"
      },
      "id": "bJaROY3Qs3e6",
      "execution_count": null,
      "outputs": []
    },
    {
      "cell_type": "markdown",
      "source": [
        "### 🔹 What `__slots__` Does\n",
        "\n",
        "Normally, Python stores an object’s attributes in a **dictionary (`__dict__`)**, so you can dynamically add new attributes at runtime.\n",
        "\n",
        "But when you define `__slots__`, Python:\n",
        "\n",
        "1. **Restricts attributes**\n",
        "\n",
        "   * Only the names listed in `__slots__` (`\"x\"` and `\"y\"`) can be assigned.\n",
        "   * You **cannot** add new attributes dynamically.\n"
      ],
      "metadata": {
        "id": "WnE1g5bvs-1i"
      },
      "id": "WnE1g5bvs-1i"
    },
    {
      "cell_type": "code",
      "source": [
        "p = Point(3, 4)\n",
        "p.z = 10   # ❌ AttributeError: 'Point' object has no attribute 'z'"
      ],
      "metadata": {
        "id": "p76oqGBOtAyi"
      },
      "id": "p76oqGBOtAyi",
      "execution_count": null,
      "outputs": []
    },
    {
      "cell_type": "markdown",
      "source": [
        "2. **Saves memory**\n",
        "\n",
        "   * Instead of a per-object dictionary, Python uses a more compact structure.\n",
        "   * Useful when creating **many instances** (e.g., millions of `Point`s).\n",
        "\n",
        "3. **Slightly faster attribute access**\n",
        "\n",
        "   * Because attribute lookups avoid dictionary overhead.\n",
        "\n",
        "---\n",
        "\n",
        "### 🔹 Example Usage"
      ],
      "metadata": {
        "id": "ZY-san7utFdp"
      },
      "id": "ZY-san7utFdp"
    },
    {
      "cell_type": "code",
      "source": [
        "p1 = Point(1, 2)\n",
        "print(p1.x, p1.y)   # 1 2\n",
        "\n",
        "p1.x = 10\n",
        "print(p1.x)         # 10\n",
        "\n",
        "# ❌ Can't add new attributes\n",
        "p1.z = 5\n",
        "# AttributeError: 'Point' object has no attribute 'z'"
      ],
      "metadata": {
        "id": "qt2Q7_aztJ4S"
      },
      "id": "qt2Q7_aztJ4S",
      "execution_count": null,
      "outputs": []
    },
    {
      "cell_type": "markdown",
      "id": "d83ed65a",
      "metadata": {
        "id": "d83ed65a"
      },
      "source": [
        "---\n",
        "\n",
        "✅ **Summary:**\n",
        "\n",
        "* `__slots__` **limits attributes** and **reduces memory usage**.\n",
        "* Good for performance in **data-heavy classes** like points, vectors, or signal samples.\n",
        "* But: it removes flexibility (no `__dict__`, no dynamic attributes, and no multiple inheritance in some cases).\n",
        "\n"
      ]
    },
    {
      "cell_type": "code",
      "execution_count": null,
      "id": "1698a6d5",
      "metadata": {
        "id": "1698a6d5"
      },
      "outputs": [],
      "source": [
        "class Point:\n",
        "    __slots__ = (\"x\", \"y\")\n",
        "    def __init__(self, x, y):\n",
        "        self.x = x\n",
        "        self.y = y"
      ]
    },
    {
      "cell_type": "markdown",
      "id": "fd611c1d",
      "metadata": {
        "id": "fd611c1d"
      },
      "source": [
        "4. **Callable objects**"
      ]
    },
    {
      "cell_type": "code",
      "execution_count": null,
      "id": "e78c185d",
      "metadata": {
        "id": "e78c185d",
        "outputId": "09a5e955-f760-43e2-dab0-994a79748fa1"
      },
      "outputs": [
        {
          "name": "stdout",
          "output_type": "stream",
          "text": [
            "15\n"
          ]
        }
      ],
      "source": [
        "class Adder:\n",
        "    def __init__(self, n):\n",
        "        self.n = n\n",
        "    def __call__(self, x):\n",
        "        return x + self.n\n",
        "\n",
        "add5 = Adder(5)\n",
        "print(add5(10))  # 15"
      ]
    },
    {
      "cell_type": "markdown",
      "source": [
        "## 🔹 What is `__call__`?\n",
        "\n",
        "* `__call__` is a **special method** in Python.\n",
        "* If you define it in a class, then the **instance of that class becomes callable like a function**.\n",
        "\n",
        "👉 When you write:\n",
        "\n",
        "```python\n",
        "obj(x, y)\n",
        "```\n",
        "\n",
        "Python actually runs:\n",
        "\n",
        "```python\n",
        "obj.__call__(x, y)\n",
        "```\n",
        "\n",
        "---\n",
        "\n",
        "## 🔹 Example\n"
      ],
      "metadata": {
        "id": "59O4IOGctTii"
      },
      "id": "59O4IOGctTii"
    },
    {
      "cell_type": "code",
      "source": [
        "class Greeter:\n",
        "    def __init__(self, name):\n",
        "        self.name = name\n",
        "\n",
        "    def __call__(self, greeting):\n",
        "        return f\"{greeting}, {self.name}!\"\n",
        "\n",
        "greet_john = Greeter(\"John\")\n",
        "print(greet_john(\"Hello\"))  # Hello, John!\n",
        "print(greet_john(\"Hi\"))     # Hi, John!"
      ],
      "metadata": {
        "id": "4Ns72p0-teLC"
      },
      "id": "4Ns72p0-teLC",
      "execution_count": null,
      "outputs": []
    },
    {
      "cell_type": "markdown",
      "source": [
        "✅ Here, `greet_john(\"Hello\")` is the same as `greet_john.__call__(\"Hello\")`.\n",
        "\n",
        "---\n",
        "\n",
        "## 🔹 Why is it Useful?\n",
        "\n",
        "1. **Makes objects behave like functions**\n",
        "\n",
        "   * Function-like syntax but with the power of a class.\n",
        "2. **Keeps state between calls**\n",
        "\n",
        "   * Unlike normal functions, the object can remember data in its attributes.\n",
        "3. **Used in frameworks**\n",
        "\n",
        "   * **PyTorch / TensorFlow** models use `__call__` so you can do:\n",
        "\n",
        "     ```python\n",
        "     output = model(input_data)\n",
        "     ```\n",
        "\n",
        "     instead of `model.forward(input_data)`.\n",
        "4. **Decorators / Wrappers**\n",
        "\n",
        "   * `__call__` allows creating objects that wrap and modify other functions.\n",
        "\n",
        "---\n",
        "\n",
        "## 🔹 Mini Real-World Example"
      ],
      "metadata": {
        "id": "3YHq7EbmtkMJ"
      },
      "id": "3YHq7EbmtkMJ"
    },
    {
      "cell_type": "code",
      "source": [
        "class Power:\n",
        "    def __init__(self, exp):\n",
        "        self.exp = exp\n",
        "\n",
        "    def __call__(self, x):\n",
        "        return x ** self.exp\n",
        "\n",
        "square = Power(2)\n",
        "cube   = Power(3)\n",
        "\n",
        "print(square(5))  # 25\n",
        "print(cube(5))    # 125"
      ],
      "metadata": {
        "id": "_6HsqQdotmkL"
      },
      "id": "_6HsqQdotmkL",
      "execution_count": null,
      "outputs": []
    },
    {
      "cell_type": "markdown",
      "id": "59e08b73",
      "metadata": {
        "id": "59e08b73"
      },
      "source": [
        "* `square` acts like a function that squares numbers.\n",
        "* `cube` acts like a function that cubes numbers.\n",
        "\n",
        "---\n",
        "\n",
        "✅ **Summary:**\n",
        "`__call__` makes class instances behave like functions while keeping state. It’s especially useful in **ML models, decorators, and functional-style programming**."
      ]
    },
    {
      "cell_type": "markdown",
      "id": "f83fb9df",
      "metadata": {
        "id": "f83fb9df"
      },
      "source": [
        "## **12. Summary**\n",
        "\n",
        "* **Classes = Blueprints**, objects = instances.\n",
        "* **Everything in Python is an object**, even classes.\n",
        "* **Attributes**: Instance vs Class\n",
        "* **Methods**: Instance, Class, Static\n",
        "* **Encapsulation**: Public, Protected, Private\n",
        "* **Magic Methods**: Overload operators, indexing, calling\n",
        "* **Inheritance**: Single & Multiple\n",
        "* **Metaclasses**: Customize class creation\n",
        "* **Tips/Tricks**: Dynamic attributes, `__slots__`, callable objects, singletons."
      ]
    },
    {
      "cell_type": "markdown",
      "source": [
        "\n",
        "# 🔹 `@abstractmethod` in Python\n",
        "\n",
        "## 1. What is it?\n",
        "\n",
        "* `@abstractmethod` is a **decorator** from the `abc` (Abstract Base Classes) module.\n",
        "* It marks a method as **abstract**, meaning subclasses **must** override/implement it.\n",
        "* You can’t instantiate a class that has unimplemented abstract methods.\n",
        "\n",
        "👉 It enforces a **contract**: all subclasses must implement the required methods.\n",
        "\n",
        "---\n",
        "\n",
        "## 2. Basic Example\n"
      ],
      "metadata": {
        "id": "ryash25_uSUi"
      },
      "id": "ryash25_uSUi"
    },
    {
      "cell_type": "code",
      "source": [
        "from abc import ABC, abstractmethod\n",
        "\n",
        "class Animal(ABC):  # Abstract Base Class\n",
        "    @abstractmethod\n",
        "    def make_sound(self):\n",
        "        pass\n",
        "\n",
        "class Dog(Animal):\n",
        "    def make_sound(self):\n",
        "        return \"Woof!\"\n",
        "\n",
        "class Cat(Animal):\n",
        "    def make_sound(self):\n",
        "        return \"Meow!\"\n",
        "\n",
        "# a = Animal()  # ❌ Error: Can't instantiate abstract class\n",
        "d = Dog()\n",
        "print(d.make_sound())  # Woof!"
      ],
      "metadata": {
        "id": "Cpaczr01uV05"
      },
      "id": "Cpaczr01uV05",
      "execution_count": null,
      "outputs": []
    },
    {
      "cell_type": "markdown",
      "source": [
        "✅ Here:\n",
        "\n",
        "* `Animal` defines a **blueprint** with `make_sound()`.\n",
        "* Subclasses **must** implement it.\n",
        "\n",
        "---\n",
        "\n",
        "## 3. Abstract Methods with Implementation\n",
        "\n",
        "You can even provide a **default implementation**:"
      ],
      "metadata": {
        "id": "5mDGxNYLuZFx"
      },
      "id": "5mDGxNYLuZFx"
    },
    {
      "cell_type": "code",
      "source": [
        "from abc import ABC, abstractmethod\n",
        "\n",
        "class Vehicle(ABC):\n",
        "    @abstractmethod\n",
        "    def move(self):\n",
        "        print(\"This vehicle moves...\")  # Default behavior\n",
        "\n",
        "class Car(Vehicle):\n",
        "    def move(self):\n",
        "        super().move()\n",
        "        print(\"Car is driving on the road.\")\n",
        "\n",
        "c = Car()\n",
        "c.move()\n",
        "# Output:\n",
        "# This vehicle moves...\n",
        "# Car is driving on the road."
      ],
      "metadata": {
        "id": "76HYu3NMucNS"
      },
      "id": "76HYu3NMucNS",
      "execution_count": null,
      "outputs": []
    },
    {
      "cell_type": "markdown",
      "source": [
        "\n",
        "## 4. Abstract Properties and Static/Class Methods\n",
        "\n",
        "You can also apply `@abstractmethod` to `@property`, `@classmethod`, and `@staticmethod`:"
      ],
      "metadata": {
        "id": "zyvczX7iufgS"
      },
      "id": "zyvczX7iufgS"
    },
    {
      "cell_type": "code",
      "source": [
        "from abc import ABC, abstractmethod\n",
        "\n",
        "class Shape(ABC):\n",
        "    @property\n",
        "    @abstractmethod\n",
        "    def area(self):\n",
        "        pass\n",
        "\n",
        "    @staticmethod\n",
        "    @abstractmethod\n",
        "    def shape_type():\n",
        "        pass\n",
        "\n",
        "class Circle(Shape):\n",
        "    def __init__(self, r):\n",
        "        self.r = r\n",
        "\n",
        "    @property\n",
        "    def area(self):\n",
        "        return 3.14 * self.r**2\n",
        "\n",
        "    @staticmethod\n",
        "    def shape_type():\n",
        "        return \"Circle\"\n",
        "\n",
        "c = Circle(5)\n",
        "print(c.area)         # 78.5\n",
        "print(c.shape_type()) # Circle"
      ],
      "metadata": {
        "id": "7jjkS9mmuklq"
      },
      "id": "7jjkS9mmuklq",
      "execution_count": null,
      "outputs": []
    },
    {
      "cell_type": "markdown",
      "id": "9c1ceaaa",
      "metadata": {
        "id": "9c1ceaaa"
      },
      "source": [
        "## 5. Why Use `@abstractmethod`?\n",
        "\n",
        "* **Enforces consistency** → All subclasses follow the same interface.\n",
        "* **Improves readability** → Declares \"what must exist\".\n",
        "* **Helps large teams** → Developers know what to implement.\n",
        "\n",
        "---\n",
        "\n",
        "## 6. Real-World Analogy\n",
        "\n",
        "Think of it like a **job contract**:\n",
        "\n",
        "* The company (abstract class) says: \"Every employee must have a `work()` method.\"\n",
        "* Each role (subclass) defines how they \"work\"."
      ]
    },
    {
      "cell_type": "markdown",
      "id": "1c6c87e1",
      "metadata": {
        "id": "1c6c87e1"
      },
      "source": [
        "Nice 👍 I see your notebook covers **everything about Python classes**: class anatomy, attributes, inheritance, encapsulation, properties, magic methods, static/class methods, metaclasses, and even tricks like `__slots__` and singletons .\n",
        "\n",
        "Let’s build a **set of exercises** based directly on these topics, moving from beginner → advanced → challenge level.\n",
        "\n",
        "---\n",
        "\n",
        "# 📝 Exercises on Python Classes\n",
        "\n",
        "---\n",
        "\n",
        "## 🔹 Beginner Level\n",
        "\n",
        "**Exercise 1: Class Anatomy**\n",
        "\n",
        "1. Create a class `Car` with:\n",
        "\n",
        "   * Class attribute: `wheels = 4`\n",
        "   * Instance attributes: `brand`, `color`\n",
        "   * Method `drive()` that prints `<brand> is driving.`\n",
        "2. Create two cars and test the method.\n",
        "\n",
        "---\n",
        "\n",
        "**Exercise 2: Instance vs Class Attributes**\n",
        "\n",
        "1. Make a class `Student` with:\n",
        "\n",
        "   * Class attribute: `school = \"XYZ School\"`\n",
        "   * Instance attribute: `name`\n",
        "2. Create two students and show how changing `Student.school` affects both objects.\n",
        "\n",
        "---\n",
        "\n",
        "**Exercise 3: Encapsulation**\n",
        "\n",
        "1. Write a class `Secret` with:\n",
        "\n",
        "   * Public attribute `visible`\n",
        "   * Protected attribute `_hidden`\n",
        "   * Private attribute `__very_hidden`\n",
        "2. Access them in different ways.\n",
        "3. Print the name-mangled version of `__very_hidden`.\n",
        "\n",
        "---\n",
        "\n",
        "## 🔹 Intermediate Level\n",
        "\n",
        "**Exercise 4: Inheritance & Polymorphism**\n",
        "\n",
        "1. Create base class `Animal` with method `speak()`.\n",
        "2. Subclasses: `Dog` (says “Bark”), `Cat` (says “Meow”).\n",
        "3. Write a loop that calls `speak()` on a list of animals.\n",
        "\n",
        "---\n",
        "\n",
        "**Exercise 5: Property Decorators**\n",
        "\n",
        "1. Make a class `Circle` with a private attribute `_radius`.\n",
        "2. Add a `@property` to get it.\n",
        "3. Add a setter that raises `ValueError` if radius ≤ 0.\n",
        "4. Test with valid and invalid values.\n",
        "\n",
        "---\n",
        "\n",
        "**Exercise 6: Special Methods**\n",
        "\n",
        "1. Implement a class `Vector(x, y)` with:\n",
        "\n",
        "   * `__add__` to support `+`\n",
        "   * `__repr__` for readable display\n",
        "2. Test `v1 + v2`.\n",
        "\n",
        "---\n",
        "\n",
        "**Exercise 7: Classmethods & Staticmethods**\n",
        "\n",
        "1. Create `Temperature` with class attribute `scale = \"Celsius\"`.\n",
        "2. Add:\n",
        "\n",
        "   * `@classmethod set_scale(new_scale)`\n",
        "   * `@staticmethod c_to_f(celsius)`\n",
        "3. Test both.\n",
        "\n",
        "---\n",
        "\n",
        "## 🔹 Advanced Level\n",
        "\n",
        "**Exercise 8: Using `__new__`**\n",
        "\n",
        "1. Create a class `Example` that prints messages inside `__new__` and `__init__`.\n",
        "2. Observe the order of execution when creating an instance.\n",
        "\n",
        "---\n",
        "\n",
        "**Exercise 9: Metaclasses**\n",
        "\n",
        "1. Write a metaclass `Meta` that prints the class name being created.\n",
        "2. Create a class `MyClass` with this metaclass.\n",
        "3. What output do you see?\n",
        "\n",
        "---\n",
        "\n",
        "**Exercise 10: Dynamic Attributes and Methods**\n",
        "\n",
        "1. Create a `Person` instance dynamically add an attribute `age`.\n",
        "2. Attach a new method `say_hello(self)` dynamically using `types.MethodType`.\n",
        "3. Call the method.\n",
        "\n",
        "---\n",
        "\n",
        "**Exercise 11: `__slots__` for Memory Optimization**\n",
        "\n",
        "1. Create class `Point` with `__slots__ = (\"x\", \"y\")`.\n",
        "2. Try to assign `p.z = 5`.\n",
        "3. What error do you get?\n",
        "\n",
        "---\n",
        "\n",
        "**Exercise 12: Singleton Pattern**\n",
        "\n",
        "1. Implement a `Singleton` class that only allows one instance.\n",
        "2. Create two objects and confirm `a is b`.\n",
        "\n",
        "---\n",
        "\n",
        "## 🔥 Challenge Exercises\n",
        "\n",
        "**Challenge 1: Mini Banking System**\n",
        "\n",
        "* Create a class `BankAccount` with private attribute `__balance`.\n",
        "* Add methods:\n",
        "\n",
        "  * `deposit(amount)`\n",
        "  * `withdraw(amount)` (with error if insufficient balance)\n",
        "  * `@property balance` (read-only)\n",
        "* Create two accounts and test transactions.\n",
        "\n",
        "---\n",
        "\n",
        "**Challenge 2: Library System**\n",
        "\n",
        "* Class `Book(title, author)` with `__repr__`.\n",
        "* Class `Library` with methods:\n",
        "\n",
        "  * `add_book(book)`\n",
        "  * `list_books()`\n",
        "* Use a class attribute `books = []` (and show why this is problematic).\n",
        "* Fix by using an instance attribute.\n",
        "\n",
        "---\n",
        "\n",
        "**Challenge 3: Callable Objects**\n",
        "\n",
        "* Create a class `Multiplier` with `__call__` that multiplies input by a fixed factor.\n",
        "* Example:\n",
        "\n",
        "  ```python\n",
        "  double = Multiplier(2)\n",
        "  print(double(10))  # 20\n",
        "  ```\n",
        "\n",
        "---\n",
        "\n",
        "Would you like me to **also provide solutions (code)** for these exercises, or keep them as assignments for you to try?\n"
      ]
    },
    {
      "cell_type": "markdown",
      "source": [
        "# ✅ Solutions: Python Class Exercises\n",
        "\n",
        "---\n",
        "\n",
        "## 🔹 Beginner Level\n",
        "\n",
        "### **Exercise 1: Class Anatomy**\n"
      ],
      "metadata": {
        "id": "m-kEJKouuyCa"
      },
      "id": "m-kEJKouuyCa"
    },
    {
      "cell_type": "code",
      "source": [
        "class Car:\n",
        "    wheels = 4  # class attribute\n",
        "\n",
        "    def __init__(self, brand, color):\n",
        "        self.brand = brand      # instance attribute\n",
        "        self.color = color\n",
        "\n",
        "    def drive(self):\n",
        "        print(f\"{self.brand} is driving.\")\n",
        "\n",
        "# Test\n",
        "c1 = Car(\"Toyota\", \"Red\")\n",
        "c2 = Car(\"BMW\", \"Black\")\n",
        "c1.drive()  # Toyota is driving.\n",
        "c2.drive()  # BMW is driving."
      ],
      "metadata": {
        "id": "MQWffRYvu0d4"
      },
      "id": "MQWffRYvu0d4",
      "execution_count": null,
      "outputs": []
    },
    {
      "cell_type": "markdown",
      "source": [
        "### **Exercise 2: Instance vs Class Attributes**"
      ],
      "metadata": {
        "id": "waJMOYHGwCh5"
      },
      "id": "waJMOYHGwCh5"
    },
    {
      "cell_type": "code",
      "source": [
        "class Student:\n",
        "    school = \"XYZ School\"\n",
        "\n",
        "    def __init__(self, name):\n",
        "        self.name = name\n",
        "\n",
        "s1 = Student(\"Alice\")\n",
        "s2 = Student(\"Bob\")\n",
        "\n",
        "print(s1.school, s1.name)  # XYZ School Alice\n",
        "print(s2.school, s2.name)  # XYZ School Bob\n",
        "\n",
        "# Change class attribute\n",
        "Student.school = \"ABC School\"\n",
        "print(s1.school)  # ABC School\n",
        "print(s2.school)  # ABC School"
      ],
      "metadata": {
        "id": "n36UhP_VwGbB"
      },
      "id": "n36UhP_VwGbB",
      "execution_count": null,
      "outputs": []
    },
    {
      "cell_type": "markdown",
      "source": [
        "### **Exercise 3: Encapsulation**"
      ],
      "metadata": {
        "id": "SMtIufXswQXA"
      },
      "id": "SMtIufXswQXA"
    },
    {
      "cell_type": "code",
      "source": [
        "\n",
        "class Secret:\n",
        "    def __init__(self):\n",
        "        self.public = \"visible\"\n",
        "        self._protected = \"semi-hidden\"\n",
        "        self.__private = \"hidden\"\n",
        "\n",
        "s = Secret()\n",
        "print(s.public)       # visible\n",
        "print(s._protected)   # semi-hidden\n",
        "# print(s.__private)  # AttributeError\n",
        "print(s._Secret__private)  # hidden (via name mangling)"
      ],
      "metadata": {
        "id": "YR33g-7ywLKx"
      },
      "id": "YR33g-7ywLKx",
      "execution_count": null,
      "outputs": []
    },
    {
      "cell_type": "markdown",
      "source": [
        "## 🔹 Intermediate Level\n",
        "\n",
        "### **Exercise 4: Inheritance & Polymorphism**"
      ],
      "metadata": {
        "id": "f5EEL0j_wY1_"
      },
      "id": "f5EEL0j_wY1_"
    },
    {
      "cell_type": "code",
      "source": [
        "class Animal:\n",
        "    def speak(self):\n",
        "        print(\"Some sound\")\n",
        "\n",
        "class Dog(Animal):\n",
        "    def speak(self):\n",
        "        print(\"Bark\")\n",
        "\n",
        "class Cat(Animal):\n",
        "    def speak(self):\n",
        "        print(\"Meow\")\n",
        "\n",
        "animals = [Dog(), Cat(), Animal()]\n",
        "for a in animals:\n",
        "    a.speak()\n",
        "# Bark, Meow, Some sound"
      ],
      "metadata": {
        "id": "12ywXs4kwcYq"
      },
      "id": "12ywXs4kwcYq",
      "execution_count": null,
      "outputs": []
    },
    {
      "cell_type": "markdown",
      "source": [
        "### **Exercise 5: Property Decorators**"
      ],
      "metadata": {
        "id": "VMHyWd4KwgqK"
      },
      "id": "VMHyWd4KwgqK"
    },
    {
      "cell_type": "code",
      "source": [
        "class Circle:\n",
        "    def __init__(self, radius):\n",
        "        self._radius = radius\n",
        "\n",
        "    @property\n",
        "    def radius(self):\n",
        "        return self._radius\n",
        "\n",
        "    @radius.setter\n",
        "    def radius(self, value):\n",
        "        if value <= 0:\n",
        "            raise ValueError(\"Radius must be positive\")\n",
        "        self._radius = value\n",
        "\n",
        "c = Circle(5)\n",
        "print(c.radius)  # 5\n",
        "c.radius = 10\n",
        "print(c.radius)  # 10\n",
        "# c.radius = -3  # ValueError"
      ],
      "metadata": {
        "id": "uGX6s7gSwjOB"
      },
      "id": "uGX6s7gSwjOB",
      "execution_count": null,
      "outputs": []
    },
    {
      "cell_type": "markdown",
      "source": [
        "### **Exercise 6: Special Methods**"
      ],
      "metadata": {
        "id": "p1fPRIPLwlZB"
      },
      "id": "p1fPRIPLwlZB"
    },
    {
      "cell_type": "code",
      "source": [
        "class Vector:\n",
        "    def __init__(self, x, y):\n",
        "        self.x, self.y = x, y\n",
        "\n",
        "    def __add__(self, other):\n",
        "        return Vector(self.x + other.x, self.y + other.y)\n",
        "\n",
        "    def __repr__(self):\n",
        "        return f\"Vector({self.x}, {self.y})\"\n",
        "\n",
        "v1 = Vector(1, 2)\n",
        "v2 = Vector(3, 4)\n",
        "print(v1 + v2)  # Vector(4, 6)"
      ],
      "metadata": {
        "id": "rryDSdoYwn3x"
      },
      "id": "rryDSdoYwn3x",
      "execution_count": null,
      "outputs": []
    },
    {
      "cell_type": "markdown",
      "source": [
        "### **Exercise 7: Classmethods & Staticmethods**"
      ],
      "metadata": {
        "id": "ArHsDxaZwqQh"
      },
      "id": "ArHsDxaZwqQh"
    },
    {
      "cell_type": "code",
      "source": [
        "class Temperature:\n",
        "    scale = \"Celsius\"\n",
        "\n",
        "    @classmethod\n",
        "    def set_scale(cls, new_scale):\n",
        "        cls.scale = new_scale\n",
        "\n",
        "    @staticmethod\n",
        "    def c_to_f(c):\n",
        "        return c * 9/5 + 32\n",
        "\n",
        "Temperature.set_scale(\"Fahrenheit\")\n",
        "print(Temperature.scale)  # Fahrenheit\n",
        "print(Temperature.c_to_f(0))  # 32.0"
      ],
      "metadata": {
        "id": "DcGS-ZdWwtZx"
      },
      "id": "DcGS-ZdWwtZx",
      "execution_count": null,
      "outputs": []
    },
    {
      "cell_type": "markdown",
      "source": [
        "## 🔹 Advanced Level\n",
        "\n",
        "### **Exercise 8: Using `__new__`**"
      ],
      "metadata": {
        "id": "rY7psOAhwwQR"
      },
      "id": "rY7psOAhwwQR"
    },
    {
      "cell_type": "code",
      "source": [
        "class Example:\n",
        "    def __new__(cls, *args, **kwargs):\n",
        "        print(\"Creating instance...\")\n",
        "        return super().__new__(cls)\n",
        "\n",
        "    def __init__(self, value):\n",
        "        print(\"Initializing instance...\")\n",
        "        self.value = value\n",
        "\n",
        "e = Example(10)"
      ],
      "metadata": {
        "id": "9RqxSMhxw1lw"
      },
      "id": "9RqxSMhxw1lw",
      "execution_count": null,
      "outputs": []
    },
    {
      "cell_type": "markdown",
      "source": [
        "### **Exercise 9: Metaclasses**"
      ],
      "metadata": {
        "id": "ljB4vufpw3Ta"
      },
      "id": "ljB4vufpw3Ta"
    },
    {
      "cell_type": "code",
      "source": [
        "class Meta(type):\n",
        "    def __new__(cls, name, bases, dct):\n",
        "        print(f\"Creating class {name}\")\n",
        "        return super().__new__(cls, name, bases, dct)\n",
        "\n",
        "class MyClass(metaclass=Meta):\n",
        "    pass"
      ],
      "metadata": {
        "id": "8F5zV9Cpw6aZ"
      },
      "id": "8F5zV9Cpw6aZ",
      "execution_count": null,
      "outputs": []
    },
    {
      "cell_type": "markdown",
      "source": [
        "### **Exercise 10: Dynamic Attributes and Methods**"
      ],
      "metadata": {
        "id": "TxjzaGg4w8xi"
      },
      "id": "TxjzaGg4w8xi"
    },
    {
      "cell_type": "code",
      "source": [
        "import types\n",
        "\n",
        "class Person: pass\n",
        "\n",
        "p = Person()\n",
        "p.age = 25  # dynamic attribute\n",
        "print(p.age)  # 25\n",
        "\n",
        "def greet(self):\n",
        "    print(\"Hello!\")\n",
        "\n",
        "p.say_hello = types.MethodType(greet, p)\n",
        "p.say_hello()  # Hello!"
      ],
      "metadata": {
        "id": "0Xhq5_Xsvtwq"
      },
      "id": "0Xhq5_Xsvtwq",
      "execution_count": null,
      "outputs": []
    },
    {
      "cell_type": "markdown",
      "source": [
        "### **Exercise 11: `__slots__`**"
      ],
      "metadata": {
        "id": "9BsTt7znvqP6"
      },
      "id": "9BsTt7znvqP6"
    },
    {
      "cell_type": "code",
      "source": [
        "class Point:\n",
        "    __slots__ = (\"x\", \"y\")\n",
        "    def __init__(self, x, y):\n",
        "        self.x = x\n",
        "        self.y = y\n",
        "\n",
        "p = Point(1, 2)\n",
        "print(p.x, p.y)  # 1 2\n",
        "# p.z = 5  # AttributeError: 'Point' object has no attribute 'z'"
      ],
      "metadata": {
        "id": "GsPH6SrsvnS6"
      },
      "id": "GsPH6SrsvnS6",
      "execution_count": null,
      "outputs": []
    },
    {
      "cell_type": "markdown",
      "source": [
        "### **Exercise 12: Singleton Pattern**"
      ],
      "metadata": {
        "id": "5Tz7-9K9vjuW"
      },
      "id": "5Tz7-9K9vjuW"
    },
    {
      "cell_type": "code",
      "source": [
        "class Singleton:\n",
        "    _instance = None\n",
        "    def __new__(cls, *args, **kwargs):\n",
        "        if not cls._instance:\n",
        "            cls._instance = super().__new__(cls)\n",
        "        return cls._instance\n",
        "\n",
        "a = Singleton()\n",
        "b = Singleton()\n",
        "print(a is b)  # True"
      ],
      "metadata": {
        "id": "wXRPTIwBvgjh"
      },
      "id": "wXRPTIwBvgjh",
      "execution_count": null,
      "outputs": []
    },
    {
      "cell_type": "markdown",
      "source": [
        "## 🔥 Challenge Exercises\n",
        "\n",
        "### **Challenge 1: Mini Banking System**"
      ],
      "metadata": {
        "id": "Gk5N8BFmvc4J"
      },
      "id": "Gk5N8BFmvc4J"
    },
    {
      "cell_type": "code",
      "source": [
        "class BankAccount:\n",
        "    def __init__(self, balance=0):\n",
        "        self.__balance = balance\n",
        "\n",
        "    def deposit(self, amount):\n",
        "        self.__balance += amount\n",
        "\n",
        "    def withdraw(self, amount):\n",
        "        if amount > self.__balance:\n",
        "            raise ValueError(\"Insufficient balance\")\n",
        "        self.__balance -= amount\n",
        "\n",
        "    @property\n",
        "    def balance(self):\n",
        "        return self.__balance\n",
        "\n",
        "# Test\n",
        "acc1 = BankAccount(100)\n",
        "acc1.deposit(50)\n",
        "print(acc1.balance)  # 150\n",
        "acc1.withdraw(70)\n",
        "print(acc1.balance)  # 80\n"
      ],
      "metadata": {
        "id": "rOAiX2jJvVgZ"
      },
      "id": "rOAiX2jJvVgZ",
      "execution_count": null,
      "outputs": []
    },
    {
      "cell_type": "markdown",
      "source": [
        "### **Challenge 2: Library System**"
      ],
      "metadata": {
        "id": "qU8IAJsUvHzQ"
      },
      "id": "qU8IAJsUvHzQ"
    },
    {
      "cell_type": "code",
      "source": [
        "class Book:\n",
        "    def __init__(self, title, author):\n",
        "        self.title, self.author = title, author\n",
        "\n",
        "    def __repr__(self):\n",
        "        return f\"{self.title} by {self.author}\"\n",
        "\n",
        "class Library:\n",
        "    def __init__(self):\n",
        "        self.books = []  # ✅ instance attribute\n",
        "\n",
        "    def add_book(self, book):\n",
        "        self.books.append(book)\n",
        "\n",
        "    def list_books(self):\n",
        "        return self.books\n",
        "\n",
        "# Test\n",
        "lib = Library()\n",
        "lib.add_book(Book(\"1984\", \"George Orwell\"))\n",
        "lib.add_book(Book(\"Python 101\", \"Guido van Rossum\"))\n",
        "print(lib.list_books())\n"
      ],
      "metadata": {
        "id": "JgF347WhvFXR"
      },
      "id": "JgF347WhvFXR",
      "execution_count": null,
      "outputs": []
    },
    {
      "cell_type": "markdown",
      "source": [
        "### **Challenge 3: Callable Objects**"
      ],
      "metadata": {
        "id": "g8gbRl62vBqB"
      },
      "id": "g8gbRl62vBqB"
    },
    {
      "cell_type": "code",
      "source": [
        "class Multiplier:\n",
        "    def __init__(self, factor):\n",
        "        self.factor = factor\n",
        "\n",
        "    def __call__(self, x):\n",
        "        return x * self.factor\n",
        "\n",
        "double = Multiplier(2)\n",
        "print(double(10))  # 20"
      ],
      "metadata": {
        "id": "xBaSiwfuu5jC"
      },
      "id": "xBaSiwfuu5jC",
      "execution_count": null,
      "outputs": []
    }
  ],
  "metadata": {
    "kernelspec": {
      "display_name": "base",
      "language": "python",
      "name": "python3"
    },
    "language_info": {
      "codemirror_mode": {
        "name": "ipython",
        "version": 3
      },
      "file_extension": ".py",
      "mimetype": "text/x-python",
      "name": "python",
      "nbconvert_exporter": "python",
      "pygments_lexer": "ipython3",
      "version": "3.13.2"
    },
    "colab": {
      "provenance": []
    }
  },
  "nbformat": 4,
  "nbformat_minor": 5
}