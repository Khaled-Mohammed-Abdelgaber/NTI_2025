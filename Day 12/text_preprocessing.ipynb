{
  "metadata": {
    "kaggle": {
      "accelerator": "none",
      "dataSources": [
        {
          "sourceId": 320111,
          "sourceType": "datasetVersion",
          "datasetId": 134715
        },
        {
          "sourceId": 2186313,
          "sourceType": "datasetVersion",
          "datasetId": 1312443,
          "isSourceIdPinned": false
        }
      ],
      "dockerImageVersionId": 30664,
      "isInternetEnabled": true,
      "language": "python",
      "sourceType": "notebook",
      "isGpuEnabled": false
    },
    "kernelspec": {
      "display_name": "Python 3",
      "name": "python3"
    },
    "language_info": {
      "name": "python",
      "version": "3.10.13",
      "mimetype": "text/x-python",
      "codemirror_mode": {
        "name": "ipython",
        "version": 3
      },
      "pygments_lexer": "ipython3",
      "nbconvert_exporter": "python",
      "file_extension": ".py"
    },
    "colab": {
      "provenance": [],
      "gpuType": "T4"
    },
    "accelerator": "GPU"
  },
  "nbformat_minor": 0,
  "nbformat": 4,
  "cells": [
    {
      "cell_type": "markdown",
      "source": [
        "**Dataset Link**\n",
        "https://www.kaggle.com/datasets/gargmanas/sentimental-analysis-for-tweets"
      ],
      "metadata": {
        "id": "cLSdooXzrVoD"
      }
    },
    {
      "cell_type": "markdown",
      "source": [
        "***text preprocessing addresses issues like :***\n",
        "- Lowercase letters.\n",
        "- Removing HTML tags.\n",
        "- Removing URLs.\n",
        "- Removing punctuation.\n",
        "- Chat Words Treatment.\n",
        "- Spelling Correction.\n",
        "- Removing stop words\n",
        "- Handling Emojies\n",
        "- Tokenization\n",
        "- Stemming\n",
        "- Lemmatization\n",
        "\n",
        "***We Will discuss the Solutions to Handles the above mentioned Issues.***"
      ],
      "metadata": {
        "id": "duqbtjTPpc9L"
      }
    },
    {
      "cell_type": "code",
      "source": [
        "import kagglehub\n",
        "\n",
        "# Download latest version\n",
        "path = kagglehub.dataset_download(\"gargmanas/sentimental-analysis-for-tweets\")\n",
        "\n",
        "print(\"Path to dataset files:\", path)"
      ],
      "metadata": {
        "colab": {
          "base_uri": "https://localhost:8080/"
        },
        "id": "HtC24MfzsPrK",
        "outputId": "fd51f25e-41f9-4e55-c057-76c7d79a4c60"
      },
      "execution_count": 23,
      "outputs": [
        {
          "output_type": "stream",
          "name": "stdout",
          "text": [
            "Warning: Looks like you're using an outdated `kagglehub` version (installed: 0.3.12), please consider upgrading to the latest version (0.3.13).\n",
            "Downloading from https://www.kaggle.com/api/v1/datasets/download/gargmanas/sentimental-analysis-for-tweets?dataset_version_number=1...\n"
          ]
        },
        {
          "output_type": "stream",
          "name": "stderr",
          "text": [
            "100%|██████████| 476k/476k [00:00<00:00, 588kB/s]"
          ]
        },
        {
          "output_type": "stream",
          "name": "stdout",
          "text": [
            "Extracting files...\n",
            "Path to dataset files: /root/.cache/kagglehub/datasets/gargmanas/sentimental-analysis-for-tweets/versions/1\n"
          ]
        },
        {
          "output_type": "stream",
          "name": "stderr",
          "text": [
            "\n"
          ]
        }
      ]
    },
    {
      "cell_type": "code",
      "source": [
        "import os\n",
        "os.listdir(\"/root/.cache/kagglehub/datasets/gargmanas/sentimental-analysis-for-tweets/versions/1\")"
      ],
      "metadata": {
        "colab": {
          "base_uri": "https://localhost:8080/"
        },
        "id": "jPXfQFzxsXIJ",
        "outputId": "bfc54796-c196-4da5-f38a-e8b0066b0b3d"
      },
      "execution_count": 24,
      "outputs": [
        {
          "output_type": "execute_result",
          "data": {
            "text/plain": [
              "['sentiment_tweets3.csv']"
            ]
          },
          "metadata": {},
          "execution_count": 24
        }
      ]
    },
    {
      "cell_type": "code",
      "source": [
        "# Import Basis Libraries\n",
        "import pandas as pd\n",
        "df = pd.read_csv('/root/.cache/kagglehub/datasets/gargmanas/sentimental-analysis-for-tweets/versions/1/sentiment_tweets3.csv')"
      ],
      "metadata": {
        "execution": {
          "iopub.status.busy": "2024-09-04T02:07:05.021466Z",
          "iopub.execute_input": "2024-09-04T02:07:05.022055Z",
          "iopub.status.idle": "2024-09-04T02:07:05.603096Z",
          "shell.execute_reply.started": "2024-09-04T02:07:05.021999Z",
          "shell.execute_reply": "2024-09-04T02:07:05.601796Z"
        },
        "trusted": true,
        "id": "I3Eyy-oHpc9N"
      },
      "execution_count": 25,
      "outputs": []
    },
    {
      "cell_type": "code",
      "source": [
        "df"
      ],
      "metadata": {
        "colab": {
          "base_uri": "https://localhost:8080/",
          "height": 423
        },
        "id": "DPrccAvesso4",
        "outputId": "89fd1738-4164-4ff7-93ef-40965f36bca3"
      },
      "execution_count": 26,
      "outputs": [
        {
          "output_type": "execute_result",
          "data": {
            "text/plain": [
              "        Index                                 message to examine  \\\n",
              "0         106  just had a real good moment. i missssssssss hi...   \n",
              "1         217         is reading manga  http://plurk.com/p/mzp1e   \n",
              "2         220  @comeagainjen http://twitpic.com/2y2lx - http:...   \n",
              "3         288  @lapcat Need to send 'em to my accountant tomo...   \n",
              "4         540      ADD ME ON MYSPACE!!!  myspace.com/LookThunder   \n",
              "...       ...                                                ...   \n",
              "10309  802309  No Depression by G Herbo is my mood from now o...   \n",
              "10310  802310  What do you do when depression succumbs the br...   \n",
              "10311  802311  Ketamine Nasal Spray Shows Promise Against Dep...   \n",
              "10312  802312  dont mistake a bad day with depression! everyo...   \n",
              "10313  802313                                                  0   \n",
              "\n",
              "       label (depression result)  \n",
              "0                              0  \n",
              "1                              0  \n",
              "2                              0  \n",
              "3                              0  \n",
              "4                              0  \n",
              "...                          ...  \n",
              "10309                          1  \n",
              "10310                          1  \n",
              "10311                          1  \n",
              "10312                          1  \n",
              "10313                          1  \n",
              "\n",
              "[10314 rows x 3 columns]"
            ],
            "text/html": [
              "\n",
              "  <div id=\"df-8368c8fd-4a64-424e-a06e-bee9829cfa69\" class=\"colab-df-container\">\n",
              "    <div>\n",
              "<style scoped>\n",
              "    .dataframe tbody tr th:only-of-type {\n",
              "        vertical-align: middle;\n",
              "    }\n",
              "\n",
              "    .dataframe tbody tr th {\n",
              "        vertical-align: top;\n",
              "    }\n",
              "\n",
              "    .dataframe thead th {\n",
              "        text-align: right;\n",
              "    }\n",
              "</style>\n",
              "<table border=\"1\" class=\"dataframe\">\n",
              "  <thead>\n",
              "    <tr style=\"text-align: right;\">\n",
              "      <th></th>\n",
              "      <th>Index</th>\n",
              "      <th>message to examine</th>\n",
              "      <th>label (depression result)</th>\n",
              "    </tr>\n",
              "  </thead>\n",
              "  <tbody>\n",
              "    <tr>\n",
              "      <th>0</th>\n",
              "      <td>106</td>\n",
              "      <td>just had a real good moment. i missssssssss hi...</td>\n",
              "      <td>0</td>\n",
              "    </tr>\n",
              "    <tr>\n",
              "      <th>1</th>\n",
              "      <td>217</td>\n",
              "      <td>is reading manga  http://plurk.com/p/mzp1e</td>\n",
              "      <td>0</td>\n",
              "    </tr>\n",
              "    <tr>\n",
              "      <th>2</th>\n",
              "      <td>220</td>\n",
              "      <td>@comeagainjen http://twitpic.com/2y2lx - http:...</td>\n",
              "      <td>0</td>\n",
              "    </tr>\n",
              "    <tr>\n",
              "      <th>3</th>\n",
              "      <td>288</td>\n",
              "      <td>@lapcat Need to send 'em to my accountant tomo...</td>\n",
              "      <td>0</td>\n",
              "    </tr>\n",
              "    <tr>\n",
              "      <th>4</th>\n",
              "      <td>540</td>\n",
              "      <td>ADD ME ON MYSPACE!!!  myspace.com/LookThunder</td>\n",
              "      <td>0</td>\n",
              "    </tr>\n",
              "    <tr>\n",
              "      <th>...</th>\n",
              "      <td>...</td>\n",
              "      <td>...</td>\n",
              "      <td>...</td>\n",
              "    </tr>\n",
              "    <tr>\n",
              "      <th>10309</th>\n",
              "      <td>802309</td>\n",
              "      <td>No Depression by G Herbo is my mood from now o...</td>\n",
              "      <td>1</td>\n",
              "    </tr>\n",
              "    <tr>\n",
              "      <th>10310</th>\n",
              "      <td>802310</td>\n",
              "      <td>What do you do when depression succumbs the br...</td>\n",
              "      <td>1</td>\n",
              "    </tr>\n",
              "    <tr>\n",
              "      <th>10311</th>\n",
              "      <td>802311</td>\n",
              "      <td>Ketamine Nasal Spray Shows Promise Against Dep...</td>\n",
              "      <td>1</td>\n",
              "    </tr>\n",
              "    <tr>\n",
              "      <th>10312</th>\n",
              "      <td>802312</td>\n",
              "      <td>dont mistake a bad day with depression! everyo...</td>\n",
              "      <td>1</td>\n",
              "    </tr>\n",
              "    <tr>\n",
              "      <th>10313</th>\n",
              "      <td>802313</td>\n",
              "      <td>0</td>\n",
              "      <td>1</td>\n",
              "    </tr>\n",
              "  </tbody>\n",
              "</table>\n",
              "<p>10314 rows × 3 columns</p>\n",
              "</div>\n",
              "    <div class=\"colab-df-buttons\">\n",
              "\n",
              "  <div class=\"colab-df-container\">\n",
              "    <button class=\"colab-df-convert\" onclick=\"convertToInteractive('df-8368c8fd-4a64-424e-a06e-bee9829cfa69')\"\n",
              "            title=\"Convert this dataframe to an interactive table.\"\n",
              "            style=\"display:none;\">\n",
              "\n",
              "  <svg xmlns=\"http://www.w3.org/2000/svg\" height=\"24px\" viewBox=\"0 -960 960 960\">\n",
              "    <path d=\"M120-120v-720h720v720H120Zm60-500h600v-160H180v160Zm220 220h160v-160H400v160Zm0 220h160v-160H400v160ZM180-400h160v-160H180v160Zm440 0h160v-160H620v160ZM180-180h160v-160H180v160Zm440 0h160v-160H620v160Z\"/>\n",
              "  </svg>\n",
              "    </button>\n",
              "\n",
              "  <style>\n",
              "    .colab-df-container {\n",
              "      display:flex;\n",
              "      gap: 12px;\n",
              "    }\n",
              "\n",
              "    .colab-df-convert {\n",
              "      background-color: #E8F0FE;\n",
              "      border: none;\n",
              "      border-radius: 50%;\n",
              "      cursor: pointer;\n",
              "      display: none;\n",
              "      fill: #1967D2;\n",
              "      height: 32px;\n",
              "      padding: 0 0 0 0;\n",
              "      width: 32px;\n",
              "    }\n",
              "\n",
              "    .colab-df-convert:hover {\n",
              "      background-color: #E2EBFA;\n",
              "      box-shadow: 0px 1px 2px rgba(60, 64, 67, 0.3), 0px 1px 3px 1px rgba(60, 64, 67, 0.15);\n",
              "      fill: #174EA6;\n",
              "    }\n",
              "\n",
              "    .colab-df-buttons div {\n",
              "      margin-bottom: 4px;\n",
              "    }\n",
              "\n",
              "    [theme=dark] .colab-df-convert {\n",
              "      background-color: #3B4455;\n",
              "      fill: #D2E3FC;\n",
              "    }\n",
              "\n",
              "    [theme=dark] .colab-df-convert:hover {\n",
              "      background-color: #434B5C;\n",
              "      box-shadow: 0px 1px 3px 1px rgba(0, 0, 0, 0.15);\n",
              "      filter: drop-shadow(0px 1px 2px rgba(0, 0, 0, 0.3));\n",
              "      fill: #FFFFFF;\n",
              "    }\n",
              "  </style>\n",
              "\n",
              "    <script>\n",
              "      const buttonEl =\n",
              "        document.querySelector('#df-8368c8fd-4a64-424e-a06e-bee9829cfa69 button.colab-df-convert');\n",
              "      buttonEl.style.display =\n",
              "        google.colab.kernel.accessAllowed ? 'block' : 'none';\n",
              "\n",
              "      async function convertToInteractive(key) {\n",
              "        const element = document.querySelector('#df-8368c8fd-4a64-424e-a06e-bee9829cfa69');\n",
              "        const dataTable =\n",
              "          await google.colab.kernel.invokeFunction('convertToInteractive',\n",
              "                                                    [key], {});\n",
              "        if (!dataTable) return;\n",
              "\n",
              "        const docLinkHtml = 'Like what you see? Visit the ' +\n",
              "          '<a target=\"_blank\" href=https://colab.research.google.com/notebooks/data_table.ipynb>data table notebook</a>'\n",
              "          + ' to learn more about interactive tables.';\n",
              "        element.innerHTML = '';\n",
              "        dataTable['output_type'] = 'display_data';\n",
              "        await google.colab.output.renderOutput(dataTable, element);\n",
              "        const docLink = document.createElement('div');\n",
              "        docLink.innerHTML = docLinkHtml;\n",
              "        element.appendChild(docLink);\n",
              "      }\n",
              "    </script>\n",
              "  </div>\n",
              "\n",
              "\n",
              "    <div id=\"df-19c880a2-b84d-47bc-8d1f-8efa297284cc\">\n",
              "      <button class=\"colab-df-quickchart\" onclick=\"quickchart('df-19c880a2-b84d-47bc-8d1f-8efa297284cc')\"\n",
              "                title=\"Suggest charts\"\n",
              "                style=\"display:none;\">\n",
              "\n",
              "<svg xmlns=\"http://www.w3.org/2000/svg\" height=\"24px\"viewBox=\"0 0 24 24\"\n",
              "     width=\"24px\">\n",
              "    <g>\n",
              "        <path d=\"M19 3H5c-1.1 0-2 .9-2 2v14c0 1.1.9 2 2 2h14c1.1 0 2-.9 2-2V5c0-1.1-.9-2-2-2zM9 17H7v-7h2v7zm4 0h-2V7h2v10zm4 0h-2v-4h2v4z\"/>\n",
              "    </g>\n",
              "</svg>\n",
              "      </button>\n",
              "\n",
              "<style>\n",
              "  .colab-df-quickchart {\n",
              "      --bg-color: #E8F0FE;\n",
              "      --fill-color: #1967D2;\n",
              "      --hover-bg-color: #E2EBFA;\n",
              "      --hover-fill-color: #174EA6;\n",
              "      --disabled-fill-color: #AAA;\n",
              "      --disabled-bg-color: #DDD;\n",
              "  }\n",
              "\n",
              "  [theme=dark] .colab-df-quickchart {\n",
              "      --bg-color: #3B4455;\n",
              "      --fill-color: #D2E3FC;\n",
              "      --hover-bg-color: #434B5C;\n",
              "      --hover-fill-color: #FFFFFF;\n",
              "      --disabled-bg-color: #3B4455;\n",
              "      --disabled-fill-color: #666;\n",
              "  }\n",
              "\n",
              "  .colab-df-quickchart {\n",
              "    background-color: var(--bg-color);\n",
              "    border: none;\n",
              "    border-radius: 50%;\n",
              "    cursor: pointer;\n",
              "    display: none;\n",
              "    fill: var(--fill-color);\n",
              "    height: 32px;\n",
              "    padding: 0;\n",
              "    width: 32px;\n",
              "  }\n",
              "\n",
              "  .colab-df-quickchart:hover {\n",
              "    background-color: var(--hover-bg-color);\n",
              "    box-shadow: 0 1px 2px rgba(60, 64, 67, 0.3), 0 1px 3px 1px rgba(60, 64, 67, 0.15);\n",
              "    fill: var(--button-hover-fill-color);\n",
              "  }\n",
              "\n",
              "  .colab-df-quickchart-complete:disabled,\n",
              "  .colab-df-quickchart-complete:disabled:hover {\n",
              "    background-color: var(--disabled-bg-color);\n",
              "    fill: var(--disabled-fill-color);\n",
              "    box-shadow: none;\n",
              "  }\n",
              "\n",
              "  .colab-df-spinner {\n",
              "    border: 2px solid var(--fill-color);\n",
              "    border-color: transparent;\n",
              "    border-bottom-color: var(--fill-color);\n",
              "    animation:\n",
              "      spin 1s steps(1) infinite;\n",
              "  }\n",
              "\n",
              "  @keyframes spin {\n",
              "    0% {\n",
              "      border-color: transparent;\n",
              "      border-bottom-color: var(--fill-color);\n",
              "      border-left-color: var(--fill-color);\n",
              "    }\n",
              "    20% {\n",
              "      border-color: transparent;\n",
              "      border-left-color: var(--fill-color);\n",
              "      border-top-color: var(--fill-color);\n",
              "    }\n",
              "    30% {\n",
              "      border-color: transparent;\n",
              "      border-left-color: var(--fill-color);\n",
              "      border-top-color: var(--fill-color);\n",
              "      border-right-color: var(--fill-color);\n",
              "    }\n",
              "    40% {\n",
              "      border-color: transparent;\n",
              "      border-right-color: var(--fill-color);\n",
              "      border-top-color: var(--fill-color);\n",
              "    }\n",
              "    60% {\n",
              "      border-color: transparent;\n",
              "      border-right-color: var(--fill-color);\n",
              "    }\n",
              "    80% {\n",
              "      border-color: transparent;\n",
              "      border-right-color: var(--fill-color);\n",
              "      border-bottom-color: var(--fill-color);\n",
              "    }\n",
              "    90% {\n",
              "      border-color: transparent;\n",
              "      border-bottom-color: var(--fill-color);\n",
              "    }\n",
              "  }\n",
              "</style>\n",
              "\n",
              "      <script>\n",
              "        async function quickchart(key) {\n",
              "          const quickchartButtonEl =\n",
              "            document.querySelector('#' + key + ' button');\n",
              "          quickchartButtonEl.disabled = true;  // To prevent multiple clicks.\n",
              "          quickchartButtonEl.classList.add('colab-df-spinner');\n",
              "          try {\n",
              "            const charts = await google.colab.kernel.invokeFunction(\n",
              "                'suggestCharts', [key], {});\n",
              "          } catch (error) {\n",
              "            console.error('Error during call to suggestCharts:', error);\n",
              "          }\n",
              "          quickchartButtonEl.classList.remove('colab-df-spinner');\n",
              "          quickchartButtonEl.classList.add('colab-df-quickchart-complete');\n",
              "        }\n",
              "        (() => {\n",
              "          let quickchartButtonEl =\n",
              "            document.querySelector('#df-19c880a2-b84d-47bc-8d1f-8efa297284cc button');\n",
              "          quickchartButtonEl.style.display =\n",
              "            google.colab.kernel.accessAllowed ? 'block' : 'none';\n",
              "        })();\n",
              "      </script>\n",
              "    </div>\n",
              "\n",
              "  <div id=\"id_2fbfb18f-b487-4311-a64d-76813d604804\">\n",
              "    <style>\n",
              "      .colab-df-generate {\n",
              "        background-color: #E8F0FE;\n",
              "        border: none;\n",
              "        border-radius: 50%;\n",
              "        cursor: pointer;\n",
              "        display: none;\n",
              "        fill: #1967D2;\n",
              "        height: 32px;\n",
              "        padding: 0 0 0 0;\n",
              "        width: 32px;\n",
              "      }\n",
              "\n",
              "      .colab-df-generate:hover {\n",
              "        background-color: #E2EBFA;\n",
              "        box-shadow: 0px 1px 2px rgba(60, 64, 67, 0.3), 0px 1px 3px 1px rgba(60, 64, 67, 0.15);\n",
              "        fill: #174EA6;\n",
              "      }\n",
              "\n",
              "      [theme=dark] .colab-df-generate {\n",
              "        background-color: #3B4455;\n",
              "        fill: #D2E3FC;\n",
              "      }\n",
              "\n",
              "      [theme=dark] .colab-df-generate:hover {\n",
              "        background-color: #434B5C;\n",
              "        box-shadow: 0px 1px 3px 1px rgba(0, 0, 0, 0.15);\n",
              "        filter: drop-shadow(0px 1px 2px rgba(0, 0, 0, 0.3));\n",
              "        fill: #FFFFFF;\n",
              "      }\n",
              "    </style>\n",
              "    <button class=\"colab-df-generate\" onclick=\"generateWithVariable('df')\"\n",
              "            title=\"Generate code using this dataframe.\"\n",
              "            style=\"display:none;\">\n",
              "\n",
              "  <svg xmlns=\"http://www.w3.org/2000/svg\" height=\"24px\"viewBox=\"0 0 24 24\"\n",
              "       width=\"24px\">\n",
              "    <path d=\"M7,19H8.4L18.45,9,17,7.55,7,17.6ZM5,21V16.75L18.45,3.32a2,2,0,0,1,2.83,0l1.4,1.43a1.91,1.91,0,0,1,.58,1.4,1.91,1.91,0,0,1-.58,1.4L9.25,21ZM18.45,9,17,7.55Zm-12,3A5.31,5.31,0,0,0,4.9,8.1,5.31,5.31,0,0,0,1,6.5,5.31,5.31,0,0,0,4.9,4.9,5.31,5.31,0,0,0,6.5,1,5.31,5.31,0,0,0,8.1,4.9,5.31,5.31,0,0,0,12,6.5,5.46,5.46,0,0,0,6.5,12Z\"/>\n",
              "  </svg>\n",
              "    </button>\n",
              "    <script>\n",
              "      (() => {\n",
              "      const buttonEl =\n",
              "        document.querySelector('#id_2fbfb18f-b487-4311-a64d-76813d604804 button.colab-df-generate');\n",
              "      buttonEl.style.display =\n",
              "        google.colab.kernel.accessAllowed ? 'block' : 'none';\n",
              "\n",
              "      buttonEl.onclick = () => {\n",
              "        google.colab.notebook.generateWithVariable('df');\n",
              "      }\n",
              "      })();\n",
              "    </script>\n",
              "  </div>\n",
              "\n",
              "    </div>\n",
              "  </div>\n"
            ],
            "application/vnd.google.colaboratory.intrinsic+json": {
              "type": "dataframe",
              "variable_name": "df",
              "summary": "{\n  \"name\": \"df\",\n  \"rows\": 10314,\n  \"fields\": [\n    {\n      \"column\": \"Index\",\n      \"properties\": {\n        \"dtype\": \"number\",\n        \"std\": 261688,\n        \"min\": 106,\n        \"max\": 802313,\n        \"num_unique_values\": 10314,\n        \"samples\": [\n          251196,\n          504883,\n          787069\n        ],\n        \"semantic_type\": \"\",\n        \"description\": \"\"\n      }\n    },\n    {\n      \"column\": \"message to examine\",\n      \"properties\": {\n        \"dtype\": \"string\",\n        \"num_unique_values\": 10282,\n        \"samples\": [\n          \"@Thorpeland No signal is the message that comes up on most monitors here when it's on but has no source. \",\n          \"1. The emotional ride of #perimenopause is ROUGH. I woke up fine, but then felt anger, irritation, just a feeling of wanting to break out, then fell down into a pit of depression. Man, the depression is frustrating and it definitely feels hormonal. I've been working on nutrition.\",\n          \"@dean2105 Stress-free is the way to be \"\n        ],\n        \"semantic_type\": \"\",\n        \"description\": \"\"\n      }\n    },\n    {\n      \"column\": \"label (depression result)\",\n      \"properties\": {\n        \"dtype\": \"number\",\n        \"std\": 0,\n        \"min\": 0,\n        \"max\": 1,\n        \"num_unique_values\": 2,\n        \"samples\": [\n          1,\n          0\n        ],\n        \"semantic_type\": \"\",\n        \"description\": \"\"\n      }\n    }\n  ]\n}"
            }
          },
          "metadata": {},
          "execution_count": 26
        }
      ]
    },
    {
      "cell_type": "code",
      "source": [
        "# rename column\n",
        "df.rename(columns = {'label (depression result)':'Sentiment'}, inplace = True)\n",
        "df.rename(columns = {'message to examine':'review'}, inplace = True)\n",
        "# Drop Index Column\n",
        "df.drop('Index',axis=1,inplace=True)"
      ],
      "metadata": {
        "id": "w0X1aJ7PsrDS"
      },
      "execution_count": 27,
      "outputs": []
    },
    {
      "cell_type": "code",
      "source": [
        "# Head\n",
        "df.head()"
      ],
      "metadata": {
        "execution": {
          "iopub.status.busy": "2024-09-04T02:07:07.073990Z",
          "iopub.execute_input": "2024-09-04T02:07:07.074413Z",
          "iopub.status.idle": "2024-09-04T02:07:07.090740Z",
          "shell.execute_reply.started": "2024-09-04T02:07:07.074383Z",
          "shell.execute_reply": "2024-09-04T02:07:07.089529Z"
        },
        "trusted": true,
        "colab": {
          "base_uri": "https://localhost:8080/",
          "height": 206
        },
        "id": "uZ_sJO0Upc9O",
        "outputId": "7cec8a94-3aa7-458c-b44c-d85cba2cdc11"
      },
      "execution_count": 28,
      "outputs": [
        {
          "output_type": "execute_result",
          "data": {
            "text/plain": [
              "                                              review  Sentiment\n",
              "0  just had a real good moment. i missssssssss hi...          0\n",
              "1         is reading manga  http://plurk.com/p/mzp1e          0\n",
              "2  @comeagainjen http://twitpic.com/2y2lx - http:...          0\n",
              "3  @lapcat Need to send 'em to my accountant tomo...          0\n",
              "4      ADD ME ON MYSPACE!!!  myspace.com/LookThunder          0"
            ],
            "text/html": [
              "\n",
              "  <div id=\"df-8cc74922-b27f-4e9e-a86e-8ac3ae7d576a\" class=\"colab-df-container\">\n",
              "    <div>\n",
              "<style scoped>\n",
              "    .dataframe tbody tr th:only-of-type {\n",
              "        vertical-align: middle;\n",
              "    }\n",
              "\n",
              "    .dataframe tbody tr th {\n",
              "        vertical-align: top;\n",
              "    }\n",
              "\n",
              "    .dataframe thead th {\n",
              "        text-align: right;\n",
              "    }\n",
              "</style>\n",
              "<table border=\"1\" class=\"dataframe\">\n",
              "  <thead>\n",
              "    <tr style=\"text-align: right;\">\n",
              "      <th></th>\n",
              "      <th>review</th>\n",
              "      <th>Sentiment</th>\n",
              "    </tr>\n",
              "  </thead>\n",
              "  <tbody>\n",
              "    <tr>\n",
              "      <th>0</th>\n",
              "      <td>just had a real good moment. i missssssssss hi...</td>\n",
              "      <td>0</td>\n",
              "    </tr>\n",
              "    <tr>\n",
              "      <th>1</th>\n",
              "      <td>is reading manga  http://plurk.com/p/mzp1e</td>\n",
              "      <td>0</td>\n",
              "    </tr>\n",
              "    <tr>\n",
              "      <th>2</th>\n",
              "      <td>@comeagainjen http://twitpic.com/2y2lx - http:...</td>\n",
              "      <td>0</td>\n",
              "    </tr>\n",
              "    <tr>\n",
              "      <th>3</th>\n",
              "      <td>@lapcat Need to send 'em to my accountant tomo...</td>\n",
              "      <td>0</td>\n",
              "    </tr>\n",
              "    <tr>\n",
              "      <th>4</th>\n",
              "      <td>ADD ME ON MYSPACE!!!  myspace.com/LookThunder</td>\n",
              "      <td>0</td>\n",
              "    </tr>\n",
              "  </tbody>\n",
              "</table>\n",
              "</div>\n",
              "    <div class=\"colab-df-buttons\">\n",
              "\n",
              "  <div class=\"colab-df-container\">\n",
              "    <button class=\"colab-df-convert\" onclick=\"convertToInteractive('df-8cc74922-b27f-4e9e-a86e-8ac3ae7d576a')\"\n",
              "            title=\"Convert this dataframe to an interactive table.\"\n",
              "            style=\"display:none;\">\n",
              "\n",
              "  <svg xmlns=\"http://www.w3.org/2000/svg\" height=\"24px\" viewBox=\"0 -960 960 960\">\n",
              "    <path d=\"M120-120v-720h720v720H120Zm60-500h600v-160H180v160Zm220 220h160v-160H400v160Zm0 220h160v-160H400v160ZM180-400h160v-160H180v160Zm440 0h160v-160H620v160ZM180-180h160v-160H180v160Zm440 0h160v-160H620v160Z\"/>\n",
              "  </svg>\n",
              "    </button>\n",
              "\n",
              "  <style>\n",
              "    .colab-df-container {\n",
              "      display:flex;\n",
              "      gap: 12px;\n",
              "    }\n",
              "\n",
              "    .colab-df-convert {\n",
              "      background-color: #E8F0FE;\n",
              "      border: none;\n",
              "      border-radius: 50%;\n",
              "      cursor: pointer;\n",
              "      display: none;\n",
              "      fill: #1967D2;\n",
              "      height: 32px;\n",
              "      padding: 0 0 0 0;\n",
              "      width: 32px;\n",
              "    }\n",
              "\n",
              "    .colab-df-convert:hover {\n",
              "      background-color: #E2EBFA;\n",
              "      box-shadow: 0px 1px 2px rgba(60, 64, 67, 0.3), 0px 1px 3px 1px rgba(60, 64, 67, 0.15);\n",
              "      fill: #174EA6;\n",
              "    }\n",
              "\n",
              "    .colab-df-buttons div {\n",
              "      margin-bottom: 4px;\n",
              "    }\n",
              "\n",
              "    [theme=dark] .colab-df-convert {\n",
              "      background-color: #3B4455;\n",
              "      fill: #D2E3FC;\n",
              "    }\n",
              "\n",
              "    [theme=dark] .colab-df-convert:hover {\n",
              "      background-color: #434B5C;\n",
              "      box-shadow: 0px 1px 3px 1px rgba(0, 0, 0, 0.15);\n",
              "      filter: drop-shadow(0px 1px 2px rgba(0, 0, 0, 0.3));\n",
              "      fill: #FFFFFF;\n",
              "    }\n",
              "  </style>\n",
              "\n",
              "    <script>\n",
              "      const buttonEl =\n",
              "        document.querySelector('#df-8cc74922-b27f-4e9e-a86e-8ac3ae7d576a button.colab-df-convert');\n",
              "      buttonEl.style.display =\n",
              "        google.colab.kernel.accessAllowed ? 'block' : 'none';\n",
              "\n",
              "      async function convertToInteractive(key) {\n",
              "        const element = document.querySelector('#df-8cc74922-b27f-4e9e-a86e-8ac3ae7d576a');\n",
              "        const dataTable =\n",
              "          await google.colab.kernel.invokeFunction('convertToInteractive',\n",
              "                                                    [key], {});\n",
              "        if (!dataTable) return;\n",
              "\n",
              "        const docLinkHtml = 'Like what you see? Visit the ' +\n",
              "          '<a target=\"_blank\" href=https://colab.research.google.com/notebooks/data_table.ipynb>data table notebook</a>'\n",
              "          + ' to learn more about interactive tables.';\n",
              "        element.innerHTML = '';\n",
              "        dataTable['output_type'] = 'display_data';\n",
              "        await google.colab.output.renderOutput(dataTable, element);\n",
              "        const docLink = document.createElement('div');\n",
              "        docLink.innerHTML = docLinkHtml;\n",
              "        element.appendChild(docLink);\n",
              "      }\n",
              "    </script>\n",
              "  </div>\n",
              "\n",
              "\n",
              "    <div id=\"df-7035c305-34f7-4c72-bb58-fad45ac9da79\">\n",
              "      <button class=\"colab-df-quickchart\" onclick=\"quickchart('df-7035c305-34f7-4c72-bb58-fad45ac9da79')\"\n",
              "                title=\"Suggest charts\"\n",
              "                style=\"display:none;\">\n",
              "\n",
              "<svg xmlns=\"http://www.w3.org/2000/svg\" height=\"24px\"viewBox=\"0 0 24 24\"\n",
              "     width=\"24px\">\n",
              "    <g>\n",
              "        <path d=\"M19 3H5c-1.1 0-2 .9-2 2v14c0 1.1.9 2 2 2h14c1.1 0 2-.9 2-2V5c0-1.1-.9-2-2-2zM9 17H7v-7h2v7zm4 0h-2V7h2v10zm4 0h-2v-4h2v4z\"/>\n",
              "    </g>\n",
              "</svg>\n",
              "      </button>\n",
              "\n",
              "<style>\n",
              "  .colab-df-quickchart {\n",
              "      --bg-color: #E8F0FE;\n",
              "      --fill-color: #1967D2;\n",
              "      --hover-bg-color: #E2EBFA;\n",
              "      --hover-fill-color: #174EA6;\n",
              "      --disabled-fill-color: #AAA;\n",
              "      --disabled-bg-color: #DDD;\n",
              "  }\n",
              "\n",
              "  [theme=dark] .colab-df-quickchart {\n",
              "      --bg-color: #3B4455;\n",
              "      --fill-color: #D2E3FC;\n",
              "      --hover-bg-color: #434B5C;\n",
              "      --hover-fill-color: #FFFFFF;\n",
              "      --disabled-bg-color: #3B4455;\n",
              "      --disabled-fill-color: #666;\n",
              "  }\n",
              "\n",
              "  .colab-df-quickchart {\n",
              "    background-color: var(--bg-color);\n",
              "    border: none;\n",
              "    border-radius: 50%;\n",
              "    cursor: pointer;\n",
              "    display: none;\n",
              "    fill: var(--fill-color);\n",
              "    height: 32px;\n",
              "    padding: 0;\n",
              "    width: 32px;\n",
              "  }\n",
              "\n",
              "  .colab-df-quickchart:hover {\n",
              "    background-color: var(--hover-bg-color);\n",
              "    box-shadow: 0 1px 2px rgba(60, 64, 67, 0.3), 0 1px 3px 1px rgba(60, 64, 67, 0.15);\n",
              "    fill: var(--button-hover-fill-color);\n",
              "  }\n",
              "\n",
              "  .colab-df-quickchart-complete:disabled,\n",
              "  .colab-df-quickchart-complete:disabled:hover {\n",
              "    background-color: var(--disabled-bg-color);\n",
              "    fill: var(--disabled-fill-color);\n",
              "    box-shadow: none;\n",
              "  }\n",
              "\n",
              "  .colab-df-spinner {\n",
              "    border: 2px solid var(--fill-color);\n",
              "    border-color: transparent;\n",
              "    border-bottom-color: var(--fill-color);\n",
              "    animation:\n",
              "      spin 1s steps(1) infinite;\n",
              "  }\n",
              "\n",
              "  @keyframes spin {\n",
              "    0% {\n",
              "      border-color: transparent;\n",
              "      border-bottom-color: var(--fill-color);\n",
              "      border-left-color: var(--fill-color);\n",
              "    }\n",
              "    20% {\n",
              "      border-color: transparent;\n",
              "      border-left-color: var(--fill-color);\n",
              "      border-top-color: var(--fill-color);\n",
              "    }\n",
              "    30% {\n",
              "      border-color: transparent;\n",
              "      border-left-color: var(--fill-color);\n",
              "      border-top-color: var(--fill-color);\n",
              "      border-right-color: var(--fill-color);\n",
              "    }\n",
              "    40% {\n",
              "      border-color: transparent;\n",
              "      border-right-color: var(--fill-color);\n",
              "      border-top-color: var(--fill-color);\n",
              "    }\n",
              "    60% {\n",
              "      border-color: transparent;\n",
              "      border-right-color: var(--fill-color);\n",
              "    }\n",
              "    80% {\n",
              "      border-color: transparent;\n",
              "      border-right-color: var(--fill-color);\n",
              "      border-bottom-color: var(--fill-color);\n",
              "    }\n",
              "    90% {\n",
              "      border-color: transparent;\n",
              "      border-bottom-color: var(--fill-color);\n",
              "    }\n",
              "  }\n",
              "</style>\n",
              "\n",
              "      <script>\n",
              "        async function quickchart(key) {\n",
              "          const quickchartButtonEl =\n",
              "            document.querySelector('#' + key + ' button');\n",
              "          quickchartButtonEl.disabled = true;  // To prevent multiple clicks.\n",
              "          quickchartButtonEl.classList.add('colab-df-spinner');\n",
              "          try {\n",
              "            const charts = await google.colab.kernel.invokeFunction(\n",
              "                'suggestCharts', [key], {});\n",
              "          } catch (error) {\n",
              "            console.error('Error during call to suggestCharts:', error);\n",
              "          }\n",
              "          quickchartButtonEl.classList.remove('colab-df-spinner');\n",
              "          quickchartButtonEl.classList.add('colab-df-quickchart-complete');\n",
              "        }\n",
              "        (() => {\n",
              "          let quickchartButtonEl =\n",
              "            document.querySelector('#df-7035c305-34f7-4c72-bb58-fad45ac9da79 button');\n",
              "          quickchartButtonEl.style.display =\n",
              "            google.colab.kernel.accessAllowed ? 'block' : 'none';\n",
              "        })();\n",
              "      </script>\n",
              "    </div>\n",
              "\n",
              "    </div>\n",
              "  </div>\n"
            ],
            "application/vnd.google.colaboratory.intrinsic+json": {
              "type": "dataframe",
              "variable_name": "df",
              "summary": "{\n  \"name\": \"df\",\n  \"rows\": 10314,\n  \"fields\": [\n    {\n      \"column\": \"review\",\n      \"properties\": {\n        \"dtype\": \"string\",\n        \"num_unique_values\": 10282,\n        \"samples\": [\n          \"@Thorpeland No signal is the message that comes up on most monitors here when it's on but has no source. \",\n          \"1. The emotional ride of #perimenopause is ROUGH. I woke up fine, but then felt anger, irritation, just a feeling of wanting to break out, then fell down into a pit of depression. Man, the depression is frustrating and it definitely feels hormonal. I've been working on nutrition.\",\n          \"@dean2105 Stress-free is the way to be \"\n        ],\n        \"semantic_type\": \"\",\n        \"description\": \"\"\n      }\n    },\n    {\n      \"column\": \"Sentiment\",\n      \"properties\": {\n        \"dtype\": \"number\",\n        \"std\": 0,\n        \"min\": 0,\n        \"max\": 1,\n        \"num_unique_values\": 2,\n        \"samples\": [\n          1,\n          0\n        ],\n        \"semantic_type\": \"\",\n        \"description\": \"\"\n      }\n    }\n  ]\n}"
            }
          },
          "metadata": {},
          "execution_count": 28
        }
      ]
    },
    {
      "cell_type": "markdown",
      "source": [
        "# <p style=\"font-family:newtimeroman;font-size:150%;text-align:center;color:#8b4513;\">1. LoweCasing Text</p>\n",
        "\n",
        "\n",
        "***Lowercasing text in NLP preprocessing involves converting all letters in a text to lowercase. This step is essential for standardizing text data because it treats words with different cases (e.g., \"Word\" and \"word\") as the same, reducing vocabulary size and improving model efficiency. It ensures consistency in word representations, making it easier for algorithms to recognize patterns and associations. For example, \"The\" and \"the\" are treated as identical after lowercasing. This normalization simplifies subsequent processing steps, such as tokenization and feature extraction, leading to more accurate and robust NLP models.***\n"
      ],
      "metadata": {
        "id": "bujP-xrEpc9P"
      }
    },
    {
      "cell_type": "code",
      "source": [
        "# Pick any random Review\n",
        "df['review'][3]"
      ],
      "metadata": {
        "execution": {
          "iopub.status.busy": "2024-09-04T02:07:09.979435Z",
          "iopub.execute_input": "2024-09-04T02:07:09.979851Z",
          "iopub.status.idle": "2024-09-04T02:07:09.988801Z",
          "shell.execute_reply.started": "2024-09-04T02:07:09.979817Z",
          "shell.execute_reply": "2024-09-04T02:07:09.987715Z"
        },
        "trusted": true,
        "colab": {
          "base_uri": "https://localhost:8080/",
          "height": 35
        },
        "id": "Dd-Jikvspc9P",
        "outputId": "7087ae4c-0ef2-4683-ae63-6c204e0387f6"
      },
      "execution_count": 29,
      "outputs": [
        {
          "output_type": "execute_result",
          "data": {
            "text/plain": [
              "\"@lapcat Need to send 'em to my accountant tomorrow. Oddly, I wasn't even referring to my taxes. Those are supporting evidence, though. \""
            ],
            "application/vnd.google.colaboratory.intrinsic+json": {
              "type": "string"
            }
          },
          "metadata": {},
          "execution_count": 29
        }
      ]
    },
    {
      "cell_type": "markdown",
      "source": [
        "***if we have a Single Text or Sentence we can Lowercase it by using lower() func of Python.***"
      ],
      "metadata": {
        "id": "Ne1fSvSbpc9P"
      }
    },
    {
      "cell_type": "code",
      "source": [
        "# Lower Casing the review\n",
        "df['review'][3].lower()"
      ],
      "metadata": {
        "execution": {
          "iopub.status.busy": "2024-09-04T02:07:12.521563Z",
          "iopub.execute_input": "2024-09-04T02:07:12.522004Z",
          "iopub.status.idle": "2024-09-04T02:07:12.529602Z",
          "shell.execute_reply.started": "2024-09-04T02:07:12.521969Z",
          "shell.execute_reply": "2024-09-04T02:07:12.528206Z"
        },
        "trusted": true,
        "colab": {
          "base_uri": "https://localhost:8080/",
          "height": 35
        },
        "id": "x2RiG5Kkpc9Q",
        "outputId": "da047856-b004-4360-9072-66343fc0c166"
      },
      "execution_count": 30,
      "outputs": [
        {
          "output_type": "execute_result",
          "data": {
            "text/plain": [
              "\"@lapcat need to send 'em to my accountant tomorrow. oddly, i wasn't even referring to my taxes. those are supporting evidence, though. \""
            ],
            "application/vnd.google.colaboratory.intrinsic+json": {
              "type": "string"
            }
          },
          "metadata": {},
          "execution_count": 30
        }
      ]
    },
    {
      "cell_type": "markdown",
      "source": [
        "***We can also Lowercase the Whole Corpus by using lower() function of Python.***"
      ],
      "metadata": {
        "id": "yvYWkYIkpc9Q"
      }
    },
    {
      "cell_type": "code",
      "source": [
        "\"\"\"\n",
        "In pandas, df['review'].str is the string accessor.\n",
        "It allows you to apply vectorized string functions on an entire column of text (without writing a loop)\n",
        "\"\"\"\n",
        "\n",
        "df['review'] = df['review'].str.lower()\n",
        "df.head()"
      ],
      "metadata": {
        "execution": {
          "iopub.status.busy": "2024-09-04T02:07:14.749377Z",
          "iopub.execute_input": "2024-09-04T02:07:14.749863Z",
          "iopub.status.idle": "2024-09-04T02:07:14.775970Z",
          "shell.execute_reply.started": "2024-09-04T02:07:14.749826Z",
          "shell.execute_reply": "2024-09-04T02:07:14.774623Z"
        },
        "trusted": true,
        "id": "MKtBW7RGpc9Q",
        "outputId": "f1458911-9390-4f7b-fee6-2dd5f98a4573",
        "colab": {
          "base_uri": "https://localhost:8080/",
          "height": 206
        }
      },
      "execution_count": 31,
      "outputs": [
        {
          "output_type": "execute_result",
          "data": {
            "text/plain": [
              "                                              review  Sentiment\n",
              "0  just had a real good moment. i missssssssss hi...          0\n",
              "1         is reading manga  http://plurk.com/p/mzp1e          0\n",
              "2  @comeagainjen http://twitpic.com/2y2lx - http:...          0\n",
              "3  @lapcat need to send 'em to my accountant tomo...          0\n",
              "4      add me on myspace!!!  myspace.com/lookthunder          0"
            ],
            "text/html": [
              "\n",
              "  <div id=\"df-3032bab3-6298-4597-966d-d192581b10cf\" class=\"colab-df-container\">\n",
              "    <div>\n",
              "<style scoped>\n",
              "    .dataframe tbody tr th:only-of-type {\n",
              "        vertical-align: middle;\n",
              "    }\n",
              "\n",
              "    .dataframe tbody tr th {\n",
              "        vertical-align: top;\n",
              "    }\n",
              "\n",
              "    .dataframe thead th {\n",
              "        text-align: right;\n",
              "    }\n",
              "</style>\n",
              "<table border=\"1\" class=\"dataframe\">\n",
              "  <thead>\n",
              "    <tr style=\"text-align: right;\">\n",
              "      <th></th>\n",
              "      <th>review</th>\n",
              "      <th>Sentiment</th>\n",
              "    </tr>\n",
              "  </thead>\n",
              "  <tbody>\n",
              "    <tr>\n",
              "      <th>0</th>\n",
              "      <td>just had a real good moment. i missssssssss hi...</td>\n",
              "      <td>0</td>\n",
              "    </tr>\n",
              "    <tr>\n",
              "      <th>1</th>\n",
              "      <td>is reading manga  http://plurk.com/p/mzp1e</td>\n",
              "      <td>0</td>\n",
              "    </tr>\n",
              "    <tr>\n",
              "      <th>2</th>\n",
              "      <td>@comeagainjen http://twitpic.com/2y2lx - http:...</td>\n",
              "      <td>0</td>\n",
              "    </tr>\n",
              "    <tr>\n",
              "      <th>3</th>\n",
              "      <td>@lapcat need to send 'em to my accountant tomo...</td>\n",
              "      <td>0</td>\n",
              "    </tr>\n",
              "    <tr>\n",
              "      <th>4</th>\n",
              "      <td>add me on myspace!!!  myspace.com/lookthunder</td>\n",
              "      <td>0</td>\n",
              "    </tr>\n",
              "  </tbody>\n",
              "</table>\n",
              "</div>\n",
              "    <div class=\"colab-df-buttons\">\n",
              "\n",
              "  <div class=\"colab-df-container\">\n",
              "    <button class=\"colab-df-convert\" onclick=\"convertToInteractive('df-3032bab3-6298-4597-966d-d192581b10cf')\"\n",
              "            title=\"Convert this dataframe to an interactive table.\"\n",
              "            style=\"display:none;\">\n",
              "\n",
              "  <svg xmlns=\"http://www.w3.org/2000/svg\" height=\"24px\" viewBox=\"0 -960 960 960\">\n",
              "    <path d=\"M120-120v-720h720v720H120Zm60-500h600v-160H180v160Zm220 220h160v-160H400v160Zm0 220h160v-160H400v160ZM180-400h160v-160H180v160Zm440 0h160v-160H620v160ZM180-180h160v-160H180v160Zm440 0h160v-160H620v160Z\"/>\n",
              "  </svg>\n",
              "    </button>\n",
              "\n",
              "  <style>\n",
              "    .colab-df-container {\n",
              "      display:flex;\n",
              "      gap: 12px;\n",
              "    }\n",
              "\n",
              "    .colab-df-convert {\n",
              "      background-color: #E8F0FE;\n",
              "      border: none;\n",
              "      border-radius: 50%;\n",
              "      cursor: pointer;\n",
              "      display: none;\n",
              "      fill: #1967D2;\n",
              "      height: 32px;\n",
              "      padding: 0 0 0 0;\n",
              "      width: 32px;\n",
              "    }\n",
              "\n",
              "    .colab-df-convert:hover {\n",
              "      background-color: #E2EBFA;\n",
              "      box-shadow: 0px 1px 2px rgba(60, 64, 67, 0.3), 0px 1px 3px 1px rgba(60, 64, 67, 0.15);\n",
              "      fill: #174EA6;\n",
              "    }\n",
              "\n",
              "    .colab-df-buttons div {\n",
              "      margin-bottom: 4px;\n",
              "    }\n",
              "\n",
              "    [theme=dark] .colab-df-convert {\n",
              "      background-color: #3B4455;\n",
              "      fill: #D2E3FC;\n",
              "    }\n",
              "\n",
              "    [theme=dark] .colab-df-convert:hover {\n",
              "      background-color: #434B5C;\n",
              "      box-shadow: 0px 1px 3px 1px rgba(0, 0, 0, 0.15);\n",
              "      filter: drop-shadow(0px 1px 2px rgba(0, 0, 0, 0.3));\n",
              "      fill: #FFFFFF;\n",
              "    }\n",
              "  </style>\n",
              "\n",
              "    <script>\n",
              "      const buttonEl =\n",
              "        document.querySelector('#df-3032bab3-6298-4597-966d-d192581b10cf button.colab-df-convert');\n",
              "      buttonEl.style.display =\n",
              "        google.colab.kernel.accessAllowed ? 'block' : 'none';\n",
              "\n",
              "      async function convertToInteractive(key) {\n",
              "        const element = document.querySelector('#df-3032bab3-6298-4597-966d-d192581b10cf');\n",
              "        const dataTable =\n",
              "          await google.colab.kernel.invokeFunction('convertToInteractive',\n",
              "                                                    [key], {});\n",
              "        if (!dataTable) return;\n",
              "\n",
              "        const docLinkHtml = 'Like what you see? Visit the ' +\n",
              "          '<a target=\"_blank\" href=https://colab.research.google.com/notebooks/data_table.ipynb>data table notebook</a>'\n",
              "          + ' to learn more about interactive tables.';\n",
              "        element.innerHTML = '';\n",
              "        dataTable['output_type'] = 'display_data';\n",
              "        await google.colab.output.renderOutput(dataTable, element);\n",
              "        const docLink = document.createElement('div');\n",
              "        docLink.innerHTML = docLinkHtml;\n",
              "        element.appendChild(docLink);\n",
              "      }\n",
              "    </script>\n",
              "  </div>\n",
              "\n",
              "\n",
              "    <div id=\"df-501339a3-f358-42bf-b632-5b5c47dea200\">\n",
              "      <button class=\"colab-df-quickchart\" onclick=\"quickchart('df-501339a3-f358-42bf-b632-5b5c47dea200')\"\n",
              "                title=\"Suggest charts\"\n",
              "                style=\"display:none;\">\n",
              "\n",
              "<svg xmlns=\"http://www.w3.org/2000/svg\" height=\"24px\"viewBox=\"0 0 24 24\"\n",
              "     width=\"24px\">\n",
              "    <g>\n",
              "        <path d=\"M19 3H5c-1.1 0-2 .9-2 2v14c0 1.1.9 2 2 2h14c1.1 0 2-.9 2-2V5c0-1.1-.9-2-2-2zM9 17H7v-7h2v7zm4 0h-2V7h2v10zm4 0h-2v-4h2v4z\"/>\n",
              "    </g>\n",
              "</svg>\n",
              "      </button>\n",
              "\n",
              "<style>\n",
              "  .colab-df-quickchart {\n",
              "      --bg-color: #E8F0FE;\n",
              "      --fill-color: #1967D2;\n",
              "      --hover-bg-color: #E2EBFA;\n",
              "      --hover-fill-color: #174EA6;\n",
              "      --disabled-fill-color: #AAA;\n",
              "      --disabled-bg-color: #DDD;\n",
              "  }\n",
              "\n",
              "  [theme=dark] .colab-df-quickchart {\n",
              "      --bg-color: #3B4455;\n",
              "      --fill-color: #D2E3FC;\n",
              "      --hover-bg-color: #434B5C;\n",
              "      --hover-fill-color: #FFFFFF;\n",
              "      --disabled-bg-color: #3B4455;\n",
              "      --disabled-fill-color: #666;\n",
              "  }\n",
              "\n",
              "  .colab-df-quickchart {\n",
              "    background-color: var(--bg-color);\n",
              "    border: none;\n",
              "    border-radius: 50%;\n",
              "    cursor: pointer;\n",
              "    display: none;\n",
              "    fill: var(--fill-color);\n",
              "    height: 32px;\n",
              "    padding: 0;\n",
              "    width: 32px;\n",
              "  }\n",
              "\n",
              "  .colab-df-quickchart:hover {\n",
              "    background-color: var(--hover-bg-color);\n",
              "    box-shadow: 0 1px 2px rgba(60, 64, 67, 0.3), 0 1px 3px 1px rgba(60, 64, 67, 0.15);\n",
              "    fill: var(--button-hover-fill-color);\n",
              "  }\n",
              "\n",
              "  .colab-df-quickchart-complete:disabled,\n",
              "  .colab-df-quickchart-complete:disabled:hover {\n",
              "    background-color: var(--disabled-bg-color);\n",
              "    fill: var(--disabled-fill-color);\n",
              "    box-shadow: none;\n",
              "  }\n",
              "\n",
              "  .colab-df-spinner {\n",
              "    border: 2px solid var(--fill-color);\n",
              "    border-color: transparent;\n",
              "    border-bottom-color: var(--fill-color);\n",
              "    animation:\n",
              "      spin 1s steps(1) infinite;\n",
              "  }\n",
              "\n",
              "  @keyframes spin {\n",
              "    0% {\n",
              "      border-color: transparent;\n",
              "      border-bottom-color: var(--fill-color);\n",
              "      border-left-color: var(--fill-color);\n",
              "    }\n",
              "    20% {\n",
              "      border-color: transparent;\n",
              "      border-left-color: var(--fill-color);\n",
              "      border-top-color: var(--fill-color);\n",
              "    }\n",
              "    30% {\n",
              "      border-color: transparent;\n",
              "      border-left-color: var(--fill-color);\n",
              "      border-top-color: var(--fill-color);\n",
              "      border-right-color: var(--fill-color);\n",
              "    }\n",
              "    40% {\n",
              "      border-color: transparent;\n",
              "      border-right-color: var(--fill-color);\n",
              "      border-top-color: var(--fill-color);\n",
              "    }\n",
              "    60% {\n",
              "      border-color: transparent;\n",
              "      border-right-color: var(--fill-color);\n",
              "    }\n",
              "    80% {\n",
              "      border-color: transparent;\n",
              "      border-right-color: var(--fill-color);\n",
              "      border-bottom-color: var(--fill-color);\n",
              "    }\n",
              "    90% {\n",
              "      border-color: transparent;\n",
              "      border-bottom-color: var(--fill-color);\n",
              "    }\n",
              "  }\n",
              "</style>\n",
              "\n",
              "      <script>\n",
              "        async function quickchart(key) {\n",
              "          const quickchartButtonEl =\n",
              "            document.querySelector('#' + key + ' button');\n",
              "          quickchartButtonEl.disabled = true;  // To prevent multiple clicks.\n",
              "          quickchartButtonEl.classList.add('colab-df-spinner');\n",
              "          try {\n",
              "            const charts = await google.colab.kernel.invokeFunction(\n",
              "                'suggestCharts', [key], {});\n",
              "          } catch (error) {\n",
              "            console.error('Error during call to suggestCharts:', error);\n",
              "          }\n",
              "          quickchartButtonEl.classList.remove('colab-df-spinner');\n",
              "          quickchartButtonEl.classList.add('colab-df-quickchart-complete');\n",
              "        }\n",
              "        (() => {\n",
              "          let quickchartButtonEl =\n",
              "            document.querySelector('#df-501339a3-f358-42bf-b632-5b5c47dea200 button');\n",
              "          quickchartButtonEl.style.display =\n",
              "            google.colab.kernel.accessAllowed ? 'block' : 'none';\n",
              "        })();\n",
              "      </script>\n",
              "    </div>\n",
              "\n",
              "    </div>\n",
              "  </div>\n"
            ],
            "application/vnd.google.colaboratory.intrinsic+json": {
              "type": "dataframe",
              "variable_name": "df",
              "summary": "{\n  \"name\": \"df\",\n  \"rows\": 10314,\n  \"fields\": [\n    {\n      \"column\": \"review\",\n      \"properties\": {\n        \"dtype\": \"string\",\n        \"num_unique_values\": 10275,\n        \"samples\": [\n          \"my anxiety keeps me awake and antsy but my depression makes me unmotivated and not wanna do anything. please let this end...\",\n          \"@joegreenz - absolutely loved your children's book  have you published it? and thanks for the link to the band\",\n          \"why does depression like. exist\"\n        ],\n        \"semantic_type\": \"\",\n        \"description\": \"\"\n      }\n    },\n    {\n      \"column\": \"Sentiment\",\n      \"properties\": {\n        \"dtype\": \"number\",\n        \"std\": 0,\n        \"min\": 0,\n        \"max\": 1,\n        \"num_unique_values\": 2,\n        \"samples\": [\n          1,\n          0\n        ],\n        \"semantic_type\": \"\",\n        \"description\": \"\"\n      }\n    }\n  ]\n}"
            }
          },
          "metadata": {},
          "execution_count": 31
        }
      ]
    },
    {
      "cell_type": "markdown",
      "source": [
        "***Now we see all the sentences in the corpus are in lowercase.***"
      ],
      "metadata": {
        "id": "P3BvBO6bpc9R"
      }
    },
    {
      "cell_type": "markdown",
      "source": [
        "# <p style=\"font-family:newtimeroman;font-size:150%;text-align:center;color:#8b4513;\">2. Remove HTML Tags</p>\n",
        "\n",
        "\n",
        "***Removing HTML tags is an essential step in NLP text preprocessing to ensure that only meaningful textual content is analyzed. HTML tags contain formatting information and metadata irrelevant to linguistic analysis. Including these tags can introduce noise and distort the analysis results. Removing HTML tags helps to extract pure textual data, making it easier to focus on the actual content of the text. This step is particularly crucial when dealing with web data or documents containing HTML markup, as it ensures that the extracted text accurately represents the intended linguistic information for NLP tasks.***"
      ],
      "metadata": {
        "id": "4fuC2eWWpc9R"
      }
    },
    {
      "cell_type": "markdown",
      "source": [
        "***We can simply remove HTML tags by using the Regular Expressions.***"
      ],
      "metadata": {
        "id": "GcAPrYA8pc9R"
      }
    },
    {
      "cell_type": "markdown",
      "source": [
        "## 🔹 What is a Regular Expression (Regex)?\n",
        "\n",
        "A **regular expression** (often written as *regex* or *regexp*) is a sequence of characters that defines a **search pattern**.\n",
        "It’s mainly used for **pattern matching** in text: finding, extracting, replacing, or validating strings.\n",
        "\n",
        "Think of it as a **search rule language** for text.\n",
        "\n",
        "---\n",
        "\n",
        "## 🔹 Why use Regex in NLP / text processing?\n",
        "\n",
        "* Clean text (remove special symbols, hashtags, URLs, etc.).\n",
        "* Tokenize or split sentences/words.\n",
        "* Validate formats (like emails, phone numbers, etc.).\n",
        "* Find specific patterns (dates, hashtags, mentions).\n",
        "\n",
        "---\n",
        "\n",
        "## 🔹 Basic Regex Elements\n",
        "\n",
        "| Pattern | Meaning                                 | Example Match                                  |\n",
        "| ------- | --------------------------------------- | ---------------------------------------------- |\n",
        "| `.`     | Any character (except newline)          | `c.t` → matches \"cat\", \"cut\", \"c8t\"            |\n",
        "| `^`     | Start of string                         | `^Hello` → matches if text starts with \"Hello\" |\n",
        "| `$`     | End of string                           | `end$` → matches if text ends with \"end\"       |\n",
        "| `*`     | 0 or more repetitions                   | `ab*` → \"a\", \"ab\", \"abb\", \"abbb\"               |\n",
        "| `+`     | 1 or more repetitions                   | `ab+` → \"ab\", \"abb\", but not \"a\"               |\n",
        "| `?`     | 0 or 1 occurrence                       | `colou?r` → \"color\" or \"colour\"                |\n",
        "| `[]`    | Match any character inside              | `[aeiou]` → matches vowels                     |\n",
        "| `[^ ]`  | Match anything **except** inside        | `[^0-9]` → not a digit                         |\n",
        "| `{m,n}` | Repeat between m and n times            | `\\d{2,4}` → 2 to 4 digits                      |\n",
        "| `\\d`    | Digit (0–9)                             | `\\d\\d` → \"23\", \"99\"                            |\n",
        "| `\\w`    | Word char (letters, digits, underscore) | `\\w+` → \"hello123\"                             |\n",
        "| `\\s`    | Whitespace (space, tab, newline)        | `\\s+` → spaces                                 |\n",
        "\n",
        "---\n",
        "\n",
        "## 🔹 Example in Python\n",
        "\n",
        "```python\n",
        "import re\n",
        "\n",
        "text = \"My email is example123@gmail.com and my phone is 123-456-7890.\"\n",
        "\n",
        "# Find an email\n",
        "email = re.findall(r\"[a-zA-Z0-9._%+-]+@[a-zA-Z0-9.-]+\\.[a-zA-Z]{2,}\", text)\n",
        "print(email)  # ['example123@gmail.com']\n",
        "\n",
        "# Find all numbers\n",
        "numbers = re.findall(r\"\\d+\", text)\n",
        "print(numbers)  # ['123', '456', '7890']\n",
        "```\n",
        "\n",
        "---\n",
        "\n",
        "👉 In short: **Regex is a powerful text filter** that helps in searching and cleaning text in NLP projects.\n"
      ],
      "metadata": {
        "id": "wdGVL0j2umT4"
      }
    },
    {
      "cell_type": "code",
      "source": [
        "# Import Regular Expression\n",
        "import re\n",
        "\n",
        "# Function to remove HTML Tags\n",
        "def remove_html_tags(text):\n",
        "    \"\"\"This creates a regex pattern that matches any text enclosed in angle brackets (< >),\n",
        "    which are typical for HTML tags. The .*? part ensures that the match is non-greedy,\n",
        "    meaning it will match the smallest possible text between the angle brackets.\"\"\"\n",
        "    pattern = re.compile('<.*?>')\n",
        "    return pattern.sub(r'', text)"
      ],
      "metadata": {
        "execution": {
          "iopub.status.busy": "2024-09-04T02:07:18.979466Z",
          "iopub.execute_input": "2024-09-04T02:07:18.979855Z",
          "iopub.status.idle": "2024-09-04T02:07:18.986555Z",
          "shell.execute_reply.started": "2024-09-04T02:07:18.979827Z",
          "shell.execute_reply": "2024-09-04T02:07:18.985193Z"
        },
        "trusted": true,
        "id": "WlO66um8pc9R"
      },
      "execution_count": 32,
      "outputs": []
    },
    {
      "cell_type": "code",
      "source": [
        "# Suppose we have a text Which Contains HTML Tags\n",
        "text = \"<html><body><p> Movie 1</p><p> Actor - Aamir Khan</p><p> Click here to <a href='http://google.com'>download</a></p></body></html>\"\n",
        "text"
      ],
      "metadata": {
        "execution": {
          "iopub.status.busy": "2024-09-04T02:07:20.982760Z",
          "iopub.execute_input": "2024-09-04T02:07:20.983170Z",
          "iopub.status.idle": "2024-09-04T02:07:20.990845Z",
          "shell.execute_reply.started": "2024-09-04T02:07:20.983138Z",
          "shell.execute_reply": "2024-09-04T02:07:20.989420Z"
        },
        "trusted": true,
        "id": "aB4KKBh2pc9R",
        "outputId": "11807290-0dc7-4e21-c15a-1e4458a8b3a4",
        "colab": {
          "base_uri": "https://localhost:8080/",
          "height": 35
        }
      },
      "execution_count": 33,
      "outputs": [
        {
          "output_type": "execute_result",
          "data": {
            "text/plain": [
              "\"<html><body><p> Movie 1</p><p> Actor - Aamir Khan</p><p> Click here to <a href='http://google.com'>download</a></p></body></html>\""
            ],
            "application/vnd.google.colaboratory.intrinsic+json": {
              "type": "string"
            }
          },
          "metadata": {},
          "execution_count": 33
        }
      ]
    },
    {
      "cell_type": "code",
      "source": [
        "# Apply Function to Remove HTML Tags.\n",
        "remove_html_tags(text)"
      ],
      "metadata": {
        "execution": {
          "iopub.status.busy": "2024-09-04T02:07:23.233097Z",
          "iopub.execute_input": "2024-09-04T02:07:23.233506Z",
          "iopub.status.idle": "2024-09-04T02:07:23.242668Z",
          "shell.execute_reply.started": "2024-09-04T02:07:23.233472Z",
          "shell.execute_reply": "2024-09-04T02:07:23.241560Z"
        },
        "trusted": true,
        "id": "BosXryMapc9R",
        "outputId": "c0e7ea21-6b0c-428f-c77a-96e75a57c3b9",
        "colab": {
          "base_uri": "https://localhost:8080/",
          "height": 35
        }
      },
      "execution_count": 34,
      "outputs": [
        {
          "output_type": "execute_result",
          "data": {
            "text/plain": [
              "' Movie 1 Actor - Aamir Khan Click here to download'"
            ],
            "application/vnd.google.colaboratory.intrinsic+json": {
              "type": "string"
            }
          },
          "metadata": {},
          "execution_count": 34
        }
      ]
    },
    {
      "cell_type": "markdown",
      "source": [
        "***See How the Code perform well and clean the text from the HTML Tags , We can Also Apply this Function to Whole Corpus.***"
      ],
      "metadata": {
        "id": "g6opHoDFpc9R"
      }
    },
    {
      "cell_type": "code",
      "source": [
        "# Apply Function to Remove HTML Tags in our Dataset Colum Review.\n",
        "df['review'] = df['review'].apply(remove_html_tags)"
      ],
      "metadata": {
        "execution": {
          "iopub.status.busy": "2024-09-04T02:07:25.011027Z",
          "iopub.execute_input": "2024-09-04T02:07:25.011446Z",
          "iopub.status.idle": "2024-09-04T02:07:25.036545Z",
          "shell.execute_reply.started": "2024-09-04T02:07:25.011413Z",
          "shell.execute_reply": "2024-09-04T02:07:25.035293Z"
        },
        "trusted": true,
        "id": "3VgNDJ5Apc9R"
      },
      "execution_count": 35,
      "outputs": []
    },
    {
      "cell_type": "code",
      "source": [
        "df"
      ],
      "metadata": {
        "execution": {
          "iopub.status.busy": "2024-09-04T02:07:26.848697Z",
          "iopub.execute_input": "2024-09-04T02:07:26.849204Z",
          "iopub.status.idle": "2024-09-04T02:07:26.866210Z",
          "shell.execute_reply.started": "2024-09-04T02:07:26.849161Z",
          "shell.execute_reply": "2024-09-04T02:07:26.864798Z"
        },
        "trusted": true,
        "id": "rcGF5_XVpc9S",
        "outputId": "bb9b6391-a55e-4c79-bffd-61ab7932cca1",
        "colab": {
          "base_uri": "https://localhost:8080/",
          "height": 423
        }
      },
      "execution_count": 36,
      "outputs": [
        {
          "output_type": "execute_result",
          "data": {
            "text/plain": [
              "                                                  review  Sentiment\n",
              "0      just had a real good moment. i missssssssss hi...          0\n",
              "1             is reading manga  http://plurk.com/p/mzp1e          0\n",
              "2      @comeagainjen http://twitpic.com/2y2lx - http:...          0\n",
              "3      @lapcat need to send 'em to my accountant tomo...          0\n",
              "4          add me on myspace!!!  myspace.com/lookthunder          0\n",
              "...                                                  ...        ...\n",
              "10309  no depression by g herbo is my mood from now o...          1\n",
              "10310  what do you do when depression succumbs the br...          1\n",
              "10311  ketamine nasal spray shows promise against dep...          1\n",
              "10312  dont mistake a bad day with depression! everyo...          1\n",
              "10313                                                  0          1\n",
              "\n",
              "[10314 rows x 2 columns]"
            ],
            "text/html": [
              "\n",
              "  <div id=\"df-00e622f4-7d7e-4f8c-9b3d-2d28d15ecff6\" class=\"colab-df-container\">\n",
              "    <div>\n",
              "<style scoped>\n",
              "    .dataframe tbody tr th:only-of-type {\n",
              "        vertical-align: middle;\n",
              "    }\n",
              "\n",
              "    .dataframe tbody tr th {\n",
              "        vertical-align: top;\n",
              "    }\n",
              "\n",
              "    .dataframe thead th {\n",
              "        text-align: right;\n",
              "    }\n",
              "</style>\n",
              "<table border=\"1\" class=\"dataframe\">\n",
              "  <thead>\n",
              "    <tr style=\"text-align: right;\">\n",
              "      <th></th>\n",
              "      <th>review</th>\n",
              "      <th>Sentiment</th>\n",
              "    </tr>\n",
              "  </thead>\n",
              "  <tbody>\n",
              "    <tr>\n",
              "      <th>0</th>\n",
              "      <td>just had a real good moment. i missssssssss hi...</td>\n",
              "      <td>0</td>\n",
              "    </tr>\n",
              "    <tr>\n",
              "      <th>1</th>\n",
              "      <td>is reading manga  http://plurk.com/p/mzp1e</td>\n",
              "      <td>0</td>\n",
              "    </tr>\n",
              "    <tr>\n",
              "      <th>2</th>\n",
              "      <td>@comeagainjen http://twitpic.com/2y2lx - http:...</td>\n",
              "      <td>0</td>\n",
              "    </tr>\n",
              "    <tr>\n",
              "      <th>3</th>\n",
              "      <td>@lapcat need to send 'em to my accountant tomo...</td>\n",
              "      <td>0</td>\n",
              "    </tr>\n",
              "    <tr>\n",
              "      <th>4</th>\n",
              "      <td>add me on myspace!!!  myspace.com/lookthunder</td>\n",
              "      <td>0</td>\n",
              "    </tr>\n",
              "    <tr>\n",
              "      <th>...</th>\n",
              "      <td>...</td>\n",
              "      <td>...</td>\n",
              "    </tr>\n",
              "    <tr>\n",
              "      <th>10309</th>\n",
              "      <td>no depression by g herbo is my mood from now o...</td>\n",
              "      <td>1</td>\n",
              "    </tr>\n",
              "    <tr>\n",
              "      <th>10310</th>\n",
              "      <td>what do you do when depression succumbs the br...</td>\n",
              "      <td>1</td>\n",
              "    </tr>\n",
              "    <tr>\n",
              "      <th>10311</th>\n",
              "      <td>ketamine nasal spray shows promise against dep...</td>\n",
              "      <td>1</td>\n",
              "    </tr>\n",
              "    <tr>\n",
              "      <th>10312</th>\n",
              "      <td>dont mistake a bad day with depression! everyo...</td>\n",
              "      <td>1</td>\n",
              "    </tr>\n",
              "    <tr>\n",
              "      <th>10313</th>\n",
              "      <td>0</td>\n",
              "      <td>1</td>\n",
              "    </tr>\n",
              "  </tbody>\n",
              "</table>\n",
              "<p>10314 rows × 2 columns</p>\n",
              "</div>\n",
              "    <div class=\"colab-df-buttons\">\n",
              "\n",
              "  <div class=\"colab-df-container\">\n",
              "    <button class=\"colab-df-convert\" onclick=\"convertToInteractive('df-00e622f4-7d7e-4f8c-9b3d-2d28d15ecff6')\"\n",
              "            title=\"Convert this dataframe to an interactive table.\"\n",
              "            style=\"display:none;\">\n",
              "\n",
              "  <svg xmlns=\"http://www.w3.org/2000/svg\" height=\"24px\" viewBox=\"0 -960 960 960\">\n",
              "    <path d=\"M120-120v-720h720v720H120Zm60-500h600v-160H180v160Zm220 220h160v-160H400v160Zm0 220h160v-160H400v160ZM180-400h160v-160H180v160Zm440 0h160v-160H620v160ZM180-180h160v-160H180v160Zm440 0h160v-160H620v160Z\"/>\n",
              "  </svg>\n",
              "    </button>\n",
              "\n",
              "  <style>\n",
              "    .colab-df-container {\n",
              "      display:flex;\n",
              "      gap: 12px;\n",
              "    }\n",
              "\n",
              "    .colab-df-convert {\n",
              "      background-color: #E8F0FE;\n",
              "      border: none;\n",
              "      border-radius: 50%;\n",
              "      cursor: pointer;\n",
              "      display: none;\n",
              "      fill: #1967D2;\n",
              "      height: 32px;\n",
              "      padding: 0 0 0 0;\n",
              "      width: 32px;\n",
              "    }\n",
              "\n",
              "    .colab-df-convert:hover {\n",
              "      background-color: #E2EBFA;\n",
              "      box-shadow: 0px 1px 2px rgba(60, 64, 67, 0.3), 0px 1px 3px 1px rgba(60, 64, 67, 0.15);\n",
              "      fill: #174EA6;\n",
              "    }\n",
              "\n",
              "    .colab-df-buttons div {\n",
              "      margin-bottom: 4px;\n",
              "    }\n",
              "\n",
              "    [theme=dark] .colab-df-convert {\n",
              "      background-color: #3B4455;\n",
              "      fill: #D2E3FC;\n",
              "    }\n",
              "\n",
              "    [theme=dark] .colab-df-convert:hover {\n",
              "      background-color: #434B5C;\n",
              "      box-shadow: 0px 1px 3px 1px rgba(0, 0, 0, 0.15);\n",
              "      filter: drop-shadow(0px 1px 2px rgba(0, 0, 0, 0.3));\n",
              "      fill: #FFFFFF;\n",
              "    }\n",
              "  </style>\n",
              "\n",
              "    <script>\n",
              "      const buttonEl =\n",
              "        document.querySelector('#df-00e622f4-7d7e-4f8c-9b3d-2d28d15ecff6 button.colab-df-convert');\n",
              "      buttonEl.style.display =\n",
              "        google.colab.kernel.accessAllowed ? 'block' : 'none';\n",
              "\n",
              "      async function convertToInteractive(key) {\n",
              "        const element = document.querySelector('#df-00e622f4-7d7e-4f8c-9b3d-2d28d15ecff6');\n",
              "        const dataTable =\n",
              "          await google.colab.kernel.invokeFunction('convertToInteractive',\n",
              "                                                    [key], {});\n",
              "        if (!dataTable) return;\n",
              "\n",
              "        const docLinkHtml = 'Like what you see? Visit the ' +\n",
              "          '<a target=\"_blank\" href=https://colab.research.google.com/notebooks/data_table.ipynb>data table notebook</a>'\n",
              "          + ' to learn more about interactive tables.';\n",
              "        element.innerHTML = '';\n",
              "        dataTable['output_type'] = 'display_data';\n",
              "        await google.colab.output.renderOutput(dataTable, element);\n",
              "        const docLink = document.createElement('div');\n",
              "        docLink.innerHTML = docLinkHtml;\n",
              "        element.appendChild(docLink);\n",
              "      }\n",
              "    </script>\n",
              "  </div>\n",
              "\n",
              "\n",
              "    <div id=\"df-45ed5d49-ec8f-4364-98b5-8c37dd76e9e0\">\n",
              "      <button class=\"colab-df-quickchart\" onclick=\"quickchart('df-45ed5d49-ec8f-4364-98b5-8c37dd76e9e0')\"\n",
              "                title=\"Suggest charts\"\n",
              "                style=\"display:none;\">\n",
              "\n",
              "<svg xmlns=\"http://www.w3.org/2000/svg\" height=\"24px\"viewBox=\"0 0 24 24\"\n",
              "     width=\"24px\">\n",
              "    <g>\n",
              "        <path d=\"M19 3H5c-1.1 0-2 .9-2 2v14c0 1.1.9 2 2 2h14c1.1 0 2-.9 2-2V5c0-1.1-.9-2-2-2zM9 17H7v-7h2v7zm4 0h-2V7h2v10zm4 0h-2v-4h2v4z\"/>\n",
              "    </g>\n",
              "</svg>\n",
              "      </button>\n",
              "\n",
              "<style>\n",
              "  .colab-df-quickchart {\n",
              "      --bg-color: #E8F0FE;\n",
              "      --fill-color: #1967D2;\n",
              "      --hover-bg-color: #E2EBFA;\n",
              "      --hover-fill-color: #174EA6;\n",
              "      --disabled-fill-color: #AAA;\n",
              "      --disabled-bg-color: #DDD;\n",
              "  }\n",
              "\n",
              "  [theme=dark] .colab-df-quickchart {\n",
              "      --bg-color: #3B4455;\n",
              "      --fill-color: #D2E3FC;\n",
              "      --hover-bg-color: #434B5C;\n",
              "      --hover-fill-color: #FFFFFF;\n",
              "      --disabled-bg-color: #3B4455;\n",
              "      --disabled-fill-color: #666;\n",
              "  }\n",
              "\n",
              "  .colab-df-quickchart {\n",
              "    background-color: var(--bg-color);\n",
              "    border: none;\n",
              "    border-radius: 50%;\n",
              "    cursor: pointer;\n",
              "    display: none;\n",
              "    fill: var(--fill-color);\n",
              "    height: 32px;\n",
              "    padding: 0;\n",
              "    width: 32px;\n",
              "  }\n",
              "\n",
              "  .colab-df-quickchart:hover {\n",
              "    background-color: var(--hover-bg-color);\n",
              "    box-shadow: 0 1px 2px rgba(60, 64, 67, 0.3), 0 1px 3px 1px rgba(60, 64, 67, 0.15);\n",
              "    fill: var(--button-hover-fill-color);\n",
              "  }\n",
              "\n",
              "  .colab-df-quickchart-complete:disabled,\n",
              "  .colab-df-quickchart-complete:disabled:hover {\n",
              "    background-color: var(--disabled-bg-color);\n",
              "    fill: var(--disabled-fill-color);\n",
              "    box-shadow: none;\n",
              "  }\n",
              "\n",
              "  .colab-df-spinner {\n",
              "    border: 2px solid var(--fill-color);\n",
              "    border-color: transparent;\n",
              "    border-bottom-color: var(--fill-color);\n",
              "    animation:\n",
              "      spin 1s steps(1) infinite;\n",
              "  }\n",
              "\n",
              "  @keyframes spin {\n",
              "    0% {\n",
              "      border-color: transparent;\n",
              "      border-bottom-color: var(--fill-color);\n",
              "      border-left-color: var(--fill-color);\n",
              "    }\n",
              "    20% {\n",
              "      border-color: transparent;\n",
              "      border-left-color: var(--fill-color);\n",
              "      border-top-color: var(--fill-color);\n",
              "    }\n",
              "    30% {\n",
              "      border-color: transparent;\n",
              "      border-left-color: var(--fill-color);\n",
              "      border-top-color: var(--fill-color);\n",
              "      border-right-color: var(--fill-color);\n",
              "    }\n",
              "    40% {\n",
              "      border-color: transparent;\n",
              "      border-right-color: var(--fill-color);\n",
              "      border-top-color: var(--fill-color);\n",
              "    }\n",
              "    60% {\n",
              "      border-color: transparent;\n",
              "      border-right-color: var(--fill-color);\n",
              "    }\n",
              "    80% {\n",
              "      border-color: transparent;\n",
              "      border-right-color: var(--fill-color);\n",
              "      border-bottom-color: var(--fill-color);\n",
              "    }\n",
              "    90% {\n",
              "      border-color: transparent;\n",
              "      border-bottom-color: var(--fill-color);\n",
              "    }\n",
              "  }\n",
              "</style>\n",
              "\n",
              "      <script>\n",
              "        async function quickchart(key) {\n",
              "          const quickchartButtonEl =\n",
              "            document.querySelector('#' + key + ' button');\n",
              "          quickchartButtonEl.disabled = true;  // To prevent multiple clicks.\n",
              "          quickchartButtonEl.classList.add('colab-df-spinner');\n",
              "          try {\n",
              "            const charts = await google.colab.kernel.invokeFunction(\n",
              "                'suggestCharts', [key], {});\n",
              "          } catch (error) {\n",
              "            console.error('Error during call to suggestCharts:', error);\n",
              "          }\n",
              "          quickchartButtonEl.classList.remove('colab-df-spinner');\n",
              "          quickchartButtonEl.classList.add('colab-df-quickchart-complete');\n",
              "        }\n",
              "        (() => {\n",
              "          let quickchartButtonEl =\n",
              "            document.querySelector('#df-45ed5d49-ec8f-4364-98b5-8c37dd76e9e0 button');\n",
              "          quickchartButtonEl.style.display =\n",
              "            google.colab.kernel.accessAllowed ? 'block' : 'none';\n",
              "        })();\n",
              "      </script>\n",
              "    </div>\n",
              "\n",
              "  <div id=\"id_ec0eda35-c625-4a90-bb85-bbc23c9dde8c\">\n",
              "    <style>\n",
              "      .colab-df-generate {\n",
              "        background-color: #E8F0FE;\n",
              "        border: none;\n",
              "        border-radius: 50%;\n",
              "        cursor: pointer;\n",
              "        display: none;\n",
              "        fill: #1967D2;\n",
              "        height: 32px;\n",
              "        padding: 0 0 0 0;\n",
              "        width: 32px;\n",
              "      }\n",
              "\n",
              "      .colab-df-generate:hover {\n",
              "        background-color: #E2EBFA;\n",
              "        box-shadow: 0px 1px 2px rgba(60, 64, 67, 0.3), 0px 1px 3px 1px rgba(60, 64, 67, 0.15);\n",
              "        fill: #174EA6;\n",
              "      }\n",
              "\n",
              "      [theme=dark] .colab-df-generate {\n",
              "        background-color: #3B4455;\n",
              "        fill: #D2E3FC;\n",
              "      }\n",
              "\n",
              "      [theme=dark] .colab-df-generate:hover {\n",
              "        background-color: #434B5C;\n",
              "        box-shadow: 0px 1px 3px 1px rgba(0, 0, 0, 0.15);\n",
              "        filter: drop-shadow(0px 1px 2px rgba(0, 0, 0, 0.3));\n",
              "        fill: #FFFFFF;\n",
              "      }\n",
              "    </style>\n",
              "    <button class=\"colab-df-generate\" onclick=\"generateWithVariable('df')\"\n",
              "            title=\"Generate code using this dataframe.\"\n",
              "            style=\"display:none;\">\n",
              "\n",
              "  <svg xmlns=\"http://www.w3.org/2000/svg\" height=\"24px\"viewBox=\"0 0 24 24\"\n",
              "       width=\"24px\">\n",
              "    <path d=\"M7,19H8.4L18.45,9,17,7.55,7,17.6ZM5,21V16.75L18.45,3.32a2,2,0,0,1,2.83,0l1.4,1.43a1.91,1.91,0,0,1,.58,1.4,1.91,1.91,0,0,1-.58,1.4L9.25,21ZM18.45,9,17,7.55Zm-12,3A5.31,5.31,0,0,0,4.9,8.1,5.31,5.31,0,0,0,1,6.5,5.31,5.31,0,0,0,4.9,4.9,5.31,5.31,0,0,0,6.5,1,5.31,5.31,0,0,0,8.1,4.9,5.31,5.31,0,0,0,12,6.5,5.46,5.46,0,0,0,6.5,12Z\"/>\n",
              "  </svg>\n",
              "    </button>\n",
              "    <script>\n",
              "      (() => {\n",
              "      const buttonEl =\n",
              "        document.querySelector('#id_ec0eda35-c625-4a90-bb85-bbc23c9dde8c button.colab-df-generate');\n",
              "      buttonEl.style.display =\n",
              "        google.colab.kernel.accessAllowed ? 'block' : 'none';\n",
              "\n",
              "      buttonEl.onclick = () => {\n",
              "        google.colab.notebook.generateWithVariable('df');\n",
              "      }\n",
              "      })();\n",
              "    </script>\n",
              "  </div>\n",
              "\n",
              "    </div>\n",
              "  </div>\n"
            ],
            "application/vnd.google.colaboratory.intrinsic+json": {
              "type": "dataframe",
              "variable_name": "df",
              "summary": "{\n  \"name\": \"df\",\n  \"rows\": 10314,\n  \"fields\": [\n    {\n      \"column\": \"review\",\n      \"properties\": {\n        \"dtype\": \"string\",\n        \"num_unique_values\": 10275,\n        \"samples\": [\n          \"my anxiety keeps me awake and antsy but my depression makes me unmotivated and not wanna do anything. please let this end...\",\n          \"@joegreenz - absolutely loved your children's book  have you published it? and thanks for the link to the band\",\n          \"why does depression like. exist\"\n        ],\n        \"semantic_type\": \"\",\n        \"description\": \"\"\n      }\n    },\n    {\n      \"column\": \"Sentiment\",\n      \"properties\": {\n        \"dtype\": \"number\",\n        \"std\": 0,\n        \"min\": 0,\n        \"max\": 1,\n        \"num_unique_values\": 2,\n        \"samples\": [\n          1,\n          0\n        ],\n        \"semantic_type\": \"\",\n        \"description\": \"\"\n      }\n    }\n  ]\n}"
            }
          },
          "metadata": {},
          "execution_count": 36
        }
      ]
    },
    {
      "cell_type": "markdown",
      "source": [
        "# <p style=\"font-family:newtimeroman;font-size:150%;text-align:center;color:#8b4513;\">3. Remove URLs</p>\n",
        "\n",
        "***In NLP text preprocessing, removing URLs is essential to eliminate irrelevant information that doesn't contribute to linguistic analysis. URLs contain website addresses, hyperlinks, and other web-specific elements that can skew the analysis and confuse machine learning models. By removing URLs, the focus remains on the textual content relevant to the task at hand, enhancing the accuracy of NLP tasks such as sentiment analysis, text classification, and information extraction. This step streamlines the dataset, reduces noise, and ensures that the model's attention is directed towards meaningful linguistic patterns and structures within the text.***"
      ],
      "metadata": {
        "id": "ixCx3l1cpc9S"
      }
    },
    {
      "cell_type": "code",
      "source": [
        "# Here We also Use Regular Expressions to Remove URLs from Text or Whole Corpus.\n",
        "def remove_url(text):\n",
        "    \"\"\"https?://: This part matches URLs that start with http:// or https://.\n",
        "    The s? makes the s optional, so it will match both http and https.\n",
        "    \\S+: This matches one or more non-whitespace characters, which typically form\n",
        "    the rest of the URL after the http:// or https://.\n",
        "    |: This is the OR operator in regular expressions. It allows matching either\n",
        "    the pattern before it or the pattern after it.\n",
        "    www\\.\\S+: This part matches URLs that start with www..\n",
        "    The \\. is used to escape the dot, ensuring it matches a literal dot. Again, \\S+ matches the rest of the URL.\"\"\"\n",
        "    pattern = re.compile(r'https?://\\S+|www\\.\\S+')\n",
        "    return pattern.sub(r'', text)"
      ],
      "metadata": {
        "execution": {
          "iopub.status.busy": "2024-09-04T02:07:30.063215Z",
          "iopub.execute_input": "2024-09-04T02:07:30.063623Z",
          "iopub.status.idle": "2024-09-04T02:07:30.070364Z",
          "shell.execute_reply.started": "2024-09-04T02:07:30.063592Z",
          "shell.execute_reply": "2024-09-04T02:07:30.068946Z"
        },
        "trusted": true,
        "id": "SVoZ_PZEpc9S",
        "colab": {
          "base_uri": "https://localhost:8080/"
        },
        "outputId": "91d5199a-1e01-4846-acef-4a779e877a0f"
      },
      "execution_count": 37,
      "outputs": [
        {
          "output_type": "stream",
          "name": "stderr",
          "text": [
            "<>:5: SyntaxWarning: invalid escape sequence '\\S'\n",
            "<>:5: SyntaxWarning: invalid escape sequence '\\S'\n",
            "/tmp/ipython-input-3177123758.py:5: SyntaxWarning: invalid escape sequence '\\S'\n",
            "  \\S+: This matches one or more non-whitespace characters, which typically form\n"
          ]
        }
      ]
    },
    {
      "cell_type": "code",
      "source": [
        "df['review'] = df['review'].apply(remove_url)"
      ],
      "metadata": {
        "execution": {
          "iopub.status.busy": "2024-09-04T02:07:32.956871Z",
          "iopub.execute_input": "2024-09-04T02:07:32.957293Z",
          "iopub.status.idle": "2024-09-04T02:07:33.012231Z",
          "shell.execute_reply.started": "2024-09-04T02:07:32.957259Z",
          "shell.execute_reply": "2024-09-04T02:07:33.010959Z"
        },
        "trusted": true,
        "id": "LHkVHuc_pc9S"
      },
      "execution_count": 38,
      "outputs": []
    },
    {
      "cell_type": "code",
      "source": [
        "df"
      ],
      "metadata": {
        "execution": {
          "iopub.status.busy": "2024-09-04T02:07:35.401657Z",
          "iopub.execute_input": "2024-09-04T02:07:35.402602Z",
          "iopub.status.idle": "2024-09-04T02:07:35.414119Z",
          "shell.execute_reply.started": "2024-09-04T02:07:35.402564Z",
          "shell.execute_reply": "2024-09-04T02:07:35.412917Z"
        },
        "trusted": true,
        "id": "srNEQWsqpc9S",
        "outputId": "5576950c-498c-42f0-fdfa-563ece8a486f",
        "colab": {
          "base_uri": "https://localhost:8080/",
          "height": 423
        }
      },
      "execution_count": 39,
      "outputs": [
        {
          "output_type": "execute_result",
          "data": {
            "text/plain": [
              "                                                  review  Sentiment\n",
              "0      just had a real good moment. i missssssssss hi...          0\n",
              "1                                     is reading manga            0\n",
              "2                                     @comeagainjen  -            0\n",
              "3      @lapcat need to send 'em to my accountant tomo...          0\n",
              "4          add me on myspace!!!  myspace.com/lookthunder          0\n",
              "...                                                  ...        ...\n",
              "10309  no depression by g herbo is my mood from now o...          1\n",
              "10310  what do you do when depression succumbs the br...          1\n",
              "10311  ketamine nasal spray shows promise against dep...          1\n",
              "10312  dont mistake a bad day with depression! everyo...          1\n",
              "10313                                                  0          1\n",
              "\n",
              "[10314 rows x 2 columns]"
            ],
            "text/html": [
              "\n",
              "  <div id=\"df-d1d44491-4627-4995-a4fb-8e762f2b2b13\" class=\"colab-df-container\">\n",
              "    <div>\n",
              "<style scoped>\n",
              "    .dataframe tbody tr th:only-of-type {\n",
              "        vertical-align: middle;\n",
              "    }\n",
              "\n",
              "    .dataframe tbody tr th {\n",
              "        vertical-align: top;\n",
              "    }\n",
              "\n",
              "    .dataframe thead th {\n",
              "        text-align: right;\n",
              "    }\n",
              "</style>\n",
              "<table border=\"1\" class=\"dataframe\">\n",
              "  <thead>\n",
              "    <tr style=\"text-align: right;\">\n",
              "      <th></th>\n",
              "      <th>review</th>\n",
              "      <th>Sentiment</th>\n",
              "    </tr>\n",
              "  </thead>\n",
              "  <tbody>\n",
              "    <tr>\n",
              "      <th>0</th>\n",
              "      <td>just had a real good moment. i missssssssss hi...</td>\n",
              "      <td>0</td>\n",
              "    </tr>\n",
              "    <tr>\n",
              "      <th>1</th>\n",
              "      <td>is reading manga</td>\n",
              "      <td>0</td>\n",
              "    </tr>\n",
              "    <tr>\n",
              "      <th>2</th>\n",
              "      <td>@comeagainjen  -</td>\n",
              "      <td>0</td>\n",
              "    </tr>\n",
              "    <tr>\n",
              "      <th>3</th>\n",
              "      <td>@lapcat need to send 'em to my accountant tomo...</td>\n",
              "      <td>0</td>\n",
              "    </tr>\n",
              "    <tr>\n",
              "      <th>4</th>\n",
              "      <td>add me on myspace!!!  myspace.com/lookthunder</td>\n",
              "      <td>0</td>\n",
              "    </tr>\n",
              "    <tr>\n",
              "      <th>...</th>\n",
              "      <td>...</td>\n",
              "      <td>...</td>\n",
              "    </tr>\n",
              "    <tr>\n",
              "      <th>10309</th>\n",
              "      <td>no depression by g herbo is my mood from now o...</td>\n",
              "      <td>1</td>\n",
              "    </tr>\n",
              "    <tr>\n",
              "      <th>10310</th>\n",
              "      <td>what do you do when depression succumbs the br...</td>\n",
              "      <td>1</td>\n",
              "    </tr>\n",
              "    <tr>\n",
              "      <th>10311</th>\n",
              "      <td>ketamine nasal spray shows promise against dep...</td>\n",
              "      <td>1</td>\n",
              "    </tr>\n",
              "    <tr>\n",
              "      <th>10312</th>\n",
              "      <td>dont mistake a bad day with depression! everyo...</td>\n",
              "      <td>1</td>\n",
              "    </tr>\n",
              "    <tr>\n",
              "      <th>10313</th>\n",
              "      <td>0</td>\n",
              "      <td>1</td>\n",
              "    </tr>\n",
              "  </tbody>\n",
              "</table>\n",
              "<p>10314 rows × 2 columns</p>\n",
              "</div>\n",
              "    <div class=\"colab-df-buttons\">\n",
              "\n",
              "  <div class=\"colab-df-container\">\n",
              "    <button class=\"colab-df-convert\" onclick=\"convertToInteractive('df-d1d44491-4627-4995-a4fb-8e762f2b2b13')\"\n",
              "            title=\"Convert this dataframe to an interactive table.\"\n",
              "            style=\"display:none;\">\n",
              "\n",
              "  <svg xmlns=\"http://www.w3.org/2000/svg\" height=\"24px\" viewBox=\"0 -960 960 960\">\n",
              "    <path d=\"M120-120v-720h720v720H120Zm60-500h600v-160H180v160Zm220 220h160v-160H400v160Zm0 220h160v-160H400v160ZM180-400h160v-160H180v160Zm440 0h160v-160H620v160ZM180-180h160v-160H180v160Zm440 0h160v-160H620v160Z\"/>\n",
              "  </svg>\n",
              "    </button>\n",
              "\n",
              "  <style>\n",
              "    .colab-df-container {\n",
              "      display:flex;\n",
              "      gap: 12px;\n",
              "    }\n",
              "\n",
              "    .colab-df-convert {\n",
              "      background-color: #E8F0FE;\n",
              "      border: none;\n",
              "      border-radius: 50%;\n",
              "      cursor: pointer;\n",
              "      display: none;\n",
              "      fill: #1967D2;\n",
              "      height: 32px;\n",
              "      padding: 0 0 0 0;\n",
              "      width: 32px;\n",
              "    }\n",
              "\n",
              "    .colab-df-convert:hover {\n",
              "      background-color: #E2EBFA;\n",
              "      box-shadow: 0px 1px 2px rgba(60, 64, 67, 0.3), 0px 1px 3px 1px rgba(60, 64, 67, 0.15);\n",
              "      fill: #174EA6;\n",
              "    }\n",
              "\n",
              "    .colab-df-buttons div {\n",
              "      margin-bottom: 4px;\n",
              "    }\n",
              "\n",
              "    [theme=dark] .colab-df-convert {\n",
              "      background-color: #3B4455;\n",
              "      fill: #D2E3FC;\n",
              "    }\n",
              "\n",
              "    [theme=dark] .colab-df-convert:hover {\n",
              "      background-color: #434B5C;\n",
              "      box-shadow: 0px 1px 3px 1px rgba(0, 0, 0, 0.15);\n",
              "      filter: drop-shadow(0px 1px 2px rgba(0, 0, 0, 0.3));\n",
              "      fill: #FFFFFF;\n",
              "    }\n",
              "  </style>\n",
              "\n",
              "    <script>\n",
              "      const buttonEl =\n",
              "        document.querySelector('#df-d1d44491-4627-4995-a4fb-8e762f2b2b13 button.colab-df-convert');\n",
              "      buttonEl.style.display =\n",
              "        google.colab.kernel.accessAllowed ? 'block' : 'none';\n",
              "\n",
              "      async function convertToInteractive(key) {\n",
              "        const element = document.querySelector('#df-d1d44491-4627-4995-a4fb-8e762f2b2b13');\n",
              "        const dataTable =\n",
              "          await google.colab.kernel.invokeFunction('convertToInteractive',\n",
              "                                                    [key], {});\n",
              "        if (!dataTable) return;\n",
              "\n",
              "        const docLinkHtml = 'Like what you see? Visit the ' +\n",
              "          '<a target=\"_blank\" href=https://colab.research.google.com/notebooks/data_table.ipynb>data table notebook</a>'\n",
              "          + ' to learn more about interactive tables.';\n",
              "        element.innerHTML = '';\n",
              "        dataTable['output_type'] = 'display_data';\n",
              "        await google.colab.output.renderOutput(dataTable, element);\n",
              "        const docLink = document.createElement('div');\n",
              "        docLink.innerHTML = docLinkHtml;\n",
              "        element.appendChild(docLink);\n",
              "      }\n",
              "    </script>\n",
              "  </div>\n",
              "\n",
              "\n",
              "    <div id=\"df-d288e471-7fed-4e6f-baaa-3b8fcb06a359\">\n",
              "      <button class=\"colab-df-quickchart\" onclick=\"quickchart('df-d288e471-7fed-4e6f-baaa-3b8fcb06a359')\"\n",
              "                title=\"Suggest charts\"\n",
              "                style=\"display:none;\">\n",
              "\n",
              "<svg xmlns=\"http://www.w3.org/2000/svg\" height=\"24px\"viewBox=\"0 0 24 24\"\n",
              "     width=\"24px\">\n",
              "    <g>\n",
              "        <path d=\"M19 3H5c-1.1 0-2 .9-2 2v14c0 1.1.9 2 2 2h14c1.1 0 2-.9 2-2V5c0-1.1-.9-2-2-2zM9 17H7v-7h2v7zm4 0h-2V7h2v10zm4 0h-2v-4h2v4z\"/>\n",
              "    </g>\n",
              "</svg>\n",
              "      </button>\n",
              "\n",
              "<style>\n",
              "  .colab-df-quickchart {\n",
              "      --bg-color: #E8F0FE;\n",
              "      --fill-color: #1967D2;\n",
              "      --hover-bg-color: #E2EBFA;\n",
              "      --hover-fill-color: #174EA6;\n",
              "      --disabled-fill-color: #AAA;\n",
              "      --disabled-bg-color: #DDD;\n",
              "  }\n",
              "\n",
              "  [theme=dark] .colab-df-quickchart {\n",
              "      --bg-color: #3B4455;\n",
              "      --fill-color: #D2E3FC;\n",
              "      --hover-bg-color: #434B5C;\n",
              "      --hover-fill-color: #FFFFFF;\n",
              "      --disabled-bg-color: #3B4455;\n",
              "      --disabled-fill-color: #666;\n",
              "  }\n",
              "\n",
              "  .colab-df-quickchart {\n",
              "    background-color: var(--bg-color);\n",
              "    border: none;\n",
              "    border-radius: 50%;\n",
              "    cursor: pointer;\n",
              "    display: none;\n",
              "    fill: var(--fill-color);\n",
              "    height: 32px;\n",
              "    padding: 0;\n",
              "    width: 32px;\n",
              "  }\n",
              "\n",
              "  .colab-df-quickchart:hover {\n",
              "    background-color: var(--hover-bg-color);\n",
              "    box-shadow: 0 1px 2px rgba(60, 64, 67, 0.3), 0 1px 3px 1px rgba(60, 64, 67, 0.15);\n",
              "    fill: var(--button-hover-fill-color);\n",
              "  }\n",
              "\n",
              "  .colab-df-quickchart-complete:disabled,\n",
              "  .colab-df-quickchart-complete:disabled:hover {\n",
              "    background-color: var(--disabled-bg-color);\n",
              "    fill: var(--disabled-fill-color);\n",
              "    box-shadow: none;\n",
              "  }\n",
              "\n",
              "  .colab-df-spinner {\n",
              "    border: 2px solid var(--fill-color);\n",
              "    border-color: transparent;\n",
              "    border-bottom-color: var(--fill-color);\n",
              "    animation:\n",
              "      spin 1s steps(1) infinite;\n",
              "  }\n",
              "\n",
              "  @keyframes spin {\n",
              "    0% {\n",
              "      border-color: transparent;\n",
              "      border-bottom-color: var(--fill-color);\n",
              "      border-left-color: var(--fill-color);\n",
              "    }\n",
              "    20% {\n",
              "      border-color: transparent;\n",
              "      border-left-color: var(--fill-color);\n",
              "      border-top-color: var(--fill-color);\n",
              "    }\n",
              "    30% {\n",
              "      border-color: transparent;\n",
              "      border-left-color: var(--fill-color);\n",
              "      border-top-color: var(--fill-color);\n",
              "      border-right-color: var(--fill-color);\n",
              "    }\n",
              "    40% {\n",
              "      border-color: transparent;\n",
              "      border-right-color: var(--fill-color);\n",
              "      border-top-color: var(--fill-color);\n",
              "    }\n",
              "    60% {\n",
              "      border-color: transparent;\n",
              "      border-right-color: var(--fill-color);\n",
              "    }\n",
              "    80% {\n",
              "      border-color: transparent;\n",
              "      border-right-color: var(--fill-color);\n",
              "      border-bottom-color: var(--fill-color);\n",
              "    }\n",
              "    90% {\n",
              "      border-color: transparent;\n",
              "      border-bottom-color: var(--fill-color);\n",
              "    }\n",
              "  }\n",
              "</style>\n",
              "\n",
              "      <script>\n",
              "        async function quickchart(key) {\n",
              "          const quickchartButtonEl =\n",
              "            document.querySelector('#' + key + ' button');\n",
              "          quickchartButtonEl.disabled = true;  // To prevent multiple clicks.\n",
              "          quickchartButtonEl.classList.add('colab-df-spinner');\n",
              "          try {\n",
              "            const charts = await google.colab.kernel.invokeFunction(\n",
              "                'suggestCharts', [key], {});\n",
              "          } catch (error) {\n",
              "            console.error('Error during call to suggestCharts:', error);\n",
              "          }\n",
              "          quickchartButtonEl.classList.remove('colab-df-spinner');\n",
              "          quickchartButtonEl.classList.add('colab-df-quickchart-complete');\n",
              "        }\n",
              "        (() => {\n",
              "          let quickchartButtonEl =\n",
              "            document.querySelector('#df-d288e471-7fed-4e6f-baaa-3b8fcb06a359 button');\n",
              "          quickchartButtonEl.style.display =\n",
              "            google.colab.kernel.accessAllowed ? 'block' : 'none';\n",
              "        })();\n",
              "      </script>\n",
              "    </div>\n",
              "\n",
              "  <div id=\"id_d32840c9-fe43-4574-b261-7ab3b181c024\">\n",
              "    <style>\n",
              "      .colab-df-generate {\n",
              "        background-color: #E8F0FE;\n",
              "        border: none;\n",
              "        border-radius: 50%;\n",
              "        cursor: pointer;\n",
              "        display: none;\n",
              "        fill: #1967D2;\n",
              "        height: 32px;\n",
              "        padding: 0 0 0 0;\n",
              "        width: 32px;\n",
              "      }\n",
              "\n",
              "      .colab-df-generate:hover {\n",
              "        background-color: #E2EBFA;\n",
              "        box-shadow: 0px 1px 2px rgba(60, 64, 67, 0.3), 0px 1px 3px 1px rgba(60, 64, 67, 0.15);\n",
              "        fill: #174EA6;\n",
              "      }\n",
              "\n",
              "      [theme=dark] .colab-df-generate {\n",
              "        background-color: #3B4455;\n",
              "        fill: #D2E3FC;\n",
              "      }\n",
              "\n",
              "      [theme=dark] .colab-df-generate:hover {\n",
              "        background-color: #434B5C;\n",
              "        box-shadow: 0px 1px 3px 1px rgba(0, 0, 0, 0.15);\n",
              "        filter: drop-shadow(0px 1px 2px rgba(0, 0, 0, 0.3));\n",
              "        fill: #FFFFFF;\n",
              "      }\n",
              "    </style>\n",
              "    <button class=\"colab-df-generate\" onclick=\"generateWithVariable('df')\"\n",
              "            title=\"Generate code using this dataframe.\"\n",
              "            style=\"display:none;\">\n",
              "\n",
              "  <svg xmlns=\"http://www.w3.org/2000/svg\" height=\"24px\"viewBox=\"0 0 24 24\"\n",
              "       width=\"24px\">\n",
              "    <path d=\"M7,19H8.4L18.45,9,17,7.55,7,17.6ZM5,21V16.75L18.45,3.32a2,2,0,0,1,2.83,0l1.4,1.43a1.91,1.91,0,0,1,.58,1.4,1.91,1.91,0,0,1-.58,1.4L9.25,21ZM18.45,9,17,7.55Zm-12,3A5.31,5.31,0,0,0,4.9,8.1,5.31,5.31,0,0,0,1,6.5,5.31,5.31,0,0,0,4.9,4.9,5.31,5.31,0,0,0,6.5,1,5.31,5.31,0,0,0,8.1,4.9,5.31,5.31,0,0,0,12,6.5,5.46,5.46,0,0,0,6.5,12Z\"/>\n",
              "  </svg>\n",
              "    </button>\n",
              "    <script>\n",
              "      (() => {\n",
              "      const buttonEl =\n",
              "        document.querySelector('#id_d32840c9-fe43-4574-b261-7ab3b181c024 button.colab-df-generate');\n",
              "      buttonEl.style.display =\n",
              "        google.colab.kernel.accessAllowed ? 'block' : 'none';\n",
              "\n",
              "      buttonEl.onclick = () => {\n",
              "        google.colab.notebook.generateWithVariable('df');\n",
              "      }\n",
              "      })();\n",
              "    </script>\n",
              "  </div>\n",
              "\n",
              "    </div>\n",
              "  </div>\n"
            ],
            "application/vnd.google.colaboratory.intrinsic+json": {
              "type": "dataframe",
              "variable_name": "df",
              "summary": "{\n  \"name\": \"df\",\n  \"rows\": 10314,\n  \"fields\": [\n    {\n      \"column\": \"review\",\n      \"properties\": {\n        \"dtype\": \"string\",\n        \"num_unique_values\": 10258,\n        \"samples\": [\n          \"in 2 hours or so i will upload an image of the comic without illustration\\u00e2\\u20ac\\u00a6 so you can see the process  yes?\",\n          \"prom today, then prom party?  ..\",\n          \"suffering from chronic depression \\u00a0\"\n        ],\n        \"semantic_type\": \"\",\n        \"description\": \"\"\n      }\n    },\n    {\n      \"column\": \"Sentiment\",\n      \"properties\": {\n        \"dtype\": \"number\",\n        \"std\": 0,\n        \"min\": 0,\n        \"max\": 1,\n        \"num_unique_values\": 2,\n        \"samples\": [\n          1,\n          0\n        ],\n        \"semantic_type\": \"\",\n        \"description\": \"\"\n      }\n    }\n  ]\n}"
            }
          },
          "metadata": {},
          "execution_count": 39
        }
      ]
    },
    {
      "cell_type": "code",
      "source": [
        "# Suppose we have the FOllowings Text With URL.\n",
        "text1 = 'Check out my notebook https://www.kaggle.com/campusx/notebook8223fc1abb'\n",
        "text2 = 'Check out my notebook http://www.kaggle.com/campusx/notebook8223fc1abb'\n",
        "text3 = 'Google search here www.google.com'\n",
        "text4 = 'For notebook click https://www.kaggle.com/campusx/notebook8223fc1abb to search check www.google.com'"
      ],
      "metadata": {
        "execution": {
          "iopub.status.busy": "2024-09-03T15:28:26.544162Z",
          "iopub.execute_input": "2024-09-03T15:28:26.544635Z",
          "iopub.status.idle": "2024-09-03T15:28:26.550748Z",
          "shell.execute_reply.started": "2024-09-03T15:28:26.544596Z",
          "shell.execute_reply": "2024-09-03T15:28:26.549590Z"
        },
        "trusted": true,
        "id": "nmidBhbcpc9S"
      },
      "execution_count": 40,
      "outputs": []
    },
    {
      "cell_type": "code",
      "source": [
        "# Lets Remove The URL by Calling Function\n",
        "print(remove_url(text1))\n",
        "print(remove_url(text2))\n",
        "print(remove_url(text3))\n",
        "print(remove_url(text4))"
      ],
      "metadata": {
        "execution": {
          "iopub.status.busy": "2024-09-03T15:28:28.009372Z",
          "iopub.execute_input": "2024-09-03T15:28:28.010479Z",
          "iopub.status.idle": "2024-09-03T15:28:28.017720Z",
          "shell.execute_reply.started": "2024-09-03T15:28:28.010436Z",
          "shell.execute_reply": "2024-09-03T15:28:28.016263Z"
        },
        "trusted": true,
        "id": "jbDpTFVqpc9S",
        "outputId": "a68cca10-fc06-4895-a73a-9b61d9596826",
        "colab": {
          "base_uri": "https://localhost:8080/"
        }
      },
      "execution_count": 41,
      "outputs": [
        {
          "output_type": "stream",
          "name": "stdout",
          "text": [
            "Check out my notebook \n",
            "Check out my notebook \n",
            "Google search here \n",
            "For notebook click  to search check \n"
          ]
        }
      ]
    },
    {
      "cell_type": "markdown",
      "source": [
        "***Here How the function beatuifully remove the URLs from the Text . We Can Simply Call this Function on Whole Corpus to Remove URLs.***"
      ],
      "metadata": {
        "id": "6o11yimZpc9S"
      }
    },
    {
      "cell_type": "markdown",
      "source": [
        "# <p style=\"font-family:newtimeroman;font-size:150%;text-align:center;color:#8b4513;\">4. Remove Punctuations</p>\n",
        "\n",
        "\n",
        "***Removing punctuation marks is essential in NLP text preprocessing to enhance the accuracy and efficiency of analysis. Punctuation marks like commas, periods, and quotation marks carry little semantic meaning and can introduce noise into the dataset. By removing them, the text becomes cleaner and more uniform, making it easier for machine learning models to extract meaningful features and patterns. Additionally, removing punctuation aids in standardizing the text, ensuring consistency across documents and improving the overall performance of NLP tasks such as sentiment analysis, text classification, and named entity recognition.***"
      ],
      "metadata": {
        "id": "ehQnldZMpc9S"
      }
    },
    {
      "cell_type": "code",
      "source": [
        "\n",
        "# From String we Imorts Punctuation.\n",
        "import string\n",
        "string.punctuation"
      ],
      "metadata": {
        "execution": {
          "iopub.status.busy": "2024-09-04T02:07:43.003064Z",
          "iopub.execute_input": "2024-09-04T02:07:43.003456Z",
          "iopub.status.idle": "2024-09-04T02:07:43.010146Z",
          "shell.execute_reply.started": "2024-09-04T02:07:43.003428Z",
          "shell.execute_reply": "2024-09-04T02:07:43.008979Z"
        },
        "trusted": true,
        "id": "8JG9dyYApc9S",
        "outputId": "1989cbad-8ef4-4423-d6d9-8eaa1a5913d5",
        "colab": {
          "base_uri": "https://localhost:8080/",
          "height": 35
        }
      },
      "execution_count": 42,
      "outputs": [
        {
          "output_type": "execute_result",
          "data": {
            "text/plain": [
              "'!\"#$%&\\'()*+,-./:;<=>?@[\\\\]^_`{|}~'"
            ],
            "application/vnd.google.colaboratory.intrinsic+json": {
              "type": "string"
            }
          },
          "metadata": {},
          "execution_count": 42
        }
      ]
    },
    {
      "cell_type": "code",
      "source": [
        "# Storing Punctuation in a Variable\n",
        "punc = string.punctuation"
      ],
      "metadata": {
        "execution": {
          "iopub.status.busy": "2024-09-04T02:07:46.669598Z",
          "iopub.execute_input": "2024-09-04T02:07:46.670713Z",
          "iopub.status.idle": "2024-09-04T02:07:46.675593Z",
          "shell.execute_reply.started": "2024-09-04T02:07:46.670665Z",
          "shell.execute_reply": "2024-09-04T02:07:46.674254Z"
        },
        "trusted": true,
        "id": "7HQJ2uaQpc9T"
      },
      "execution_count": 43,
      "outputs": []
    },
    {
      "cell_type": "code",
      "source": [
        "\"\"\"\n",
        "str.maketrans(x, y, z)\n",
        "x → string of characters to be replaced.\n",
        "\n",
        "y → string of characters to replace them with. (must be the same length as x)\n",
        "\n",
        "z → string of characters to delete\n",
        "\"\"\""
      ],
      "metadata": {
        "colab": {
          "base_uri": "https://localhost:8080/",
          "height": 53
        },
        "id": "eNv-H2ZQw79b",
        "outputId": "0ba9c26c-3907-4ebb-ac07-6da848e9de76"
      },
      "execution_count": 44,
      "outputs": [
        {
          "output_type": "execute_result",
          "data": {
            "text/plain": [
              "'\\nstr.maketrans(x, y, z)\\nx → string of characters to be replaced.\\n\\ny → string of characters to replace them with. (must be the same length as x)\\n\\nz → string of characters to delete\\n'"
            ],
            "application/vnd.google.colaboratory.intrinsic+json": {
              "type": "string"
            }
          },
          "metadata": {},
          "execution_count": 44
        }
      ]
    },
    {
      "cell_type": "code",
      "source": [
        "# The code defines a function, remove_punc1, that takes a text input and removes all punctuation characters from it using\n",
        "# the translate method with a translation table created by str.maketrans. This function effectively cleanses the text of punctuation symbols.\n",
        "def remove_punc(text):\n",
        "    return text.translate(str.maketrans('', '', punc))"
      ],
      "metadata": {
        "execution": {
          "iopub.status.busy": "2024-09-04T02:07:48.533218Z",
          "iopub.execute_input": "2024-09-04T02:07:48.533616Z",
          "iopub.status.idle": "2024-09-04T02:07:48.539248Z",
          "shell.execute_reply.started": "2024-09-04T02:07:48.533583Z",
          "shell.execute_reply": "2024-09-04T02:07:48.537807Z"
        },
        "trusted": true,
        "id": "Vmll124hpc9T"
      },
      "execution_count": 45,
      "outputs": []
    },
    {
      "cell_type": "code",
      "source": [
        "# Text With Punctuation.\n",
        "text = \"The quick brown fox jumps over the lazy dog. However, the dog doesn't seem impressed! Oh no, it just yawned. How disappointing! Maybe a squirrel would elicit a reaction. Alas, the fox is out of luck.\"\n",
        "text"
      ],
      "metadata": {
        "execution": {
          "iopub.status.busy": "2024-09-03T15:28:45.003265Z",
          "iopub.execute_input": "2024-09-03T15:28:45.003771Z",
          "iopub.status.idle": "2024-09-03T15:28:45.011478Z",
          "shell.execute_reply.started": "2024-09-03T15:28:45.003731Z",
          "shell.execute_reply": "2024-09-03T15:28:45.010062Z"
        },
        "trusted": true,
        "id": "f4TvWSd7pc9T",
        "outputId": "15e6cd0a-4208-4a02-b299-fecc9e6e214c",
        "colab": {
          "base_uri": "https://localhost:8080/",
          "height": 53
        }
      },
      "execution_count": 46,
      "outputs": [
        {
          "output_type": "execute_result",
          "data": {
            "text/plain": [
              "\"The quick brown fox jumps over the lazy dog. However, the dog doesn't seem impressed! Oh no, it just yawned. How disappointing! Maybe a squirrel would elicit a reaction. Alas, the fox is out of luck.\""
            ],
            "application/vnd.google.colaboratory.intrinsic+json": {
              "type": "string"
            }
          },
          "metadata": {},
          "execution_count": 46
        }
      ]
    },
    {
      "cell_type": "code",
      "source": [
        "# Remove Punctuation.\n",
        "remove_punc(text)"
      ],
      "metadata": {
        "execution": {
          "iopub.status.busy": "2024-09-03T15:28:48.213023Z",
          "iopub.execute_input": "2024-09-03T15:28:48.213568Z",
          "iopub.status.idle": "2024-09-03T15:28:48.221018Z",
          "shell.execute_reply.started": "2024-09-03T15:28:48.213518Z",
          "shell.execute_reply": "2024-09-03T15:28:48.219802Z"
        },
        "trusted": true,
        "id": "bmWG0SIFpc9T",
        "outputId": "a9827b57-99db-4b8f-ad49-49cc1f279b59",
        "colab": {
          "base_uri": "https://localhost:8080/",
          "height": 53
        }
      },
      "execution_count": 47,
      "outputs": [
        {
          "output_type": "execute_result",
          "data": {
            "text/plain": [
              "'The quick brown fox jumps over the lazy dog However the dog doesnt seem impressed Oh no it just yawned How disappointing Maybe a squirrel would elicit a reaction Alas the fox is out of luck'"
            ],
            "application/vnd.google.colaboratory.intrinsic+json": {
              "type": "string"
            }
          },
          "metadata": {},
          "execution_count": 47
        }
      ]
    },
    {
      "cell_type": "code",
      "source": [
        "df['review'] = df['review'].apply(remove_punc)\n",
        "df"
      ],
      "metadata": {
        "execution": {
          "iopub.status.busy": "2024-09-04T02:07:53.421390Z",
          "iopub.execute_input": "2024-09-04T02:07:53.421771Z",
          "iopub.status.idle": "2024-09-04T02:07:53.496381Z",
          "shell.execute_reply.started": "2024-09-04T02:07:53.421742Z",
          "shell.execute_reply": "2024-09-04T02:07:53.495287Z"
        },
        "trusted": true,
        "id": "-UN4oP5Upc9T",
        "outputId": "b64cc6e7-1077-446a-c691-032cfbd74864",
        "colab": {
          "base_uri": "https://localhost:8080/",
          "height": 423
        }
      },
      "execution_count": 48,
      "outputs": [
        {
          "output_type": "execute_result",
          "data": {
            "text/plain": [
              "                                                  review  Sentiment\n",
              "0      just had a real good moment i missssssssss him...          0\n",
              "1                                     is reading manga            0\n",
              "2                                       comeagainjen              0\n",
              "3      lapcat need to send em to my accountant tomorr...          0\n",
              "4               add me on myspace  myspacecomlookthunder          0\n",
              "...                                                  ...        ...\n",
              "10309  no depression by g herbo is my mood from now o...          1\n",
              "10310  what do you do when depression succumbs the br...          1\n",
              "10311  ketamine nasal spray shows promise against dep...          1\n",
              "10312  dont mistake a bad day with depression everyon...          1\n",
              "10313                                                  0          1\n",
              "\n",
              "[10314 rows x 2 columns]"
            ],
            "text/html": [
              "\n",
              "  <div id=\"df-419e45fb-26a7-4315-95be-79a160692488\" class=\"colab-df-container\">\n",
              "    <div>\n",
              "<style scoped>\n",
              "    .dataframe tbody tr th:only-of-type {\n",
              "        vertical-align: middle;\n",
              "    }\n",
              "\n",
              "    .dataframe tbody tr th {\n",
              "        vertical-align: top;\n",
              "    }\n",
              "\n",
              "    .dataframe thead th {\n",
              "        text-align: right;\n",
              "    }\n",
              "</style>\n",
              "<table border=\"1\" class=\"dataframe\">\n",
              "  <thead>\n",
              "    <tr style=\"text-align: right;\">\n",
              "      <th></th>\n",
              "      <th>review</th>\n",
              "      <th>Sentiment</th>\n",
              "    </tr>\n",
              "  </thead>\n",
              "  <tbody>\n",
              "    <tr>\n",
              "      <th>0</th>\n",
              "      <td>just had a real good moment i missssssssss him...</td>\n",
              "      <td>0</td>\n",
              "    </tr>\n",
              "    <tr>\n",
              "      <th>1</th>\n",
              "      <td>is reading manga</td>\n",
              "      <td>0</td>\n",
              "    </tr>\n",
              "    <tr>\n",
              "      <th>2</th>\n",
              "      <td>comeagainjen</td>\n",
              "      <td>0</td>\n",
              "    </tr>\n",
              "    <tr>\n",
              "      <th>3</th>\n",
              "      <td>lapcat need to send em to my accountant tomorr...</td>\n",
              "      <td>0</td>\n",
              "    </tr>\n",
              "    <tr>\n",
              "      <th>4</th>\n",
              "      <td>add me on myspace  myspacecomlookthunder</td>\n",
              "      <td>0</td>\n",
              "    </tr>\n",
              "    <tr>\n",
              "      <th>...</th>\n",
              "      <td>...</td>\n",
              "      <td>...</td>\n",
              "    </tr>\n",
              "    <tr>\n",
              "      <th>10309</th>\n",
              "      <td>no depression by g herbo is my mood from now o...</td>\n",
              "      <td>1</td>\n",
              "    </tr>\n",
              "    <tr>\n",
              "      <th>10310</th>\n",
              "      <td>what do you do when depression succumbs the br...</td>\n",
              "      <td>1</td>\n",
              "    </tr>\n",
              "    <tr>\n",
              "      <th>10311</th>\n",
              "      <td>ketamine nasal spray shows promise against dep...</td>\n",
              "      <td>1</td>\n",
              "    </tr>\n",
              "    <tr>\n",
              "      <th>10312</th>\n",
              "      <td>dont mistake a bad day with depression everyon...</td>\n",
              "      <td>1</td>\n",
              "    </tr>\n",
              "    <tr>\n",
              "      <th>10313</th>\n",
              "      <td>0</td>\n",
              "      <td>1</td>\n",
              "    </tr>\n",
              "  </tbody>\n",
              "</table>\n",
              "<p>10314 rows × 2 columns</p>\n",
              "</div>\n",
              "    <div class=\"colab-df-buttons\">\n",
              "\n",
              "  <div class=\"colab-df-container\">\n",
              "    <button class=\"colab-df-convert\" onclick=\"convertToInteractive('df-419e45fb-26a7-4315-95be-79a160692488')\"\n",
              "            title=\"Convert this dataframe to an interactive table.\"\n",
              "            style=\"display:none;\">\n",
              "\n",
              "  <svg xmlns=\"http://www.w3.org/2000/svg\" height=\"24px\" viewBox=\"0 -960 960 960\">\n",
              "    <path d=\"M120-120v-720h720v720H120Zm60-500h600v-160H180v160Zm220 220h160v-160H400v160Zm0 220h160v-160H400v160ZM180-400h160v-160H180v160Zm440 0h160v-160H620v160ZM180-180h160v-160H180v160Zm440 0h160v-160H620v160Z\"/>\n",
              "  </svg>\n",
              "    </button>\n",
              "\n",
              "  <style>\n",
              "    .colab-df-container {\n",
              "      display:flex;\n",
              "      gap: 12px;\n",
              "    }\n",
              "\n",
              "    .colab-df-convert {\n",
              "      background-color: #E8F0FE;\n",
              "      border: none;\n",
              "      border-radius: 50%;\n",
              "      cursor: pointer;\n",
              "      display: none;\n",
              "      fill: #1967D2;\n",
              "      height: 32px;\n",
              "      padding: 0 0 0 0;\n",
              "      width: 32px;\n",
              "    }\n",
              "\n",
              "    .colab-df-convert:hover {\n",
              "      background-color: #E2EBFA;\n",
              "      box-shadow: 0px 1px 2px rgba(60, 64, 67, 0.3), 0px 1px 3px 1px rgba(60, 64, 67, 0.15);\n",
              "      fill: #174EA6;\n",
              "    }\n",
              "\n",
              "    .colab-df-buttons div {\n",
              "      margin-bottom: 4px;\n",
              "    }\n",
              "\n",
              "    [theme=dark] .colab-df-convert {\n",
              "      background-color: #3B4455;\n",
              "      fill: #D2E3FC;\n",
              "    }\n",
              "\n",
              "    [theme=dark] .colab-df-convert:hover {\n",
              "      background-color: #434B5C;\n",
              "      box-shadow: 0px 1px 3px 1px rgba(0, 0, 0, 0.15);\n",
              "      filter: drop-shadow(0px 1px 2px rgba(0, 0, 0, 0.3));\n",
              "      fill: #FFFFFF;\n",
              "    }\n",
              "  </style>\n",
              "\n",
              "    <script>\n",
              "      const buttonEl =\n",
              "        document.querySelector('#df-419e45fb-26a7-4315-95be-79a160692488 button.colab-df-convert');\n",
              "      buttonEl.style.display =\n",
              "        google.colab.kernel.accessAllowed ? 'block' : 'none';\n",
              "\n",
              "      async function convertToInteractive(key) {\n",
              "        const element = document.querySelector('#df-419e45fb-26a7-4315-95be-79a160692488');\n",
              "        const dataTable =\n",
              "          await google.colab.kernel.invokeFunction('convertToInteractive',\n",
              "                                                    [key], {});\n",
              "        if (!dataTable) return;\n",
              "\n",
              "        const docLinkHtml = 'Like what you see? Visit the ' +\n",
              "          '<a target=\"_blank\" href=https://colab.research.google.com/notebooks/data_table.ipynb>data table notebook</a>'\n",
              "          + ' to learn more about interactive tables.';\n",
              "        element.innerHTML = '';\n",
              "        dataTable['output_type'] = 'display_data';\n",
              "        await google.colab.output.renderOutput(dataTable, element);\n",
              "        const docLink = document.createElement('div');\n",
              "        docLink.innerHTML = docLinkHtml;\n",
              "        element.appendChild(docLink);\n",
              "      }\n",
              "    </script>\n",
              "  </div>\n",
              "\n",
              "\n",
              "    <div id=\"df-2972867a-6658-44d9-a4d4-5a92f148db45\">\n",
              "      <button class=\"colab-df-quickchart\" onclick=\"quickchart('df-2972867a-6658-44d9-a4d4-5a92f148db45')\"\n",
              "                title=\"Suggest charts\"\n",
              "                style=\"display:none;\">\n",
              "\n",
              "<svg xmlns=\"http://www.w3.org/2000/svg\" height=\"24px\"viewBox=\"0 0 24 24\"\n",
              "     width=\"24px\">\n",
              "    <g>\n",
              "        <path d=\"M19 3H5c-1.1 0-2 .9-2 2v14c0 1.1.9 2 2 2h14c1.1 0 2-.9 2-2V5c0-1.1-.9-2-2-2zM9 17H7v-7h2v7zm4 0h-2V7h2v10zm4 0h-2v-4h2v4z\"/>\n",
              "    </g>\n",
              "</svg>\n",
              "      </button>\n",
              "\n",
              "<style>\n",
              "  .colab-df-quickchart {\n",
              "      --bg-color: #E8F0FE;\n",
              "      --fill-color: #1967D2;\n",
              "      --hover-bg-color: #E2EBFA;\n",
              "      --hover-fill-color: #174EA6;\n",
              "      --disabled-fill-color: #AAA;\n",
              "      --disabled-bg-color: #DDD;\n",
              "  }\n",
              "\n",
              "  [theme=dark] .colab-df-quickchart {\n",
              "      --bg-color: #3B4455;\n",
              "      --fill-color: #D2E3FC;\n",
              "      --hover-bg-color: #434B5C;\n",
              "      --hover-fill-color: #FFFFFF;\n",
              "      --disabled-bg-color: #3B4455;\n",
              "      --disabled-fill-color: #666;\n",
              "  }\n",
              "\n",
              "  .colab-df-quickchart {\n",
              "    background-color: var(--bg-color);\n",
              "    border: none;\n",
              "    border-radius: 50%;\n",
              "    cursor: pointer;\n",
              "    display: none;\n",
              "    fill: var(--fill-color);\n",
              "    height: 32px;\n",
              "    padding: 0;\n",
              "    width: 32px;\n",
              "  }\n",
              "\n",
              "  .colab-df-quickchart:hover {\n",
              "    background-color: var(--hover-bg-color);\n",
              "    box-shadow: 0 1px 2px rgba(60, 64, 67, 0.3), 0 1px 3px 1px rgba(60, 64, 67, 0.15);\n",
              "    fill: var(--button-hover-fill-color);\n",
              "  }\n",
              "\n",
              "  .colab-df-quickchart-complete:disabled,\n",
              "  .colab-df-quickchart-complete:disabled:hover {\n",
              "    background-color: var(--disabled-bg-color);\n",
              "    fill: var(--disabled-fill-color);\n",
              "    box-shadow: none;\n",
              "  }\n",
              "\n",
              "  .colab-df-spinner {\n",
              "    border: 2px solid var(--fill-color);\n",
              "    border-color: transparent;\n",
              "    border-bottom-color: var(--fill-color);\n",
              "    animation:\n",
              "      spin 1s steps(1) infinite;\n",
              "  }\n",
              "\n",
              "  @keyframes spin {\n",
              "    0% {\n",
              "      border-color: transparent;\n",
              "      border-bottom-color: var(--fill-color);\n",
              "      border-left-color: var(--fill-color);\n",
              "    }\n",
              "    20% {\n",
              "      border-color: transparent;\n",
              "      border-left-color: var(--fill-color);\n",
              "      border-top-color: var(--fill-color);\n",
              "    }\n",
              "    30% {\n",
              "      border-color: transparent;\n",
              "      border-left-color: var(--fill-color);\n",
              "      border-top-color: var(--fill-color);\n",
              "      border-right-color: var(--fill-color);\n",
              "    }\n",
              "    40% {\n",
              "      border-color: transparent;\n",
              "      border-right-color: var(--fill-color);\n",
              "      border-top-color: var(--fill-color);\n",
              "    }\n",
              "    60% {\n",
              "      border-color: transparent;\n",
              "      border-right-color: var(--fill-color);\n",
              "    }\n",
              "    80% {\n",
              "      border-color: transparent;\n",
              "      border-right-color: var(--fill-color);\n",
              "      border-bottom-color: var(--fill-color);\n",
              "    }\n",
              "    90% {\n",
              "      border-color: transparent;\n",
              "      border-bottom-color: var(--fill-color);\n",
              "    }\n",
              "  }\n",
              "</style>\n",
              "\n",
              "      <script>\n",
              "        async function quickchart(key) {\n",
              "          const quickchartButtonEl =\n",
              "            document.querySelector('#' + key + ' button');\n",
              "          quickchartButtonEl.disabled = true;  // To prevent multiple clicks.\n",
              "          quickchartButtonEl.classList.add('colab-df-spinner');\n",
              "          try {\n",
              "            const charts = await google.colab.kernel.invokeFunction(\n",
              "                'suggestCharts', [key], {});\n",
              "          } catch (error) {\n",
              "            console.error('Error during call to suggestCharts:', error);\n",
              "          }\n",
              "          quickchartButtonEl.classList.remove('colab-df-spinner');\n",
              "          quickchartButtonEl.classList.add('colab-df-quickchart-complete');\n",
              "        }\n",
              "        (() => {\n",
              "          let quickchartButtonEl =\n",
              "            document.querySelector('#df-2972867a-6658-44d9-a4d4-5a92f148db45 button');\n",
              "          quickchartButtonEl.style.display =\n",
              "            google.colab.kernel.accessAllowed ? 'block' : 'none';\n",
              "        })();\n",
              "      </script>\n",
              "    </div>\n",
              "\n",
              "  <div id=\"id_264ac3aa-3de1-471b-a6e1-3c2fd5ec145d\">\n",
              "    <style>\n",
              "      .colab-df-generate {\n",
              "        background-color: #E8F0FE;\n",
              "        border: none;\n",
              "        border-radius: 50%;\n",
              "        cursor: pointer;\n",
              "        display: none;\n",
              "        fill: #1967D2;\n",
              "        height: 32px;\n",
              "        padding: 0 0 0 0;\n",
              "        width: 32px;\n",
              "      }\n",
              "\n",
              "      .colab-df-generate:hover {\n",
              "        background-color: #E2EBFA;\n",
              "        box-shadow: 0px 1px 2px rgba(60, 64, 67, 0.3), 0px 1px 3px 1px rgba(60, 64, 67, 0.15);\n",
              "        fill: #174EA6;\n",
              "      }\n",
              "\n",
              "      [theme=dark] .colab-df-generate {\n",
              "        background-color: #3B4455;\n",
              "        fill: #D2E3FC;\n",
              "      }\n",
              "\n",
              "      [theme=dark] .colab-df-generate:hover {\n",
              "        background-color: #434B5C;\n",
              "        box-shadow: 0px 1px 3px 1px rgba(0, 0, 0, 0.15);\n",
              "        filter: drop-shadow(0px 1px 2px rgba(0, 0, 0, 0.3));\n",
              "        fill: #FFFFFF;\n",
              "      }\n",
              "    </style>\n",
              "    <button class=\"colab-df-generate\" onclick=\"generateWithVariable('df')\"\n",
              "            title=\"Generate code using this dataframe.\"\n",
              "            style=\"display:none;\">\n",
              "\n",
              "  <svg xmlns=\"http://www.w3.org/2000/svg\" height=\"24px\"viewBox=\"0 0 24 24\"\n",
              "       width=\"24px\">\n",
              "    <path d=\"M7,19H8.4L18.45,9,17,7.55,7,17.6ZM5,21V16.75L18.45,3.32a2,2,0,0,1,2.83,0l1.4,1.43a1.91,1.91,0,0,1,.58,1.4,1.91,1.91,0,0,1-.58,1.4L9.25,21ZM18.45,9,17,7.55Zm-12,3A5.31,5.31,0,0,0,4.9,8.1,5.31,5.31,0,0,0,1,6.5,5.31,5.31,0,0,0,4.9,4.9,5.31,5.31,0,0,0,6.5,1,5.31,5.31,0,0,0,8.1,4.9,5.31,5.31,0,0,0,12,6.5,5.46,5.46,0,0,0,6.5,12Z\"/>\n",
              "  </svg>\n",
              "    </button>\n",
              "    <script>\n",
              "      (() => {\n",
              "      const buttonEl =\n",
              "        document.querySelector('#id_264ac3aa-3de1-471b-a6e1-3c2fd5ec145d button.colab-df-generate');\n",
              "      buttonEl.style.display =\n",
              "        google.colab.kernel.accessAllowed ? 'block' : 'none';\n",
              "\n",
              "      buttonEl.onclick = () => {\n",
              "        google.colab.notebook.generateWithVariable('df');\n",
              "      }\n",
              "      })();\n",
              "    </script>\n",
              "  </div>\n",
              "\n",
              "    </div>\n",
              "  </div>\n"
            ],
            "application/vnd.google.colaboratory.intrinsic+json": {
              "type": "dataframe",
              "variable_name": "df",
              "summary": "{\n  \"name\": \"df\",\n  \"rows\": 10314,\n  \"fields\": [\n    {\n      \"column\": \"review\",\n      \"properties\": {\n        \"dtype\": \"string\",\n        \"num_unique_values\": 10246,\n        \"samples\": [\n          \"really important piece from lisabowhorse about the link between acne and depression  \\u00a0\\u00e2\\u0080\\u00a6\",\n          \"one of the perks of working ridiculous hours my coworker is a model \",\n          \"200gb into a new 1tb drive  \"\n        ],\n        \"semantic_type\": \"\",\n        \"description\": \"\"\n      }\n    },\n    {\n      \"column\": \"Sentiment\",\n      \"properties\": {\n        \"dtype\": \"number\",\n        \"std\": 0,\n        \"min\": 0,\n        \"max\": 1,\n        \"num_unique_values\": 2,\n        \"samples\": [\n          1,\n          0\n        ],\n        \"semantic_type\": \"\",\n        \"description\": \"\"\n      }\n    }\n  ]\n}"
            }
          },
          "metadata": {},
          "execution_count": 48
        }
      ]
    },
    {
      "cell_type": "markdown",
      "source": [
        "***Hence the function removes the punctuations from the text and we can also use this function to remove the punctuations from the corpus.***"
      ],
      "metadata": {
        "id": "x_cRcVILpc9T"
      }
    },
    {
      "cell_type": "code",
      "source": [
        "# Exmaple on whole Dataset.\n",
        "print(df['review'][9])\n",
        "\n",
        "# Remove Punctuation\n",
        "remove_punc(df['review'][9])"
      ],
      "metadata": {
        "execution": {
          "iopub.status.busy": "2024-09-03T07:57:30.125303Z",
          "iopub.execute_input": "2024-09-03T07:57:30.125707Z",
          "iopub.status.idle": "2024-09-03T07:57:30.134720Z",
          "shell.execute_reply.started": "2024-09-03T07:57:30.125675Z",
          "shell.execute_reply": "2024-09-03T07:57:30.133477Z"
        },
        "trusted": true,
        "id": "sa52mhsxpc9T",
        "outputId": "da18fe71-258a-487a-dcb3-7a773be416b7",
        "colab": {
          "base_uri": "https://localhost:8080/",
          "height": 53
        }
      },
      "execution_count": 49,
      "outputs": [
        {
          "output_type": "stream",
          "name": "stdout",
          "text": [
            "dananner night darlin  sweet dreams to you \n"
          ]
        },
        {
          "output_type": "execute_result",
          "data": {
            "text/plain": [
              "'dananner night darlin  sweet dreams to you '"
            ],
            "application/vnd.google.colaboratory.intrinsic+json": {
              "type": "string"
            }
          },
          "metadata": {},
          "execution_count": 49
        }
      ]
    },
    {
      "cell_type": "markdown",
      "source": [
        "# <p style=\"font-family:newtimeroman;font-size:150%;text-align:center;color:#8b4513;\">5. Handling ChatWords</p>\n",
        "\n",
        "\n",
        "***Handling ChatWords, also known as internet slang or informal language used in online communication, is important in NLP text preprocessing to ensure accurate analysis and understanding of text data. By converting ChatWords into their standard English equivalents or formal language equivalents, NLP models can effectively interpret the meaning of the text. This preprocessing step helps in maintaining consistency, improving the quality of input data, and enhancing the performance of NLP tasks such as sentiment analysis, chatbots, and information retrieval systems. Ultimately, handling ChatWords ensures better comprehension and more reliable results in NLP applications.***"
      ],
      "metadata": {
        "id": "yyptdymhpc9T"
      }
    },
    {
      "cell_type": "code",
      "source": [
        "# Here Come ChatWords Which i Get from a Github Repository\n",
        "# Repository Link : https://github.com/rishabhverma17/sms_slang_translator/blob/master/slang.txt\n",
        "chat_words = {\n",
        "    \"AFAIK\": \"As Far As I Know\",\n",
        "    \"AFK\": \"Away From Keyboard\",\n",
        "    \"ASAP\": \"As Soon As Possible\",\n",
        "    \"ATK\": \"At The Keyboard\",\n",
        "    \"ATM\": \"At The Moment\",\n",
        "    \"A3\": \"Anytime, Anywhere, Anyplace\",\n",
        "    \"BAK\": \"Back At Keyboard\",\n",
        "    \"BBL\": \"Be Back Later\",\n",
        "    \"BBS\": \"Be Back Soon\",\n",
        "    \"BFN\": \"Bye For Now\",\n",
        "    \"B4N\": \"Bye For Now\",\n",
        "    \"BRB\": \"Be Right Back\",\n",
        "    \"BRT\": \"Be Right There\",\n",
        "    \"BTW\": \"By The Way\",\n",
        "    \"B4\": \"Before\",\n",
        "    \"B4N\": \"Bye For Now\",\n",
        "    \"CU\": \"See You\",\n",
        "    \"CUL8R\": \"See You Later\",\n",
        "    \"CYA\": \"See You\",\n",
        "    \"FAQ\": \"Frequently Asked Questions\",\n",
        "    \"FC\": \"Fingers Crossed\",\n",
        "    \"FWIW\": \"For What It's Worth\",\n",
        "    \"FYI\": \"For Your Information\",\n",
        "    \"GAL\": \"Get A Life\",\n",
        "    \"GG\": \"Good Game\",\n",
        "    \"GN\": \"Good Night\",\n",
        "    \"GMTA\": \"Great Minds Think Alike\",\n",
        "    \"GR8\": \"Great!\",\n",
        "    \"G9\": \"Genius\",\n",
        "    \"IC\": \"I See\",\n",
        "    \"ICQ\": \"I Seek you (also a chat program)\",\n",
        "    \"ILU\": \"ILU: I Love You\",\n",
        "    \"IMHO\": \"In My Honest/Humble Opinion\",\n",
        "    \"IMO\": \"In My Opinion\",\n",
        "    \"IOW\": \"In Other Words\",\n",
        "    \"IRL\": \"In Real Life\",\n",
        "    \"KISS\": \"Keep It Simple, Stupid\",\n",
        "    \"LDR\": \"Long Distance Relationship\",\n",
        "    \"LMAO\": \"Laugh My A.. Off\",\n",
        "    \"LOL\": \"Laughing Out Loud\",\n",
        "    \"LTNS\": \"Long Time No See\",\n",
        "    \"L8R\": \"Later\",\n",
        "    \"MTE\": \"My Thoughts Exactly\",\n",
        "    \"M8\": \"Mate\",\n",
        "    \"NRN\": \"No Reply Necessary\",\n",
        "    \"OIC\": \"Oh I See\",\n",
        "    \"PITA\": \"Pain In The A..\",\n",
        "    \"PRT\": \"Party\",\n",
        "    \"PRW\": \"Parents Are Watching\",\n",
        "    \"QPSA?\": \"Que Pasa?\",\n",
        "    \"ROFL\": \"Rolling On The Floor Laughing\",\n",
        "    \"ROFLOL\": \"Rolling On The Floor Laughing Out Loud\",\n",
        "    \"ROTFLMAO\": \"Rolling On The Floor Laughing My A.. Off\",\n",
        "    \"SK8\": \"Skate\",\n",
        "    \"STATS\": \"Your sex and age\",\n",
        "    \"ASL\": \"Age, Sex, Location\",\n",
        "    \"THX\": \"Thank You\",\n",
        "    \"TTFN\": \"Ta-Ta For Now!\",\n",
        "    \"TTYL\": \"Talk To You Later\",\n",
        "    \"U\": \"You\",\n",
        "    \"U2\": \"You Too\",\n",
        "    \"U4E\": \"Yours For Ever\",\n",
        "    \"WB\": \"Welcome Back\",\n",
        "    \"WTF\": \"What The F...\",\n",
        "    \"WTG\": \"Way To Go!\",\n",
        "    \"WUF\": \"Where Are You From?\",\n",
        "    \"W8\": \"Wait...\",\n",
        "    \"7K\": \"Sick:-D Laugher\",\n",
        "    \"TFW\": \"That feeling when\",\n",
        "    \"MFW\": \"My face when\",\n",
        "    \"MRW\": \"My reaction when\",\n",
        "    \"IFYP\": \"I feel your pain\",\n",
        "    \"TNTL\": \"Trying not to laugh\",\n",
        "    \"JK\": \"Just kidding\",\n",
        "    \"IDC\": \"I don't care\",\n",
        "    \"ILY\": \"I love you\",\n",
        "    \"IMU\": \"I miss you\",\n",
        "    \"ADIH\": \"Another day in hell\",\n",
        "    \"ZZZ\": \"Sleeping, bored, tired\",\n",
        "    \"WYWH\": \"Wish you were here\",\n",
        "    \"TIME\": \"Tears in my eyes\",\n",
        "    \"BAE\": \"Before anyone else\",\n",
        "    \"FIMH\": \"Forever in my heart\",\n",
        "    \"BSAAW\": \"Big smile and a wink\",\n",
        "    \"BWL\": \"Bursting with laughter\",\n",
        "    \"BFF\": \"Best friends forever\",\n",
        "    \"CSL\": \"Can't stop laughing\"\n",
        "}\n"
      ],
      "metadata": {
        "execution": {
          "iopub.status.busy": "2024-09-04T02:07:59.280061Z",
          "iopub.execute_input": "2024-09-04T02:07:59.280581Z",
          "iopub.status.idle": "2024-09-04T02:07:59.294506Z",
          "shell.execute_reply.started": "2024-09-04T02:07:59.280549Z",
          "shell.execute_reply": "2024-09-04T02:07:59.293377Z"
        },
        "trusted": true,
        "id": "ChlCB6Lfpc9T"
      },
      "execution_count": 50,
      "outputs": []
    },
    {
      "cell_type": "markdown",
      "source": [
        "***The code defines a function, chat_conversion, that replaces text with their corresponding chat acronyms from a predefined dictionary. It iterates through each word in the input text, checks if it exists in the dictionary, and replaces it if found. The modified text is then returned.***"
      ],
      "metadata": {
        "id": "ff3B51OXpc9U"
      }
    },
    {
      "cell_type": "code",
      "source": [
        "# Function\n",
        "def chat_conversion(text):\n",
        "    new_text = []\n",
        "    for i in text.split():\n",
        "        if i.upper() in chat_words:\n",
        "            new_text.append(chat_words[i.upper()])\n",
        "        else:\n",
        "            new_text.append(i)\n",
        "    return \" \".join(new_text)"
      ],
      "metadata": {
        "execution": {
          "iopub.status.busy": "2024-09-04T02:08:04.532081Z",
          "iopub.execute_input": "2024-09-04T02:08:04.533144Z",
          "iopub.status.idle": "2024-09-04T02:08:04.539145Z",
          "shell.execute_reply.started": "2024-09-04T02:08:04.533106Z",
          "shell.execute_reply": "2024-09-04T02:08:04.537909Z"
        },
        "trusted": true,
        "id": "mJcrUOJOpc9U"
      },
      "execution_count": 51,
      "outputs": []
    },
    {
      "cell_type": "code",
      "source": [
        "# Text\n",
        "text = 'IMHO he is the best'\n",
        "text1 = 'FYI Islamabad is the capital of Pakistan'\n",
        "# Calling function\n",
        "print(chat_conversion(text))\n",
        "print(chat_conversion(text1))"
      ],
      "metadata": {
        "execution": {
          "iopub.status.busy": "2024-09-04T02:08:07.036980Z",
          "iopub.execute_input": "2024-09-04T02:08:07.038047Z",
          "iopub.status.idle": "2024-09-04T02:08:07.044050Z",
          "shell.execute_reply.started": "2024-09-04T02:08:07.038009Z",
          "shell.execute_reply": "2024-09-04T02:08:07.042921Z"
        },
        "trusted": true,
        "id": "NLa9BBlFpc9Y",
        "outputId": "bf24bcc7-39ac-40fc-99a4-04dde10338c7",
        "colab": {
          "base_uri": "https://localhost:8080/"
        }
      },
      "execution_count": 52,
      "outputs": [
        {
          "output_type": "stream",
          "name": "stdout",
          "text": [
            "In My Honest/Humble Opinion he is the best\n",
            "For Your Information Islamabad is the capital of Pakistan\n"
          ]
        }
      ]
    },
    {
      "cell_type": "code",
      "source": [
        "df['review'] = df['review'].apply(chat_conversion)\n",
        "df"
      ],
      "metadata": {
        "execution": {
          "iopub.status.busy": "2024-09-04T02:08:09.496397Z",
          "iopub.execute_input": "2024-09-04T02:08:09.497179Z",
          "iopub.status.idle": "2024-09-04T02:08:09.591615Z",
          "shell.execute_reply.started": "2024-09-04T02:08:09.497142Z",
          "shell.execute_reply": "2024-09-04T02:08:09.590515Z"
        },
        "trusted": true,
        "id": "JxvklME4pc9Y",
        "outputId": "309a5870-505a-4e23-b7c9-70d0cbcded02",
        "colab": {
          "base_uri": "https://localhost:8080/",
          "height": 423
        }
      },
      "execution_count": 53,
      "outputs": [
        {
          "output_type": "execute_result",
          "data": {
            "text/plain": [
              "                                                  review  Sentiment\n",
              "0      just had a real good moment i missssssssss him...          0\n",
              "1                                       is reading manga          0\n",
              "2                                           comeagainjen          0\n",
              "3      lapcat need to send em to my accountant tomorr...          0\n",
              "4                add me on myspace myspacecomlookthunder          0\n",
              "...                                                  ...        ...\n",
              "10309  no depression by g herbo is my mood from now o...          1\n",
              "10310  what do you do when depression succumbs the br...          1\n",
              "10311  ketamine nasal spray shows promise against dep...          1\n",
              "10312  dont mistake a bad day with depression everyon...          1\n",
              "10313                                                  0          1\n",
              "\n",
              "[10314 rows x 2 columns]"
            ],
            "text/html": [
              "\n",
              "  <div id=\"df-ff08b8b6-adce-4aab-8e0f-70c2fc98abbf\" class=\"colab-df-container\">\n",
              "    <div>\n",
              "<style scoped>\n",
              "    .dataframe tbody tr th:only-of-type {\n",
              "        vertical-align: middle;\n",
              "    }\n",
              "\n",
              "    .dataframe tbody tr th {\n",
              "        vertical-align: top;\n",
              "    }\n",
              "\n",
              "    .dataframe thead th {\n",
              "        text-align: right;\n",
              "    }\n",
              "</style>\n",
              "<table border=\"1\" class=\"dataframe\">\n",
              "  <thead>\n",
              "    <tr style=\"text-align: right;\">\n",
              "      <th></th>\n",
              "      <th>review</th>\n",
              "      <th>Sentiment</th>\n",
              "    </tr>\n",
              "  </thead>\n",
              "  <tbody>\n",
              "    <tr>\n",
              "      <th>0</th>\n",
              "      <td>just had a real good moment i missssssssss him...</td>\n",
              "      <td>0</td>\n",
              "    </tr>\n",
              "    <tr>\n",
              "      <th>1</th>\n",
              "      <td>is reading manga</td>\n",
              "      <td>0</td>\n",
              "    </tr>\n",
              "    <tr>\n",
              "      <th>2</th>\n",
              "      <td>comeagainjen</td>\n",
              "      <td>0</td>\n",
              "    </tr>\n",
              "    <tr>\n",
              "      <th>3</th>\n",
              "      <td>lapcat need to send em to my accountant tomorr...</td>\n",
              "      <td>0</td>\n",
              "    </tr>\n",
              "    <tr>\n",
              "      <th>4</th>\n",
              "      <td>add me on myspace myspacecomlookthunder</td>\n",
              "      <td>0</td>\n",
              "    </tr>\n",
              "    <tr>\n",
              "      <th>...</th>\n",
              "      <td>...</td>\n",
              "      <td>...</td>\n",
              "    </tr>\n",
              "    <tr>\n",
              "      <th>10309</th>\n",
              "      <td>no depression by g herbo is my mood from now o...</td>\n",
              "      <td>1</td>\n",
              "    </tr>\n",
              "    <tr>\n",
              "      <th>10310</th>\n",
              "      <td>what do you do when depression succumbs the br...</td>\n",
              "      <td>1</td>\n",
              "    </tr>\n",
              "    <tr>\n",
              "      <th>10311</th>\n",
              "      <td>ketamine nasal spray shows promise against dep...</td>\n",
              "      <td>1</td>\n",
              "    </tr>\n",
              "    <tr>\n",
              "      <th>10312</th>\n",
              "      <td>dont mistake a bad day with depression everyon...</td>\n",
              "      <td>1</td>\n",
              "    </tr>\n",
              "    <tr>\n",
              "      <th>10313</th>\n",
              "      <td>0</td>\n",
              "      <td>1</td>\n",
              "    </tr>\n",
              "  </tbody>\n",
              "</table>\n",
              "<p>10314 rows × 2 columns</p>\n",
              "</div>\n",
              "    <div class=\"colab-df-buttons\">\n",
              "\n",
              "  <div class=\"colab-df-container\">\n",
              "    <button class=\"colab-df-convert\" onclick=\"convertToInteractive('df-ff08b8b6-adce-4aab-8e0f-70c2fc98abbf')\"\n",
              "            title=\"Convert this dataframe to an interactive table.\"\n",
              "            style=\"display:none;\">\n",
              "\n",
              "  <svg xmlns=\"http://www.w3.org/2000/svg\" height=\"24px\" viewBox=\"0 -960 960 960\">\n",
              "    <path d=\"M120-120v-720h720v720H120Zm60-500h600v-160H180v160Zm220 220h160v-160H400v160Zm0 220h160v-160H400v160ZM180-400h160v-160H180v160Zm440 0h160v-160H620v160ZM180-180h160v-160H180v160Zm440 0h160v-160H620v160Z\"/>\n",
              "  </svg>\n",
              "    </button>\n",
              "\n",
              "  <style>\n",
              "    .colab-df-container {\n",
              "      display:flex;\n",
              "      gap: 12px;\n",
              "    }\n",
              "\n",
              "    .colab-df-convert {\n",
              "      background-color: #E8F0FE;\n",
              "      border: none;\n",
              "      border-radius: 50%;\n",
              "      cursor: pointer;\n",
              "      display: none;\n",
              "      fill: #1967D2;\n",
              "      height: 32px;\n",
              "      padding: 0 0 0 0;\n",
              "      width: 32px;\n",
              "    }\n",
              "\n",
              "    .colab-df-convert:hover {\n",
              "      background-color: #E2EBFA;\n",
              "      box-shadow: 0px 1px 2px rgba(60, 64, 67, 0.3), 0px 1px 3px 1px rgba(60, 64, 67, 0.15);\n",
              "      fill: #174EA6;\n",
              "    }\n",
              "\n",
              "    .colab-df-buttons div {\n",
              "      margin-bottom: 4px;\n",
              "    }\n",
              "\n",
              "    [theme=dark] .colab-df-convert {\n",
              "      background-color: #3B4455;\n",
              "      fill: #D2E3FC;\n",
              "    }\n",
              "\n",
              "    [theme=dark] .colab-df-convert:hover {\n",
              "      background-color: #434B5C;\n",
              "      box-shadow: 0px 1px 3px 1px rgba(0, 0, 0, 0.15);\n",
              "      filter: drop-shadow(0px 1px 2px rgba(0, 0, 0, 0.3));\n",
              "      fill: #FFFFFF;\n",
              "    }\n",
              "  </style>\n",
              "\n",
              "    <script>\n",
              "      const buttonEl =\n",
              "        document.querySelector('#df-ff08b8b6-adce-4aab-8e0f-70c2fc98abbf button.colab-df-convert');\n",
              "      buttonEl.style.display =\n",
              "        google.colab.kernel.accessAllowed ? 'block' : 'none';\n",
              "\n",
              "      async function convertToInteractive(key) {\n",
              "        const element = document.querySelector('#df-ff08b8b6-adce-4aab-8e0f-70c2fc98abbf');\n",
              "        const dataTable =\n",
              "          await google.colab.kernel.invokeFunction('convertToInteractive',\n",
              "                                                    [key], {});\n",
              "        if (!dataTable) return;\n",
              "\n",
              "        const docLinkHtml = 'Like what you see? Visit the ' +\n",
              "          '<a target=\"_blank\" href=https://colab.research.google.com/notebooks/data_table.ipynb>data table notebook</a>'\n",
              "          + ' to learn more about interactive tables.';\n",
              "        element.innerHTML = '';\n",
              "        dataTable['output_type'] = 'display_data';\n",
              "        await google.colab.output.renderOutput(dataTable, element);\n",
              "        const docLink = document.createElement('div');\n",
              "        docLink.innerHTML = docLinkHtml;\n",
              "        element.appendChild(docLink);\n",
              "      }\n",
              "    </script>\n",
              "  </div>\n",
              "\n",
              "\n",
              "    <div id=\"df-f3534c72-80b3-4967-9c66-69ac46977b28\">\n",
              "      <button class=\"colab-df-quickchart\" onclick=\"quickchart('df-f3534c72-80b3-4967-9c66-69ac46977b28')\"\n",
              "                title=\"Suggest charts\"\n",
              "                style=\"display:none;\">\n",
              "\n",
              "<svg xmlns=\"http://www.w3.org/2000/svg\" height=\"24px\"viewBox=\"0 0 24 24\"\n",
              "     width=\"24px\">\n",
              "    <g>\n",
              "        <path d=\"M19 3H5c-1.1 0-2 .9-2 2v14c0 1.1.9 2 2 2h14c1.1 0 2-.9 2-2V5c0-1.1-.9-2-2-2zM9 17H7v-7h2v7zm4 0h-2V7h2v10zm4 0h-2v-4h2v4z\"/>\n",
              "    </g>\n",
              "</svg>\n",
              "      </button>\n",
              "\n",
              "<style>\n",
              "  .colab-df-quickchart {\n",
              "      --bg-color: #E8F0FE;\n",
              "      --fill-color: #1967D2;\n",
              "      --hover-bg-color: #E2EBFA;\n",
              "      --hover-fill-color: #174EA6;\n",
              "      --disabled-fill-color: #AAA;\n",
              "      --disabled-bg-color: #DDD;\n",
              "  }\n",
              "\n",
              "  [theme=dark] .colab-df-quickchart {\n",
              "      --bg-color: #3B4455;\n",
              "      --fill-color: #D2E3FC;\n",
              "      --hover-bg-color: #434B5C;\n",
              "      --hover-fill-color: #FFFFFF;\n",
              "      --disabled-bg-color: #3B4455;\n",
              "      --disabled-fill-color: #666;\n",
              "  }\n",
              "\n",
              "  .colab-df-quickchart {\n",
              "    background-color: var(--bg-color);\n",
              "    border: none;\n",
              "    border-radius: 50%;\n",
              "    cursor: pointer;\n",
              "    display: none;\n",
              "    fill: var(--fill-color);\n",
              "    height: 32px;\n",
              "    padding: 0;\n",
              "    width: 32px;\n",
              "  }\n",
              "\n",
              "  .colab-df-quickchart:hover {\n",
              "    background-color: var(--hover-bg-color);\n",
              "    box-shadow: 0 1px 2px rgba(60, 64, 67, 0.3), 0 1px 3px 1px rgba(60, 64, 67, 0.15);\n",
              "    fill: var(--button-hover-fill-color);\n",
              "  }\n",
              "\n",
              "  .colab-df-quickchart-complete:disabled,\n",
              "  .colab-df-quickchart-complete:disabled:hover {\n",
              "    background-color: var(--disabled-bg-color);\n",
              "    fill: var(--disabled-fill-color);\n",
              "    box-shadow: none;\n",
              "  }\n",
              "\n",
              "  .colab-df-spinner {\n",
              "    border: 2px solid var(--fill-color);\n",
              "    border-color: transparent;\n",
              "    border-bottom-color: var(--fill-color);\n",
              "    animation:\n",
              "      spin 1s steps(1) infinite;\n",
              "  }\n",
              "\n",
              "  @keyframes spin {\n",
              "    0% {\n",
              "      border-color: transparent;\n",
              "      border-bottom-color: var(--fill-color);\n",
              "      border-left-color: var(--fill-color);\n",
              "    }\n",
              "    20% {\n",
              "      border-color: transparent;\n",
              "      border-left-color: var(--fill-color);\n",
              "      border-top-color: var(--fill-color);\n",
              "    }\n",
              "    30% {\n",
              "      border-color: transparent;\n",
              "      border-left-color: var(--fill-color);\n",
              "      border-top-color: var(--fill-color);\n",
              "      border-right-color: var(--fill-color);\n",
              "    }\n",
              "    40% {\n",
              "      border-color: transparent;\n",
              "      border-right-color: var(--fill-color);\n",
              "      border-top-color: var(--fill-color);\n",
              "    }\n",
              "    60% {\n",
              "      border-color: transparent;\n",
              "      border-right-color: var(--fill-color);\n",
              "    }\n",
              "    80% {\n",
              "      border-color: transparent;\n",
              "      border-right-color: var(--fill-color);\n",
              "      border-bottom-color: var(--fill-color);\n",
              "    }\n",
              "    90% {\n",
              "      border-color: transparent;\n",
              "      border-bottom-color: var(--fill-color);\n",
              "    }\n",
              "  }\n",
              "</style>\n",
              "\n",
              "      <script>\n",
              "        async function quickchart(key) {\n",
              "          const quickchartButtonEl =\n",
              "            document.querySelector('#' + key + ' button');\n",
              "          quickchartButtonEl.disabled = true;  // To prevent multiple clicks.\n",
              "          quickchartButtonEl.classList.add('colab-df-spinner');\n",
              "          try {\n",
              "            const charts = await google.colab.kernel.invokeFunction(\n",
              "                'suggestCharts', [key], {});\n",
              "          } catch (error) {\n",
              "            console.error('Error during call to suggestCharts:', error);\n",
              "          }\n",
              "          quickchartButtonEl.classList.remove('colab-df-spinner');\n",
              "          quickchartButtonEl.classList.add('colab-df-quickchart-complete');\n",
              "        }\n",
              "        (() => {\n",
              "          let quickchartButtonEl =\n",
              "            document.querySelector('#df-f3534c72-80b3-4967-9c66-69ac46977b28 button');\n",
              "          quickchartButtonEl.style.display =\n",
              "            google.colab.kernel.accessAllowed ? 'block' : 'none';\n",
              "        })();\n",
              "      </script>\n",
              "    </div>\n",
              "\n",
              "  <div id=\"id_7eab1dd5-88b1-4dc2-9e44-ea3fc2c0ec8e\">\n",
              "    <style>\n",
              "      .colab-df-generate {\n",
              "        background-color: #E8F0FE;\n",
              "        border: none;\n",
              "        border-radius: 50%;\n",
              "        cursor: pointer;\n",
              "        display: none;\n",
              "        fill: #1967D2;\n",
              "        height: 32px;\n",
              "        padding: 0 0 0 0;\n",
              "        width: 32px;\n",
              "      }\n",
              "\n",
              "      .colab-df-generate:hover {\n",
              "        background-color: #E2EBFA;\n",
              "        box-shadow: 0px 1px 2px rgba(60, 64, 67, 0.3), 0px 1px 3px 1px rgba(60, 64, 67, 0.15);\n",
              "        fill: #174EA6;\n",
              "      }\n",
              "\n",
              "      [theme=dark] .colab-df-generate {\n",
              "        background-color: #3B4455;\n",
              "        fill: #D2E3FC;\n",
              "      }\n",
              "\n",
              "      [theme=dark] .colab-df-generate:hover {\n",
              "        background-color: #434B5C;\n",
              "        box-shadow: 0px 1px 3px 1px rgba(0, 0, 0, 0.15);\n",
              "        filter: drop-shadow(0px 1px 2px rgba(0, 0, 0, 0.3));\n",
              "        fill: #FFFFFF;\n",
              "      }\n",
              "    </style>\n",
              "    <button class=\"colab-df-generate\" onclick=\"generateWithVariable('df')\"\n",
              "            title=\"Generate code using this dataframe.\"\n",
              "            style=\"display:none;\">\n",
              "\n",
              "  <svg xmlns=\"http://www.w3.org/2000/svg\" height=\"24px\"viewBox=\"0 0 24 24\"\n",
              "       width=\"24px\">\n",
              "    <path d=\"M7,19H8.4L18.45,9,17,7.55,7,17.6ZM5,21V16.75L18.45,3.32a2,2,0,0,1,2.83,0l1.4,1.43a1.91,1.91,0,0,1,.58,1.4,1.91,1.91,0,0,1-.58,1.4L9.25,21ZM18.45,9,17,7.55Zm-12,3A5.31,5.31,0,0,0,4.9,8.1,5.31,5.31,0,0,0,1,6.5,5.31,5.31,0,0,0,4.9,4.9,5.31,5.31,0,0,0,6.5,1,5.31,5.31,0,0,0,8.1,4.9,5.31,5.31,0,0,0,12,6.5,5.46,5.46,0,0,0,6.5,12Z\"/>\n",
              "  </svg>\n",
              "    </button>\n",
              "    <script>\n",
              "      (() => {\n",
              "      const buttonEl =\n",
              "        document.querySelector('#id_7eab1dd5-88b1-4dc2-9e44-ea3fc2c0ec8e button.colab-df-generate');\n",
              "      buttonEl.style.display =\n",
              "        google.colab.kernel.accessAllowed ? 'block' : 'none';\n",
              "\n",
              "      buttonEl.onclick = () => {\n",
              "        google.colab.notebook.generateWithVariable('df');\n",
              "      }\n",
              "      })();\n",
              "    </script>\n",
              "  </div>\n",
              "\n",
              "    </div>\n",
              "  </div>\n"
            ],
            "application/vnd.google.colaboratory.intrinsic+json": {
              "type": "dataframe",
              "variable_name": "df",
              "summary": "{\n  \"name\": \"df\",\n  \"rows\": 10314,\n  \"fields\": [\n    {\n      \"column\": \"review\",\n      \"properties\": {\n        \"dtype\": \"string\",\n        \"num_unique_values\": 10239,\n        \"samples\": [\n          \"doesnt know what to do s thinks paramore should come to newcastle very soon\",\n          \"hey its been a while just updating mywebsite\",\n          \"25 manipedi denovo only for today offer good for one year enjoy ladies\"\n        ],\n        \"semantic_type\": \"\",\n        \"description\": \"\"\n      }\n    },\n    {\n      \"column\": \"Sentiment\",\n      \"properties\": {\n        \"dtype\": \"number\",\n        \"std\": 0,\n        \"min\": 0,\n        \"max\": 1,\n        \"num_unique_values\": 2,\n        \"samples\": [\n          1,\n          0\n        ],\n        \"semantic_type\": \"\",\n        \"description\": \"\"\n      }\n    }\n  ]\n}"
            }
          },
          "metadata": {},
          "execution_count": 53
        }
      ]
    },
    {
      "cell_type": "markdown",
      "source": [
        "***Well this is how we Handle ChatWords in Our Data Simple u have to call the above Function.***"
      ],
      "metadata": {
        "id": "deKxj2qPpc9Y"
      }
    },
    {
      "cell_type": "markdown",
      "source": [
        "# <p style=\"font-family:newtimeroman;font-size:150%;text-align:center;color:#8b4513;\">6. Spelling Correction</p>\n",
        "\n",
        "\n",
        "***Spelling correction is a crucial aspect of NLP text preprocessing to enhance data quality and improve model performance. It addresses errors in text caused by typographical mistakes, irregularities, or variations in spelling. Correcting spelling errors ensures consistency and accuracy in the dataset, reducing ambiguity and improving the reliability of NLP tasks like sentiment analysis, machine translation, and information retrieval. By standardizing spelling across the dataset, models can better understand and process text, leading to more precise and reliable results in natural language processing applications.***"
      ],
      "metadata": {
        "id": "cycA73Hypc9Y"
      }
    },
    {
      "cell_type": "code",
      "source": [
        "# Import this Library to Handle the Spelling Issue.\n",
        "from textblob import TextBlob"
      ],
      "metadata": {
        "execution": {
          "iopub.status.busy": "2024-09-03T15:30:16.645576Z",
          "iopub.execute_input": "2024-09-03T15:30:16.646803Z",
          "iopub.status.idle": "2024-09-03T15:30:18.291196Z",
          "shell.execute_reply.started": "2024-09-03T15:30:16.646755Z",
          "shell.execute_reply": "2024-09-03T15:30:18.289993Z"
        },
        "trusted": true,
        "id": "A0KZKP2Fpc9Y"
      },
      "execution_count": 54,
      "outputs": []
    },
    {
      "cell_type": "code",
      "source": [
        "from textblob import TextBlob\n",
        "\n",
        "# Text with spelling mistakes\n",
        "text = \"I havv a speling errror\"\n",
        "blob = TextBlob(text)\n",
        "\n",
        "# Correct spelling\n",
        "corrected_text = blob.correct()\n",
        "print(corrected_text)\n"
      ],
      "metadata": {
        "colab": {
          "base_uri": "https://localhost:8080/"
        },
        "id": "KCmez3AAyNeh",
        "outputId": "15764950-b356-46b1-b57e-38297ca90d39"
      },
      "execution_count": 55,
      "outputs": [
        {
          "output_type": "stream",
          "name": "stdout",
          "text": [
            "I have a spelling error\n"
          ]
        }
      ]
    },
    {
      "cell_type": "code",
      "source": [
        "# Incorrect text\n",
        "incorrect_text = 'ceertain conditionas duriing seveal ggenerations aree moodified in the saame maner.'\n",
        "print(incorrect_text)\n",
        "# Text 2\n",
        "incorrect_text2 = 'The cat sat on the cuchion. while plyaiing'\n",
        "# Calling function\n",
        "textBlb = TextBlob(incorrect_text)\n",
        "textBlb1 = TextBlob(incorrect_text2)\n",
        "# Corrected Text\n",
        "print(textBlb.correct().string)\n",
        "print(\"======================================\")\n",
        "print(incorrect_text2)\n",
        "print(\"======================================\")\n",
        "print(textBlb1.correct().string)"
      ],
      "metadata": {
        "execution": {
          "iopub.status.busy": "2024-09-03T15:31:29.771120Z",
          "iopub.execute_input": "2024-09-03T15:31:29.772349Z",
          "iopub.status.idle": "2024-09-03T15:31:30.192746Z",
          "shell.execute_reply.started": "2024-09-03T15:31:29.772304Z",
          "shell.execute_reply": "2024-09-03T15:31:30.191270Z"
        },
        "trusted": true,
        "id": "OFGsIXMCpc9Y",
        "outputId": "151f8846-853f-483c-9404-ae79c59becb0",
        "colab": {
          "base_uri": "https://localhost:8080/"
        }
      },
      "execution_count": 56,
      "outputs": [
        {
          "output_type": "stream",
          "name": "stdout",
          "text": [
            "ceertain conditionas duriing seveal ggenerations aree moodified in the saame maner.\n",
            "certain conditions during several generations are modified in the same manner.\n",
            "======================================\n",
            "The cat sat on the cuchion. while plyaiing\n",
            "======================================\n",
            "The cat sat on the cushion. while playing\n"
          ]
        }
      ]
    },
    {
      "cell_type": "code",
      "source": [
        "def correct_text(text):\n",
        "    textBlb = TextBlob(text)\n",
        "    return textBlb.correct().string"
      ],
      "metadata": {
        "execution": {
          "iopub.status.busy": "2024-09-03T15:31:32.627429Z",
          "iopub.execute_input": "2024-09-03T15:31:32.627938Z",
          "iopub.status.idle": "2024-09-03T15:31:32.633459Z",
          "shell.execute_reply.started": "2024-09-03T15:31:32.627903Z",
          "shell.execute_reply": "2024-09-03T15:31:32.632186Z"
        },
        "trusted": true,
        "id": "joSl9u87pc9Y"
      },
      "execution_count": 57,
      "outputs": []
    },
    {
      "cell_type": "code",
      "source": [
        "correct_text(incorrect_text2)"
      ],
      "metadata": {
        "execution": {
          "iopub.status.busy": "2024-09-03T15:31:43.964433Z",
          "iopub.execute_input": "2024-09-03T15:31:43.964966Z",
          "iopub.status.idle": "2024-09-03T15:31:44.370388Z",
          "shell.execute_reply.started": "2024-09-03T15:31:43.964929Z",
          "shell.execute_reply": "2024-09-03T15:31:44.369257Z"
        },
        "trusted": true,
        "id": "XtxQYxYCpc9Z",
        "outputId": "d915a5d9-565b-4981-f2a1-59e75963f8ed",
        "colab": {
          "base_uri": "https://localhost:8080/",
          "height": 35
        }
      },
      "execution_count": 58,
      "outputs": [
        {
          "output_type": "execute_result",
          "data": {
            "text/plain": [
              "'The cat sat on the cushion. while playing'"
            ],
            "application/vnd.google.colaboratory.intrinsic+json": {
              "type": "string"
            }
          },
          "metadata": {},
          "execution_count": 58
        }
      ]
    },
    {
      "cell_type": "code",
      "source": [
        "# df['review'] = df['review'].apply(correct_text)\n",
        "df"
      ],
      "metadata": {
        "execution": {
          "iopub.status.busy": "2024-09-03T16:01:36.818742Z",
          "iopub.execute_input": "2024-09-03T16:01:36.819281Z",
          "iopub.status.idle": "2024-09-03T16:01:36.835090Z",
          "shell.execute_reply.started": "2024-09-03T16:01:36.819238Z",
          "shell.execute_reply": "2024-09-03T16:01:36.833862Z"
        },
        "trusted": true,
        "id": "_p32NH4lpc9Z",
        "outputId": "5806b30c-5a0c-4a64-e975-ef27e994fd7b",
        "colab": {
          "base_uri": "https://localhost:8080/",
          "height": 423
        }
      },
      "execution_count": 59,
      "outputs": [
        {
          "output_type": "execute_result",
          "data": {
            "text/plain": [
              "                                                  review  Sentiment\n",
              "0      just had a real good moment i missssssssss him...          0\n",
              "1                                       is reading manga          0\n",
              "2                                           comeagainjen          0\n",
              "3      lapcat need to send em to my accountant tomorr...          0\n",
              "4                add me on myspace myspacecomlookthunder          0\n",
              "...                                                  ...        ...\n",
              "10309  no depression by g herbo is my mood from now o...          1\n",
              "10310  what do you do when depression succumbs the br...          1\n",
              "10311  ketamine nasal spray shows promise against dep...          1\n",
              "10312  dont mistake a bad day with depression everyon...          1\n",
              "10313                                                  0          1\n",
              "\n",
              "[10314 rows x 2 columns]"
            ],
            "text/html": [
              "\n",
              "  <div id=\"df-f9891227-311a-491c-9ece-b23767d41529\" class=\"colab-df-container\">\n",
              "    <div>\n",
              "<style scoped>\n",
              "    .dataframe tbody tr th:only-of-type {\n",
              "        vertical-align: middle;\n",
              "    }\n",
              "\n",
              "    .dataframe tbody tr th {\n",
              "        vertical-align: top;\n",
              "    }\n",
              "\n",
              "    .dataframe thead th {\n",
              "        text-align: right;\n",
              "    }\n",
              "</style>\n",
              "<table border=\"1\" class=\"dataframe\">\n",
              "  <thead>\n",
              "    <tr style=\"text-align: right;\">\n",
              "      <th></th>\n",
              "      <th>review</th>\n",
              "      <th>Sentiment</th>\n",
              "    </tr>\n",
              "  </thead>\n",
              "  <tbody>\n",
              "    <tr>\n",
              "      <th>0</th>\n",
              "      <td>just had a real good moment i missssssssss him...</td>\n",
              "      <td>0</td>\n",
              "    </tr>\n",
              "    <tr>\n",
              "      <th>1</th>\n",
              "      <td>is reading manga</td>\n",
              "      <td>0</td>\n",
              "    </tr>\n",
              "    <tr>\n",
              "      <th>2</th>\n",
              "      <td>comeagainjen</td>\n",
              "      <td>0</td>\n",
              "    </tr>\n",
              "    <tr>\n",
              "      <th>3</th>\n",
              "      <td>lapcat need to send em to my accountant tomorr...</td>\n",
              "      <td>0</td>\n",
              "    </tr>\n",
              "    <tr>\n",
              "      <th>4</th>\n",
              "      <td>add me on myspace myspacecomlookthunder</td>\n",
              "      <td>0</td>\n",
              "    </tr>\n",
              "    <tr>\n",
              "      <th>...</th>\n",
              "      <td>...</td>\n",
              "      <td>...</td>\n",
              "    </tr>\n",
              "    <tr>\n",
              "      <th>10309</th>\n",
              "      <td>no depression by g herbo is my mood from now o...</td>\n",
              "      <td>1</td>\n",
              "    </tr>\n",
              "    <tr>\n",
              "      <th>10310</th>\n",
              "      <td>what do you do when depression succumbs the br...</td>\n",
              "      <td>1</td>\n",
              "    </tr>\n",
              "    <tr>\n",
              "      <th>10311</th>\n",
              "      <td>ketamine nasal spray shows promise against dep...</td>\n",
              "      <td>1</td>\n",
              "    </tr>\n",
              "    <tr>\n",
              "      <th>10312</th>\n",
              "      <td>dont mistake a bad day with depression everyon...</td>\n",
              "      <td>1</td>\n",
              "    </tr>\n",
              "    <tr>\n",
              "      <th>10313</th>\n",
              "      <td>0</td>\n",
              "      <td>1</td>\n",
              "    </tr>\n",
              "  </tbody>\n",
              "</table>\n",
              "<p>10314 rows × 2 columns</p>\n",
              "</div>\n",
              "    <div class=\"colab-df-buttons\">\n",
              "\n",
              "  <div class=\"colab-df-container\">\n",
              "    <button class=\"colab-df-convert\" onclick=\"convertToInteractive('df-f9891227-311a-491c-9ece-b23767d41529')\"\n",
              "            title=\"Convert this dataframe to an interactive table.\"\n",
              "            style=\"display:none;\">\n",
              "\n",
              "  <svg xmlns=\"http://www.w3.org/2000/svg\" height=\"24px\" viewBox=\"0 -960 960 960\">\n",
              "    <path d=\"M120-120v-720h720v720H120Zm60-500h600v-160H180v160Zm220 220h160v-160H400v160Zm0 220h160v-160H400v160ZM180-400h160v-160H180v160Zm440 0h160v-160H620v160ZM180-180h160v-160H180v160Zm440 0h160v-160H620v160Z\"/>\n",
              "  </svg>\n",
              "    </button>\n",
              "\n",
              "  <style>\n",
              "    .colab-df-container {\n",
              "      display:flex;\n",
              "      gap: 12px;\n",
              "    }\n",
              "\n",
              "    .colab-df-convert {\n",
              "      background-color: #E8F0FE;\n",
              "      border: none;\n",
              "      border-radius: 50%;\n",
              "      cursor: pointer;\n",
              "      display: none;\n",
              "      fill: #1967D2;\n",
              "      height: 32px;\n",
              "      padding: 0 0 0 0;\n",
              "      width: 32px;\n",
              "    }\n",
              "\n",
              "    .colab-df-convert:hover {\n",
              "      background-color: #E2EBFA;\n",
              "      box-shadow: 0px 1px 2px rgba(60, 64, 67, 0.3), 0px 1px 3px 1px rgba(60, 64, 67, 0.15);\n",
              "      fill: #174EA6;\n",
              "    }\n",
              "\n",
              "    .colab-df-buttons div {\n",
              "      margin-bottom: 4px;\n",
              "    }\n",
              "\n",
              "    [theme=dark] .colab-df-convert {\n",
              "      background-color: #3B4455;\n",
              "      fill: #D2E3FC;\n",
              "    }\n",
              "\n",
              "    [theme=dark] .colab-df-convert:hover {\n",
              "      background-color: #434B5C;\n",
              "      box-shadow: 0px 1px 3px 1px rgba(0, 0, 0, 0.15);\n",
              "      filter: drop-shadow(0px 1px 2px rgba(0, 0, 0, 0.3));\n",
              "      fill: #FFFFFF;\n",
              "    }\n",
              "  </style>\n",
              "\n",
              "    <script>\n",
              "      const buttonEl =\n",
              "        document.querySelector('#df-f9891227-311a-491c-9ece-b23767d41529 button.colab-df-convert');\n",
              "      buttonEl.style.display =\n",
              "        google.colab.kernel.accessAllowed ? 'block' : 'none';\n",
              "\n",
              "      async function convertToInteractive(key) {\n",
              "        const element = document.querySelector('#df-f9891227-311a-491c-9ece-b23767d41529');\n",
              "        const dataTable =\n",
              "          await google.colab.kernel.invokeFunction('convertToInteractive',\n",
              "                                                    [key], {});\n",
              "        if (!dataTable) return;\n",
              "\n",
              "        const docLinkHtml = 'Like what you see? Visit the ' +\n",
              "          '<a target=\"_blank\" href=https://colab.research.google.com/notebooks/data_table.ipynb>data table notebook</a>'\n",
              "          + ' to learn more about interactive tables.';\n",
              "        element.innerHTML = '';\n",
              "        dataTable['output_type'] = 'display_data';\n",
              "        await google.colab.output.renderOutput(dataTable, element);\n",
              "        const docLink = document.createElement('div');\n",
              "        docLink.innerHTML = docLinkHtml;\n",
              "        element.appendChild(docLink);\n",
              "      }\n",
              "    </script>\n",
              "  </div>\n",
              "\n",
              "\n",
              "    <div id=\"df-e7f2ed1b-b79a-4838-89f9-d42e243208d6\">\n",
              "      <button class=\"colab-df-quickchart\" onclick=\"quickchart('df-e7f2ed1b-b79a-4838-89f9-d42e243208d6')\"\n",
              "                title=\"Suggest charts\"\n",
              "                style=\"display:none;\">\n",
              "\n",
              "<svg xmlns=\"http://www.w3.org/2000/svg\" height=\"24px\"viewBox=\"0 0 24 24\"\n",
              "     width=\"24px\">\n",
              "    <g>\n",
              "        <path d=\"M19 3H5c-1.1 0-2 .9-2 2v14c0 1.1.9 2 2 2h14c1.1 0 2-.9 2-2V5c0-1.1-.9-2-2-2zM9 17H7v-7h2v7zm4 0h-2V7h2v10zm4 0h-2v-4h2v4z\"/>\n",
              "    </g>\n",
              "</svg>\n",
              "      </button>\n",
              "\n",
              "<style>\n",
              "  .colab-df-quickchart {\n",
              "      --bg-color: #E8F0FE;\n",
              "      --fill-color: #1967D2;\n",
              "      --hover-bg-color: #E2EBFA;\n",
              "      --hover-fill-color: #174EA6;\n",
              "      --disabled-fill-color: #AAA;\n",
              "      --disabled-bg-color: #DDD;\n",
              "  }\n",
              "\n",
              "  [theme=dark] .colab-df-quickchart {\n",
              "      --bg-color: #3B4455;\n",
              "      --fill-color: #D2E3FC;\n",
              "      --hover-bg-color: #434B5C;\n",
              "      --hover-fill-color: #FFFFFF;\n",
              "      --disabled-bg-color: #3B4455;\n",
              "      --disabled-fill-color: #666;\n",
              "  }\n",
              "\n",
              "  .colab-df-quickchart {\n",
              "    background-color: var(--bg-color);\n",
              "    border: none;\n",
              "    border-radius: 50%;\n",
              "    cursor: pointer;\n",
              "    display: none;\n",
              "    fill: var(--fill-color);\n",
              "    height: 32px;\n",
              "    padding: 0;\n",
              "    width: 32px;\n",
              "  }\n",
              "\n",
              "  .colab-df-quickchart:hover {\n",
              "    background-color: var(--hover-bg-color);\n",
              "    box-shadow: 0 1px 2px rgba(60, 64, 67, 0.3), 0 1px 3px 1px rgba(60, 64, 67, 0.15);\n",
              "    fill: var(--button-hover-fill-color);\n",
              "  }\n",
              "\n",
              "  .colab-df-quickchart-complete:disabled,\n",
              "  .colab-df-quickchart-complete:disabled:hover {\n",
              "    background-color: var(--disabled-bg-color);\n",
              "    fill: var(--disabled-fill-color);\n",
              "    box-shadow: none;\n",
              "  }\n",
              "\n",
              "  .colab-df-spinner {\n",
              "    border: 2px solid var(--fill-color);\n",
              "    border-color: transparent;\n",
              "    border-bottom-color: var(--fill-color);\n",
              "    animation:\n",
              "      spin 1s steps(1) infinite;\n",
              "  }\n",
              "\n",
              "  @keyframes spin {\n",
              "    0% {\n",
              "      border-color: transparent;\n",
              "      border-bottom-color: var(--fill-color);\n",
              "      border-left-color: var(--fill-color);\n",
              "    }\n",
              "    20% {\n",
              "      border-color: transparent;\n",
              "      border-left-color: var(--fill-color);\n",
              "      border-top-color: var(--fill-color);\n",
              "    }\n",
              "    30% {\n",
              "      border-color: transparent;\n",
              "      border-left-color: var(--fill-color);\n",
              "      border-top-color: var(--fill-color);\n",
              "      border-right-color: var(--fill-color);\n",
              "    }\n",
              "    40% {\n",
              "      border-color: transparent;\n",
              "      border-right-color: var(--fill-color);\n",
              "      border-top-color: var(--fill-color);\n",
              "    }\n",
              "    60% {\n",
              "      border-color: transparent;\n",
              "      border-right-color: var(--fill-color);\n",
              "    }\n",
              "    80% {\n",
              "      border-color: transparent;\n",
              "      border-right-color: var(--fill-color);\n",
              "      border-bottom-color: var(--fill-color);\n",
              "    }\n",
              "    90% {\n",
              "      border-color: transparent;\n",
              "      border-bottom-color: var(--fill-color);\n",
              "    }\n",
              "  }\n",
              "</style>\n",
              "\n",
              "      <script>\n",
              "        async function quickchart(key) {\n",
              "          const quickchartButtonEl =\n",
              "            document.querySelector('#' + key + ' button');\n",
              "          quickchartButtonEl.disabled = true;  // To prevent multiple clicks.\n",
              "          quickchartButtonEl.classList.add('colab-df-spinner');\n",
              "          try {\n",
              "            const charts = await google.colab.kernel.invokeFunction(\n",
              "                'suggestCharts', [key], {});\n",
              "          } catch (error) {\n",
              "            console.error('Error during call to suggestCharts:', error);\n",
              "          }\n",
              "          quickchartButtonEl.classList.remove('colab-df-spinner');\n",
              "          quickchartButtonEl.classList.add('colab-df-quickchart-complete');\n",
              "        }\n",
              "        (() => {\n",
              "          let quickchartButtonEl =\n",
              "            document.querySelector('#df-e7f2ed1b-b79a-4838-89f9-d42e243208d6 button');\n",
              "          quickchartButtonEl.style.display =\n",
              "            google.colab.kernel.accessAllowed ? 'block' : 'none';\n",
              "        })();\n",
              "      </script>\n",
              "    </div>\n",
              "\n",
              "  <div id=\"id_fd6a106b-a130-4e53-8136-8ef5e71a6c75\">\n",
              "    <style>\n",
              "      .colab-df-generate {\n",
              "        background-color: #E8F0FE;\n",
              "        border: none;\n",
              "        border-radius: 50%;\n",
              "        cursor: pointer;\n",
              "        display: none;\n",
              "        fill: #1967D2;\n",
              "        height: 32px;\n",
              "        padding: 0 0 0 0;\n",
              "        width: 32px;\n",
              "      }\n",
              "\n",
              "      .colab-df-generate:hover {\n",
              "        background-color: #E2EBFA;\n",
              "        box-shadow: 0px 1px 2px rgba(60, 64, 67, 0.3), 0px 1px 3px 1px rgba(60, 64, 67, 0.15);\n",
              "        fill: #174EA6;\n",
              "      }\n",
              "\n",
              "      [theme=dark] .colab-df-generate {\n",
              "        background-color: #3B4455;\n",
              "        fill: #D2E3FC;\n",
              "      }\n",
              "\n",
              "      [theme=dark] .colab-df-generate:hover {\n",
              "        background-color: #434B5C;\n",
              "        box-shadow: 0px 1px 3px 1px rgba(0, 0, 0, 0.15);\n",
              "        filter: drop-shadow(0px 1px 2px rgba(0, 0, 0, 0.3));\n",
              "        fill: #FFFFFF;\n",
              "      }\n",
              "    </style>\n",
              "    <button class=\"colab-df-generate\" onclick=\"generateWithVariable('df')\"\n",
              "            title=\"Generate code using this dataframe.\"\n",
              "            style=\"display:none;\">\n",
              "\n",
              "  <svg xmlns=\"http://www.w3.org/2000/svg\" height=\"24px\"viewBox=\"0 0 24 24\"\n",
              "       width=\"24px\">\n",
              "    <path d=\"M7,19H8.4L18.45,9,17,7.55,7,17.6ZM5,21V16.75L18.45,3.32a2,2,0,0,1,2.83,0l1.4,1.43a1.91,1.91,0,0,1,.58,1.4,1.91,1.91,0,0,1-.58,1.4L9.25,21ZM18.45,9,17,7.55Zm-12,3A5.31,5.31,0,0,0,4.9,8.1,5.31,5.31,0,0,0,1,6.5,5.31,5.31,0,0,0,4.9,4.9,5.31,5.31,0,0,0,6.5,1,5.31,5.31,0,0,0,8.1,4.9,5.31,5.31,0,0,0,12,6.5,5.46,5.46,0,0,0,6.5,12Z\"/>\n",
              "  </svg>\n",
              "    </button>\n",
              "    <script>\n",
              "      (() => {\n",
              "      const buttonEl =\n",
              "        document.querySelector('#id_fd6a106b-a130-4e53-8136-8ef5e71a6c75 button.colab-df-generate');\n",
              "      buttonEl.style.display =\n",
              "        google.colab.kernel.accessAllowed ? 'block' : 'none';\n",
              "\n",
              "      buttonEl.onclick = () => {\n",
              "        google.colab.notebook.generateWithVariable('df');\n",
              "      }\n",
              "      })();\n",
              "    </script>\n",
              "  </div>\n",
              "\n",
              "    </div>\n",
              "  </div>\n"
            ],
            "application/vnd.google.colaboratory.intrinsic+json": {
              "type": "dataframe",
              "variable_name": "df",
              "summary": "{\n  \"name\": \"df\",\n  \"rows\": 10314,\n  \"fields\": [\n    {\n      \"column\": \"review\",\n      \"properties\": {\n        \"dtype\": \"string\",\n        \"num_unique_values\": 10239,\n        \"samples\": [\n          \"doesnt know what to do s thinks paramore should come to newcastle very soon\",\n          \"hey its been a while just updating mywebsite\",\n          \"25 manipedi denovo only for today offer good for one year enjoy ladies\"\n        ],\n        \"semantic_type\": \"\",\n        \"description\": \"\"\n      }\n    },\n    {\n      \"column\": \"Sentiment\",\n      \"properties\": {\n        \"dtype\": \"number\",\n        \"std\": 0,\n        \"min\": 0,\n        \"max\": 1,\n        \"num_unique_values\": 2,\n        \"samples\": [\n          1,\n          0\n        ],\n        \"semantic_type\": \"\",\n        \"description\": \"\"\n      }\n    }\n  ]\n}"
            }
          },
          "metadata": {},
          "execution_count": 59
        }
      ]
    },
    {
      "cell_type": "markdown",
      "source": [
        "***Well The Library is Doing Great Job and Handling the Spelling Mistakes , Well u can Use the same Process to Handle the Full corpus.***"
      ],
      "metadata": {
        "id": "TnsHCldxpc9Z"
      }
    },
    {
      "cell_type": "markdown",
      "source": [
        "# <p style=\"font-family:newtimeroman;font-size:150%;text-align:center;color:#8b4513;\">7. Handling StopWords</p>\n",
        "\n",
        "***In NLP text preprocessing, removing stop words is crucial to enhance the quality and efficiency of analysis. Stop words are common words like \"the,\" \"is,\" and \"and,\" which appear frequently in text but carry little semantic meaning. By eliminating stop words, we reduce noise in the data, decrease the dimensionality of the dataset, and improve the accuracy of NLP tasks such as sentiment analysis, topic modeling, and text classification. This process streamlines the analysis by focusing on the significant words that carry more meaningful information, leading to better model performance and interpretation of results.***"
      ],
      "metadata": {
        "id": "FSj4Nro_pc9Z"
      }
    },
    {
      "cell_type": "code",
      "source": [
        "# We use NLTK library to remove Stopwords.\n",
        "from nltk.corpus import stopwords\n",
        "import nltk"
      ],
      "metadata": {
        "execution": {
          "iopub.status.busy": "2024-09-04T02:08:19.864575Z",
          "iopub.execute_input": "2024-09-04T02:08:19.865192Z",
          "iopub.status.idle": "2024-09-04T02:08:21.161008Z",
          "shell.execute_reply.started": "2024-09-04T02:08:19.865150Z",
          "shell.execute_reply": "2024-09-04T02:08:21.159920Z"
        },
        "trusted": true,
        "id": "BG9R8lpNpc9Z"
      },
      "execution_count": 60,
      "outputs": []
    },
    {
      "cell_type": "code",
      "source": [
        "nltk.download('stopwords')"
      ],
      "metadata": {
        "colab": {
          "base_uri": "https://localhost:8080/"
        },
        "id": "cACzrM_qz9Qp",
        "outputId": "61c38704-1a8b-4571-b6e7-b5c591dcbdcb"
      },
      "execution_count": 61,
      "outputs": [
        {
          "output_type": "stream",
          "name": "stderr",
          "text": [
            "[nltk_data] Downloading package stopwords to /root/nltk_data...\n",
            "[nltk_data]   Unzipping corpora/stopwords.zip.\n"
          ]
        },
        {
          "output_type": "execute_result",
          "data": {
            "text/plain": [
              "True"
            ]
          },
          "metadata": {},
          "execution_count": 61
        }
      ]
    },
    {
      "cell_type": "code",
      "source": [
        "# Here we can see all the stopwords in English.However we can chose different Languages also like spanish etc.\n",
        "stopword = stopwords.words('english')"
      ],
      "metadata": {
        "execution": {
          "iopub.status.busy": "2024-09-04T02:08:22.026516Z",
          "iopub.execute_input": "2024-09-04T02:08:22.026937Z",
          "iopub.status.idle": "2024-09-04T02:08:22.037956Z",
          "shell.execute_reply.started": "2024-09-04T02:08:22.026904Z",
          "shell.execute_reply": "2024-09-04T02:08:22.036764Z"
        },
        "trusted": true,
        "id": "FYgGCn5Upc9Z"
      },
      "execution_count": 62,
      "outputs": []
    },
    {
      "cell_type": "code",
      "source": [
        "print(stopword[:20])"
      ],
      "metadata": {
        "execution": {
          "iopub.status.busy": "2024-09-03T16:01:46.180279Z",
          "iopub.execute_input": "2024-09-03T16:01:46.180713Z",
          "iopub.status.idle": "2024-09-03T16:01:46.188670Z",
          "shell.execute_reply.started": "2024-09-03T16:01:46.180680Z",
          "shell.execute_reply": "2024-09-03T16:01:46.187464Z"
        },
        "trusted": true,
        "id": "wPOPWVUPpc9Z",
        "outputId": "c3897dec-a8e5-491c-a902-b151bca03e90",
        "colab": {
          "base_uri": "https://localhost:8080/"
        },
        "collapsed": true
      },
      "execution_count": 63,
      "outputs": [
        {
          "output_type": "stream",
          "name": "stdout",
          "text": [
            "['a', 'about', 'above', 'after', 'again', 'against', 'ain', 'all', 'am', 'an', 'and', 'any', 'are', 'aren', \"aren't\", 'as', 'at', 'be', 'because', 'been']\n"
          ]
        }
      ]
    },
    {
      "cell_type": "markdown",
      "source": [
        "***The code defines a function, remove_stopwords, which removes stopwords from a given text. It iterates through each word in the text, checks if it is a stopword, and appends it to a new list if it is not. Then, it clears the original list, returns the modified text.***"
      ],
      "metadata": {
        "id": "tG83U_eYpc9Z"
      }
    },
    {
      "cell_type": "code",
      "source": [
        "# Function\n",
        "def remove_stopwords(text):\n",
        "    new_text = []\n",
        "    for word in text.split():\n",
        "        if word in stopword:\n",
        "            new_text.append('')\n",
        "        else:\n",
        "            new_text.append(word)\n",
        "    x = new_text[:]\n",
        "    new_text.clear()\n",
        "    return \" \".join(x)"
      ],
      "metadata": {
        "execution": {
          "iopub.status.busy": "2024-09-04T02:08:25.469678Z",
          "iopub.execute_input": "2024-09-04T02:08:25.470089Z",
          "iopub.status.idle": "2024-09-04T02:08:25.476792Z",
          "shell.execute_reply.started": "2024-09-04T02:08:25.470056Z",
          "shell.execute_reply": "2024-09-04T02:08:25.475605Z"
        },
        "trusted": true,
        "id": "H1x2FhLKpc9Z"
      },
      "execution_count": 64,
      "outputs": []
    },
    {
      "cell_type": "code",
      "source": [
        "# Text\n",
        "text = 'probably my all-time favorite movie, a story of selflessness, sacrifice and dedication to a noble cause, but it\\'s not preachy or boring. it just never gets old, despite my having seen it some 15 or more times'\n",
        "print(f'Text With Stop Words :{text}')\n",
        "# Calling Function\n",
        "remove_stopwords(text)"
      ],
      "metadata": {
        "execution": {
          "iopub.status.busy": "2024-09-04T02:08:28.886388Z",
          "iopub.execute_input": "2024-09-04T02:08:28.886769Z",
          "iopub.status.idle": "2024-09-04T02:08:28.895101Z",
          "shell.execute_reply.started": "2024-09-04T02:08:28.886739Z",
          "shell.execute_reply": "2024-09-04T02:08:28.893935Z"
        },
        "trusted": true,
        "id": "gcvj_ojipc9Z",
        "outputId": "c76c1791-ba37-448c-c19c-c34d4801ee62",
        "colab": {
          "base_uri": "https://localhost:8080/",
          "height": 73
        }
      },
      "execution_count": 65,
      "outputs": [
        {
          "output_type": "stream",
          "name": "stdout",
          "text": [
            "Text With Stop Words :probably my all-time favorite movie, a story of selflessness, sacrifice and dedication to a noble cause, but it's not preachy or boring. it just never gets old, despite my having seen it some 15 or more times\n"
          ]
        },
        {
          "output_type": "execute_result",
          "data": {
            "text/plain": [
              "'probably  all-time favorite movie,  story  selflessness, sacrifice  dedication   noble cause,    preachy  boring.   never gets old, despite   seen   15   times'"
            ],
            "application/vnd.google.colaboratory.intrinsic+json": {
              "type": "string"
            }
          },
          "metadata": {},
          "execution_count": 65
        }
      ]
    },
    {
      "cell_type": "code",
      "source": [
        "# We can Apply the same Function on Whole Corpus also\n",
        "df['review'] = df['review'].apply(remove_stopwords)"
      ],
      "metadata": {
        "execution": {
          "iopub.status.busy": "2024-09-04T02:08:31.074709Z",
          "iopub.execute_input": "2024-09-04T02:08:31.076026Z",
          "iopub.status.idle": "2024-09-04T02:08:31.451773Z",
          "shell.execute_reply.started": "2024-09-04T02:08:31.075971Z",
          "shell.execute_reply": "2024-09-04T02:08:31.450505Z"
        },
        "trusted": true,
        "id": "QfYIO_6upc9a"
      },
      "execution_count": 66,
      "outputs": []
    },
    {
      "cell_type": "code",
      "source": [
        "df.head()"
      ],
      "metadata": {
        "execution": {
          "iopub.status.busy": "2024-09-04T02:08:32.884949Z",
          "iopub.execute_input": "2024-09-04T02:08:32.885851Z",
          "iopub.status.idle": "2024-09-04T02:08:32.898342Z",
          "shell.execute_reply.started": "2024-09-04T02:08:32.885803Z",
          "shell.execute_reply": "2024-09-04T02:08:32.897146Z"
        },
        "trusted": true,
        "id": "PCkjw0xgpc9a",
        "outputId": "a939b74b-982d-4bfe-fb54-ca70a893c779",
        "colab": {
          "base_uri": "https://localhost:8080/",
          "height": 206
        }
      },
      "execution_count": 67,
      "outputs": [
        {
          "output_type": "execute_result",
          "data": {
            "text/plain": [
              "                                              review  Sentiment\n",
              "0              real good moment  missssssssss   much          0\n",
              "1                                      reading manga          0\n",
              "2                                       comeagainjen          0\n",
              "3  lapcat need  send em   accountant tomorrow odd...          0\n",
              "4                add   myspace myspacecomlookthunder          0"
            ],
            "text/html": [
              "\n",
              "  <div id=\"df-121fa2c1-a332-457f-85fe-1ba0a6209119\" class=\"colab-df-container\">\n",
              "    <div>\n",
              "<style scoped>\n",
              "    .dataframe tbody tr th:only-of-type {\n",
              "        vertical-align: middle;\n",
              "    }\n",
              "\n",
              "    .dataframe tbody tr th {\n",
              "        vertical-align: top;\n",
              "    }\n",
              "\n",
              "    .dataframe thead th {\n",
              "        text-align: right;\n",
              "    }\n",
              "</style>\n",
              "<table border=\"1\" class=\"dataframe\">\n",
              "  <thead>\n",
              "    <tr style=\"text-align: right;\">\n",
              "      <th></th>\n",
              "      <th>review</th>\n",
              "      <th>Sentiment</th>\n",
              "    </tr>\n",
              "  </thead>\n",
              "  <tbody>\n",
              "    <tr>\n",
              "      <th>0</th>\n",
              "      <td>real good moment  missssssssss   much</td>\n",
              "      <td>0</td>\n",
              "    </tr>\n",
              "    <tr>\n",
              "      <th>1</th>\n",
              "      <td>reading manga</td>\n",
              "      <td>0</td>\n",
              "    </tr>\n",
              "    <tr>\n",
              "      <th>2</th>\n",
              "      <td>comeagainjen</td>\n",
              "      <td>0</td>\n",
              "    </tr>\n",
              "    <tr>\n",
              "      <th>3</th>\n",
              "      <td>lapcat need  send em   accountant tomorrow odd...</td>\n",
              "      <td>0</td>\n",
              "    </tr>\n",
              "    <tr>\n",
              "      <th>4</th>\n",
              "      <td>add   myspace myspacecomlookthunder</td>\n",
              "      <td>0</td>\n",
              "    </tr>\n",
              "  </tbody>\n",
              "</table>\n",
              "</div>\n",
              "    <div class=\"colab-df-buttons\">\n",
              "\n",
              "  <div class=\"colab-df-container\">\n",
              "    <button class=\"colab-df-convert\" onclick=\"convertToInteractive('df-121fa2c1-a332-457f-85fe-1ba0a6209119')\"\n",
              "            title=\"Convert this dataframe to an interactive table.\"\n",
              "            style=\"display:none;\">\n",
              "\n",
              "  <svg xmlns=\"http://www.w3.org/2000/svg\" height=\"24px\" viewBox=\"0 -960 960 960\">\n",
              "    <path d=\"M120-120v-720h720v720H120Zm60-500h600v-160H180v160Zm220 220h160v-160H400v160Zm0 220h160v-160H400v160ZM180-400h160v-160H180v160Zm440 0h160v-160H620v160ZM180-180h160v-160H180v160Zm440 0h160v-160H620v160Z\"/>\n",
              "  </svg>\n",
              "    </button>\n",
              "\n",
              "  <style>\n",
              "    .colab-df-container {\n",
              "      display:flex;\n",
              "      gap: 12px;\n",
              "    }\n",
              "\n",
              "    .colab-df-convert {\n",
              "      background-color: #E8F0FE;\n",
              "      border: none;\n",
              "      border-radius: 50%;\n",
              "      cursor: pointer;\n",
              "      display: none;\n",
              "      fill: #1967D2;\n",
              "      height: 32px;\n",
              "      padding: 0 0 0 0;\n",
              "      width: 32px;\n",
              "    }\n",
              "\n",
              "    .colab-df-convert:hover {\n",
              "      background-color: #E2EBFA;\n",
              "      box-shadow: 0px 1px 2px rgba(60, 64, 67, 0.3), 0px 1px 3px 1px rgba(60, 64, 67, 0.15);\n",
              "      fill: #174EA6;\n",
              "    }\n",
              "\n",
              "    .colab-df-buttons div {\n",
              "      margin-bottom: 4px;\n",
              "    }\n",
              "\n",
              "    [theme=dark] .colab-df-convert {\n",
              "      background-color: #3B4455;\n",
              "      fill: #D2E3FC;\n",
              "    }\n",
              "\n",
              "    [theme=dark] .colab-df-convert:hover {\n",
              "      background-color: #434B5C;\n",
              "      box-shadow: 0px 1px 3px 1px rgba(0, 0, 0, 0.15);\n",
              "      filter: drop-shadow(0px 1px 2px rgba(0, 0, 0, 0.3));\n",
              "      fill: #FFFFFF;\n",
              "    }\n",
              "  </style>\n",
              "\n",
              "    <script>\n",
              "      const buttonEl =\n",
              "        document.querySelector('#df-121fa2c1-a332-457f-85fe-1ba0a6209119 button.colab-df-convert');\n",
              "      buttonEl.style.display =\n",
              "        google.colab.kernel.accessAllowed ? 'block' : 'none';\n",
              "\n",
              "      async function convertToInteractive(key) {\n",
              "        const element = document.querySelector('#df-121fa2c1-a332-457f-85fe-1ba0a6209119');\n",
              "        const dataTable =\n",
              "          await google.colab.kernel.invokeFunction('convertToInteractive',\n",
              "                                                    [key], {});\n",
              "        if (!dataTable) return;\n",
              "\n",
              "        const docLinkHtml = 'Like what you see? Visit the ' +\n",
              "          '<a target=\"_blank\" href=https://colab.research.google.com/notebooks/data_table.ipynb>data table notebook</a>'\n",
              "          + ' to learn more about interactive tables.';\n",
              "        element.innerHTML = '';\n",
              "        dataTable['output_type'] = 'display_data';\n",
              "        await google.colab.output.renderOutput(dataTable, element);\n",
              "        const docLink = document.createElement('div');\n",
              "        docLink.innerHTML = docLinkHtml;\n",
              "        element.appendChild(docLink);\n",
              "      }\n",
              "    </script>\n",
              "  </div>\n",
              "\n",
              "\n",
              "    <div id=\"df-00c8c6fd-b9fb-403d-be4c-f27ea1110492\">\n",
              "      <button class=\"colab-df-quickchart\" onclick=\"quickchart('df-00c8c6fd-b9fb-403d-be4c-f27ea1110492')\"\n",
              "                title=\"Suggest charts\"\n",
              "                style=\"display:none;\">\n",
              "\n",
              "<svg xmlns=\"http://www.w3.org/2000/svg\" height=\"24px\"viewBox=\"0 0 24 24\"\n",
              "     width=\"24px\">\n",
              "    <g>\n",
              "        <path d=\"M19 3H5c-1.1 0-2 .9-2 2v14c0 1.1.9 2 2 2h14c1.1 0 2-.9 2-2V5c0-1.1-.9-2-2-2zM9 17H7v-7h2v7zm4 0h-2V7h2v10zm4 0h-2v-4h2v4z\"/>\n",
              "    </g>\n",
              "</svg>\n",
              "      </button>\n",
              "\n",
              "<style>\n",
              "  .colab-df-quickchart {\n",
              "      --bg-color: #E8F0FE;\n",
              "      --fill-color: #1967D2;\n",
              "      --hover-bg-color: #E2EBFA;\n",
              "      --hover-fill-color: #174EA6;\n",
              "      --disabled-fill-color: #AAA;\n",
              "      --disabled-bg-color: #DDD;\n",
              "  }\n",
              "\n",
              "  [theme=dark] .colab-df-quickchart {\n",
              "      --bg-color: #3B4455;\n",
              "      --fill-color: #D2E3FC;\n",
              "      --hover-bg-color: #434B5C;\n",
              "      --hover-fill-color: #FFFFFF;\n",
              "      --disabled-bg-color: #3B4455;\n",
              "      --disabled-fill-color: #666;\n",
              "  }\n",
              "\n",
              "  .colab-df-quickchart {\n",
              "    background-color: var(--bg-color);\n",
              "    border: none;\n",
              "    border-radius: 50%;\n",
              "    cursor: pointer;\n",
              "    display: none;\n",
              "    fill: var(--fill-color);\n",
              "    height: 32px;\n",
              "    padding: 0;\n",
              "    width: 32px;\n",
              "  }\n",
              "\n",
              "  .colab-df-quickchart:hover {\n",
              "    background-color: var(--hover-bg-color);\n",
              "    box-shadow: 0 1px 2px rgba(60, 64, 67, 0.3), 0 1px 3px 1px rgba(60, 64, 67, 0.15);\n",
              "    fill: var(--button-hover-fill-color);\n",
              "  }\n",
              "\n",
              "  .colab-df-quickchart-complete:disabled,\n",
              "  .colab-df-quickchart-complete:disabled:hover {\n",
              "    background-color: var(--disabled-bg-color);\n",
              "    fill: var(--disabled-fill-color);\n",
              "    box-shadow: none;\n",
              "  }\n",
              "\n",
              "  .colab-df-spinner {\n",
              "    border: 2px solid var(--fill-color);\n",
              "    border-color: transparent;\n",
              "    border-bottom-color: var(--fill-color);\n",
              "    animation:\n",
              "      spin 1s steps(1) infinite;\n",
              "  }\n",
              "\n",
              "  @keyframes spin {\n",
              "    0% {\n",
              "      border-color: transparent;\n",
              "      border-bottom-color: var(--fill-color);\n",
              "      border-left-color: var(--fill-color);\n",
              "    }\n",
              "    20% {\n",
              "      border-color: transparent;\n",
              "      border-left-color: var(--fill-color);\n",
              "      border-top-color: var(--fill-color);\n",
              "    }\n",
              "    30% {\n",
              "      border-color: transparent;\n",
              "      border-left-color: var(--fill-color);\n",
              "      border-top-color: var(--fill-color);\n",
              "      border-right-color: var(--fill-color);\n",
              "    }\n",
              "    40% {\n",
              "      border-color: transparent;\n",
              "      border-right-color: var(--fill-color);\n",
              "      border-top-color: var(--fill-color);\n",
              "    }\n",
              "    60% {\n",
              "      border-color: transparent;\n",
              "      border-right-color: var(--fill-color);\n",
              "    }\n",
              "    80% {\n",
              "      border-color: transparent;\n",
              "      border-right-color: var(--fill-color);\n",
              "      border-bottom-color: var(--fill-color);\n",
              "    }\n",
              "    90% {\n",
              "      border-color: transparent;\n",
              "      border-bottom-color: var(--fill-color);\n",
              "    }\n",
              "  }\n",
              "</style>\n",
              "\n",
              "      <script>\n",
              "        async function quickchart(key) {\n",
              "          const quickchartButtonEl =\n",
              "            document.querySelector('#' + key + ' button');\n",
              "          quickchartButtonEl.disabled = true;  // To prevent multiple clicks.\n",
              "          quickchartButtonEl.classList.add('colab-df-spinner');\n",
              "          try {\n",
              "            const charts = await google.colab.kernel.invokeFunction(\n",
              "                'suggestCharts', [key], {});\n",
              "          } catch (error) {\n",
              "            console.error('Error during call to suggestCharts:', error);\n",
              "          }\n",
              "          quickchartButtonEl.classList.remove('colab-df-spinner');\n",
              "          quickchartButtonEl.classList.add('colab-df-quickchart-complete');\n",
              "        }\n",
              "        (() => {\n",
              "          let quickchartButtonEl =\n",
              "            document.querySelector('#df-00c8c6fd-b9fb-403d-be4c-f27ea1110492 button');\n",
              "          quickchartButtonEl.style.display =\n",
              "            google.colab.kernel.accessAllowed ? 'block' : 'none';\n",
              "        })();\n",
              "      </script>\n",
              "    </div>\n",
              "\n",
              "    </div>\n",
              "  </div>\n"
            ],
            "application/vnd.google.colaboratory.intrinsic+json": {
              "type": "dataframe",
              "variable_name": "df",
              "summary": "{\n  \"name\": \"df\",\n  \"rows\": 10314,\n  \"fields\": [\n    {\n      \"column\": \"review\",\n      \"properties\": {\n        \"dtype\": \"string\",\n        \"num_unique_values\": 10238,\n        \"samples\": [\n          \"well like 30 seconds  vibes  thinking much   twtfm lark\",\n          \"mellyfed bahah hes  stalker  got paid  go home sweet  want  job  day  good im  beat though   going 2 mexican\",\n          \"vernaewilliams yes   girl youre gonna   come visit   move   might   next weekend  ill keep  posted\"\n        ],\n        \"semantic_type\": \"\",\n        \"description\": \"\"\n      }\n    },\n    {\n      \"column\": \"Sentiment\",\n      \"properties\": {\n        \"dtype\": \"number\",\n        \"std\": 0,\n        \"min\": 0,\n        \"max\": 1,\n        \"num_unique_values\": 2,\n        \"samples\": [\n          1,\n          0\n        ],\n        \"semantic_type\": \"\",\n        \"description\": \"\"\n      }\n    }\n  ]\n}"
            }
          },
          "metadata": {},
          "execution_count": 67
        }
      ]
    },
    {
      "cell_type": "markdown",
      "source": [
        "***Well This the function use to handle stopwords in Text.***"
      ],
      "metadata": {
        "id": "-S1anJnppc9a"
      }
    },
    {
      "cell_type": "markdown",
      "source": [
        "# <p style=\"font-family:newtimeroman;font-size:150%;text-align:center;color:#8b4513;\">8. Handling Emojies</p>\n",
        "\n",
        "\n",
        "***Handling emojis in NLP text preprocessing is essential for several reasons. Emojis convey valuable information about sentiment, emotion, and context in text data, especially in informal communication channels like social media. However, they pose challenges for NLP algorithms due to their non-textual nature. Preprocessing involves converting emojis into meaningful representations, such as replacing them with textual descriptions or mapping them to specific sentiment categories. By handling emojis effectively, NLP models can accurately interpret and analyze text data, leading to improved performance in sentiment analysis, emotion detection, and other NLP tasks.***"
      ],
      "metadata": {
        "id": "5Uge0xJVpc9a"
      }
    },
    {
      "cell_type": "markdown",
      "source": [
        "### ***8.1 Simply Remove Emojis***"
      ],
      "metadata": {
        "id": "ucm-QAVVpc9a"
      }
    },
    {
      "cell_type": "markdown",
      "source": [
        "***The code defines a function, remove_emoji, which uses a regular expression to match and remove all emojis from a given text string. It targets various Unicode ranges corresponding to different categories of emojis and replaces them with an empty string, effectively removing them from the text.***"
      ],
      "metadata": {
        "id": "HENUTiX-pc9a"
      }
    },
    {
      "cell_type": "code",
      "source": [
        "import re\n",
        "\n",
        "def remove_emoji(text):\n",
        "    # Define a regular expression pattern to match emojis\n",
        "    emoji_pattern = re.compile(\"[\"\n",
        "                               u\"\\U0001F600-\\U0001F64F\"  # Match emoticons (e.g., 😀 😁 😂)\n",
        "                               u\"\\U0001F300-\\U0001F5FF\"  # Match symbols & pictographs (e.g., 🌍 🌟 💡)\n",
        "                               u\"\\U0001F680-\\U0001F6FF\"  # Match transport & map symbols (e.g., 🚀 🛤 🗺)\n",
        "                               u\"\\U0001F1E0-\\U0001F1FF\"  # Match flags (iOS) (e.g., 🇺🇸 🇬🇧 🇨🇦)\n",
        "                               u\"\\U00002702-\\U000027B0\"  # Match miscellaneous symbols (e.g., ✂ ✈ ✏)\n",
        "                               u\"\\U000024C2-\\U0001F251\"  # Match additional symbols (e.g., Ⓜ 🉐 🉑)\n",
        "                               \"]+\", flags=re.UNICODE)    # Enable the Unicode flag to correctly interpret the above ranges\n",
        "\n",
        "    # Substitute all matched emojis in the text with an empty string (i.e., remove them)\n",
        "    return emoji_pattern.sub(r'', text)\n"
      ],
      "metadata": {
        "execution": {
          "iopub.status.busy": "2024-09-04T02:08:36.542678Z",
          "iopub.execute_input": "2024-09-04T02:08:36.543120Z",
          "iopub.status.idle": "2024-09-04T02:08:36.550202Z",
          "shell.execute_reply.started": "2024-09-04T02:08:36.543082Z",
          "shell.execute_reply": "2024-09-04T02:08:36.548966Z"
        },
        "trusted": true,
        "id": "CsOqBYzXpc9a"
      },
      "execution_count": 68,
      "outputs": []
    },
    {
      "cell_type": "code",
      "source": [
        "# Texts\n",
        "text = \"Loved the movie. It was 😘\"\n",
        "text1 = 'Python is 🔥'\n",
        "print(text ,'\\n', text1)\n",
        "\n",
        "# Remove Emojies using Fucntion\n",
        "print(remove_emoji(text))\n",
        "remove_emoji(text1)"
      ],
      "metadata": {
        "execution": {
          "iopub.status.busy": "2024-09-04T02:08:39.441205Z",
          "iopub.execute_input": "2024-09-04T02:08:39.441965Z",
          "iopub.status.idle": "2024-09-04T02:08:39.455581Z",
          "shell.execute_reply.started": "2024-09-04T02:08:39.441929Z",
          "shell.execute_reply": "2024-09-04T02:08:39.454390Z"
        },
        "trusted": true,
        "id": "cnI6lFOqpc9a",
        "outputId": "f3b66d99-81e7-4da8-d43d-5f79e0111b75",
        "colab": {
          "base_uri": "https://localhost:8080/",
          "height": 87
        }
      },
      "execution_count": 69,
      "outputs": [
        {
          "output_type": "stream",
          "name": "stdout",
          "text": [
            "Loved the movie. It was 😘 \n",
            " Python is 🔥\n",
            "Loved the movie. It was \n"
          ]
        },
        {
          "output_type": "execute_result",
          "data": {
            "text/plain": [
              "'Python is '"
            ],
            "application/vnd.google.colaboratory.intrinsic+json": {
              "type": "string"
            }
          },
          "metadata": {},
          "execution_count": 69
        }
      ]
    },
    {
      "cell_type": "markdown",
      "source": [
        "***Well the fucntion is removing the emojies easily.***"
      ],
      "metadata": {
        "id": "fQwHNzgbpc9b"
      }
    },
    {
      "cell_type": "code",
      "source": [
        "df['review'] = df['review'].apply(remove_emoji)"
      ],
      "metadata": {
        "execution": {
          "iopub.status.busy": "2024-09-04T02:08:41.430094Z",
          "iopub.execute_input": "2024-09-04T02:08:41.430504Z",
          "iopub.status.idle": "2024-09-04T02:08:41.511952Z",
          "shell.execute_reply.started": "2024-09-04T02:08:41.430475Z",
          "shell.execute_reply": "2024-09-04T02:08:41.510590Z"
        },
        "trusted": true,
        "id": "WptufQqipc9b"
      },
      "execution_count": 70,
      "outputs": []
    },
    {
      "cell_type": "markdown",
      "source": [
        "### ***8.2 Simply Convert Emojis into text***"
      ],
      "metadata": {
        "id": "3V4Wsq_Epc9b"
      }
    },
    {
      "cell_type": "code",
      "source": [
        "!pip install emoji"
      ],
      "metadata": {
        "colab": {
          "base_uri": "https://localhost:8080/"
        },
        "id": "Sy2E_Myf0t_B",
        "outputId": "9bcd8e03-5010-4261-8aea-a2b526a5784a"
      },
      "execution_count": 71,
      "outputs": [
        {
          "output_type": "stream",
          "name": "stdout",
          "text": [
            "Collecting emoji\n",
            "  Downloading emoji-2.14.1-py3-none-any.whl.metadata (5.7 kB)\n",
            "Downloading emoji-2.14.1-py3-none-any.whl (590 kB)\n",
            "\u001b[?25l   \u001b[90m━━━━━━━━━━━━━━━━━━━━━━━━━━━━━━━━━━━━━━━━\u001b[0m \u001b[32m0.0/590.6 kB\u001b[0m \u001b[31m?\u001b[0m eta \u001b[36m-:--:--\u001b[0m\r\u001b[2K   \u001b[91m━━━━━━━━━━━\u001b[0m\u001b[91m╸\u001b[0m\u001b[90m━━━━━━━━━━━━━━━━━━━━━━━━━━━━\u001b[0m \u001b[32m174.1/590.6 kB\u001b[0m \u001b[31m5.6 MB/s\u001b[0m eta \u001b[36m0:00:01\u001b[0m\r\u001b[2K   \u001b[90m━━━━━━━━━━━━━━━━━━━━━━━━━━━━━━━━━━━━━━━━\u001b[0m \u001b[32m590.6/590.6 kB\u001b[0m \u001b[31m9.8 MB/s\u001b[0m eta \u001b[36m0:00:00\u001b[0m\n",
            "\u001b[?25hInstalling collected packages: emoji\n",
            "Successfully installed emoji-2.14.1\n"
          ]
        }
      ]
    },
    {
      "cell_type": "code",
      "source": [
        "# We will USe the Emoji Libray to handle this task\n",
        "# Pip Install emoji\n",
        "import emoji"
      ],
      "metadata": {
        "execution": {
          "iopub.status.busy": "2024-09-04T02:08:43.894763Z",
          "iopub.execute_input": "2024-09-04T02:08:43.895245Z",
          "iopub.status.idle": "2024-09-04T02:08:43.944164Z",
          "shell.execute_reply.started": "2024-09-04T02:08:43.895206Z",
          "shell.execute_reply": "2024-09-04T02:08:43.942932Z"
        },
        "trusted": true,
        "id": "bvPX70L4pc9b"
      },
      "execution_count": 72,
      "outputs": []
    },
    {
      "cell_type": "code",
      "source": [
        "# Calling the Emoji tool Demojize.\n",
        "print(emoji.demojize(text))\n",
        "print(emoji.demojize(text1))"
      ],
      "metadata": {
        "execution": {
          "iopub.status.busy": "2024-09-03T16:01:17.004837Z",
          "iopub.status.idle": "2024-09-03T16:01:17.005246Z",
          "shell.execute_reply.started": "2024-09-03T16:01:17.005050Z",
          "shell.execute_reply": "2024-09-03T16:01:17.005066Z"
        },
        "trusted": true,
        "id": "i51Udryjpc9b",
        "colab": {
          "base_uri": "https://localhost:8080/"
        },
        "outputId": "c7b9cb03-c833-434a-990e-9ef121ec1ff0"
      },
      "execution_count": 73,
      "outputs": [
        {
          "output_type": "stream",
          "name": "stdout",
          "text": [
            "Loved the movie. It was :face_blowing_a_kiss:\n",
            "Python is :fire:\n"
          ]
        }
      ]
    },
    {
      "cell_type": "markdown",
      "source": [
        "***Well this is the output , and the tool is working best.***"
      ],
      "metadata": {
        "id": "GNoiEUbUpc9b"
      }
    },
    {
      "cell_type": "markdown",
      "source": [
        "# <p style=\"font-family:newtimeroman;font-size:150%;text-align:center;color:#8b4513;\">9. Tokenization </p>\n",
        "\n",
        "***Tokenization is a crucial step in NLP text preprocessing where text is segmented into smaller units, typically words or subwords, known as tokens. This process is essential for several reasons. Firstly, it breaks down the text into manageable units for analysis and processing. Secondly, it standardizes the representation of words, enabling consistency in language modeling tasks. Additionally, tokenization forms the basis for feature extraction and modeling in NLP, facilitating tasks such as sentiment analysis, named entity recognition, and machine translation. Overall, tokenization plays a fundamental role in preparing text data for further analysis and modeling in NLP applications.***\n",
        "\n",
        "***We Generally do 2 Type of tokenization 1. Word tokenization 2. Sentence Tokenization***"
      ],
      "metadata": {
        "id": "fhszlk_Mpc9b"
      }
    },
    {
      "cell_type": "markdown",
      "source": [
        "### ***9.1 NLTK***\n",
        "***NLTK is a Library used to tokenize text into sentences and words.***"
      ],
      "metadata": {
        "id": "SsA_fgTipc9b"
      }
    },
    {
      "cell_type": "code",
      "source": [
        "# Import Libraray\n",
        "from nltk.tokenize import word_tokenize, sent_tokenize"
      ],
      "metadata": {
        "execution": {
          "iopub.status.busy": "2024-09-04T02:08:48.650297Z",
          "iopub.execute_input": "2024-09-04T02:08:48.650680Z",
          "iopub.status.idle": "2024-09-04T02:08:48.655765Z",
          "shell.execute_reply.started": "2024-09-04T02:08:48.650652Z",
          "shell.execute_reply": "2024-09-04T02:08:48.654408Z"
        },
        "trusted": true,
        "id": "wkt8_mqYpc9b"
      },
      "execution_count": 53,
      "outputs": []
    },
    {
      "cell_type": "code",
      "source": [
        "nltk.download(\"punkt\")       # main tokenizer model\n",
        "nltk.download(\"punkt_tab\")   # newer variant sometimes required"
      ],
      "metadata": {
        "colab": {
          "base_uri": "https://localhost:8080/"
        },
        "id": "61hJK-Ew1Epv",
        "outputId": "89dd0fd5-cdf8-4236-fc54-f6ae8933556e"
      },
      "execution_count": 54,
      "outputs": [
        {
          "output_type": "stream",
          "name": "stderr",
          "text": [
            "[nltk_data] Downloading package punkt to /root/nltk_data...\n",
            "[nltk_data]   Unzipping tokenizers/punkt.zip.\n",
            "[nltk_data] Downloading package punkt_tab to /root/nltk_data...\n",
            "[nltk_data]   Unzipping tokenizers/punkt_tab.zip.\n"
          ]
        },
        {
          "output_type": "execute_result",
          "data": {
            "text/plain": [
              "True"
            ]
          },
          "metadata": {},
          "execution_count": 54
        }
      ]
    },
    {
      "cell_type": "code",
      "source": [
        "# Text\n",
        "sentence = 'I am going to visit delhi!'\n",
        "# Calling tool\n",
        "word_tokenize(sentence)"
      ],
      "metadata": {
        "execution": {
          "iopub.status.busy": "2024-09-04T02:08:50.115905Z",
          "iopub.execute_input": "2024-09-04T02:08:50.116738Z",
          "iopub.status.idle": "2024-09-04T02:08:50.139565Z",
          "shell.execute_reply.started": "2024-09-04T02:08:50.116698Z",
          "shell.execute_reply": "2024-09-04T02:08:50.138297Z"
        },
        "trusted": true,
        "id": "p_WE1dgdpc9b",
        "outputId": "26c67aa2-4547-4798-de27-afdefa775ca2",
        "colab": {
          "base_uri": "https://localhost:8080/"
        }
      },
      "execution_count": 55,
      "outputs": [
        {
          "output_type": "execute_result",
          "data": {
            "text/plain": [
              "['I', 'am', 'going', 'to', 'visit', 'delhi', '!']"
            ]
          },
          "metadata": {},
          "execution_count": 55
        }
      ]
    },
    {
      "cell_type": "code",
      "source": [
        "# Whole text Containing 2 or more Sentences\n",
        "text = \"\"\"Lorem Ipsum is simply dummy text of the printing and typesetting industry?\n",
        "Lorem Ipsum has been the industry's standard dummy text ever since the 1500s,\n",
        "when an unknown printer took a galley of type and scrambled it to make a type specimen book.\"\"\"\n",
        "\n",
        "# Sentence Based Tokenization\n",
        "sent_tokenize(text)"
      ],
      "metadata": {
        "execution": {
          "iopub.status.busy": "2024-09-04T02:08:52.620681Z",
          "iopub.execute_input": "2024-09-04T02:08:52.621600Z",
          "iopub.status.idle": "2024-09-04T02:08:52.630646Z",
          "shell.execute_reply.started": "2024-09-04T02:08:52.621561Z",
          "shell.execute_reply": "2024-09-04T02:08:52.629435Z"
        },
        "trusted": true,
        "id": "YqIGaXWhpc9b",
        "outputId": "40e7ca57-363c-4c83-e841-600a9713ca99",
        "colab": {
          "base_uri": "https://localhost:8080/"
        }
      },
      "execution_count": 56,
      "outputs": [
        {
          "output_type": "execute_result",
          "data": {
            "text/plain": [
              "['Lorem Ipsum is simply dummy text of the printing and typesetting industry?',\n",
              " \"Lorem Ipsum has been the industry's standard dummy text ever since the 1500s,\\nwhen an unknown printer took a galley of type and scrambled it to make a type specimen book.\"]"
            ]
          },
          "metadata": {},
          "execution_count": 56
        }
      ]
    },
    {
      "cell_type": "code",
      "source": [
        "# Some Sentences\n",
        "sent5 = 'I have a Ph.D in A.I'\n",
        "sent6 = \"We're here to help! mail us at nks@gmail.com\"\n",
        "sent7 = 'A 5km ride cost $10.50'\n",
        "\n",
        "# Word Tokenize the Sentences\n",
        "print(word_tokenize(sent5))\n",
        "print(word_tokenize(sent6))\n",
        "print(word_tokenize(sent7))"
      ],
      "metadata": {
        "execution": {
          "iopub.status.busy": "2024-09-04T02:08:54.830503Z",
          "iopub.execute_input": "2024-09-04T02:08:54.830958Z",
          "iopub.status.idle": "2024-09-04T02:08:54.838497Z",
          "shell.execute_reply.started": "2024-09-04T02:08:54.830915Z",
          "shell.execute_reply": "2024-09-04T02:08:54.837361Z"
        },
        "trusted": true,
        "id": "k-1XIq9-pc9c",
        "outputId": "0ee3da67-903b-4613-95e5-4199a2116ed8",
        "colab": {
          "base_uri": "https://localhost:8080/"
        }
      },
      "execution_count": 57,
      "outputs": [
        {
          "output_type": "stream",
          "name": "stdout",
          "text": [
            "['I', 'have', 'a', 'Ph.D', 'in', 'A.I']\n",
            "['We', \"'re\", 'here', 'to', 'help', '!', 'mail', 'us', 'at', 'nks', '@', 'gmail.com']\n",
            "['A', '5km', 'ride', 'cost', '$', '10.50']\n"
          ]
        }
      ]
    },
    {
      "cell_type": "markdown",
      "source": [
        "***NLTK is Performing Well Altough it has some of issue , Like in above text u see it cannot handle the mail. But U can Use it Acording to the data problem***"
      ],
      "metadata": {
        "id": "5WPRXgCfpc9c"
      }
    },
    {
      "cell_type": "markdown",
      "source": [
        "### ***9.1 Spacy***\n",
        "***Spacy is a Library used to tokenize text into sentences and words.***"
      ],
      "metadata": {
        "id": "oQJrXuGApc9c"
      }
    },
    {
      "cell_type": "code",
      "source": [
        "# Installation\n",
        "# conda install -c conda-forge spacy\n",
        "# conda install -c conda-forge spacy-model-en_core_web_sm"
      ],
      "metadata": {
        "id": "MgNRgJ6mpc9c"
      },
      "execution_count": null,
      "outputs": []
    },
    {
      "cell_type": "code",
      "source": [
        "# This code imports the Spacy library and loads the English language model 'en_core_web_sm' for natural language processing.\n",
        "# Pip install spacy library.\n",
        "import spacy\n",
        "nlp = spacy.load('en_core_web_sm')## Load the small English model"
      ],
      "metadata": {
        "execution": {
          "iopub.status.busy": "2024-09-04T02:08:57.727074Z",
          "iopub.execute_input": "2024-09-04T02:08:57.727485Z",
          "iopub.status.idle": "2024-09-04T02:09:04.467637Z",
          "shell.execute_reply.started": "2024-09-04T02:08:57.727453Z",
          "shell.execute_reply": "2024-09-04T02:09:04.466481Z"
        },
        "trusted": true,
        "id": "-tD5H9Q2pc9c"
      },
      "execution_count": 58,
      "outputs": []
    },
    {
      "cell_type": "code",
      "source": [
        "# Tokenize the Sentences in Words\n",
        "doc1 = nlp(sent5)\n",
        "doc2 = nlp(sent6)\n",
        "doc3 = nlp(sent7)"
      ],
      "metadata": {
        "execution": {
          "iopub.status.busy": "2024-09-04T02:09:04.469926Z",
          "iopub.execute_input": "2024-09-04T02:09:04.470659Z",
          "iopub.status.idle": "2024-09-04T02:09:04.517065Z",
          "shell.execute_reply.started": "2024-09-04T02:09:04.470613Z",
          "shell.execute_reply": "2024-09-04T02:09:04.515976Z"
        },
        "trusted": true,
        "id": "Uwrv8F1bpc9c"
      },
      "execution_count": 59,
      "outputs": []
    },
    {
      "cell_type": "code",
      "source": [
        "# Print Token Genrated\n",
        "for token in doc2:\n",
        "    print(token.text)"
      ],
      "metadata": {
        "execution": {
          "iopub.status.busy": "2024-09-04T02:09:04.518573Z",
          "iopub.execute_input": "2024-09-04T02:09:04.519037Z",
          "iopub.status.idle": "2024-09-04T02:09:04.525806Z",
          "shell.execute_reply.started": "2024-09-04T02:09:04.518997Z",
          "shell.execute_reply": "2024-09-04T02:09:04.524626Z"
        },
        "trusted": true,
        "id": "noCwUYZCpc9c",
        "outputId": "5e9f38b0-a24a-4a22-87e8-e833a44210b1",
        "colab": {
          "base_uri": "https://localhost:8080/"
        }
      },
      "execution_count": 60,
      "outputs": [
        {
          "output_type": "stream",
          "name": "stdout",
          "text": [
            "We\n",
            "'re\n",
            "here\n",
            "to\n",
            "help\n",
            "!\n",
            "mail\n",
            "us\n",
            "at\n",
            "nks@gmail.com\n"
          ]
        }
      ]
    },
    {
      "cell_type": "markdown",
      "source": [
        "***this tool Handle the mail also , so the choice of best tokenizer tool depend on your problem, u can try both and select the best oen.***"
      ],
      "metadata": {
        "id": "4HWfsn-ipc9c"
      }
    },
    {
      "cell_type": "markdown",
      "source": [
        "# <p style=\"font-family:newtimeroman;font-size:150%;text-align:center;color:#8b4513;\">10. Stemming </p>\n",
        "\n",
        "***Stemming is a text preprocessing technique in NLP used to reduce words to their root or base form, known as a stem, by removing suffixes. It helps in simplifying the vocabulary and reducing word variations, thereby improving the efficiency of downstream NLP tasks like information retrieval and sentiment analysis. By converting words to their common root, stemming increases the overlap between related words, enhancing the generalization ability of models.***"
      ],
      "metadata": {
        "id": "j_znWq4Upc9c"
      }
    },
    {
      "cell_type": "code",
      "source": [
        "# Import PorterStemmer from NLTK Library\n",
        "from nltk.stem.porter import PorterStemmer"
      ],
      "metadata": {
        "execution": {
          "iopub.status.busy": "2024-09-04T02:09:06.086106Z",
          "iopub.execute_input": "2024-09-04T02:09:06.086526Z",
          "iopub.status.idle": "2024-09-04T02:09:06.092174Z",
          "shell.execute_reply.started": "2024-09-04T02:09:06.086493Z",
          "shell.execute_reply": "2024-09-04T02:09:06.090956Z"
        },
        "trusted": true,
        "id": "laoZFIC2pc9c"
      },
      "execution_count": 61,
      "outputs": []
    },
    {
      "cell_type": "code",
      "source": [
        "# Intilize Stemmer\n",
        "stemmer = PorterStemmer()\n",
        "\n",
        "# This Function Will Stem Words\n",
        "def stem_words(text):\n",
        "    return \" \".join([stemmer.stem(word) for word in text.split()])"
      ],
      "metadata": {
        "execution": {
          "iopub.status.busy": "2024-09-04T02:09:19.954202Z",
          "iopub.execute_input": "2024-09-04T02:09:19.954617Z",
          "iopub.status.idle": "2024-09-04T02:09:19.961230Z",
          "shell.execute_reply.started": "2024-09-04T02:09:19.954586Z",
          "shell.execute_reply": "2024-09-04T02:09:19.959859Z"
        },
        "trusted": true,
        "id": "-hdZvvV7pc9d"
      },
      "execution_count": 62,
      "outputs": []
    },
    {
      "cell_type": "code",
      "source": [
        "# A single Sentence\n",
        "st = \"walk walks walking walked\"\n",
        "# Calling Function\n",
        "stem_words(st)"
      ],
      "metadata": {
        "execution": {
          "iopub.status.busy": "2024-09-04T02:09:21.789628Z",
          "iopub.execute_input": "2024-09-04T02:09:21.790164Z",
          "iopub.status.idle": "2024-09-04T02:09:21.799921Z",
          "shell.execute_reply.started": "2024-09-04T02:09:21.790121Z",
          "shell.execute_reply": "2024-09-04T02:09:21.798465Z"
        },
        "trusted": true,
        "id": "4I6-uhxcpc9d",
        "outputId": "7d564acb-043a-4879-df32-e2ff7630d716",
        "colab": {
          "base_uri": "https://localhost:8080/",
          "height": 35
        }
      },
      "execution_count": 63,
      "outputs": [
        {
          "output_type": "execute_result",
          "data": {
            "text/plain": [
              "'walk walk walk walk'"
            ],
            "application/vnd.google.colaboratory.intrinsic+json": {
              "type": "string"
            }
          },
          "metadata": {},
          "execution_count": 63
        }
      ]
    },
    {
      "cell_type": "code",
      "source": [
        "text = \"\"\"probably my alltime favorite movie a story of selflessness sacrifice and dedication to a noble cause but its not preachy\n",
        "or boring it just never gets old despite my having seen it some 15 or more times in the last 25 years paul lukas performance brings\n",
        " tears to my eyes and bette davis in one of her very few truly sympathetic roles is a delight the kids are as grandma says more like\n",
        " dressedup midgets than children but that only makes them more fun to watch and the mothers slow awakening to whats happening in the\n",
        " world and under her own roof is believable and startling if i had a dozen thumbs theyd all be up for this movie\"\"\"\n",
        "print(text)\n",
        "\n",
        "# Calling Function\n",
        "stem_words(text)"
      ],
      "metadata": {
        "execution": {
          "iopub.status.busy": "2024-09-04T02:09:23.780080Z",
          "iopub.execute_input": "2024-09-04T02:09:23.780472Z",
          "iopub.status.idle": "2024-09-04T02:09:23.794310Z",
          "shell.execute_reply.started": "2024-09-04T02:09:23.780443Z",
          "shell.execute_reply": "2024-09-04T02:09:23.793175Z"
        },
        "trusted": true,
        "id": "4VDuvvEWpc9d",
        "outputId": "296416da-fbb7-46a1-a571-cb0c6056f4ae",
        "colab": {
          "base_uri": "https://localhost:8080/",
          "height": 174
        }
      },
      "execution_count": 64,
      "outputs": [
        {
          "output_type": "stream",
          "name": "stdout",
          "text": [
            "probably my alltime favorite movie a story of selflessness sacrifice and dedication to a noble cause but its not preachy\n",
            "or boring it just never gets old despite my having seen it some 15 or more times in the last 25 years paul lukas performance brings\n",
            " tears to my eyes and bette davis in one of her very few truly sympathetic roles is a delight the kids are as grandma says more like\n",
            " dressedup midgets than children but that only makes them more fun to watch and the mothers slow awakening to whats happening in the\n",
            " world and under her own roof is believable and startling if i had a dozen thumbs theyd all be up for this movie\n"
          ]
        },
        {
          "output_type": "execute_result",
          "data": {
            "text/plain": [
              "'probabl my alltim favorit movi a stori of selfless sacrific and dedic to a nobl caus but it not preachi or bore it just never get old despit my have seen it some 15 or more time in the last 25 year paul luka perform bring tear to my eye and bett davi in one of her veri few truli sympathet role is a delight the kid are as grandma say more like dressedup midget than children but that onli make them more fun to watch and the mother slow awaken to what happen in the world and under her own roof is believ and startl if i had a dozen thumb theyd all be up for thi movi'"
            ],
            "application/vnd.google.colaboratory.intrinsic+json": {
              "type": "string"
            }
          },
          "metadata": {},
          "execution_count": 64
        }
      ]
    },
    {
      "cell_type": "markdown",
      "source": [
        "***Thats How the Stemming will work***\n",
        "\n",
        "***However, stemming may sometimes result in the production of non-existent or incorrect words, known as stemming errors, which need to be carefully managed to avoid impacting the accuracy of NLP applications.***"
      ],
      "metadata": {
        "id": "HbXxXX88pc9d"
      }
    },
    {
      "cell_type": "markdown",
      "source": [
        "# <p style=\"font-family:newtimeroman;font-size:150%;text-align:center;color:#8b4513;\">11. Lemmatization </p>\n",
        "\n",
        "\n",
        "***Lemmatization is performed in NLP text preprocessing to reduce words to their base or dictionary form (lemma), enhancing consistency and simplifying analysis. Unlike stemming, which truncates words to their root form without considering meaning, lemmatization ensures that words are transformed to their canonical form, considering their part of speech. This process aids in reducing redundancy, improving text normalization, and enhancing the accuracy of downstream NLP tasks such as sentiment analysis, topic modeling, and information retrieval. Overall, lemmatization contributes to refining text data, facilitating more effective linguistic analysis and machine learning model performance.***"
      ],
      "metadata": {
        "id": "dItHCDSRpc9d"
      }
    },
    {
      "cell_type": "markdown",
      "source": [
        "- ***The code imports the WordNetLemmatizer from NLTK library and initializes it.***\n",
        "- ***It defines a sentence and a set of punctuation characters. The sentence is tokenized into words.***\n",
        "- ***Then, it iterates through each word in the sentence, removing punctuation if present.***\n",
        "- ***Next, it lemmatizes each word using the WordNetLemmatizer with a specific part-of-speech tag ('v' for verb).***\n",
        "-  ***Finally, it prints each word along with its corresponding lemma after lemmatization, aligning them in a formatted table.***\n",
        "-  ***This process helps to normalize the words in the sentence by reducing them to their base or dictionary form.***"
      ],
      "metadata": {
        "id": "ug7BmW6Wpc9d"
      }
    },
    {
      "cell_type": "code",
      "source": [
        "import nltk"
      ],
      "metadata": {
        "execution": {
          "iopub.status.busy": "2024-09-04T02:09:28.089457Z",
          "iopub.execute_input": "2024-09-04T02:09:28.089899Z",
          "iopub.status.idle": "2024-09-04T02:09:28.095269Z",
          "shell.execute_reply.started": "2024-09-04T02:09:28.089845Z",
          "shell.execute_reply": "2024-09-04T02:09:28.093961Z"
        },
        "trusted": true,
        "id": "v-g88ePbpc9d"
      },
      "execution_count": 65,
      "outputs": []
    },
    {
      "cell_type": "code",
      "source": [
        "nltk.download('wordnet')"
      ],
      "metadata": {
        "execution": {
          "iopub.status.busy": "2024-09-04T02:09:29.911524Z",
          "iopub.execute_input": "2024-09-04T02:09:29.912332Z",
          "iopub.status.idle": "2024-09-04T02:09:30.216067Z",
          "shell.execute_reply.started": "2024-09-04T02:09:29.912290Z",
          "shell.execute_reply": "2024-09-04T02:09:30.214920Z"
        },
        "trusted": true,
        "id": "Pmgzdy3Vpc9d",
        "outputId": "85f6232e-e783-4ef9-b902-f114ca74cd28",
        "colab": {
          "base_uri": "https://localhost:8080/"
        }
      },
      "execution_count": 66,
      "outputs": [
        {
          "output_type": "stream",
          "name": "stderr",
          "text": [
            "[nltk_data] Downloading package wordnet to /root/nltk_data...\n"
          ]
        },
        {
          "output_type": "execute_result",
          "data": {
            "text/plain": [
              "True"
            ]
          },
          "metadata": {},
          "execution_count": 66
        }
      ]
    },
    {
      "cell_type": "code",
      "source": [
        "nltk.download('wordnet', \"nltk_data/\")\n",
        "\n",
        "nltk.download('omw-1.4', \"nltk_data/\")\n",
        "\n",
        "nltk.data.path.append('nltk_data/')"
      ],
      "metadata": {
        "execution": {
          "iopub.status.busy": "2024-09-04T02:09:33.569630Z",
          "iopub.execute_input": "2024-09-04T02:09:33.570090Z",
          "iopub.status.idle": "2024-09-04T02:09:34.654201Z",
          "shell.execute_reply.started": "2024-09-04T02:09:33.570057Z",
          "shell.execute_reply": "2024-09-04T02:09:34.653194Z"
        },
        "trusted": true,
        "id": "rLmmsNk2pc9d",
        "outputId": "5ca65423-2d5e-43c7-e119-d79a34037287",
        "colab": {
          "base_uri": "https://localhost:8080/"
        }
      },
      "execution_count": 67,
      "outputs": [
        {
          "output_type": "stream",
          "name": "stderr",
          "text": [
            "[nltk_data] Downloading package wordnet to nltk_data/...\n",
            "[nltk_data] Downloading package omw-1.4 to nltk_data/...\n"
          ]
        }
      ]
    },
    {
      "cell_type": "code",
      "source": [
        "!unzip /usr/share/nltk_data/corpora/wordnet.zip -d /usr/share/nltk_data/corpora/"
      ],
      "metadata": {
        "execution": {
          "iopub.status.busy": "2024-09-04T02:09:37.191399Z",
          "iopub.execute_input": "2024-09-04T02:09:37.191814Z",
          "iopub.status.idle": "2024-09-04T02:09:38.715799Z",
          "shell.execute_reply.started": "2024-09-04T02:09:37.191782Z",
          "shell.execute_reply": "2024-09-04T02:09:38.714544Z"
        },
        "trusted": true,
        "id": "cuuAQZZJpc9d",
        "outputId": "062a88aa-300c-4516-8767-c01037941813",
        "colab": {
          "base_uri": "https://localhost:8080/"
        }
      },
      "execution_count": 94,
      "outputs": [
        {
          "output_type": "stream",
          "name": "stdout",
          "text": [
            "unzip:  cannot find or open /usr/share/nltk_data/corpora/wordnet.zip, /usr/share/nltk_data/corpora/wordnet.zip.zip or /usr/share/nltk_data/corpora/wordnet.zip.ZIP.\n"
          ]
        }
      ]
    },
    {
      "cell_type": "code",
      "source": [
        "# import these modules\n",
        "from nltk.stem import WordNetLemmatizer\n",
        "\n",
        "lemmatizer = WordNetLemmatizer()\n",
        "\n",
        "print(\"rocks :\", lemmatizer.lemmatize(\"rocks\"))\n",
        "print(\"corpora :\", lemmatizer.lemmatize(\"corpora\"))\n",
        "\n",
        "# a denotes adjective in \"pos\"\n",
        "print(\"better :\", lemmatizer.lemmatize(\"better\", pos=\"a\"))"
      ],
      "metadata": {
        "execution": {
          "iopub.status.busy": "2024-09-04T02:09:42.834213Z",
          "iopub.execute_input": "2024-09-04T02:09:42.835158Z",
          "iopub.status.idle": "2024-09-04T02:09:45.537426Z",
          "shell.execute_reply.started": "2024-09-04T02:09:42.835115Z",
          "shell.execute_reply": "2024-09-04T02:09:45.536295Z"
        },
        "trusted": true,
        "id": "8Ag_wg5Ppc9e",
        "outputId": "3b8ca33c-a9c0-47b8-bec1-d0ade6220a3a",
        "colab": {
          "base_uri": "https://localhost:8080/"
        }
      },
      "execution_count": 68,
      "outputs": [
        {
          "output_type": "stream",
          "name": "stdout",
          "text": [
            "rocks : rock\n",
            "corpora : corpus\n",
            "better : good\n"
          ]
        }
      ]
    },
    {
      "cell_type": "code",
      "source": [
        "# Import WordNet Lemmatizer from NLTK\n",
        "from nltk.stem import WordNetLemmatizer\n",
        "import nltk\n",
        "\n",
        "# Initialize the WordNet Lemmatizer\n",
        "wordnet_lemmatizer = WordNetLemmatizer()\n",
        "\n",
        "# Example sentence\n",
        "sentence = \"He was running and eating at same time. He has bad habit of swimming after playing long hours in the Sun.\"\n",
        "\n",
        "# Define punctuation characters that we want to remove\n",
        "punctuations = \"?:!.,;\"\n",
        "\n",
        "# Step 1: Tokenize the sentence into individual words\n",
        "# Example: [\"He\", \"was\", \"running\", \"and\", \"eating\", ...]\n",
        "sentence_words = nltk.word_tokenize(sentence)\n",
        "\n",
        "# Step 2: Remove punctuation tokens from the list\n",
        "for word in sentence_words:\n",
        "    if word in punctuations:\n",
        "        sentence_words.remove(word)\n",
        "\n",
        "# Step 3: Print each original word and its lemmatized form\n",
        "print(\"{0:20}{1:20}\".format(\"Word\", \"Lemma\"))  # header row\n",
        "for word in sentence_words:\n",
        "    # 'pos=\"v\"' tells the lemmatizer to treat the word as a verb\n",
        "    print(\"{0:20}{1:20}\".format(word, wordnet_lemmatizer.lemmatize(word, pos='v')))\n"
      ],
      "metadata": {
        "execution": {
          "iopub.status.busy": "2024-09-04T02:09:45.539340Z",
          "iopub.execute_input": "2024-09-04T02:09:45.539696Z",
          "iopub.status.idle": "2024-09-04T02:09:45.549579Z",
          "shell.execute_reply.started": "2024-09-04T02:09:45.539665Z",
          "shell.execute_reply": "2024-09-04T02:09:45.548258Z"
        },
        "trusted": true,
        "id": "BnPvkY-0pc9e",
        "outputId": "709d8dc2-f237-48bd-e383-24f675de66fc",
        "colab": {
          "base_uri": "https://localhost:8080/"
        }
      },
      "execution_count": 73,
      "outputs": [
        {
          "output_type": "stream",
          "name": "stdout",
          "text": [
            "Word                Lemma               \n",
            "He                  He                  \n",
            "was                 be                  \n",
            "running             run                 \n",
            "and                 and                 \n",
            "eating              eat                 \n",
            "at                  at                  \n",
            "same                same                \n",
            "time                time                \n",
            "He                  He                  \n",
            "has                 have                \n",
            "bad                 bad                 \n",
            "habit               habit               \n",
            "of                  of                  \n",
            "swimming            swim                \n",
            "after               after               \n",
            "playing             play                \n",
            "long                long                \n",
            "hours               hours               \n",
            "in                  in                  \n",
            "the                 the                 \n",
            "Sun                 Sun                 \n"
          ]
        }
      ]
    },
    {
      "cell_type": "code",
      "source": [
        "df['review'] = df['review'].apply(lambda x: wordnet_lemmatizer.lemmatize(x))\n",
        "df"
      ],
      "metadata": {
        "execution": {
          "iopub.status.busy": "2024-09-04T02:09:46.028463Z",
          "iopub.execute_input": "2024-09-04T02:09:46.028924Z",
          "iopub.status.idle": "2024-09-04T02:09:46.118103Z",
          "shell.execute_reply.started": "2024-09-04T02:09:46.028860Z",
          "shell.execute_reply": "2024-09-04T02:09:46.116916Z"
        },
        "trusted": true,
        "id": "ZlnK2X5Kpc9e",
        "outputId": "6025a75a-5e6d-404e-dc1d-258e8244b1e4",
        "colab": {
          "base_uri": "https://localhost:8080/",
          "height": 423
        }
      },
      "execution_count": 74,
      "outputs": [
        {
          "output_type": "execute_result",
          "data": {
            "text/plain": [
              "                                                  review  Sentiment\n",
              "0                  real good moment  missssssssss   much          0\n",
              "1                                          reading manga          0\n",
              "2                                           comeagainjen          0\n",
              "3      lapcat need  send em   accountant tomorrow odd...          0\n",
              "4                    add   myspace myspacecomlookthunder          0\n",
              "...                                                  ...        ...\n",
              "10309   depression  g herbo   mood    im done stressi...          1\n",
              "10310       depression succumbs  brain  makes  feel l...          1\n",
              "10311  ketamine nasal spray shows promise  depression...          1\n",
              "10312     dont mistake  bad day  depression everyone  em          1\n",
              "10313                                                  0          1\n",
              "\n",
              "[10314 rows x 2 columns]"
            ],
            "text/html": [
              "\n",
              "  <div id=\"df-9dabf624-9eb2-46ec-88f6-a6de91c8f5bc\" class=\"colab-df-container\">\n",
              "    <div>\n",
              "<style scoped>\n",
              "    .dataframe tbody tr th:only-of-type {\n",
              "        vertical-align: middle;\n",
              "    }\n",
              "\n",
              "    .dataframe tbody tr th {\n",
              "        vertical-align: top;\n",
              "    }\n",
              "\n",
              "    .dataframe thead th {\n",
              "        text-align: right;\n",
              "    }\n",
              "</style>\n",
              "<table border=\"1\" class=\"dataframe\">\n",
              "  <thead>\n",
              "    <tr style=\"text-align: right;\">\n",
              "      <th></th>\n",
              "      <th>review</th>\n",
              "      <th>Sentiment</th>\n",
              "    </tr>\n",
              "  </thead>\n",
              "  <tbody>\n",
              "    <tr>\n",
              "      <th>0</th>\n",
              "      <td>real good moment  missssssssss   much</td>\n",
              "      <td>0</td>\n",
              "    </tr>\n",
              "    <tr>\n",
              "      <th>1</th>\n",
              "      <td>reading manga</td>\n",
              "      <td>0</td>\n",
              "    </tr>\n",
              "    <tr>\n",
              "      <th>2</th>\n",
              "      <td>comeagainjen</td>\n",
              "      <td>0</td>\n",
              "    </tr>\n",
              "    <tr>\n",
              "      <th>3</th>\n",
              "      <td>lapcat need  send em   accountant tomorrow odd...</td>\n",
              "      <td>0</td>\n",
              "    </tr>\n",
              "    <tr>\n",
              "      <th>4</th>\n",
              "      <td>add   myspace myspacecomlookthunder</td>\n",
              "      <td>0</td>\n",
              "    </tr>\n",
              "    <tr>\n",
              "      <th>...</th>\n",
              "      <td>...</td>\n",
              "      <td>...</td>\n",
              "    </tr>\n",
              "    <tr>\n",
              "      <th>10309</th>\n",
              "      <td>depression  g herbo   mood    im done stressi...</td>\n",
              "      <td>1</td>\n",
              "    </tr>\n",
              "    <tr>\n",
              "      <th>10310</th>\n",
              "      <td>depression succumbs  brain  makes  feel l...</td>\n",
              "      <td>1</td>\n",
              "    </tr>\n",
              "    <tr>\n",
              "      <th>10311</th>\n",
              "      <td>ketamine nasal spray shows promise  depression...</td>\n",
              "      <td>1</td>\n",
              "    </tr>\n",
              "    <tr>\n",
              "      <th>10312</th>\n",
              "      <td>dont mistake  bad day  depression everyone  em</td>\n",
              "      <td>1</td>\n",
              "    </tr>\n",
              "    <tr>\n",
              "      <th>10313</th>\n",
              "      <td>0</td>\n",
              "      <td>1</td>\n",
              "    </tr>\n",
              "  </tbody>\n",
              "</table>\n",
              "<p>10314 rows × 2 columns</p>\n",
              "</div>\n",
              "    <div class=\"colab-df-buttons\">\n",
              "\n",
              "  <div class=\"colab-df-container\">\n",
              "    <button class=\"colab-df-convert\" onclick=\"convertToInteractive('df-9dabf624-9eb2-46ec-88f6-a6de91c8f5bc')\"\n",
              "            title=\"Convert this dataframe to an interactive table.\"\n",
              "            style=\"display:none;\">\n",
              "\n",
              "  <svg xmlns=\"http://www.w3.org/2000/svg\" height=\"24px\" viewBox=\"0 -960 960 960\">\n",
              "    <path d=\"M120-120v-720h720v720H120Zm60-500h600v-160H180v160Zm220 220h160v-160H400v160Zm0 220h160v-160H400v160ZM180-400h160v-160H180v160Zm440 0h160v-160H620v160ZM180-180h160v-160H180v160Zm440 0h160v-160H620v160Z\"/>\n",
              "  </svg>\n",
              "    </button>\n",
              "\n",
              "  <style>\n",
              "    .colab-df-container {\n",
              "      display:flex;\n",
              "      gap: 12px;\n",
              "    }\n",
              "\n",
              "    .colab-df-convert {\n",
              "      background-color: #E8F0FE;\n",
              "      border: none;\n",
              "      border-radius: 50%;\n",
              "      cursor: pointer;\n",
              "      display: none;\n",
              "      fill: #1967D2;\n",
              "      height: 32px;\n",
              "      padding: 0 0 0 0;\n",
              "      width: 32px;\n",
              "    }\n",
              "\n",
              "    .colab-df-convert:hover {\n",
              "      background-color: #E2EBFA;\n",
              "      box-shadow: 0px 1px 2px rgba(60, 64, 67, 0.3), 0px 1px 3px 1px rgba(60, 64, 67, 0.15);\n",
              "      fill: #174EA6;\n",
              "    }\n",
              "\n",
              "    .colab-df-buttons div {\n",
              "      margin-bottom: 4px;\n",
              "    }\n",
              "\n",
              "    [theme=dark] .colab-df-convert {\n",
              "      background-color: #3B4455;\n",
              "      fill: #D2E3FC;\n",
              "    }\n",
              "\n",
              "    [theme=dark] .colab-df-convert:hover {\n",
              "      background-color: #434B5C;\n",
              "      box-shadow: 0px 1px 3px 1px rgba(0, 0, 0, 0.15);\n",
              "      filter: drop-shadow(0px 1px 2px rgba(0, 0, 0, 0.3));\n",
              "      fill: #FFFFFF;\n",
              "    }\n",
              "  </style>\n",
              "\n",
              "    <script>\n",
              "      const buttonEl =\n",
              "        document.querySelector('#df-9dabf624-9eb2-46ec-88f6-a6de91c8f5bc button.colab-df-convert');\n",
              "      buttonEl.style.display =\n",
              "        google.colab.kernel.accessAllowed ? 'block' : 'none';\n",
              "\n",
              "      async function convertToInteractive(key) {\n",
              "        const element = document.querySelector('#df-9dabf624-9eb2-46ec-88f6-a6de91c8f5bc');\n",
              "        const dataTable =\n",
              "          await google.colab.kernel.invokeFunction('convertToInteractive',\n",
              "                                                    [key], {});\n",
              "        if (!dataTable) return;\n",
              "\n",
              "        const docLinkHtml = 'Like what you see? Visit the ' +\n",
              "          '<a target=\"_blank\" href=https://colab.research.google.com/notebooks/data_table.ipynb>data table notebook</a>'\n",
              "          + ' to learn more about interactive tables.';\n",
              "        element.innerHTML = '';\n",
              "        dataTable['output_type'] = 'display_data';\n",
              "        await google.colab.output.renderOutput(dataTable, element);\n",
              "        const docLink = document.createElement('div');\n",
              "        docLink.innerHTML = docLinkHtml;\n",
              "        element.appendChild(docLink);\n",
              "      }\n",
              "    </script>\n",
              "  </div>\n",
              "\n",
              "\n",
              "    <div id=\"df-fa475e2b-780b-40e1-bca3-7640a2cd9ffb\">\n",
              "      <button class=\"colab-df-quickchart\" onclick=\"quickchart('df-fa475e2b-780b-40e1-bca3-7640a2cd9ffb')\"\n",
              "                title=\"Suggest charts\"\n",
              "                style=\"display:none;\">\n",
              "\n",
              "<svg xmlns=\"http://www.w3.org/2000/svg\" height=\"24px\"viewBox=\"0 0 24 24\"\n",
              "     width=\"24px\">\n",
              "    <g>\n",
              "        <path d=\"M19 3H5c-1.1 0-2 .9-2 2v14c0 1.1.9 2 2 2h14c1.1 0 2-.9 2-2V5c0-1.1-.9-2-2-2zM9 17H7v-7h2v7zm4 0h-2V7h2v10zm4 0h-2v-4h2v4z\"/>\n",
              "    </g>\n",
              "</svg>\n",
              "      </button>\n",
              "\n",
              "<style>\n",
              "  .colab-df-quickchart {\n",
              "      --bg-color: #E8F0FE;\n",
              "      --fill-color: #1967D2;\n",
              "      --hover-bg-color: #E2EBFA;\n",
              "      --hover-fill-color: #174EA6;\n",
              "      --disabled-fill-color: #AAA;\n",
              "      --disabled-bg-color: #DDD;\n",
              "  }\n",
              "\n",
              "  [theme=dark] .colab-df-quickchart {\n",
              "      --bg-color: #3B4455;\n",
              "      --fill-color: #D2E3FC;\n",
              "      --hover-bg-color: #434B5C;\n",
              "      --hover-fill-color: #FFFFFF;\n",
              "      --disabled-bg-color: #3B4455;\n",
              "      --disabled-fill-color: #666;\n",
              "  }\n",
              "\n",
              "  .colab-df-quickchart {\n",
              "    background-color: var(--bg-color);\n",
              "    border: none;\n",
              "    border-radius: 50%;\n",
              "    cursor: pointer;\n",
              "    display: none;\n",
              "    fill: var(--fill-color);\n",
              "    height: 32px;\n",
              "    padding: 0;\n",
              "    width: 32px;\n",
              "  }\n",
              "\n",
              "  .colab-df-quickchart:hover {\n",
              "    background-color: var(--hover-bg-color);\n",
              "    box-shadow: 0 1px 2px rgba(60, 64, 67, 0.3), 0 1px 3px 1px rgba(60, 64, 67, 0.15);\n",
              "    fill: var(--button-hover-fill-color);\n",
              "  }\n",
              "\n",
              "  .colab-df-quickchart-complete:disabled,\n",
              "  .colab-df-quickchart-complete:disabled:hover {\n",
              "    background-color: var(--disabled-bg-color);\n",
              "    fill: var(--disabled-fill-color);\n",
              "    box-shadow: none;\n",
              "  }\n",
              "\n",
              "  .colab-df-spinner {\n",
              "    border: 2px solid var(--fill-color);\n",
              "    border-color: transparent;\n",
              "    border-bottom-color: var(--fill-color);\n",
              "    animation:\n",
              "      spin 1s steps(1) infinite;\n",
              "  }\n",
              "\n",
              "  @keyframes spin {\n",
              "    0% {\n",
              "      border-color: transparent;\n",
              "      border-bottom-color: var(--fill-color);\n",
              "      border-left-color: var(--fill-color);\n",
              "    }\n",
              "    20% {\n",
              "      border-color: transparent;\n",
              "      border-left-color: var(--fill-color);\n",
              "      border-top-color: var(--fill-color);\n",
              "    }\n",
              "    30% {\n",
              "      border-color: transparent;\n",
              "      border-left-color: var(--fill-color);\n",
              "      border-top-color: var(--fill-color);\n",
              "      border-right-color: var(--fill-color);\n",
              "    }\n",
              "    40% {\n",
              "      border-color: transparent;\n",
              "      border-right-color: var(--fill-color);\n",
              "      border-top-color: var(--fill-color);\n",
              "    }\n",
              "    60% {\n",
              "      border-color: transparent;\n",
              "      border-right-color: var(--fill-color);\n",
              "    }\n",
              "    80% {\n",
              "      border-color: transparent;\n",
              "      border-right-color: var(--fill-color);\n",
              "      border-bottom-color: var(--fill-color);\n",
              "    }\n",
              "    90% {\n",
              "      border-color: transparent;\n",
              "      border-bottom-color: var(--fill-color);\n",
              "    }\n",
              "  }\n",
              "</style>\n",
              "\n",
              "      <script>\n",
              "        async function quickchart(key) {\n",
              "          const quickchartButtonEl =\n",
              "            document.querySelector('#' + key + ' button');\n",
              "          quickchartButtonEl.disabled = true;  // To prevent multiple clicks.\n",
              "          quickchartButtonEl.classList.add('colab-df-spinner');\n",
              "          try {\n",
              "            const charts = await google.colab.kernel.invokeFunction(\n",
              "                'suggestCharts', [key], {});\n",
              "          } catch (error) {\n",
              "            console.error('Error during call to suggestCharts:', error);\n",
              "          }\n",
              "          quickchartButtonEl.classList.remove('colab-df-spinner');\n",
              "          quickchartButtonEl.classList.add('colab-df-quickchart-complete');\n",
              "        }\n",
              "        (() => {\n",
              "          let quickchartButtonEl =\n",
              "            document.querySelector('#df-fa475e2b-780b-40e1-bca3-7640a2cd9ffb button');\n",
              "          quickchartButtonEl.style.display =\n",
              "            google.colab.kernel.accessAllowed ? 'block' : 'none';\n",
              "        })();\n",
              "      </script>\n",
              "    </div>\n",
              "\n",
              "  <div id=\"id_61e09f44-f531-4183-8bad-35c9f5374365\">\n",
              "    <style>\n",
              "      .colab-df-generate {\n",
              "        background-color: #E8F0FE;\n",
              "        border: none;\n",
              "        border-radius: 50%;\n",
              "        cursor: pointer;\n",
              "        display: none;\n",
              "        fill: #1967D2;\n",
              "        height: 32px;\n",
              "        padding: 0 0 0 0;\n",
              "        width: 32px;\n",
              "      }\n",
              "\n",
              "      .colab-df-generate:hover {\n",
              "        background-color: #E2EBFA;\n",
              "        box-shadow: 0px 1px 2px rgba(60, 64, 67, 0.3), 0px 1px 3px 1px rgba(60, 64, 67, 0.15);\n",
              "        fill: #174EA6;\n",
              "      }\n",
              "\n",
              "      [theme=dark] .colab-df-generate {\n",
              "        background-color: #3B4455;\n",
              "        fill: #D2E3FC;\n",
              "      }\n",
              "\n",
              "      [theme=dark] .colab-df-generate:hover {\n",
              "        background-color: #434B5C;\n",
              "        box-shadow: 0px 1px 3px 1px rgba(0, 0, 0, 0.15);\n",
              "        filter: drop-shadow(0px 1px 2px rgba(0, 0, 0, 0.3));\n",
              "        fill: #FFFFFF;\n",
              "      }\n",
              "    </style>\n",
              "    <button class=\"colab-df-generate\" onclick=\"generateWithVariable('df')\"\n",
              "            title=\"Generate code using this dataframe.\"\n",
              "            style=\"display:none;\">\n",
              "\n",
              "  <svg xmlns=\"http://www.w3.org/2000/svg\" height=\"24px\"viewBox=\"0 0 24 24\"\n",
              "       width=\"24px\">\n",
              "    <path d=\"M7,19H8.4L18.45,9,17,7.55,7,17.6ZM5,21V16.75L18.45,3.32a2,2,0,0,1,2.83,0l1.4,1.43a1.91,1.91,0,0,1,.58,1.4,1.91,1.91,0,0,1-.58,1.4L9.25,21ZM18.45,9,17,7.55Zm-12,3A5.31,5.31,0,0,0,4.9,8.1,5.31,5.31,0,0,0,1,6.5,5.31,5.31,0,0,0,4.9,4.9,5.31,5.31,0,0,0,6.5,1,5.31,5.31,0,0,0,8.1,4.9,5.31,5.31,0,0,0,12,6.5,5.46,5.46,0,0,0,6.5,12Z\"/>\n",
              "  </svg>\n",
              "    </button>\n",
              "    <script>\n",
              "      (() => {\n",
              "      const buttonEl =\n",
              "        document.querySelector('#id_61e09f44-f531-4183-8bad-35c9f5374365 button.colab-df-generate');\n",
              "      buttonEl.style.display =\n",
              "        google.colab.kernel.accessAllowed ? 'block' : 'none';\n",
              "\n",
              "      buttonEl.onclick = () => {\n",
              "        google.colab.notebook.generateWithVariable('df');\n",
              "      }\n",
              "      })();\n",
              "    </script>\n",
              "  </div>\n",
              "\n",
              "    </div>\n",
              "  </div>\n"
            ],
            "application/vnd.google.colaboratory.intrinsic+json": {
              "type": "dataframe",
              "variable_name": "df",
              "summary": "{\n  \"name\": \"df\",\n  \"rows\": 10314,\n  \"fields\": [\n    {\n      \"column\": \"review\",\n      \"properties\": {\n        \"dtype\": \"string\",\n        \"num_unique_values\": 10238,\n        \"samples\": [\n          \"well like 30 seconds  vibes  thinking much   twtfm lark\",\n          \"mellyfed bahah hes  stalker  got paid  go home sweet  want  job  day  good im  beat though   going 2 mexican\",\n          \"vernaewilliams yes   girl youre gonna   come visit   move   might   next weekend  ill keep  posted\"\n        ],\n        \"semantic_type\": \"\",\n        \"description\": \"\"\n      }\n    },\n    {\n      \"column\": \"Sentiment\",\n      \"properties\": {\n        \"dtype\": \"number\",\n        \"std\": 0,\n        \"min\": 0,\n        \"max\": 1,\n        \"num_unique_values\": 2,\n        \"samples\": [\n          1,\n          0\n        ],\n        \"semantic_type\": \"\",\n        \"description\": \"\"\n      }\n    }\n  ]\n}"
            }
          },
          "metadata": {},
          "execution_count": 74
        }
      ]
    },
    {
      "cell_type": "markdown",
      "source": [
        "***Well That's how the Lemmatizer Works.One Best Thing of Lemmatization is That, lemmatization ensures that words are transformed to their canonical form, considering their part of speech.However this Process is Slow***"
      ],
      "metadata": {
        "id": "qCMvrPE2pc9e"
      }
    },
    {
      "cell_type": "markdown",
      "source": [
        "### Label Encoding"
      ],
      "metadata": {
        "id": "rb6niGcjpc9e"
      }
    },
    {
      "cell_type": "code",
      "source": [
        "from sklearn.preprocessing import LabelEncoder\n",
        "\n",
        "le = LabelEncoder()\n",
        "le.fit(df['Sentiment'])\n",
        "\n",
        "df['Sentiment_encoded'] = le.transform(df['Sentiment'])\n",
        "df.head()"
      ],
      "metadata": {
        "execution": {
          "iopub.status.busy": "2024-09-04T02:09:49.161115Z",
          "iopub.execute_input": "2024-09-04T02:09:49.161536Z",
          "iopub.status.idle": "2024-09-04T02:09:49.179055Z",
          "shell.execute_reply.started": "2024-09-04T02:09:49.161504Z",
          "shell.execute_reply": "2024-09-04T02:09:49.177980Z"
        },
        "trusted": true,
        "id": "rD1w-WT3pc9e",
        "outputId": "dedc9a73-0672-4247-c86f-91f35f9d22d2",
        "colab": {
          "base_uri": "https://localhost:8080/",
          "height": 206
        }
      },
      "execution_count": 75,
      "outputs": [
        {
          "output_type": "execute_result",
          "data": {
            "text/plain": [
              "                                              review  Sentiment  \\\n",
              "0              real good moment  missssssssss   much          0   \n",
              "1                                      reading manga          0   \n",
              "2                                       comeagainjen          0   \n",
              "3  lapcat need  send em   accountant tomorrow odd...          0   \n",
              "4                add   myspace myspacecomlookthunder          0   \n",
              "\n",
              "   Sentiment_encoded  \n",
              "0                  0  \n",
              "1                  0  \n",
              "2                  0  \n",
              "3                  0  \n",
              "4                  0  "
            ],
            "text/html": [
              "\n",
              "  <div id=\"df-76c694da-52e1-4c48-ae2d-a22949ecd95c\" class=\"colab-df-container\">\n",
              "    <div>\n",
              "<style scoped>\n",
              "    .dataframe tbody tr th:only-of-type {\n",
              "        vertical-align: middle;\n",
              "    }\n",
              "\n",
              "    .dataframe tbody tr th {\n",
              "        vertical-align: top;\n",
              "    }\n",
              "\n",
              "    .dataframe thead th {\n",
              "        text-align: right;\n",
              "    }\n",
              "</style>\n",
              "<table border=\"1\" class=\"dataframe\">\n",
              "  <thead>\n",
              "    <tr style=\"text-align: right;\">\n",
              "      <th></th>\n",
              "      <th>review</th>\n",
              "      <th>Sentiment</th>\n",
              "      <th>Sentiment_encoded</th>\n",
              "    </tr>\n",
              "  </thead>\n",
              "  <tbody>\n",
              "    <tr>\n",
              "      <th>0</th>\n",
              "      <td>real good moment  missssssssss   much</td>\n",
              "      <td>0</td>\n",
              "      <td>0</td>\n",
              "    </tr>\n",
              "    <tr>\n",
              "      <th>1</th>\n",
              "      <td>reading manga</td>\n",
              "      <td>0</td>\n",
              "      <td>0</td>\n",
              "    </tr>\n",
              "    <tr>\n",
              "      <th>2</th>\n",
              "      <td>comeagainjen</td>\n",
              "      <td>0</td>\n",
              "      <td>0</td>\n",
              "    </tr>\n",
              "    <tr>\n",
              "      <th>3</th>\n",
              "      <td>lapcat need  send em   accountant tomorrow odd...</td>\n",
              "      <td>0</td>\n",
              "      <td>0</td>\n",
              "    </tr>\n",
              "    <tr>\n",
              "      <th>4</th>\n",
              "      <td>add   myspace myspacecomlookthunder</td>\n",
              "      <td>0</td>\n",
              "      <td>0</td>\n",
              "    </tr>\n",
              "  </tbody>\n",
              "</table>\n",
              "</div>\n",
              "    <div class=\"colab-df-buttons\">\n",
              "\n",
              "  <div class=\"colab-df-container\">\n",
              "    <button class=\"colab-df-convert\" onclick=\"convertToInteractive('df-76c694da-52e1-4c48-ae2d-a22949ecd95c')\"\n",
              "            title=\"Convert this dataframe to an interactive table.\"\n",
              "            style=\"display:none;\">\n",
              "\n",
              "  <svg xmlns=\"http://www.w3.org/2000/svg\" height=\"24px\" viewBox=\"0 -960 960 960\">\n",
              "    <path d=\"M120-120v-720h720v720H120Zm60-500h600v-160H180v160Zm220 220h160v-160H400v160Zm0 220h160v-160H400v160ZM180-400h160v-160H180v160Zm440 0h160v-160H620v160ZM180-180h160v-160H180v160Zm440 0h160v-160H620v160Z\"/>\n",
              "  </svg>\n",
              "    </button>\n",
              "\n",
              "  <style>\n",
              "    .colab-df-container {\n",
              "      display:flex;\n",
              "      gap: 12px;\n",
              "    }\n",
              "\n",
              "    .colab-df-convert {\n",
              "      background-color: #E8F0FE;\n",
              "      border: none;\n",
              "      border-radius: 50%;\n",
              "      cursor: pointer;\n",
              "      display: none;\n",
              "      fill: #1967D2;\n",
              "      height: 32px;\n",
              "      padding: 0 0 0 0;\n",
              "      width: 32px;\n",
              "    }\n",
              "\n",
              "    .colab-df-convert:hover {\n",
              "      background-color: #E2EBFA;\n",
              "      box-shadow: 0px 1px 2px rgba(60, 64, 67, 0.3), 0px 1px 3px 1px rgba(60, 64, 67, 0.15);\n",
              "      fill: #174EA6;\n",
              "    }\n",
              "\n",
              "    .colab-df-buttons div {\n",
              "      margin-bottom: 4px;\n",
              "    }\n",
              "\n",
              "    [theme=dark] .colab-df-convert {\n",
              "      background-color: #3B4455;\n",
              "      fill: #D2E3FC;\n",
              "    }\n",
              "\n",
              "    [theme=dark] .colab-df-convert:hover {\n",
              "      background-color: #434B5C;\n",
              "      box-shadow: 0px 1px 3px 1px rgba(0, 0, 0, 0.15);\n",
              "      filter: drop-shadow(0px 1px 2px rgba(0, 0, 0, 0.3));\n",
              "      fill: #FFFFFF;\n",
              "    }\n",
              "  </style>\n",
              "\n",
              "    <script>\n",
              "      const buttonEl =\n",
              "        document.querySelector('#df-76c694da-52e1-4c48-ae2d-a22949ecd95c button.colab-df-convert');\n",
              "      buttonEl.style.display =\n",
              "        google.colab.kernel.accessAllowed ? 'block' : 'none';\n",
              "\n",
              "      async function convertToInteractive(key) {\n",
              "        const element = document.querySelector('#df-76c694da-52e1-4c48-ae2d-a22949ecd95c');\n",
              "        const dataTable =\n",
              "          await google.colab.kernel.invokeFunction('convertToInteractive',\n",
              "                                                    [key], {});\n",
              "        if (!dataTable) return;\n",
              "\n",
              "        const docLinkHtml = 'Like what you see? Visit the ' +\n",
              "          '<a target=\"_blank\" href=https://colab.research.google.com/notebooks/data_table.ipynb>data table notebook</a>'\n",
              "          + ' to learn more about interactive tables.';\n",
              "        element.innerHTML = '';\n",
              "        dataTable['output_type'] = 'display_data';\n",
              "        await google.colab.output.renderOutput(dataTable, element);\n",
              "        const docLink = document.createElement('div');\n",
              "        docLink.innerHTML = docLinkHtml;\n",
              "        element.appendChild(docLink);\n",
              "      }\n",
              "    </script>\n",
              "  </div>\n",
              "\n",
              "\n",
              "    <div id=\"df-2e5b6a16-0a05-448a-b943-5da5d1be0dd4\">\n",
              "      <button class=\"colab-df-quickchart\" onclick=\"quickchart('df-2e5b6a16-0a05-448a-b943-5da5d1be0dd4')\"\n",
              "                title=\"Suggest charts\"\n",
              "                style=\"display:none;\">\n",
              "\n",
              "<svg xmlns=\"http://www.w3.org/2000/svg\" height=\"24px\"viewBox=\"0 0 24 24\"\n",
              "     width=\"24px\">\n",
              "    <g>\n",
              "        <path d=\"M19 3H5c-1.1 0-2 .9-2 2v14c0 1.1.9 2 2 2h14c1.1 0 2-.9 2-2V5c0-1.1-.9-2-2-2zM9 17H7v-7h2v7zm4 0h-2V7h2v10zm4 0h-2v-4h2v4z\"/>\n",
              "    </g>\n",
              "</svg>\n",
              "      </button>\n",
              "\n",
              "<style>\n",
              "  .colab-df-quickchart {\n",
              "      --bg-color: #E8F0FE;\n",
              "      --fill-color: #1967D2;\n",
              "      --hover-bg-color: #E2EBFA;\n",
              "      --hover-fill-color: #174EA6;\n",
              "      --disabled-fill-color: #AAA;\n",
              "      --disabled-bg-color: #DDD;\n",
              "  }\n",
              "\n",
              "  [theme=dark] .colab-df-quickchart {\n",
              "      --bg-color: #3B4455;\n",
              "      --fill-color: #D2E3FC;\n",
              "      --hover-bg-color: #434B5C;\n",
              "      --hover-fill-color: #FFFFFF;\n",
              "      --disabled-bg-color: #3B4455;\n",
              "      --disabled-fill-color: #666;\n",
              "  }\n",
              "\n",
              "  .colab-df-quickchart {\n",
              "    background-color: var(--bg-color);\n",
              "    border: none;\n",
              "    border-radius: 50%;\n",
              "    cursor: pointer;\n",
              "    display: none;\n",
              "    fill: var(--fill-color);\n",
              "    height: 32px;\n",
              "    padding: 0;\n",
              "    width: 32px;\n",
              "  }\n",
              "\n",
              "  .colab-df-quickchart:hover {\n",
              "    background-color: var(--hover-bg-color);\n",
              "    box-shadow: 0 1px 2px rgba(60, 64, 67, 0.3), 0 1px 3px 1px rgba(60, 64, 67, 0.15);\n",
              "    fill: var(--button-hover-fill-color);\n",
              "  }\n",
              "\n",
              "  .colab-df-quickchart-complete:disabled,\n",
              "  .colab-df-quickchart-complete:disabled:hover {\n",
              "    background-color: var(--disabled-bg-color);\n",
              "    fill: var(--disabled-fill-color);\n",
              "    box-shadow: none;\n",
              "  }\n",
              "\n",
              "  .colab-df-spinner {\n",
              "    border: 2px solid var(--fill-color);\n",
              "    border-color: transparent;\n",
              "    border-bottom-color: var(--fill-color);\n",
              "    animation:\n",
              "      spin 1s steps(1) infinite;\n",
              "  }\n",
              "\n",
              "  @keyframes spin {\n",
              "    0% {\n",
              "      border-color: transparent;\n",
              "      border-bottom-color: var(--fill-color);\n",
              "      border-left-color: var(--fill-color);\n",
              "    }\n",
              "    20% {\n",
              "      border-color: transparent;\n",
              "      border-left-color: var(--fill-color);\n",
              "      border-top-color: var(--fill-color);\n",
              "    }\n",
              "    30% {\n",
              "      border-color: transparent;\n",
              "      border-left-color: var(--fill-color);\n",
              "      border-top-color: var(--fill-color);\n",
              "      border-right-color: var(--fill-color);\n",
              "    }\n",
              "    40% {\n",
              "      border-color: transparent;\n",
              "      border-right-color: var(--fill-color);\n",
              "      border-top-color: var(--fill-color);\n",
              "    }\n",
              "    60% {\n",
              "      border-color: transparent;\n",
              "      border-right-color: var(--fill-color);\n",
              "    }\n",
              "    80% {\n",
              "      border-color: transparent;\n",
              "      border-right-color: var(--fill-color);\n",
              "      border-bottom-color: var(--fill-color);\n",
              "    }\n",
              "    90% {\n",
              "      border-color: transparent;\n",
              "      border-bottom-color: var(--fill-color);\n",
              "    }\n",
              "  }\n",
              "</style>\n",
              "\n",
              "      <script>\n",
              "        async function quickchart(key) {\n",
              "          const quickchartButtonEl =\n",
              "            document.querySelector('#' + key + ' button');\n",
              "          quickchartButtonEl.disabled = true;  // To prevent multiple clicks.\n",
              "          quickchartButtonEl.classList.add('colab-df-spinner');\n",
              "          try {\n",
              "            const charts = await google.colab.kernel.invokeFunction(\n",
              "                'suggestCharts', [key], {});\n",
              "          } catch (error) {\n",
              "            console.error('Error during call to suggestCharts:', error);\n",
              "          }\n",
              "          quickchartButtonEl.classList.remove('colab-df-spinner');\n",
              "          quickchartButtonEl.classList.add('colab-df-quickchart-complete');\n",
              "        }\n",
              "        (() => {\n",
              "          let quickchartButtonEl =\n",
              "            document.querySelector('#df-2e5b6a16-0a05-448a-b943-5da5d1be0dd4 button');\n",
              "          quickchartButtonEl.style.display =\n",
              "            google.colab.kernel.accessAllowed ? 'block' : 'none';\n",
              "        })();\n",
              "      </script>\n",
              "    </div>\n",
              "\n",
              "    </div>\n",
              "  </div>\n"
            ],
            "application/vnd.google.colaboratory.intrinsic+json": {
              "type": "dataframe",
              "variable_name": "df",
              "summary": "{\n  \"name\": \"df\",\n  \"rows\": 10314,\n  \"fields\": [\n    {\n      \"column\": \"review\",\n      \"properties\": {\n        \"dtype\": \"string\",\n        \"num_unique_values\": 10238,\n        \"samples\": [\n          \"well like 30 seconds  vibes  thinking much   twtfm lark\",\n          \"mellyfed bahah hes  stalker  got paid  go home sweet  want  job  day  good im  beat though   going 2 mexican\",\n          \"vernaewilliams yes   girl youre gonna   come visit   move   might   next weekend  ill keep  posted\"\n        ],\n        \"semantic_type\": \"\",\n        \"description\": \"\"\n      }\n    },\n    {\n      \"column\": \"Sentiment\",\n      \"properties\": {\n        \"dtype\": \"number\",\n        \"std\": 0,\n        \"min\": 0,\n        \"max\": 1,\n        \"num_unique_values\": 2,\n        \"samples\": [\n          1,\n          0\n        ],\n        \"semantic_type\": \"\",\n        \"description\": \"\"\n      }\n    },\n    {\n      \"column\": \"Sentiment_encoded\",\n      \"properties\": {\n        \"dtype\": \"number\",\n        \"std\": 0,\n        \"min\": 0,\n        \"max\": 1,\n        \"num_unique_values\": 2,\n        \"samples\": [\n          1,\n          0\n        ],\n        \"semantic_type\": \"\",\n        \"description\": \"\"\n      }\n    }\n  ]\n}"
            }
          },
          "metadata": {},
          "execution_count": 75
        }
      ]
    },
    {
      "cell_type": "code",
      "source": [
        "# how to define X and y (from the SMS data) for use with COUNTVECTORIZER\n",
        "x = df['review']\n",
        "y = df['Sentiment_encoded']\n",
        "\n",
        "print(len(x), len(y))"
      ],
      "metadata": {
        "execution": {
          "iopub.status.busy": "2024-09-04T02:09:54.299486Z",
          "iopub.execute_input": "2024-09-04T02:09:54.299995Z",
          "iopub.status.idle": "2024-09-04T02:09:54.307404Z",
          "shell.execute_reply.started": "2024-09-04T02:09:54.299955Z",
          "shell.execute_reply": "2024-09-04T02:09:54.306143Z"
        },
        "trusted": true,
        "id": "XIbnh6wNpc9e",
        "outputId": "804e2c79-04e5-4c68-94db-34d75d23be08",
        "colab": {
          "base_uri": "https://localhost:8080/"
        }
      },
      "execution_count": 76,
      "outputs": [
        {
          "output_type": "stream",
          "name": "stdout",
          "text": [
            "10314 10314\n"
          ]
        }
      ]
    },
    {
      "cell_type": "code",
      "source": [
        "# Split into train and test sets\n",
        "from sklearn.model_selection import train_test_split\n",
        "\n",
        "x_train, x_test, y_train, y_test = train_test_split(x, y, random_state=42)\n",
        "print(len(x_train), len(y_train))\n",
        "print(len(x_test), len(y_test))"
      ],
      "metadata": {
        "execution": {
          "iopub.status.busy": "2024-09-04T02:09:55.483258Z",
          "iopub.execute_input": "2024-09-04T02:09:55.483678Z",
          "iopub.status.idle": "2024-09-04T02:09:55.497406Z",
          "shell.execute_reply.started": "2024-09-04T02:09:55.483646Z",
          "shell.execute_reply": "2024-09-04T02:09:55.496090Z"
        },
        "trusted": true,
        "id": "wZC-PGu1pc9e",
        "outputId": "017bccd1-19b0-470a-92a7-4e6ed9360238",
        "colab": {
          "base_uri": "https://localhost:8080/"
        }
      },
      "execution_count": 93,
      "outputs": [
        {
          "output_type": "stream",
          "name": "stdout",
          "text": [
            "7735 7735\n",
            "2579 2579\n"
          ]
        }
      ]
    },
    {
      "cell_type": "markdown",
      "source": [
        "#### Count Vectorization"
      ],
      "metadata": {
        "id": "iNBOIzpWpc9e"
      }
    },
    {
      "cell_type": "markdown",
      "source": [
        "![image.png](attachment:9a89f1af-947c-4fe4-a83c-8b8580f6d78e.png)"
      ],
      "metadata": {
        "id": "7UHmy_bnpc9f"
      }
    },
    {
      "cell_type": "code",
      "source": [
        "from sklearn.feature_extraction.text import CountVectorizer\n",
        "\n",
        "# instantiate the vectorizer\n",
        "vect = CountVectorizer()\n",
        "vect.fit(x_train)"
      ],
      "metadata": {
        "execution": {
          "iopub.status.busy": "2024-09-04T02:09:57.802812Z",
          "iopub.execute_input": "2024-09-04T02:09:57.803281Z",
          "iopub.status.idle": "2024-09-04T02:09:58.002601Z",
          "shell.execute_reply.started": "2024-09-04T02:09:57.803245Z",
          "shell.execute_reply": "2024-09-04T02:09:58.001444Z"
        },
        "trusted": true,
        "id": "2U-kvgufpc9f",
        "outputId": "1359e8cc-d470-4d79-f998-64daf3a0c86c",
        "colab": {
          "base_uri": "https://localhost:8080/",
          "height": 80
        }
      },
      "execution_count": 78,
      "outputs": [
        {
          "output_type": "execute_result",
          "data": {
            "text/plain": [
              "CountVectorizer()"
            ],
            "text/html": [
              "<style>#sk-container-id-1 {\n",
              "  /* Definition of color scheme common for light and dark mode */\n",
              "  --sklearn-color-text: #000;\n",
              "  --sklearn-color-text-muted: #666;\n",
              "  --sklearn-color-line: gray;\n",
              "  /* Definition of color scheme for unfitted estimators */\n",
              "  --sklearn-color-unfitted-level-0: #fff5e6;\n",
              "  --sklearn-color-unfitted-level-1: #f6e4d2;\n",
              "  --sklearn-color-unfitted-level-2: #ffe0b3;\n",
              "  --sklearn-color-unfitted-level-3: chocolate;\n",
              "  /* Definition of color scheme for fitted estimators */\n",
              "  --sklearn-color-fitted-level-0: #f0f8ff;\n",
              "  --sklearn-color-fitted-level-1: #d4ebff;\n",
              "  --sklearn-color-fitted-level-2: #b3dbfd;\n",
              "  --sklearn-color-fitted-level-3: cornflowerblue;\n",
              "\n",
              "  /* Specific color for light theme */\n",
              "  --sklearn-color-text-on-default-background: var(--sg-text-color, var(--theme-code-foreground, var(--jp-content-font-color1, black)));\n",
              "  --sklearn-color-background: var(--sg-background-color, var(--theme-background, var(--jp-layout-color0, white)));\n",
              "  --sklearn-color-border-box: var(--sg-text-color, var(--theme-code-foreground, var(--jp-content-font-color1, black)));\n",
              "  --sklearn-color-icon: #696969;\n",
              "\n",
              "  @media (prefers-color-scheme: dark) {\n",
              "    /* Redefinition of color scheme for dark theme */\n",
              "    --sklearn-color-text-on-default-background: var(--sg-text-color, var(--theme-code-foreground, var(--jp-content-font-color1, white)));\n",
              "    --sklearn-color-background: var(--sg-background-color, var(--theme-background, var(--jp-layout-color0, #111)));\n",
              "    --sklearn-color-border-box: var(--sg-text-color, var(--theme-code-foreground, var(--jp-content-font-color1, white)));\n",
              "    --sklearn-color-icon: #878787;\n",
              "  }\n",
              "}\n",
              "\n",
              "#sk-container-id-1 {\n",
              "  color: var(--sklearn-color-text);\n",
              "}\n",
              "\n",
              "#sk-container-id-1 pre {\n",
              "  padding: 0;\n",
              "}\n",
              "\n",
              "#sk-container-id-1 input.sk-hidden--visually {\n",
              "  border: 0;\n",
              "  clip: rect(1px 1px 1px 1px);\n",
              "  clip: rect(1px, 1px, 1px, 1px);\n",
              "  height: 1px;\n",
              "  margin: -1px;\n",
              "  overflow: hidden;\n",
              "  padding: 0;\n",
              "  position: absolute;\n",
              "  width: 1px;\n",
              "}\n",
              "\n",
              "#sk-container-id-1 div.sk-dashed-wrapped {\n",
              "  border: 1px dashed var(--sklearn-color-line);\n",
              "  margin: 0 0.4em 0.5em 0.4em;\n",
              "  box-sizing: border-box;\n",
              "  padding-bottom: 0.4em;\n",
              "  background-color: var(--sklearn-color-background);\n",
              "}\n",
              "\n",
              "#sk-container-id-1 div.sk-container {\n",
              "  /* jupyter's `normalize.less` sets `[hidden] { display: none; }`\n",
              "     but bootstrap.min.css set `[hidden] { display: none !important; }`\n",
              "     so we also need the `!important` here to be able to override the\n",
              "     default hidden behavior on the sphinx rendered scikit-learn.org.\n",
              "     See: https://github.com/scikit-learn/scikit-learn/issues/21755 */\n",
              "  display: inline-block !important;\n",
              "  position: relative;\n",
              "}\n",
              "\n",
              "#sk-container-id-1 div.sk-text-repr-fallback {\n",
              "  display: none;\n",
              "}\n",
              "\n",
              "div.sk-parallel-item,\n",
              "div.sk-serial,\n",
              "div.sk-item {\n",
              "  /* draw centered vertical line to link estimators */\n",
              "  background-image: linear-gradient(var(--sklearn-color-text-on-default-background), var(--sklearn-color-text-on-default-background));\n",
              "  background-size: 2px 100%;\n",
              "  background-repeat: no-repeat;\n",
              "  background-position: center center;\n",
              "}\n",
              "\n",
              "/* Parallel-specific style estimator block */\n",
              "\n",
              "#sk-container-id-1 div.sk-parallel-item::after {\n",
              "  content: \"\";\n",
              "  width: 100%;\n",
              "  border-bottom: 2px solid var(--sklearn-color-text-on-default-background);\n",
              "  flex-grow: 1;\n",
              "}\n",
              "\n",
              "#sk-container-id-1 div.sk-parallel {\n",
              "  display: flex;\n",
              "  align-items: stretch;\n",
              "  justify-content: center;\n",
              "  background-color: var(--sklearn-color-background);\n",
              "  position: relative;\n",
              "}\n",
              "\n",
              "#sk-container-id-1 div.sk-parallel-item {\n",
              "  display: flex;\n",
              "  flex-direction: column;\n",
              "}\n",
              "\n",
              "#sk-container-id-1 div.sk-parallel-item:first-child::after {\n",
              "  align-self: flex-end;\n",
              "  width: 50%;\n",
              "}\n",
              "\n",
              "#sk-container-id-1 div.sk-parallel-item:last-child::after {\n",
              "  align-self: flex-start;\n",
              "  width: 50%;\n",
              "}\n",
              "\n",
              "#sk-container-id-1 div.sk-parallel-item:only-child::after {\n",
              "  width: 0;\n",
              "}\n",
              "\n",
              "/* Serial-specific style estimator block */\n",
              "\n",
              "#sk-container-id-1 div.sk-serial {\n",
              "  display: flex;\n",
              "  flex-direction: column;\n",
              "  align-items: center;\n",
              "  background-color: var(--sklearn-color-background);\n",
              "  padding-right: 1em;\n",
              "  padding-left: 1em;\n",
              "}\n",
              "\n",
              "\n",
              "/* Toggleable style: style used for estimator/Pipeline/ColumnTransformer box that is\n",
              "clickable and can be expanded/collapsed.\n",
              "- Pipeline and ColumnTransformer use this feature and define the default style\n",
              "- Estimators will overwrite some part of the style using the `sk-estimator` class\n",
              "*/\n",
              "\n",
              "/* Pipeline and ColumnTransformer style (default) */\n",
              "\n",
              "#sk-container-id-1 div.sk-toggleable {\n",
              "  /* Default theme specific background. It is overwritten whether we have a\n",
              "  specific estimator or a Pipeline/ColumnTransformer */\n",
              "  background-color: var(--sklearn-color-background);\n",
              "}\n",
              "\n",
              "/* Toggleable label */\n",
              "#sk-container-id-1 label.sk-toggleable__label {\n",
              "  cursor: pointer;\n",
              "  display: flex;\n",
              "  width: 100%;\n",
              "  margin-bottom: 0;\n",
              "  padding: 0.5em;\n",
              "  box-sizing: border-box;\n",
              "  text-align: center;\n",
              "  align-items: start;\n",
              "  justify-content: space-between;\n",
              "  gap: 0.5em;\n",
              "}\n",
              "\n",
              "#sk-container-id-1 label.sk-toggleable__label .caption {\n",
              "  font-size: 0.6rem;\n",
              "  font-weight: lighter;\n",
              "  color: var(--sklearn-color-text-muted);\n",
              "}\n",
              "\n",
              "#sk-container-id-1 label.sk-toggleable__label-arrow:before {\n",
              "  /* Arrow on the left of the label */\n",
              "  content: \"▸\";\n",
              "  float: left;\n",
              "  margin-right: 0.25em;\n",
              "  color: var(--sklearn-color-icon);\n",
              "}\n",
              "\n",
              "#sk-container-id-1 label.sk-toggleable__label-arrow:hover:before {\n",
              "  color: var(--sklearn-color-text);\n",
              "}\n",
              "\n",
              "/* Toggleable content - dropdown */\n",
              "\n",
              "#sk-container-id-1 div.sk-toggleable__content {\n",
              "  max-height: 0;\n",
              "  max-width: 0;\n",
              "  overflow: hidden;\n",
              "  text-align: left;\n",
              "  /* unfitted */\n",
              "  background-color: var(--sklearn-color-unfitted-level-0);\n",
              "}\n",
              "\n",
              "#sk-container-id-1 div.sk-toggleable__content.fitted {\n",
              "  /* fitted */\n",
              "  background-color: var(--sklearn-color-fitted-level-0);\n",
              "}\n",
              "\n",
              "#sk-container-id-1 div.sk-toggleable__content pre {\n",
              "  margin: 0.2em;\n",
              "  border-radius: 0.25em;\n",
              "  color: var(--sklearn-color-text);\n",
              "  /* unfitted */\n",
              "  background-color: var(--sklearn-color-unfitted-level-0);\n",
              "}\n",
              "\n",
              "#sk-container-id-1 div.sk-toggleable__content.fitted pre {\n",
              "  /* unfitted */\n",
              "  background-color: var(--sklearn-color-fitted-level-0);\n",
              "}\n",
              "\n",
              "#sk-container-id-1 input.sk-toggleable__control:checked~div.sk-toggleable__content {\n",
              "  /* Expand drop-down */\n",
              "  max-height: 200px;\n",
              "  max-width: 100%;\n",
              "  overflow: auto;\n",
              "}\n",
              "\n",
              "#sk-container-id-1 input.sk-toggleable__control:checked~label.sk-toggleable__label-arrow:before {\n",
              "  content: \"▾\";\n",
              "}\n",
              "\n",
              "/* Pipeline/ColumnTransformer-specific style */\n",
              "\n",
              "#sk-container-id-1 div.sk-label input.sk-toggleable__control:checked~label.sk-toggleable__label {\n",
              "  color: var(--sklearn-color-text);\n",
              "  background-color: var(--sklearn-color-unfitted-level-2);\n",
              "}\n",
              "\n",
              "#sk-container-id-1 div.sk-label.fitted input.sk-toggleable__control:checked~label.sk-toggleable__label {\n",
              "  background-color: var(--sklearn-color-fitted-level-2);\n",
              "}\n",
              "\n",
              "/* Estimator-specific style */\n",
              "\n",
              "/* Colorize estimator box */\n",
              "#sk-container-id-1 div.sk-estimator input.sk-toggleable__control:checked~label.sk-toggleable__label {\n",
              "  /* unfitted */\n",
              "  background-color: var(--sklearn-color-unfitted-level-2);\n",
              "}\n",
              "\n",
              "#sk-container-id-1 div.sk-estimator.fitted input.sk-toggleable__control:checked~label.sk-toggleable__label {\n",
              "  /* fitted */\n",
              "  background-color: var(--sklearn-color-fitted-level-2);\n",
              "}\n",
              "\n",
              "#sk-container-id-1 div.sk-label label.sk-toggleable__label,\n",
              "#sk-container-id-1 div.sk-label label {\n",
              "  /* The background is the default theme color */\n",
              "  color: var(--sklearn-color-text-on-default-background);\n",
              "}\n",
              "\n",
              "/* On hover, darken the color of the background */\n",
              "#sk-container-id-1 div.sk-label:hover label.sk-toggleable__label {\n",
              "  color: var(--sklearn-color-text);\n",
              "  background-color: var(--sklearn-color-unfitted-level-2);\n",
              "}\n",
              "\n",
              "/* Label box, darken color on hover, fitted */\n",
              "#sk-container-id-1 div.sk-label.fitted:hover label.sk-toggleable__label.fitted {\n",
              "  color: var(--sklearn-color-text);\n",
              "  background-color: var(--sklearn-color-fitted-level-2);\n",
              "}\n",
              "\n",
              "/* Estimator label */\n",
              "\n",
              "#sk-container-id-1 div.sk-label label {\n",
              "  font-family: monospace;\n",
              "  font-weight: bold;\n",
              "  display: inline-block;\n",
              "  line-height: 1.2em;\n",
              "}\n",
              "\n",
              "#sk-container-id-1 div.sk-label-container {\n",
              "  text-align: center;\n",
              "}\n",
              "\n",
              "/* Estimator-specific */\n",
              "#sk-container-id-1 div.sk-estimator {\n",
              "  font-family: monospace;\n",
              "  border: 1px dotted var(--sklearn-color-border-box);\n",
              "  border-radius: 0.25em;\n",
              "  box-sizing: border-box;\n",
              "  margin-bottom: 0.5em;\n",
              "  /* unfitted */\n",
              "  background-color: var(--sklearn-color-unfitted-level-0);\n",
              "}\n",
              "\n",
              "#sk-container-id-1 div.sk-estimator.fitted {\n",
              "  /* fitted */\n",
              "  background-color: var(--sklearn-color-fitted-level-0);\n",
              "}\n",
              "\n",
              "/* on hover */\n",
              "#sk-container-id-1 div.sk-estimator:hover {\n",
              "  /* unfitted */\n",
              "  background-color: var(--sklearn-color-unfitted-level-2);\n",
              "}\n",
              "\n",
              "#sk-container-id-1 div.sk-estimator.fitted:hover {\n",
              "  /* fitted */\n",
              "  background-color: var(--sklearn-color-fitted-level-2);\n",
              "}\n",
              "\n",
              "/* Specification for estimator info (e.g. \"i\" and \"?\") */\n",
              "\n",
              "/* Common style for \"i\" and \"?\" */\n",
              "\n",
              ".sk-estimator-doc-link,\n",
              "a:link.sk-estimator-doc-link,\n",
              "a:visited.sk-estimator-doc-link {\n",
              "  float: right;\n",
              "  font-size: smaller;\n",
              "  line-height: 1em;\n",
              "  font-family: monospace;\n",
              "  background-color: var(--sklearn-color-background);\n",
              "  border-radius: 1em;\n",
              "  height: 1em;\n",
              "  width: 1em;\n",
              "  text-decoration: none !important;\n",
              "  margin-left: 0.5em;\n",
              "  text-align: center;\n",
              "  /* unfitted */\n",
              "  border: var(--sklearn-color-unfitted-level-1) 1pt solid;\n",
              "  color: var(--sklearn-color-unfitted-level-1);\n",
              "}\n",
              "\n",
              ".sk-estimator-doc-link.fitted,\n",
              "a:link.sk-estimator-doc-link.fitted,\n",
              "a:visited.sk-estimator-doc-link.fitted {\n",
              "  /* fitted */\n",
              "  border: var(--sklearn-color-fitted-level-1) 1pt solid;\n",
              "  color: var(--sklearn-color-fitted-level-1);\n",
              "}\n",
              "\n",
              "/* On hover */\n",
              "div.sk-estimator:hover .sk-estimator-doc-link:hover,\n",
              ".sk-estimator-doc-link:hover,\n",
              "div.sk-label-container:hover .sk-estimator-doc-link:hover,\n",
              ".sk-estimator-doc-link:hover {\n",
              "  /* unfitted */\n",
              "  background-color: var(--sklearn-color-unfitted-level-3);\n",
              "  color: var(--sklearn-color-background);\n",
              "  text-decoration: none;\n",
              "}\n",
              "\n",
              "div.sk-estimator.fitted:hover .sk-estimator-doc-link.fitted:hover,\n",
              ".sk-estimator-doc-link.fitted:hover,\n",
              "div.sk-label-container:hover .sk-estimator-doc-link.fitted:hover,\n",
              ".sk-estimator-doc-link.fitted:hover {\n",
              "  /* fitted */\n",
              "  background-color: var(--sklearn-color-fitted-level-3);\n",
              "  color: var(--sklearn-color-background);\n",
              "  text-decoration: none;\n",
              "}\n",
              "\n",
              "/* Span, style for the box shown on hovering the info icon */\n",
              ".sk-estimator-doc-link span {\n",
              "  display: none;\n",
              "  z-index: 9999;\n",
              "  position: relative;\n",
              "  font-weight: normal;\n",
              "  right: .2ex;\n",
              "  padding: .5ex;\n",
              "  margin: .5ex;\n",
              "  width: min-content;\n",
              "  min-width: 20ex;\n",
              "  max-width: 50ex;\n",
              "  color: var(--sklearn-color-text);\n",
              "  box-shadow: 2pt 2pt 4pt #999;\n",
              "  /* unfitted */\n",
              "  background: var(--sklearn-color-unfitted-level-0);\n",
              "  border: .5pt solid var(--sklearn-color-unfitted-level-3);\n",
              "}\n",
              "\n",
              ".sk-estimator-doc-link.fitted span {\n",
              "  /* fitted */\n",
              "  background: var(--sklearn-color-fitted-level-0);\n",
              "  border: var(--sklearn-color-fitted-level-3);\n",
              "}\n",
              "\n",
              ".sk-estimator-doc-link:hover span {\n",
              "  display: block;\n",
              "}\n",
              "\n",
              "/* \"?\"-specific style due to the `<a>` HTML tag */\n",
              "\n",
              "#sk-container-id-1 a.estimator_doc_link {\n",
              "  float: right;\n",
              "  font-size: 1rem;\n",
              "  line-height: 1em;\n",
              "  font-family: monospace;\n",
              "  background-color: var(--sklearn-color-background);\n",
              "  border-radius: 1rem;\n",
              "  height: 1rem;\n",
              "  width: 1rem;\n",
              "  text-decoration: none;\n",
              "  /* unfitted */\n",
              "  color: var(--sklearn-color-unfitted-level-1);\n",
              "  border: var(--sklearn-color-unfitted-level-1) 1pt solid;\n",
              "}\n",
              "\n",
              "#sk-container-id-1 a.estimator_doc_link.fitted {\n",
              "  /* fitted */\n",
              "  border: var(--sklearn-color-fitted-level-1) 1pt solid;\n",
              "  color: var(--sklearn-color-fitted-level-1);\n",
              "}\n",
              "\n",
              "/* On hover */\n",
              "#sk-container-id-1 a.estimator_doc_link:hover {\n",
              "  /* unfitted */\n",
              "  background-color: var(--sklearn-color-unfitted-level-3);\n",
              "  color: var(--sklearn-color-background);\n",
              "  text-decoration: none;\n",
              "}\n",
              "\n",
              "#sk-container-id-1 a.estimator_doc_link.fitted:hover {\n",
              "  /* fitted */\n",
              "  background-color: var(--sklearn-color-fitted-level-3);\n",
              "}\n",
              "</style><div id=\"sk-container-id-1\" class=\"sk-top-container\"><div class=\"sk-text-repr-fallback\"><pre>CountVectorizer()</pre><b>In a Jupyter environment, please rerun this cell to show the HTML representation or trust the notebook. <br />On GitHub, the HTML representation is unable to render, please try loading this page with nbviewer.org.</b></div><div class=\"sk-container\" hidden><div class=\"sk-item\"><div class=\"sk-estimator fitted sk-toggleable\"><input class=\"sk-toggleable__control sk-hidden--visually\" id=\"sk-estimator-id-1\" type=\"checkbox\" checked><label for=\"sk-estimator-id-1\" class=\"sk-toggleable__label fitted sk-toggleable__label-arrow\"><div><div>CountVectorizer</div></div><div><a class=\"sk-estimator-doc-link fitted\" rel=\"noreferrer\" target=\"_blank\" href=\"https://scikit-learn.org/1.6/modules/generated/sklearn.feature_extraction.text.CountVectorizer.html\">?<span>Documentation for CountVectorizer</span></a><span class=\"sk-estimator-doc-link fitted\">i<span>Fitted</span></span></div></label><div class=\"sk-toggleable__content fitted\"><pre>CountVectorizer()</pre></div> </div></div></div></div>"
            ]
          },
          "metadata": {},
          "execution_count": 78
        }
      ]
    },
    {
      "cell_type": "code",
      "source": [
        "vect.get_feature_names_out()"
      ],
      "metadata": {
        "colab": {
          "base_uri": "https://localhost:8080/"
        },
        "id": "sGGZheKt95P6",
        "outputId": "cdaef8a8-c8b6-43e4-d9e1-38d13e9a2d08"
      },
      "execution_count": 94,
      "outputs": [
        {
          "output_type": "execute_result",
          "data": {
            "text/plain": [
              "array(['00', '033654', '040', ..., 'žã', 'žå', 'ˆç'], dtype=object)"
            ]
          },
          "metadata": {},
          "execution_count": 94
        }
      ]
    },
    {
      "cell_type": "code",
      "source": [
        "# Use the trained to create a document-term matrix from train and test sets\n",
        "x_train_dtm = vect.transform(x_train)\n",
        "x_test_dtm = vect.transform(x_test)"
      ],
      "metadata": {
        "execution": {
          "iopub.status.busy": "2024-09-04T02:09:58.545588Z",
          "iopub.execute_input": "2024-09-04T02:09:58.546032Z",
          "iopub.status.idle": "2024-09-04T02:09:58.730107Z",
          "shell.execute_reply.started": "2024-09-04T02:09:58.545998Z",
          "shell.execute_reply": "2024-09-04T02:09:58.728756Z"
        },
        "trusted": true,
        "id": "Gxgg1pjlpc9f"
      },
      "execution_count": 79,
      "outputs": []
    },
    {
      "cell_type": "code",
      "source": [
        "x_test_dtm.toarray().shape"
      ],
      "metadata": {
        "execution": {
          "iopub.status.busy": "2024-09-04T02:09:59.370744Z",
          "iopub.execute_input": "2024-09-04T02:09:59.371593Z",
          "iopub.status.idle": "2024-09-04T02:09:59.426191Z",
          "shell.execute_reply.started": "2024-09-04T02:09:59.371552Z",
          "shell.execute_reply": "2024-09-04T02:09:59.425068Z"
        },
        "trusted": true,
        "id": "j-6LGVImpc9f",
        "outputId": "8e6da8a4-8b69-4242-c97d-86fadde620fb",
        "colab": {
          "base_uri": "https://localhost:8080/"
        }
      },
      "execution_count": 80,
      "outputs": [
        {
          "output_type": "execute_result",
          "data": {
            "text/plain": [
              "(2579, 18123)"
            ]
          },
          "metadata": {},
          "execution_count": 80
        }
      ]
    },
    {
      "cell_type": "code",
      "source": [
        "x_test[0]"
      ],
      "metadata": {
        "colab": {
          "base_uri": "https://localhost:8080/",
          "height": 35
        },
        "id": "AMA17LVQ6vAC",
        "outputId": "310e1eb3-181d-483e-d2b3-95cbe5305056"
      },
      "execution_count": 87,
      "outputs": [
        {
          "output_type": "execute_result",
          "data": {
            "text/plain": [
              "'   real good moment  missssssssss   much'"
            ],
            "application/vnd.google.colaboratory.intrinsic+json": {
              "type": "string"
            }
          },
          "metadata": {},
          "execution_count": 87
        }
      ]
    },
    {
      "cell_type": "code",
      "source": [
        "print(x_test_dtm[0].toarray().shape)"
      ],
      "metadata": {
        "colab": {
          "base_uri": "https://localhost:8080/"
        },
        "id": "VsKS0AjR6kpy",
        "outputId": "09ebcf87-8c4b-4dc9-e31b-ef4e9da7c59e"
      },
      "execution_count": 88,
      "outputs": [
        {
          "output_type": "stream",
          "name": "stdout",
          "text": [
            "(1, 18123)\n"
          ]
        }
      ]
    },
    {
      "cell_type": "code",
      "source": [],
      "metadata": {
        "id": "BkvEEJS17_Ur"
      },
      "execution_count": null,
      "outputs": []
    },
    {
      "cell_type": "markdown",
      "source": [
        "### 🔹 Common Parameters in `CountVectorizer`\n",
        "\n",
        "#### 1. **`stop_words`**\n",
        "\n",
        "Removes very common, less meaningful words.\n",
        "\n",
        "```python\n",
        "from sklearn.feature_extraction.text import CountVectorizer\n",
        "\n",
        "docs = [\"I love data science\", \"Data is the new oil\", \"I love coding\"]\n",
        "\n",
        "# Remove common English stop words like \"I\", \"the\", \"is\"\n",
        "vect = CountVectorizer(stop_words='english')\n",
        "X = vect.fit_transform(docs)\n",
        "\n",
        "print(vect.get_feature_names_out())\n",
        "```\n",
        "\n",
        "Output:\n",
        "\n",
        "```\n",
        "['coding' 'data' 'love' 'new' 'oil' 'science']\n",
        "```\n",
        "\n",
        "👉 Words like `\"I\"`, `\"the\"`, `\"is\"` are dropped.\n",
        "\n",
        "---\n",
        "\n",
        "#### 2. **`ngram_range`**\n",
        "\n",
        "Includes multi-word features (n-grams).\n",
        "\n",
        "```python\n",
        "vect = CountVectorizer(ngram_range=(1,2))  # unigrams + bigrams\n",
        "X = vect.fit_transform(docs)\n",
        "\n",
        "print(vect.get_feature_names_out()[:10])  # first 10 features\n",
        "```\n",
        "\n",
        "Output (partial):\n",
        "\n",
        "```\n",
        "['coding' 'data' 'data is' 'data science' 'is' 'is the'\n",
        " 'love' 'love coding' 'love data' 'new']\n",
        "```\n",
        "\n",
        "👉 Notice both single words and pairs (`\"data science\"`, `\"love data\"`) appear.\n",
        "\n",
        "---\n",
        "\n",
        "#### 3. **`min_df` and `max_df`**\n",
        "\n",
        "Filter out words that appear **too rarely** or **too often**.\n",
        "\n",
        "```python\n",
        "docs = [\"apple banana apple\",\n",
        "        \"banana fruit banana\",\n",
        "        \"apple fruit orange\"]\n",
        "\n",
        "# Remove words appearing in less than 2 documents\n",
        "vect = CountVectorizer(min_df=2)\n",
        "X = vect.fit_transform(docs)\n",
        "\n",
        "print(vect.get_feature_names_out())\n",
        "```\n",
        "\n",
        "Output:\n",
        "\n",
        "```\n",
        "['apple' 'banana' 'fruit']\n",
        "```\n",
        "\n",
        "👉 `\"orange\"` was dropped because it appears only once.\n",
        "\n",
        "---\n",
        "\n",
        "#### 4. **`max_features`**\n",
        "\n",
        "Keep only the top N most frequent words.\n",
        "\n",
        "```python\n",
        "vect = CountVectorizer(max_features=3)\n",
        "X = vect.fit_transform(docs)\n",
        "\n",
        "print(vect.get_feature_names_out())\n",
        "```\n",
        "\n",
        "Output:\n",
        "\n",
        "```\n",
        "['apple' 'banana' 'fruit']\n",
        "```\n",
        "\n",
        "👉 Only the 3 most common words are kept.\n",
        "\n",
        "---\n",
        "\n",
        "### 🔹 Example: Combining Parameters\n",
        "\n",
        "```python\n",
        "vect = CountVectorizer(\n",
        "    stop_words='english',\n",
        "    ngram_range=(1,2),\n",
        "    min_df=2,\n",
        "    max_df=0.9,\n",
        "    max_features=100\n",
        ")\n",
        "```\n",
        "\n",
        "This will:\n",
        "\n",
        "* Remove English stopwords.\n",
        "* Include unigrams + bigrams.\n",
        "* Keep terms appearing in **at least 2 documents** but **less than 90%** of documents.\n",
        "* Restrict vocabulary to the **100 most frequent terms**."
      ],
      "metadata": {
        "id": "7UgCkDCF7_tS"
      }
    },
    {
      "cell_type": "code",
      "source": [],
      "metadata": {
        "id": "V8sskYbx8AD6"
      },
      "execution_count": null,
      "outputs": []
    },
    {
      "cell_type": "markdown",
      "source": [
        "```CountVectorizer``` has a few parameters you should know.\n",
        "\n",
        "**stop_words:** Since ```CountVectorizer``` just counts the occurrences of each word in its vocabulary, extremely common words like ```the```, ```and```, etc.<br>\n",
        " will become very important features while they add little meaning to the text. Your model can often be improved if you don’t take those words into account. Stop words are just a list of words you don’t want to use as features. You can set the parameter ```stop_words='english'``` to use a built-in list. Alternatively you can set stop_words equal to some custom list. This parameter defaults to None.\n",
        "\n",
        "**ngram_range:** An n-gram is just a string of n words in a row. E.g. the sentence ‘I am Groot’ contains the 2-grams ‘I am’ and ‘am Groot’. The sentence is itself a 3-gram. Set the parameter ngram_range=(a,b) where a is the minimum and b is the maximum size of ngrams you want to include in your features. The default ngram_range is (1,1). In a recent project where I modeled job postings online, I found that including 2-grams as features boosted my model’s predictive power significantly. This makes intuitive sense; many job titles such as ‘data scientist’, ‘data engineer’, and ‘data analyst’ are 2 words long.<br>\n",
        "\n",
        "**min_df, max_df:** These are the minimum and maximum document frequencies words/n-grams must have to be used as features. If either of these parameters are set to integers, they will be used as bounds on the number of documents each feature must be in to be considered as a feature. If either is set to a float, that number will be interpreted as a frequency rather than a numerical limit. min_df defaults to 1 (int) and max_df defaults to 1.0 (float).\n",
        "\n",
        "**max_features:** This parameter is pretty self-explanatory. The CountVectorizer will choose the words/features that occur most frequently to be in its’ vocabulary and drop everything else.\n",
        "\n",
        "You would set these parameters when initializing your CountVectorizer object as shown below."
      ],
      "metadata": {
        "id": "tJQVCyTxpc9f"
      }
    },
    {
      "cell_type": "code",
      "source": [
        "\"\"\"\n",
        "min_df=0.1 → keep words appearing in < 10% documents.\n",
        "\n",
        "max_df=0.7 → ignore words appearing in >80% of documents.\n",
        "\n",
        "max_features:\n",
        "  Limit vocabulary size to the top-100 most frequent words.\n",
        "\"\"\"\n",
        "\n",
        "\n",
        "vect_tunned = CountVectorizer(stop_words='english', min_df=0.1, max_features=100)"
      ],
      "metadata": {
        "execution": {
          "iopub.status.busy": "2024-09-04T02:10:05.991332Z",
          "iopub.execute_input": "2024-09-04T02:10:05.992454Z",
          "iopub.status.idle": "2024-09-04T02:10:05.998109Z",
          "shell.execute_reply.started": "2024-09-04T02:10:05.992411Z",
          "shell.execute_reply": "2024-09-04T02:10:05.996948Z"
        },
        "trusted": true,
        "id": "RibOwTLZpc9f"
      },
      "execution_count": 98,
      "outputs": []
    },
    {
      "cell_type": "code",
      "source": [
        "vect_tunned"
      ],
      "metadata": {
        "colab": {
          "base_uri": "https://localhost:8080/",
          "height": 80
        },
        "id": "6BaK-N1y9EsU",
        "outputId": "cc31a0d8-426d-462a-f638-e4efe9d2d5fd"
      },
      "execution_count": 99,
      "outputs": [
        {
          "output_type": "execute_result",
          "data": {
            "text/plain": [
              "CountVectorizer(max_features=100, min_df=0.1, stop_words='english')"
            ],
            "text/html": [
              "<style>#sk-container-id-4 {\n",
              "  /* Definition of color scheme common for light and dark mode */\n",
              "  --sklearn-color-text: #000;\n",
              "  --sklearn-color-text-muted: #666;\n",
              "  --sklearn-color-line: gray;\n",
              "  /* Definition of color scheme for unfitted estimators */\n",
              "  --sklearn-color-unfitted-level-0: #fff5e6;\n",
              "  --sklearn-color-unfitted-level-1: #f6e4d2;\n",
              "  --sklearn-color-unfitted-level-2: #ffe0b3;\n",
              "  --sklearn-color-unfitted-level-3: chocolate;\n",
              "  /* Definition of color scheme for fitted estimators */\n",
              "  --sklearn-color-fitted-level-0: #f0f8ff;\n",
              "  --sklearn-color-fitted-level-1: #d4ebff;\n",
              "  --sklearn-color-fitted-level-2: #b3dbfd;\n",
              "  --sklearn-color-fitted-level-3: cornflowerblue;\n",
              "\n",
              "  /* Specific color for light theme */\n",
              "  --sklearn-color-text-on-default-background: var(--sg-text-color, var(--theme-code-foreground, var(--jp-content-font-color1, black)));\n",
              "  --sklearn-color-background: var(--sg-background-color, var(--theme-background, var(--jp-layout-color0, white)));\n",
              "  --sklearn-color-border-box: var(--sg-text-color, var(--theme-code-foreground, var(--jp-content-font-color1, black)));\n",
              "  --sklearn-color-icon: #696969;\n",
              "\n",
              "  @media (prefers-color-scheme: dark) {\n",
              "    /* Redefinition of color scheme for dark theme */\n",
              "    --sklearn-color-text-on-default-background: var(--sg-text-color, var(--theme-code-foreground, var(--jp-content-font-color1, white)));\n",
              "    --sklearn-color-background: var(--sg-background-color, var(--theme-background, var(--jp-layout-color0, #111)));\n",
              "    --sklearn-color-border-box: var(--sg-text-color, var(--theme-code-foreground, var(--jp-content-font-color1, white)));\n",
              "    --sklearn-color-icon: #878787;\n",
              "  }\n",
              "}\n",
              "\n",
              "#sk-container-id-4 {\n",
              "  color: var(--sklearn-color-text);\n",
              "}\n",
              "\n",
              "#sk-container-id-4 pre {\n",
              "  padding: 0;\n",
              "}\n",
              "\n",
              "#sk-container-id-4 input.sk-hidden--visually {\n",
              "  border: 0;\n",
              "  clip: rect(1px 1px 1px 1px);\n",
              "  clip: rect(1px, 1px, 1px, 1px);\n",
              "  height: 1px;\n",
              "  margin: -1px;\n",
              "  overflow: hidden;\n",
              "  padding: 0;\n",
              "  position: absolute;\n",
              "  width: 1px;\n",
              "}\n",
              "\n",
              "#sk-container-id-4 div.sk-dashed-wrapped {\n",
              "  border: 1px dashed var(--sklearn-color-line);\n",
              "  margin: 0 0.4em 0.5em 0.4em;\n",
              "  box-sizing: border-box;\n",
              "  padding-bottom: 0.4em;\n",
              "  background-color: var(--sklearn-color-background);\n",
              "}\n",
              "\n",
              "#sk-container-id-4 div.sk-container {\n",
              "  /* jupyter's `normalize.less` sets `[hidden] { display: none; }`\n",
              "     but bootstrap.min.css set `[hidden] { display: none !important; }`\n",
              "     so we also need the `!important` here to be able to override the\n",
              "     default hidden behavior on the sphinx rendered scikit-learn.org.\n",
              "     See: https://github.com/scikit-learn/scikit-learn/issues/21755 */\n",
              "  display: inline-block !important;\n",
              "  position: relative;\n",
              "}\n",
              "\n",
              "#sk-container-id-4 div.sk-text-repr-fallback {\n",
              "  display: none;\n",
              "}\n",
              "\n",
              "div.sk-parallel-item,\n",
              "div.sk-serial,\n",
              "div.sk-item {\n",
              "  /* draw centered vertical line to link estimators */\n",
              "  background-image: linear-gradient(var(--sklearn-color-text-on-default-background), var(--sklearn-color-text-on-default-background));\n",
              "  background-size: 2px 100%;\n",
              "  background-repeat: no-repeat;\n",
              "  background-position: center center;\n",
              "}\n",
              "\n",
              "/* Parallel-specific style estimator block */\n",
              "\n",
              "#sk-container-id-4 div.sk-parallel-item::after {\n",
              "  content: \"\";\n",
              "  width: 100%;\n",
              "  border-bottom: 2px solid var(--sklearn-color-text-on-default-background);\n",
              "  flex-grow: 1;\n",
              "}\n",
              "\n",
              "#sk-container-id-4 div.sk-parallel {\n",
              "  display: flex;\n",
              "  align-items: stretch;\n",
              "  justify-content: center;\n",
              "  background-color: var(--sklearn-color-background);\n",
              "  position: relative;\n",
              "}\n",
              "\n",
              "#sk-container-id-4 div.sk-parallel-item {\n",
              "  display: flex;\n",
              "  flex-direction: column;\n",
              "}\n",
              "\n",
              "#sk-container-id-4 div.sk-parallel-item:first-child::after {\n",
              "  align-self: flex-end;\n",
              "  width: 50%;\n",
              "}\n",
              "\n",
              "#sk-container-id-4 div.sk-parallel-item:last-child::after {\n",
              "  align-self: flex-start;\n",
              "  width: 50%;\n",
              "}\n",
              "\n",
              "#sk-container-id-4 div.sk-parallel-item:only-child::after {\n",
              "  width: 0;\n",
              "}\n",
              "\n",
              "/* Serial-specific style estimator block */\n",
              "\n",
              "#sk-container-id-4 div.sk-serial {\n",
              "  display: flex;\n",
              "  flex-direction: column;\n",
              "  align-items: center;\n",
              "  background-color: var(--sklearn-color-background);\n",
              "  padding-right: 1em;\n",
              "  padding-left: 1em;\n",
              "}\n",
              "\n",
              "\n",
              "/* Toggleable style: style used for estimator/Pipeline/ColumnTransformer box that is\n",
              "clickable and can be expanded/collapsed.\n",
              "- Pipeline and ColumnTransformer use this feature and define the default style\n",
              "- Estimators will overwrite some part of the style using the `sk-estimator` class\n",
              "*/\n",
              "\n",
              "/* Pipeline and ColumnTransformer style (default) */\n",
              "\n",
              "#sk-container-id-4 div.sk-toggleable {\n",
              "  /* Default theme specific background. It is overwritten whether we have a\n",
              "  specific estimator or a Pipeline/ColumnTransformer */\n",
              "  background-color: var(--sklearn-color-background);\n",
              "}\n",
              "\n",
              "/* Toggleable label */\n",
              "#sk-container-id-4 label.sk-toggleable__label {\n",
              "  cursor: pointer;\n",
              "  display: flex;\n",
              "  width: 100%;\n",
              "  margin-bottom: 0;\n",
              "  padding: 0.5em;\n",
              "  box-sizing: border-box;\n",
              "  text-align: center;\n",
              "  align-items: start;\n",
              "  justify-content: space-between;\n",
              "  gap: 0.5em;\n",
              "}\n",
              "\n",
              "#sk-container-id-4 label.sk-toggleable__label .caption {\n",
              "  font-size: 0.6rem;\n",
              "  font-weight: lighter;\n",
              "  color: var(--sklearn-color-text-muted);\n",
              "}\n",
              "\n",
              "#sk-container-id-4 label.sk-toggleable__label-arrow:before {\n",
              "  /* Arrow on the left of the label */\n",
              "  content: \"▸\";\n",
              "  float: left;\n",
              "  margin-right: 0.25em;\n",
              "  color: var(--sklearn-color-icon);\n",
              "}\n",
              "\n",
              "#sk-container-id-4 label.sk-toggleable__label-arrow:hover:before {\n",
              "  color: var(--sklearn-color-text);\n",
              "}\n",
              "\n",
              "/* Toggleable content - dropdown */\n",
              "\n",
              "#sk-container-id-4 div.sk-toggleable__content {\n",
              "  max-height: 0;\n",
              "  max-width: 0;\n",
              "  overflow: hidden;\n",
              "  text-align: left;\n",
              "  /* unfitted */\n",
              "  background-color: var(--sklearn-color-unfitted-level-0);\n",
              "}\n",
              "\n",
              "#sk-container-id-4 div.sk-toggleable__content.fitted {\n",
              "  /* fitted */\n",
              "  background-color: var(--sklearn-color-fitted-level-0);\n",
              "}\n",
              "\n",
              "#sk-container-id-4 div.sk-toggleable__content pre {\n",
              "  margin: 0.2em;\n",
              "  border-radius: 0.25em;\n",
              "  color: var(--sklearn-color-text);\n",
              "  /* unfitted */\n",
              "  background-color: var(--sklearn-color-unfitted-level-0);\n",
              "}\n",
              "\n",
              "#sk-container-id-4 div.sk-toggleable__content.fitted pre {\n",
              "  /* unfitted */\n",
              "  background-color: var(--sklearn-color-fitted-level-0);\n",
              "}\n",
              "\n",
              "#sk-container-id-4 input.sk-toggleable__control:checked~div.sk-toggleable__content {\n",
              "  /* Expand drop-down */\n",
              "  max-height: 200px;\n",
              "  max-width: 100%;\n",
              "  overflow: auto;\n",
              "}\n",
              "\n",
              "#sk-container-id-4 input.sk-toggleable__control:checked~label.sk-toggleable__label-arrow:before {\n",
              "  content: \"▾\";\n",
              "}\n",
              "\n",
              "/* Pipeline/ColumnTransformer-specific style */\n",
              "\n",
              "#sk-container-id-4 div.sk-label input.sk-toggleable__control:checked~label.sk-toggleable__label {\n",
              "  color: var(--sklearn-color-text);\n",
              "  background-color: var(--sklearn-color-unfitted-level-2);\n",
              "}\n",
              "\n",
              "#sk-container-id-4 div.sk-label.fitted input.sk-toggleable__control:checked~label.sk-toggleable__label {\n",
              "  background-color: var(--sklearn-color-fitted-level-2);\n",
              "}\n",
              "\n",
              "/* Estimator-specific style */\n",
              "\n",
              "/* Colorize estimator box */\n",
              "#sk-container-id-4 div.sk-estimator input.sk-toggleable__control:checked~label.sk-toggleable__label {\n",
              "  /* unfitted */\n",
              "  background-color: var(--sklearn-color-unfitted-level-2);\n",
              "}\n",
              "\n",
              "#sk-container-id-4 div.sk-estimator.fitted input.sk-toggleable__control:checked~label.sk-toggleable__label {\n",
              "  /* fitted */\n",
              "  background-color: var(--sklearn-color-fitted-level-2);\n",
              "}\n",
              "\n",
              "#sk-container-id-4 div.sk-label label.sk-toggleable__label,\n",
              "#sk-container-id-4 div.sk-label label {\n",
              "  /* The background is the default theme color */\n",
              "  color: var(--sklearn-color-text-on-default-background);\n",
              "}\n",
              "\n",
              "/* On hover, darken the color of the background */\n",
              "#sk-container-id-4 div.sk-label:hover label.sk-toggleable__label {\n",
              "  color: var(--sklearn-color-text);\n",
              "  background-color: var(--sklearn-color-unfitted-level-2);\n",
              "}\n",
              "\n",
              "/* Label box, darken color on hover, fitted */\n",
              "#sk-container-id-4 div.sk-label.fitted:hover label.sk-toggleable__label.fitted {\n",
              "  color: var(--sklearn-color-text);\n",
              "  background-color: var(--sklearn-color-fitted-level-2);\n",
              "}\n",
              "\n",
              "/* Estimator label */\n",
              "\n",
              "#sk-container-id-4 div.sk-label label {\n",
              "  font-family: monospace;\n",
              "  font-weight: bold;\n",
              "  display: inline-block;\n",
              "  line-height: 1.2em;\n",
              "}\n",
              "\n",
              "#sk-container-id-4 div.sk-label-container {\n",
              "  text-align: center;\n",
              "}\n",
              "\n",
              "/* Estimator-specific */\n",
              "#sk-container-id-4 div.sk-estimator {\n",
              "  font-family: monospace;\n",
              "  border: 1px dotted var(--sklearn-color-border-box);\n",
              "  border-radius: 0.25em;\n",
              "  box-sizing: border-box;\n",
              "  margin-bottom: 0.5em;\n",
              "  /* unfitted */\n",
              "  background-color: var(--sklearn-color-unfitted-level-0);\n",
              "}\n",
              "\n",
              "#sk-container-id-4 div.sk-estimator.fitted {\n",
              "  /* fitted */\n",
              "  background-color: var(--sklearn-color-fitted-level-0);\n",
              "}\n",
              "\n",
              "/* on hover */\n",
              "#sk-container-id-4 div.sk-estimator:hover {\n",
              "  /* unfitted */\n",
              "  background-color: var(--sklearn-color-unfitted-level-2);\n",
              "}\n",
              "\n",
              "#sk-container-id-4 div.sk-estimator.fitted:hover {\n",
              "  /* fitted */\n",
              "  background-color: var(--sklearn-color-fitted-level-2);\n",
              "}\n",
              "\n",
              "/* Specification for estimator info (e.g. \"i\" and \"?\") */\n",
              "\n",
              "/* Common style for \"i\" and \"?\" */\n",
              "\n",
              ".sk-estimator-doc-link,\n",
              "a:link.sk-estimator-doc-link,\n",
              "a:visited.sk-estimator-doc-link {\n",
              "  float: right;\n",
              "  font-size: smaller;\n",
              "  line-height: 1em;\n",
              "  font-family: monospace;\n",
              "  background-color: var(--sklearn-color-background);\n",
              "  border-radius: 1em;\n",
              "  height: 1em;\n",
              "  width: 1em;\n",
              "  text-decoration: none !important;\n",
              "  margin-left: 0.5em;\n",
              "  text-align: center;\n",
              "  /* unfitted */\n",
              "  border: var(--sklearn-color-unfitted-level-1) 1pt solid;\n",
              "  color: var(--sklearn-color-unfitted-level-1);\n",
              "}\n",
              "\n",
              ".sk-estimator-doc-link.fitted,\n",
              "a:link.sk-estimator-doc-link.fitted,\n",
              "a:visited.sk-estimator-doc-link.fitted {\n",
              "  /* fitted */\n",
              "  border: var(--sklearn-color-fitted-level-1) 1pt solid;\n",
              "  color: var(--sklearn-color-fitted-level-1);\n",
              "}\n",
              "\n",
              "/* On hover */\n",
              "div.sk-estimator:hover .sk-estimator-doc-link:hover,\n",
              ".sk-estimator-doc-link:hover,\n",
              "div.sk-label-container:hover .sk-estimator-doc-link:hover,\n",
              ".sk-estimator-doc-link:hover {\n",
              "  /* unfitted */\n",
              "  background-color: var(--sklearn-color-unfitted-level-3);\n",
              "  color: var(--sklearn-color-background);\n",
              "  text-decoration: none;\n",
              "}\n",
              "\n",
              "div.sk-estimator.fitted:hover .sk-estimator-doc-link.fitted:hover,\n",
              ".sk-estimator-doc-link.fitted:hover,\n",
              "div.sk-label-container:hover .sk-estimator-doc-link.fitted:hover,\n",
              ".sk-estimator-doc-link.fitted:hover {\n",
              "  /* fitted */\n",
              "  background-color: var(--sklearn-color-fitted-level-3);\n",
              "  color: var(--sklearn-color-background);\n",
              "  text-decoration: none;\n",
              "}\n",
              "\n",
              "/* Span, style for the box shown on hovering the info icon */\n",
              ".sk-estimator-doc-link span {\n",
              "  display: none;\n",
              "  z-index: 9999;\n",
              "  position: relative;\n",
              "  font-weight: normal;\n",
              "  right: .2ex;\n",
              "  padding: .5ex;\n",
              "  margin: .5ex;\n",
              "  width: min-content;\n",
              "  min-width: 20ex;\n",
              "  max-width: 50ex;\n",
              "  color: var(--sklearn-color-text);\n",
              "  box-shadow: 2pt 2pt 4pt #999;\n",
              "  /* unfitted */\n",
              "  background: var(--sklearn-color-unfitted-level-0);\n",
              "  border: .5pt solid var(--sklearn-color-unfitted-level-3);\n",
              "}\n",
              "\n",
              ".sk-estimator-doc-link.fitted span {\n",
              "  /* fitted */\n",
              "  background: var(--sklearn-color-fitted-level-0);\n",
              "  border: var(--sklearn-color-fitted-level-3);\n",
              "}\n",
              "\n",
              ".sk-estimator-doc-link:hover span {\n",
              "  display: block;\n",
              "}\n",
              "\n",
              "/* \"?\"-specific style due to the `<a>` HTML tag */\n",
              "\n",
              "#sk-container-id-4 a.estimator_doc_link {\n",
              "  float: right;\n",
              "  font-size: 1rem;\n",
              "  line-height: 1em;\n",
              "  font-family: monospace;\n",
              "  background-color: var(--sklearn-color-background);\n",
              "  border-radius: 1rem;\n",
              "  height: 1rem;\n",
              "  width: 1rem;\n",
              "  text-decoration: none;\n",
              "  /* unfitted */\n",
              "  color: var(--sklearn-color-unfitted-level-1);\n",
              "  border: var(--sklearn-color-unfitted-level-1) 1pt solid;\n",
              "}\n",
              "\n",
              "#sk-container-id-4 a.estimator_doc_link.fitted {\n",
              "  /* fitted */\n",
              "  border: var(--sklearn-color-fitted-level-1) 1pt solid;\n",
              "  color: var(--sklearn-color-fitted-level-1);\n",
              "}\n",
              "\n",
              "/* On hover */\n",
              "#sk-container-id-4 a.estimator_doc_link:hover {\n",
              "  /* unfitted */\n",
              "  background-color: var(--sklearn-color-unfitted-level-3);\n",
              "  color: var(--sklearn-color-background);\n",
              "  text-decoration: none;\n",
              "}\n",
              "\n",
              "#sk-container-id-4 a.estimator_doc_link.fitted:hover {\n",
              "  /* fitted */\n",
              "  background-color: var(--sklearn-color-fitted-level-3);\n",
              "}\n",
              "</style><div id=\"sk-container-id-4\" class=\"sk-top-container\"><div class=\"sk-text-repr-fallback\"><pre>CountVectorizer(max_features=100, min_df=0.1, stop_words=&#x27;english&#x27;)</pre><b>In a Jupyter environment, please rerun this cell to show the HTML representation or trust the notebook. <br />On GitHub, the HTML representation is unable to render, please try loading this page with nbviewer.org.</b></div><div class=\"sk-container\" hidden><div class=\"sk-item\"><div class=\"sk-estimator  sk-toggleable\"><input class=\"sk-toggleable__control sk-hidden--visually\" id=\"sk-estimator-id-4\" type=\"checkbox\" checked><label for=\"sk-estimator-id-4\" class=\"sk-toggleable__label  sk-toggleable__label-arrow\"><div><div>CountVectorizer</div></div><div><a class=\"sk-estimator-doc-link \" rel=\"noreferrer\" target=\"_blank\" href=\"https://scikit-learn.org/1.6/modules/generated/sklearn.feature_extraction.text.CountVectorizer.html\">?<span>Documentation for CountVectorizer</span></a><span class=\"sk-estimator-doc-link \">i<span>Not fitted</span></span></div></label><div class=\"sk-toggleable__content \"><pre>CountVectorizer(max_features=100, min_df=0.1, stop_words=&#x27;english&#x27;)</pre></div> </div></div></div></div>"
            ]
          },
          "metadata": {},
          "execution_count": 99
        }
      ]
    },
    {
      "cell_type": "code",
      "source": [
        "from sklearn.feature_extraction.text import TfidfTransformer\n",
        "\n",
        "tfidf_transformer = TfidfTransformer()\n",
        "\n",
        "tfidf_transformer.fit(x_train_dtm)\n",
        "x_train_tfidf = tfidf_transformer.transform(x_train_dtm)\n",
        "\n",
        "x_train_tfidf"
      ],
      "metadata": {
        "execution": {
          "iopub.status.busy": "2024-09-04T02:10:53.362028Z",
          "iopub.execute_input": "2024-09-04T02:10:53.363154Z",
          "iopub.status.idle": "2024-09-04T02:10:53.386251Z",
          "shell.execute_reply.started": "2024-09-04T02:10:53.363112Z",
          "shell.execute_reply": "2024-09-04T02:10:53.385022Z"
        },
        "trusted": true,
        "id": "swouBVIIpc9f",
        "outputId": "f7318226-491f-4be5-a05a-fee2ad390617",
        "colab": {
          "base_uri": "https://localhost:8080/"
        }
      },
      "execution_count": 101,
      "outputs": [
        {
          "output_type": "execute_result",
          "data": {
            "text/plain": [
              "<Compressed Sparse Row sparse matrix of dtype 'float64'\n",
              "\twith 66329 stored elements and shape (7735, 18123)>"
            ]
          },
          "metadata": {},
          "execution_count": 101
        }
      ]
    },
    {
      "cell_type": "code",
      "source": [
        "x_test_tfidf = tfidf_transformer.transform(x_test_dtm)"
      ],
      "metadata": {
        "execution": {
          "iopub.status.busy": "2024-09-04T02:56:02.037803Z",
          "iopub.execute_input": "2024-09-04T02:56:02.038509Z",
          "iopub.status.idle": "2024-09-04T02:56:02.051117Z",
          "shell.execute_reply.started": "2024-09-04T02:56:02.038454Z",
          "shell.execute_reply": "2024-09-04T02:56:02.049769Z"
        },
        "trusted": true,
        "id": "rIHbEXqbpc9f"
      },
      "execution_count": 102,
      "outputs": []
    },
    {
      "cell_type": "code",
      "source": [
        "x_train_tfidf.toarray().shape"
      ],
      "metadata": {
        "execution": {
          "iopub.status.busy": "2024-09-04T02:48:41.608518Z",
          "iopub.execute_input": "2024-09-04T02:48:41.608921Z",
          "iopub.status.idle": "2024-09-04T02:48:42.029910Z",
          "shell.execute_reply.started": "2024-09-04T02:48:41.608876Z",
          "shell.execute_reply": "2024-09-04T02:48:42.028482Z"
        },
        "trusted": true,
        "id": "yQoKRc4qpc9f",
        "outputId": "84e1603c-9842-4795-f544-7a2b805fba7c",
        "colab": {
          "base_uri": "https://localhost:8080/"
        }
      },
      "execution_count": 103,
      "outputs": [
        {
          "output_type": "execute_result",
          "data": {
            "text/plain": [
              "(7735, 18123)"
            ]
          },
          "metadata": {},
          "execution_count": 103
        }
      ]
    },
    {
      "cell_type": "code",
      "source": [
        "from sklearn.naive_bayes import MultinomialNB\n",
        "from sklearn.metrics import accuracy_score"
      ],
      "metadata": {
        "execution": {
          "iopub.status.busy": "2024-09-04T02:56:39.436191Z",
          "iopub.execute_input": "2024-09-04T02:56:39.436682Z",
          "iopub.status.idle": "2024-09-04T02:56:39.446034Z",
          "shell.execute_reply.started": "2024-09-04T02:56:39.436645Z",
          "shell.execute_reply": "2024-09-04T02:56:39.444787Z"
        },
        "trusted": true,
        "id": "UKR3emDepc9f"
      },
      "execution_count": 104,
      "outputs": []
    },
    {
      "cell_type": "code",
      "source": [
        "# Train the model\n",
        "model = MultinomialNB()\n",
        "model.fit(x_train_tfidf, y_train)\n",
        "\n",
        "# Predict and evaluate\n",
        "predictions = model.predict(x_test_tfidf)\n",
        "print(f'Accuracy: {accuracy_score(y_test, predictions)}')"
      ],
      "metadata": {
        "execution": {
          "iopub.status.busy": "2024-09-04T02:56:42.051472Z",
          "iopub.execute_input": "2024-09-04T02:56:42.051868Z",
          "iopub.status.idle": "2024-09-04T02:56:42.069696Z",
          "shell.execute_reply.started": "2024-09-04T02:56:42.051837Z",
          "shell.execute_reply": "2024-09-04T02:56:42.068185Z"
        },
        "trusted": true,
        "id": "khVg7otHpc9f",
        "outputId": "e8e4b241-67b5-4678-91ad-a25663c5abbe",
        "colab": {
          "base_uri": "https://localhost:8080/"
        }
      },
      "execution_count": 105,
      "outputs": [
        {
          "output_type": "stream",
          "name": "stdout",
          "text": [
            "Accuracy: 0.8933695230709577\n"
          ]
        }
      ]
    },
    {
      "cell_type": "markdown",
      "source": [
        "#### Using Decision Tree Classifier"
      ],
      "metadata": {
        "id": "ey6jbwcEpc9g"
      }
    },
    {
      "cell_type": "code",
      "source": [
        "from sklearn.tree import DecisionTreeClassifier"
      ],
      "metadata": {
        "execution": {
          "iopub.status.busy": "2024-09-04T02:58:13.987074Z",
          "iopub.execute_input": "2024-09-04T02:58:13.987570Z",
          "iopub.status.idle": "2024-09-04T02:58:14.113473Z",
          "shell.execute_reply.started": "2024-09-04T02:58:13.987534Z",
          "shell.execute_reply": "2024-09-04T02:58:14.112239Z"
        },
        "trusted": true,
        "id": "AUi-ginZpc9g"
      },
      "execution_count": 106,
      "outputs": []
    },
    {
      "cell_type": "code",
      "source": [
        "# Initialize and train the Decision Tree Classifier\n",
        "tree_model = DecisionTreeClassifier(random_state=42)\n",
        "tree_model.fit(x_train_tfidf, y_train)\n",
        "\n",
        "# Predict and evaluate\n",
        "predictions = tree_model.predict(x_test_tfidf)\n",
        "print(f'Accuracy: {accuracy_score(y_test, predictions)}')"
      ],
      "metadata": {
        "execution": {
          "iopub.status.busy": "2024-09-04T02:58:16.080607Z",
          "iopub.execute_input": "2024-09-04T02:58:16.081071Z",
          "iopub.status.idle": "2024-09-04T02:58:17.141015Z",
          "shell.execute_reply.started": "2024-09-04T02:58:16.081036Z",
          "shell.execute_reply": "2024-09-04T02:58:17.139610Z"
        },
        "trusted": true,
        "id": "hLz-dNN1pc9g",
        "outputId": "d40490f7-f21a-463f-e865-065228200461",
        "colab": {
          "base_uri": "https://localhost:8080/"
        }
      },
      "execution_count": 107,
      "outputs": [
        {
          "output_type": "stream",
          "name": "stdout",
          "text": [
            "Accuracy: 0.9274912756882513\n"
          ]
        }
      ]
    },
    {
      "cell_type": "markdown",
      "source": [
        "### Using Dense Model"
      ],
      "metadata": {
        "id": "U8I6kgZQpc9g"
      }
    },
    {
      "cell_type": "code",
      "source": [
        "import tensorflow as tf\n",
        "from tensorflow.keras.models import Sequential\n",
        "from tensorflow.keras.layers import Dense, Dropout"
      ],
      "metadata": {
        "execution": {
          "iopub.status.busy": "2024-09-04T03:00:37.469745Z",
          "iopub.execute_input": "2024-09-04T03:00:37.470291Z",
          "iopub.status.idle": "2024-09-04T03:00:51.736022Z",
          "shell.execute_reply.started": "2024-09-04T03:00:37.470243Z",
          "shell.execute_reply": "2024-09-04T03:00:51.734653Z"
        },
        "trusted": true,
        "id": "CKx2mSM2pc9g"
      },
      "execution_count": 108,
      "outputs": []
    },
    {
      "cell_type": "code",
      "source": [
        "# Build the Dense Neural Network model\n",
        "dense_model = Sequential([\n",
        "    Dense(64, input_shape=(x_train_tfidf.toarray().shape[1],), activation='relu'),\n",
        "    Dropout(0.5),\n",
        "    Dense(32, activation='relu'),\n",
        "    Dropout(0.5),\n",
        "    Dense(1, activation='sigmoid')  # Use 'softmax' if you have more than 2 classes\n",
        "])\n",
        "\n",
        "# Compile the model\n",
        "dense_model.compile(optimizer='adam', loss='binary_crossentropy', metrics=['accuracy'])\n",
        "\n",
        "# Train the model\n",
        "dense_model.fit(x_train_tfidf.toarray(), y_train, epochs=10, batch_size=32, validation_split=0.2)\n"
      ],
      "metadata": {
        "execution": {
          "iopub.status.busy": "2024-09-04T03:02:08.612259Z",
          "iopub.execute_input": "2024-09-04T03:02:08.612683Z",
          "iopub.status.idle": "2024-09-04T03:02:34.663039Z",
          "shell.execute_reply.started": "2024-09-04T03:02:08.612651Z",
          "shell.execute_reply": "2024-09-04T03:02:34.661751Z"
        },
        "trusted": true,
        "id": "ozW0kss_pc9g",
        "outputId": "b0a9f46f-5a10-4cac-fdd8-1d197dfc3c35",
        "colab": {
          "base_uri": "https://localhost:8080/"
        }
      },
      "execution_count": 109,
      "outputs": [
        {
          "output_type": "stream",
          "name": "stderr",
          "text": [
            "/usr/local/lib/python3.12/dist-packages/keras/src/layers/core/dense.py:93: UserWarning: Do not pass an `input_shape`/`input_dim` argument to a layer. When using Sequential models, prefer using an `Input(shape)` object as the first layer in the model instead.\n",
            "  super().__init__(activity_regularizer=activity_regularizer, **kwargs)\n"
          ]
        },
        {
          "output_type": "stream",
          "name": "stdout",
          "text": [
            "Epoch 1/10\n",
            "\u001b[1m194/194\u001b[0m \u001b[32m━━━━━━━━━━━━━━━━━━━━\u001b[0m\u001b[37m\u001b[0m \u001b[1m7s\u001b[0m 20ms/step - accuracy: 0.7667 - loss: 0.5690 - val_accuracy: 0.9108 - val_loss: 0.2628\n",
            "Epoch 2/10\n",
            "\u001b[1m194/194\u001b[0m \u001b[32m━━━━━━━━━━━━━━━━━━━━\u001b[0m\u001b[37m\u001b[0m \u001b[1m5s\u001b[0m 5ms/step - accuracy: 0.9501 - loss: 0.1772 - val_accuracy: 0.9716 - val_loss: 0.0877\n",
            "Epoch 3/10\n",
            "\u001b[1m194/194\u001b[0m \u001b[32m━━━━━━━━━━━━━━━━━━━━\u001b[0m\u001b[37m\u001b[0m \u001b[1m1s\u001b[0m 4ms/step - accuracy: 0.9929 - loss: 0.0304 - val_accuracy: 0.9754 - val_loss: 0.0732\n",
            "Epoch 4/10\n",
            "\u001b[1m194/194\u001b[0m \u001b[32m━━━━━━━━━━━━━━━━━━━━\u001b[0m\u001b[37m\u001b[0m \u001b[1m1s\u001b[0m 5ms/step - accuracy: 0.9984 - loss: 0.0110 - val_accuracy: 0.9780 - val_loss: 0.0687\n",
            "Epoch 5/10\n",
            "\u001b[1m194/194\u001b[0m \u001b[32m━━━━━━━━━━━━━━━━━━━━\u001b[0m\u001b[37m\u001b[0m \u001b[1m1s\u001b[0m 4ms/step - accuracy: 0.9995 - loss: 0.0066 - val_accuracy: 0.9754 - val_loss: 0.0778\n",
            "Epoch 6/10\n",
            "\u001b[1m194/194\u001b[0m \u001b[32m━━━━━━━━━━━━━━━━━━━━\u001b[0m\u001b[37m\u001b[0m \u001b[1m1s\u001b[0m 5ms/step - accuracy: 0.9989 - loss: 0.0069 - val_accuracy: 0.9741 - val_loss: 0.0833\n",
            "Epoch 7/10\n",
            "\u001b[1m194/194\u001b[0m \u001b[32m━━━━━━━━━━━━━━━━━━━━\u001b[0m\u001b[37m\u001b[0m \u001b[1m1s\u001b[0m 5ms/step - accuracy: 0.9992 - loss: 0.0059 - val_accuracy: 0.9754 - val_loss: 0.0784\n",
            "Epoch 8/10\n",
            "\u001b[1m194/194\u001b[0m \u001b[32m━━━━━━━━━━━━━━━━━━━━\u001b[0m\u001b[37m\u001b[0m \u001b[1m1s\u001b[0m 6ms/step - accuracy: 0.9997 - loss: 0.0031 - val_accuracy: 0.9748 - val_loss: 0.0765\n",
            "Epoch 9/10\n",
            "\u001b[1m194/194\u001b[0m \u001b[32m━━━━━━━━━━━━━━━━━━━━\u001b[0m\u001b[37m\u001b[0m \u001b[1m1s\u001b[0m 4ms/step - accuracy: 0.9993 - loss: 0.0040 - val_accuracy: 0.9722 - val_loss: 0.0781\n",
            "Epoch 10/10\n",
            "\u001b[1m194/194\u001b[0m \u001b[32m━━━━━━━━━━━━━━━━━━━━\u001b[0m\u001b[37m\u001b[0m \u001b[1m1s\u001b[0m 4ms/step - accuracy: 0.9999 - loss: 0.0022 - val_accuracy: 0.9722 - val_loss: 0.0799\n"
          ]
        },
        {
          "output_type": "execute_result",
          "data": {
            "text/plain": [
              "<keras.src.callbacks.history.History at 0x7bd7a4ab0e00>"
            ]
          },
          "metadata": {},
          "execution_count": 109
        }
      ]
    },
    {
      "cell_type": "code",
      "source": [
        "dense_model.evaluate(x_test_tfidf.toarray(), y_test)"
      ],
      "metadata": {
        "execution": {
          "iopub.status.busy": "2024-09-04T03:03:28.175557Z",
          "iopub.execute_input": "2024-09-04T03:03:28.176216Z",
          "iopub.status.idle": "2024-09-04T03:03:29.056420Z",
          "shell.execute_reply.started": "2024-09-04T03:03:28.176175Z",
          "shell.execute_reply": "2024-09-04T03:03:29.055239Z"
        },
        "trusted": true,
        "id": "CIYzBxF5pc9g",
        "outputId": "3c3cfa7c-65d0-488e-df2d-ae0b1823cc27",
        "colab": {
          "base_uri": "https://localhost:8080/"
        }
      },
      "execution_count": 110,
      "outputs": [
        {
          "output_type": "stream",
          "name": "stdout",
          "text": [
            "\u001b[1m81/81\u001b[0m \u001b[32m━━━━━━━━━━━━━━━━━━━━\u001b[0m\u001b[37m\u001b[0m \u001b[1m1s\u001b[0m 7ms/step - accuracy: 0.9717 - loss: 0.1229\n"
          ]
        },
        {
          "output_type": "execute_result",
          "data": {
            "text/plain": [
              "[0.10449174046516418, 0.9732454419136047]"
            ]
          },
          "metadata": {},
          "execution_count": 110
        }
      ]
    },
    {
      "cell_type": "code",
      "source": [
        "# Evaluate the model\n",
        "y_pred = (dense_model.predict(x_test_tfidf.toarray()) > 0.5).astype(\"int32\")  # Convert probabilities to binary output\n",
        "print(f'Accuracy: {accuracy_score(y_test, y_pred)}')"
      ],
      "metadata": {
        "execution": {
          "iopub.status.busy": "2024-09-04T03:04:19.204440Z",
          "iopub.execute_input": "2024-09-04T03:04:19.204899Z",
          "iopub.status.idle": "2024-09-04T03:04:20.191130Z",
          "shell.execute_reply.started": "2024-09-04T03:04:19.204850Z",
          "shell.execute_reply": "2024-09-04T03:04:20.189739Z"
        },
        "trusted": true,
        "id": "BhcM9cMtpc9g",
        "outputId": "b63451b9-8574-4742-c901-aae82f5ad299",
        "colab": {
          "base_uri": "https://localhost:8080/"
        }
      },
      "execution_count": 111,
      "outputs": [
        {
          "output_type": "stream",
          "name": "stdout",
          "text": [
            "\u001b[1m81/81\u001b[0m \u001b[32m━━━━━━━━━━━━━━━━━━━━\u001b[0m\u001b[37m\u001b[0m \u001b[1m1s\u001b[0m 4ms/step\n",
            "Accuracy: 0.9732454439705313\n"
          ]
        }
      ]
    },
    {
      "cell_type": "markdown",
      "source": [
        "### Using Conv 1D"
      ],
      "metadata": {
        "id": "12k_3ZlOpc9g"
      }
    },
    {
      "cell_type": "code",
      "source": [
        "from tensorflow.keras.layers import Conv1D, MaxPooling1D, Flatten, Dense, Dropout\n",
        "# Build the Conv1D Neural Network model\n",
        "cnn_model = Sequential([\n",
        "    Conv1D(filters=64, kernel_size=3, activation='relu', input_shape=(x_train_tfidf.toarray().shape[1], 1)),\n",
        "    MaxPooling1D(pool_size=2),\n",
        "    Dropout(0.5),\n",
        "    Flatten(),\n",
        "    Dense(32, activation='relu'),\n",
        "    Dropout(0.5),\n",
        "    Dense(1, activation='sigmoid')  # Use 'softmax' if you have more than 2 classes\n",
        "])\n",
        "\n",
        "# Compile the model\n",
        "cnn_model.compile(optimizer='adam', loss='binary_crossentropy', metrics=['accuracy'])\n",
        "\n",
        "# Train the model\n",
        "cnn_model.fit(x_train_tfidf.toarray(), y_train, epochs=10, batch_size=32, validation_split=0.2)"
      ],
      "metadata": {
        "execution": {
          "iopub.status.busy": "2024-09-04T03:20:42.656193Z",
          "iopub.execute_input": "2024-09-04T03:20:42.656649Z",
          "iopub.status.idle": "2024-09-04T03:30:49.880848Z",
          "shell.execute_reply.started": "2024-09-04T03:20:42.656615Z",
          "shell.execute_reply": "2024-09-04T03:30:49.878837Z"
        },
        "trusted": true,
        "id": "7xrYkG_Epc9g",
        "outputId": "5216a013-3e01-43f9-a0fa-43b20c889540",
        "colab": {
          "base_uri": "https://localhost:8080/"
        }
      },
      "execution_count": 112,
      "outputs": [
        {
          "output_type": "stream",
          "name": "stderr",
          "text": [
            "/usr/local/lib/python3.12/dist-packages/keras/src/layers/convolutional/base_conv.py:113: UserWarning: Do not pass an `input_shape`/`input_dim` argument to a layer. When using Sequential models, prefer using an `Input(shape)` object as the first layer in the model instead.\n",
            "  super().__init__(activity_regularizer=activity_regularizer, **kwargs)\n"
          ]
        },
        {
          "output_type": "stream",
          "name": "stdout",
          "text": [
            "Epoch 1/10\n",
            "\u001b[1m194/194\u001b[0m \u001b[32m━━━━━━━━━━━━━━━━━━━━\u001b[0m\u001b[37m\u001b[0m \u001b[1m23s\u001b[0m 86ms/step - accuracy: 0.7832 - loss: 0.5162 - val_accuracy: 0.9619 - val_loss: 0.1578\n",
            "Epoch 2/10\n",
            "\u001b[1m194/194\u001b[0m \u001b[32m━━━━━━━━━━━━━━━━━━━━\u001b[0m\u001b[37m\u001b[0m \u001b[1m12s\u001b[0m 61ms/step - accuracy: 0.9624 - loss: 0.1259 - val_accuracy: 0.9761 - val_loss: 0.0666\n",
            "Epoch 3/10\n",
            "\u001b[1m194/194\u001b[0m \u001b[32m━━━━━━━━━━━━━━━━━━━━\u001b[0m\u001b[37m\u001b[0m \u001b[1m20s\u001b[0m 61ms/step - accuracy: 0.9917 - loss: 0.0375 - val_accuracy: 0.9813 - val_loss: 0.0563\n",
            "Epoch 4/10\n",
            "\u001b[1m194/194\u001b[0m \u001b[32m━━━━━━━━━━━━━━━━━━━━\u001b[0m\u001b[37m\u001b[0m \u001b[1m21s\u001b[0m 61ms/step - accuracy: 0.9933 - loss: 0.0206 - val_accuracy: 0.9787 - val_loss: 0.0624\n",
            "Epoch 5/10\n",
            "\u001b[1m194/194\u001b[0m \u001b[32m━━━━━━━━━━━━━━━━━━━━\u001b[0m\u001b[37m\u001b[0m \u001b[1m12s\u001b[0m 60ms/step - accuracy: 0.9985 - loss: 0.0101 - val_accuracy: 0.9800 - val_loss: 0.0589\n",
            "Epoch 6/10\n",
            "\u001b[1m194/194\u001b[0m \u001b[32m━━━━━━━━━━━━━━━━━━━━\u001b[0m\u001b[37m\u001b[0m \u001b[1m21s\u001b[0m 61ms/step - accuracy: 0.9986 - loss: 0.0089 - val_accuracy: 0.9819 - val_loss: 0.0570\n",
            "Epoch 7/10\n",
            "\u001b[1m194/194\u001b[0m \u001b[32m━━━━━━━━━━━━━━━━━━━━\u001b[0m\u001b[37m\u001b[0m \u001b[1m20s\u001b[0m 61ms/step - accuracy: 0.9993 - loss: 0.0040 - val_accuracy: 0.9806 - val_loss: 0.0642\n",
            "Epoch 8/10\n",
            "\u001b[1m194/194\u001b[0m \u001b[32m━━━━━━━━━━━━━━━━━━━━\u001b[0m\u001b[37m\u001b[0m \u001b[1m12s\u001b[0m 61ms/step - accuracy: 0.9988 - loss: 0.0039 - val_accuracy: 0.9741 - val_loss: 0.0724\n",
            "Epoch 9/10\n",
            "\u001b[1m194/194\u001b[0m \u001b[32m━━━━━━━━━━━━━━━━━━━━\u001b[0m\u001b[37m\u001b[0m \u001b[1m21s\u001b[0m 61ms/step - accuracy: 0.9991 - loss: 0.0048 - val_accuracy: 0.9825 - val_loss: 0.0617\n",
            "Epoch 10/10\n",
            "\u001b[1m194/194\u001b[0m \u001b[32m━━━━━━━━━━━━━━━━━━━━\u001b[0m\u001b[37m\u001b[0m \u001b[1m12s\u001b[0m 61ms/step - accuracy: 0.9981 - loss: 0.0044 - val_accuracy: 0.9825 - val_loss: 0.0654\n"
          ]
        },
        {
          "output_type": "execute_result",
          "data": {
            "text/plain": [
              "<keras.src.callbacks.history.History at 0x7bd7a0132cc0>"
            ]
          },
          "metadata": {},
          "execution_count": 112
        }
      ]
    },
    {
      "cell_type": "code",
      "source": [
        "# Evaluate the model\n",
        "y_pred = (cnn_model.predict(x_test_tfidf.toarray()) > 0.5).astype(\"int32\")  # Convert probabilities to binary output\n",
        "print(f'Accuracy: {accuracy_score(y_test, y_pred)}')"
      ],
      "metadata": {
        "execution": {
          "iopub.status.busy": "2024-09-04T03:30:55.252262Z",
          "iopub.execute_input": "2024-09-04T03:30:55.252690Z",
          "iopub.status.idle": "2024-09-04T03:31:06.988156Z",
          "shell.execute_reply.started": "2024-09-04T03:30:55.252654Z",
          "shell.execute_reply": "2024-09-04T03:31:06.986955Z"
        },
        "trusted": true,
        "id": "eG4AAF6Epc9g",
        "outputId": "141e8edc-9623-41c0-9fe1-455f52044e13",
        "colab": {
          "base_uri": "https://localhost:8080/"
        }
      },
      "execution_count": 113,
      "outputs": [
        {
          "output_type": "stream",
          "name": "stdout",
          "text": [
            "\u001b[1m81/81\u001b[0m \u001b[32m━━━━━━━━━━━━━━━━━━━━\u001b[0m\u001b[37m\u001b[0m \u001b[1m2s\u001b[0m 18ms/step\n",
            "Accuracy: 0.9763474214811942\n"
          ]
        }
      ]
    },
    {
      "cell_type": "code",
      "source": [],
      "metadata": {
        "id": "Yq4s3idpBRKK"
      },
      "execution_count": null,
      "outputs": []
    },
    {
      "cell_type": "code",
      "source": [],
      "metadata": {
        "id": "pjDkHfGmBRF8"
      },
      "execution_count": null,
      "outputs": []
    },
    {
      "cell_type": "markdown",
      "source": [
        "# 🍼 Explaining RNN from Scratch (Like to a Baby)\n",
        "\n",
        "👉 Imagine you’re reading a **storybook**:\n",
        "\n",
        "* Page 1: \"Once upon a time…\"\n",
        "* Page 2: \"There was a little cat…\"\n",
        "* Page 3: \"The cat loved milk…\"\n",
        "\n",
        "Now, to **understand Page 3 properly**, you need to **remember what was on Page 1 and 2**.\n",
        "\n",
        "If you only look at **one page at a time** and forget the past, you won’t understand the story.\n",
        "\n",
        "That’s exactly what happens in **text, speech, or time-series data**. The meaning depends on **previous words/signals**.\n",
        "\n",
        "---\n",
        "\n",
        "## 🧠 Dense Layer (Baby analogy)\n",
        "\n",
        "A **dense layer** sees only the input right now.\n",
        "👉 It’s like a baby looking at a single picture flashcard:\n",
        "\n",
        "* You show the word \"cat\" 🐱\n",
        "* Baby says \"cat\"\n",
        "* You show \"milk\" 🥛\n",
        "* Baby says \"milk\"\n",
        "  But the baby **doesn’t connect cat + milk = cats like milk**.\n",
        "\n",
        "---\n",
        "\n",
        "## 🎨 CNN Layer (Baby analogy)\n",
        "\n",
        "A **CNN** looks at local patterns, like recognizing shapes in an image.\n",
        "👉 Example:\n",
        "\n",
        "* CNN sees whiskers + ears + tail → says \"cat\".\n",
        "* Great for **images** where local patterns matter.\n",
        "\n",
        "But CNN is like a baby that can recognize \"cat\" in many pictures, but doesn’t remember **the sequence of pictures** in a story.\n",
        "\n",
        "---\n",
        "\n",
        "## ⏳ RNN Layer (Baby analogy)\n",
        "\n",
        "An **RNN** adds **memory**.\n",
        "👉 It’s like a baby listening to a bedtime story:\n",
        "\n",
        "* Baby hears \"Once upon a time…\"\n",
        "* Then \"there was a cat…\" (baby remembers \"once upon a time\")\n",
        "* Then \"the cat loved milk…\" (baby uses memory of cat).\n",
        "\n",
        "So RNNs process things **step by step** while keeping track of **what happened before**.\n",
        "\n",
        "---\n",
        "\n",
        "# 🛠️ RNN Working (Technical but Simple)\n",
        "\n",
        "At each time step:\n",
        "\n",
        "1. Input = current word/signal (e.g., \"cat\")\n",
        "2. Hidden state = memory from the past\n",
        "3. Output = prediction/understanding\n",
        "\n",
        "Equation:\n",
        "\n",
        "$$\n",
        "h_t = f(W \\cdot x_t + U \\cdot h_{t-1} + b)\n",
        "$$\n",
        "\n",
        "* $x_t$ → current input\n",
        "* $h_{t-1}$ → memory from past step\n",
        "* $h_t$ → new memory\n",
        "* $W, U, b$ → weights\n",
        "\n",
        "So it’s like updating memory **every time** something new comes in.\n",
        "\n",
        "---\n",
        "\n",
        "# 🌟 Why RNN is Needed (Limitations of CNN & Dense)\n",
        "\n",
        "✅ **Dense (Fully Connected) Layers Limitation**\n",
        "\n",
        "* Looks at input independently.\n",
        "* Cannot handle sequences.\n",
        "* Example: Predicting the next word in \"I am going to the \\_\\_\\_\" → Dense sees only last word \"the\", ignores past context.\n",
        "\n",
        "✅ **CNN Limitation**\n",
        "\n",
        "* CNN is good for local patterns (\"cat face\") but not **long sequences**.\n",
        "* If you try to use CNN for a story or sentence, it only sees small chunks (n-grams) but not the **whole timeline meaning**.\n",
        "\n",
        "❌ Both CNN and Dense **forget the past**.\n",
        "✅ RNN remembers history, so it works for:\n",
        "\n",
        "* Text (sentences, translation, chatbot)\n",
        "* Audio (speech recognition)\n",
        "* Time series (stock, ECG/PPG, weather prediction).\n",
        "\n",
        "---\n",
        "\n",
        "# ⚠️ But RNN also has problems\n",
        "\n",
        "* **Vanishing Gradient**: Memory fades after many steps (it forgets long stories).\n",
        "* **Slow Training**: Processes one step at a time.\n",
        "* **Better Alternatives**: LSTM, GRU, Transformer.\n",
        "\n",
        "---\n",
        "\n",
        "📌 **Summary as Baby Analogy**\n",
        "\n",
        "* Dense = Baby seeing flashcards, but forgets previous card.\n",
        "* CNN = Baby can recognize a cat in pictures, but forgets story order.\n",
        "* RNN = Baby listens to a bedtime story step by step and remembers what came before.\n",
        "\n"
      ],
      "metadata": {
        "id": "GN3thjALBR_K"
      }
    },
    {
      "cell_type": "markdown",
      "source": [],
      "metadata": {
        "id": "JS34Ul2MBZ06"
      }
    },
    {
      "cell_type": "code",
      "source": [],
      "metadata": {
        "id": "kY41TQHCBRBi"
      },
      "execution_count": null,
      "outputs": []
    },
    {
      "cell_type": "code",
      "source": [],
      "metadata": {
        "id": "SjctjW9NBSmS"
      },
      "execution_count": null,
      "outputs": []
    },
    {
      "cell_type": "markdown",
      "source": [
        "### Using LSTM"
      ],
      "metadata": {
        "id": "5Z7MFq4Vpc9g"
      }
    },
    {
      "cell_type": "code",
      "source": [
        "from tensorflow.keras.layers import LSTM"
      ],
      "metadata": {
        "execution": {
          "iopub.status.busy": "2024-09-04T03:31:35.838707Z",
          "iopub.execute_input": "2024-09-04T03:31:35.839170Z",
          "iopub.status.idle": "2024-09-04T03:31:35.844609Z",
          "shell.execute_reply.started": "2024-09-04T03:31:35.839134Z",
          "shell.execute_reply": "2024-09-04T03:31:35.843392Z"
        },
        "trusted": true,
        "id": "UnJ2umIlpc9h"
      },
      "execution_count": 114,
      "outputs": []
    },
    {
      "cell_type": "code",
      "source": [
        "# Build the LSTM Neural Network model\n",
        "lstm_model = Sequential([\n",
        "    LSTM(32, input_shape=(x_train_tfidf.toarray().shape[1], 1), return_sequences=False),\n",
        "    Dropout(0.2),\n",
        "    Dense(16, activation='relu'),\n",
        "    Dropout(0.1),\n",
        "    Dense(1, activation='sigmoid')  # Use 'softmax' if you have more than 2 classes\n",
        "])\n",
        "\n",
        "# Compile the model\n",
        "lstm_model.compile(optimizer='adam', loss='binary_crossentropy', metrics=['accuracy'])\n",
        "\n",
        "# Train the model\n",
        "lstm_model.fit(x_train_tfidf.toarray(), y_train, epochs=10, batch_size=32, validation_split=0.2)"
      ],
      "metadata": {
        "execution": {
          "iopub.status.busy": "2024-09-04T06:18:42.940577Z",
          "iopub.execute_input": "2024-09-04T06:18:42.941009Z",
          "iopub.status.idle": "2024-09-04T06:34:38.585593Z",
          "shell.execute_reply.started": "2024-09-04T06:18:42.940977Z",
          "shell.execute_reply": "2024-09-04T06:34:38.583406Z"
        },
        "trusted": true,
        "id": "-9KT7X0Kpc9j",
        "outputId": "6861d1f4-53b4-49a8-cbfa-1737d59fdefc",
        "colab": {
          "base_uri": "https://localhost:8080/"
        }
      },
      "execution_count": 115,
      "outputs": [
        {
          "output_type": "stream",
          "name": "stderr",
          "text": [
            "/usr/local/lib/python3.12/dist-packages/keras/src/layers/rnn/rnn.py:199: UserWarning: Do not pass an `input_shape`/`input_dim` argument to a layer. When using Sequential models, prefer using an `Input(shape)` object as the first layer in the model instead.\n",
            "  super().__init__(**kwargs)\n"
          ]
        },
        {
          "output_type": "stream",
          "name": "stdout",
          "text": [
            "Epoch 1/10\n",
            "\u001b[1m194/194\u001b[0m \u001b[32m━━━━━━━━━━━━━━━━━━━━\u001b[0m\u001b[37m\u001b[0m \u001b[1m93s\u001b[0m 454ms/step - accuracy: 0.7699 - loss: 0.5934 - val_accuracy: 0.7796 - val_loss: 0.5397\n",
            "Epoch 2/10\n",
            "\u001b[1m194/194\u001b[0m \u001b[32m━━━━━━━━━━━━━━━━━━━━\u001b[0m\u001b[37m\u001b[0m \u001b[1m91s\u001b[0m 472ms/step - accuracy: 0.7719 - loss: 0.5448 - val_accuracy: 0.7796 - val_loss: 0.5385\n",
            "Epoch 3/10\n",
            "\u001b[1m194/194\u001b[0m \u001b[32m━━━━━━━━━━━━━━━━━━━━\u001b[0m\u001b[37m\u001b[0m \u001b[1m139s\u001b[0m 456ms/step - accuracy: 0.7699 - loss: 0.5453 - val_accuracy: 0.7796 - val_loss: 0.5312\n",
            "Epoch 4/10\n",
            "\u001b[1m194/194\u001b[0m \u001b[32m━━━━━━━━━━━━━━━━━━━━\u001b[0m\u001b[37m\u001b[0m \u001b[1m141s\u001b[0m 452ms/step - accuracy: 0.7756 - loss: 0.5392 - val_accuracy: 0.7796 - val_loss: 0.5276\n",
            "Epoch 5/10\n",
            "\u001b[1m194/194\u001b[0m \u001b[32m━━━━━━━━━━━━━━━━━━━━\u001b[0m\u001b[37m\u001b[0m \u001b[1m89s\u001b[0m 462ms/step - accuracy: 0.7630 - loss: 0.5518 - val_accuracy: 0.7796 - val_loss: 0.5295\n",
            "Epoch 6/10\n",
            "\u001b[1m194/194\u001b[0m \u001b[32m━━━━━━━━━━━━━━━━━━━━\u001b[0m\u001b[37m\u001b[0m \u001b[1m89s\u001b[0m 458ms/step - accuracy: 0.7630 - loss: 0.5562 - val_accuracy: 0.7796 - val_loss: 0.5275\n",
            "Epoch 7/10\n",
            "\u001b[1m194/194\u001b[0m \u001b[32m━━━━━━━━━━━━━━━━━━━━\u001b[0m\u001b[37m\u001b[0m \u001b[1m142s\u001b[0m 458ms/step - accuracy: 0.7730 - loss: 0.5427 - val_accuracy: 0.7796 - val_loss: 0.5279\n",
            "Epoch 8/10\n",
            "\u001b[1m194/194\u001b[0m \u001b[32m━━━━━━━━━━━━━━━━━━━━\u001b[0m\u001b[37m\u001b[0m \u001b[1m142s\u001b[0m 459ms/step - accuracy: 0.7750 - loss: 0.5352 - val_accuracy: 0.7796 - val_loss: 0.5284\n",
            "Epoch 9/10\n",
            "\u001b[1m194/194\u001b[0m \u001b[32m━━━━━━━━━━━━━━━━━━━━\u001b[0m\u001b[37m\u001b[0m \u001b[1m142s\u001b[0m 459ms/step - accuracy: 0.7698 - loss: 0.5429 - val_accuracy: 0.7796 - val_loss: 0.5284\n",
            "Epoch 10/10\n",
            "\u001b[1m194/194\u001b[0m \u001b[32m━━━━━━━━━━━━━━━━━━━━\u001b[0m\u001b[37m\u001b[0m \u001b[1m142s\u001b[0m 461ms/step - accuracy: 0.7770 - loss: 0.5353 - val_accuracy: 0.7796 - val_loss: 0.5302\n"
          ]
        },
        {
          "output_type": "execute_result",
          "data": {
            "text/plain": [
              "<keras.src.callbacks.history.History at 0x7bd7a01b1880>"
            ]
          },
          "metadata": {},
          "execution_count": 115
        }
      ]
    },
    {
      "cell_type": "code",
      "source": [
        "# Evaluate the model\n",
        "y_pred = (lstm_model.predict(x_test_tfidf.toarray()) > 0.5).astype(\"int32\")  # Convert probabilities to binary output\n",
        "print(f'Accuracy: {accuracy_score(y_test, y_pred)}')"
      ],
      "metadata": {
        "execution": {
          "iopub.status.busy": "2024-09-04T06:34:43.910426Z",
          "iopub.execute_input": "2024-09-04T06:34:43.910874Z",
          "iopub.status.idle": "2024-09-04T06:37:19.913356Z",
          "shell.execute_reply.started": "2024-09-04T06:34:43.910840Z",
          "shell.execute_reply": "2024-09-04T06:37:19.912070Z"
        },
        "trusted": true,
        "id": "5FO0EZC3pc9j",
        "outputId": "4901e9d9-82a0-4db8-a6cc-f069f25fb944",
        "colab": {
          "base_uri": "https://localhost:8080/"
        }
      },
      "execution_count": 116,
      "outputs": [
        {
          "output_type": "stream",
          "name": "stdout",
          "text": [
            "\u001b[1m81/81\u001b[0m \u001b[32m━━━━━━━━━━━━━━━━━━━━\u001b[0m\u001b[37m\u001b[0m \u001b[1m15s\u001b[0m 185ms/step\n",
            "Accuracy: 0.7797595967429236\n"
          ]
        }
      ]
    },
    {
      "cell_type": "markdown",
      "source": [
        "### Embedding layer from tensorflow"
      ],
      "metadata": {
        "id": "QFtvR7Kfpc9k"
      }
    },
    {
      "cell_type": "code",
      "source": [
        "import numpy as np\n",
        "import tensorflow as tf\n",
        "from tensorflow.keras.preprocessing.text import Tokenizer\n",
        "from tensorflow.keras.preprocessing.sequence import pad_sequences\n",
        "from tensorflow.keras.models import Sequential\n",
        "from tensorflow.keras.layers import Embedding, LSTM, Dense, Dropout"
      ],
      "metadata": {
        "execution": {
          "iopub.status.busy": "2024-09-04T06:43:39.354590Z",
          "iopub.execute_input": "2024-09-04T06:43:39.355051Z",
          "iopub.status.idle": "2024-09-04T06:43:39.362222Z",
          "shell.execute_reply.started": "2024-09-04T06:43:39.355018Z",
          "shell.execute_reply": "2024-09-04T06:43:39.360703Z"
        },
        "trusted": true,
        "id": "30ePfq-fpc9k"
      },
      "execution_count": 1,
      "outputs": []
    },
    {
      "cell_type": "code",
      "source": [
        "# Example set of small text documents\n",
        "documents = [\n",
        "    \"This is a sample document.\",\n",
        "    \"This document is another example.\",\n",
        "    \"TF-IDF is a text representation method.\"\n",
        "]\n",
        "\n",
        "# Example labels (like classification targets)\n",
        "labels = np.array([0, 1, 0])\n",
        "# Here: 0 and 1 could represent different categories\n",
        "\n",
        "# Initialize the tokenizer\n",
        "# oov_token=\"<OOV>\" ensures that any word not seen during training\n",
        "# will be replaced by the token \"<OOV>\" instead of being skipped\n",
        "tokenizer = Tokenizer(oov_token=\"<OOV>\")\n",
        "\n",
        "# Build the word index (vocabulary) from the documents\n",
        "# This assigns a unique integer to each unique word\n",
        "tokenizer.fit_on_texts(documents)\n",
        "\n",
        "# Get the mapping of words to their unique integer indices\n",
        "word_index = tokenizer.word_index\n",
        "\n",
        "# Print the generated word index (vocabulary)\n",
        "print(\"Word Index:\", word_index)"
      ],
      "metadata": {
        "execution": {
          "iopub.status.busy": "2024-09-04T07:32:43.821195Z",
          "iopub.execute_input": "2024-09-04T07:32:43.822353Z",
          "iopub.status.idle": "2024-09-04T07:32:43.829029Z",
          "shell.execute_reply.started": "2024-09-04T07:32:43.822289Z",
          "shell.execute_reply": "2024-09-04T07:32:43.827626Z"
        },
        "trusted": true,
        "id": "6pQ39TmTpc9k",
        "colab": {
          "base_uri": "https://localhost:8080/"
        },
        "outputId": "cec93741-95dc-421f-d43d-25193a4018d4"
      },
      "execution_count": 3,
      "outputs": [
        {
          "output_type": "stream",
          "name": "stdout",
          "text": [
            "Word Index: {'<OOV>': 1, 'is': 2, 'this': 3, 'a': 4, 'document': 5, 'sample': 6, 'another': 7, 'example': 8, 'tf': 9, 'idf': 10, 'text': 11, 'representation': 12, 'method': 13}\n"
          ]
        }
      ]
    },
    {
      "cell_type": "code",
      "source": [
        "len(word_index.values())"
      ],
      "metadata": {
        "execution": {
          "iopub.status.busy": "2024-09-04T07:32:51.000851Z",
          "iopub.execute_input": "2024-09-04T07:32:51.001283Z",
          "iopub.status.idle": "2024-09-04T07:32:51.008946Z",
          "shell.execute_reply.started": "2024-09-04T07:32:51.001249Z",
          "shell.execute_reply": "2024-09-04T07:32:51.007640Z"
        },
        "trusted": true,
        "id": "bV20YwjFpc9k",
        "outputId": "1ec7ab9f-ddd1-48df-e5e3-c0ba327453e7",
        "colab": {
          "base_uri": "https://localhost:8080/"
        }
      },
      "execution_count": 4,
      "outputs": [
        {
          "output_type": "execute_result",
          "data": {
            "text/plain": [
              "13"
            ]
          },
          "metadata": {},
          "execution_count": 4
        }
      ]
    },
    {
      "cell_type": "code",
      "source": [
        "# Convert texts to sequences of integers\n",
        "sequences = tokenizer.texts_to_sequences(documents)\n",
        "\n",
        "# Pad sequences to ensure equal length\n",
        "padded_sequences = pad_sequences(sequences, padding='post')\n"
      ],
      "metadata": {
        "execution": {
          "iopub.status.busy": "2024-09-04T07:32:54.086221Z",
          "iopub.execute_input": "2024-09-04T07:32:54.086644Z",
          "iopub.status.idle": "2024-09-04T07:32:54.092720Z",
          "shell.execute_reply.started": "2024-09-04T07:32:54.086611Z",
          "shell.execute_reply": "2024-09-04T07:32:54.091505Z"
        },
        "trusted": true,
        "id": "MZjsJlx8pc9k"
      },
      "execution_count": 5,
      "outputs": []
    },
    {
      "cell_type": "code",
      "source": [
        "padded_sequences"
      ],
      "metadata": {
        "execution": {
          "iopub.status.busy": "2024-09-04T07:32:57.119738Z",
          "iopub.execute_input": "2024-09-04T07:32:57.120164Z",
          "iopub.status.idle": "2024-09-04T07:32:57.127625Z",
          "shell.execute_reply.started": "2024-09-04T07:32:57.120132Z",
          "shell.execute_reply": "2024-09-04T07:32:57.126380Z"
        },
        "trusted": true,
        "id": "NFYqLHRfpc9k",
        "outputId": "7ad2bdf9-07c1-41bf-fae1-85df64062938",
        "colab": {
          "base_uri": "https://localhost:8080/"
        }
      },
      "execution_count": 6,
      "outputs": [
        {
          "output_type": "execute_result",
          "data": {
            "text/plain": [
              "array([[ 3,  2,  4,  6,  5,  0,  0],\n",
              "       [ 3,  5,  2,  7,  8,  0,  0],\n",
              "       [ 9, 10,  2,  4, 11, 12, 13]], dtype=int32)"
            ]
          },
          "metadata": {},
          "execution_count": 6
        }
      ]
    },
    {
      "cell_type": "code",
      "source": [
        "from sklearn.model_selection import train_test_split"
      ],
      "metadata": {
        "id": "z0_yNwOfoN8r"
      },
      "execution_count": 8,
      "outputs": []
    },
    {
      "cell_type": "code",
      "source": [
        "# Split the data into training and testing sets\n",
        "X_train, X_test, y_train, y_test = train_test_split(padded_sequences, labels, test_size=0.3, random_state=42)"
      ],
      "metadata": {
        "execution": {
          "iopub.status.busy": "2024-09-04T07:33:14.571202Z",
          "iopub.execute_input": "2024-09-04T07:33:14.571748Z",
          "iopub.status.idle": "2024-09-04T07:33:14.581955Z",
          "shell.execute_reply.started": "2024-09-04T07:33:14.571704Z",
          "shell.execute_reply": "2024-09-04T07:33:14.580650Z"
        },
        "trusted": true,
        "id": "J0_54X-Kpc9k"
      },
      "execution_count": 9,
      "outputs": []
    },
    {
      "cell_type": "code",
      "source": [
        "vocab_size = len(word_index) + 1  # +1 for OOV token\n",
        "vocab_size"
      ],
      "metadata": {
        "colab": {
          "base_uri": "https://localhost:8080/"
        },
        "id": "tTi9zr9roxHj",
        "outputId": "e21cd948-5d88-4c46-df98-defc374cfad3"
      },
      "execution_count": 12,
      "outputs": [
        {
          "output_type": "execute_result",
          "data": {
            "text/plain": [
              "14"
            ]
          },
          "metadata": {},
          "execution_count": 12
        }
      ]
    },
    {
      "cell_type": "code",
      "source": [
        "# Import necessary libraries\n",
        "from tensorflow.keras.models import Sequential\n",
        "from tensorflow.keras.layers import Embedding, LSTM, Dense, Dropout\n",
        "\n",
        "# Build the model\n",
        "model = Sequential([\n",
        "\n",
        "    # 1. Embedding Layer\n",
        "    # input_dim = size of the vocabulary (number of unique tokens + 1 for OOV)\n",
        "    # output_dim = size of the embedding vector (how many dimensions to represent each word)\n",
        "    # Example: if input_dim=5000, each word will be represented by a 16-dimensional vector\n",
        "    Embedding(input_dim=14, output_dim=16),\n",
        "\n",
        "    # 2. LSTM Layer (Long Short-Term Memory)\n",
        "    # 64 units = number of LSTM \"memory cells\"\n",
        "    # return_sequences=False → only return the last hidden state (suitable for classification)\n",
        "    # if return_sequences=True, it would return hidden states for each time step (useful for seq2seq tasks)\n",
        "    LSTM(64, return_sequences=False),\n",
        "\n",
        "    # 3. Dropout Layer\n",
        "    # Dropout randomly \"turns off\" 50% of neurons during training\n",
        "    # This prevents overfitting (when model memorizes instead of generalizing)\n",
        "    Dropout(0.5),\n",
        "\n",
        "    # 4. Dense Layer (fully connected layer)\n",
        "    # 32 neurons, activation='relu' (introduces non-linearity and learns features)\n",
        "    Dense(32, activation='relu'),\n",
        "\n",
        "    # 5. Another Dropout Layer\n",
        "    # Again, 50% of neurons are turned off randomly to improve generalization\n",
        "    Dropout(0.5),\n",
        "\n",
        "    # 6. Output Layer\n",
        "    # 1 neuron, activation='sigmoid' (since this is binary classification: 0 or 1)\n",
        "    # If you have more than 2 classes → use Dense(num_classes, activation='softmax')\n",
        "    Dense(1, activation='sigmoid')\n",
        "])\n",
        "\n",
        "# Compile the model\n",
        "# optimizer='adam' → popular adaptive optimizer\n",
        "# loss='binary_crossentropy' → used for binary classification\n",
        "# metrics=['accuracy'] → track accuracy during training\n",
        "model.compile(optimizer='adam', loss='binary_crossentropy', metrics=['accuracy'])\n",
        "\n",
        "# Print model summary (to see all layers and number of parameters)\n",
        "model.summary()\n",
        "\n"
      ],
      "metadata": {
        "execution": {
          "iopub.status.busy": "2024-09-04T07:33:30.435769Z",
          "iopub.execute_input": "2024-09-04T07:33:30.436572Z",
          "iopub.status.idle": "2024-09-04T07:33:30.480631Z",
          "shell.execute_reply.started": "2024-09-04T07:33:30.436534Z",
          "shell.execute_reply": "2024-09-04T07:33:30.479473Z"
        },
        "trusted": true,
        "id": "198Hgsn8pc9k",
        "outputId": "96bff421-7c09-4d2f-bc09-f23afdb46435",
        "colab": {
          "base_uri": "https://localhost:8080/",
          "height": 335
        }
      },
      "execution_count": 15,
      "outputs": [
        {
          "output_type": "display_data",
          "data": {
            "text/plain": [
              "\u001b[1mModel: \"sequential_3\"\u001b[0m\n"
            ],
            "text/html": [
              "<pre style=\"white-space:pre;overflow-x:auto;line-height:normal;font-family:Menlo,'DejaVu Sans Mono',consolas,'Courier New',monospace\"><span style=\"font-weight: bold\">Model: \"sequential_3\"</span>\n",
              "</pre>\n"
            ]
          },
          "metadata": {}
        },
        {
          "output_type": "display_data",
          "data": {
            "text/plain": [
              "┏━━━━━━━━━━━━━━━━━━━━━━━━━━━━━━━━━┳━━━━━━━━━━━━━━━━━━━━━━━━┳━━━━━━━━━━━━━━━┓\n",
              "┃\u001b[1m \u001b[0m\u001b[1mLayer (type)                   \u001b[0m\u001b[1m \u001b[0m┃\u001b[1m \u001b[0m\u001b[1mOutput Shape          \u001b[0m\u001b[1m \u001b[0m┃\u001b[1m \u001b[0m\u001b[1m      Param #\u001b[0m\u001b[1m \u001b[0m┃\n",
              "┡━━━━━━━━━━━━━━━━━━━━━━━━━━━━━━━━━╇━━━━━━━━━━━━━━━━━━━━━━━━╇━━━━━━━━━━━━━━━┩\n",
              "│ embedding_3 (\u001b[38;5;33mEmbedding\u001b[0m)         │ ?                      │   \u001b[38;5;34m0\u001b[0m (unbuilt) │\n",
              "├─────────────────────────────────┼────────────────────────┼───────────────┤\n",
              "│ lstm_3 (\u001b[38;5;33mLSTM\u001b[0m)                   │ ?                      │   \u001b[38;5;34m0\u001b[0m (unbuilt) │\n",
              "├─────────────────────────────────┼────────────────────────┼───────────────┤\n",
              "│ dropout_6 (\u001b[38;5;33mDropout\u001b[0m)             │ ?                      │             \u001b[38;5;34m0\u001b[0m │\n",
              "├─────────────────────────────────┼────────────────────────┼───────────────┤\n",
              "│ dense_6 (\u001b[38;5;33mDense\u001b[0m)                 │ ?                      │   \u001b[38;5;34m0\u001b[0m (unbuilt) │\n",
              "├─────────────────────────────────┼────────────────────────┼───────────────┤\n",
              "│ dropout_7 (\u001b[38;5;33mDropout\u001b[0m)             │ ?                      │             \u001b[38;5;34m0\u001b[0m │\n",
              "├─────────────────────────────────┼────────────────────────┼───────────────┤\n",
              "│ dense_7 (\u001b[38;5;33mDense\u001b[0m)                 │ ?                      │   \u001b[38;5;34m0\u001b[0m (unbuilt) │\n",
              "└─────────────────────────────────┴────────────────────────┴───────────────┘\n"
            ],
            "text/html": [
              "<pre style=\"white-space:pre;overflow-x:auto;line-height:normal;font-family:Menlo,'DejaVu Sans Mono',consolas,'Courier New',monospace\">┏━━━━━━━━━━━━━━━━━━━━━━━━━━━━━━━━━┳━━━━━━━━━━━━━━━━━━━━━━━━┳━━━━━━━━━━━━━━━┓\n",
              "┃<span style=\"font-weight: bold\"> Layer (type)                    </span>┃<span style=\"font-weight: bold\"> Output Shape           </span>┃<span style=\"font-weight: bold\">       Param # </span>┃\n",
              "┡━━━━━━━━━━━━━━━━━━━━━━━━━━━━━━━━━╇━━━━━━━━━━━━━━━━━━━━━━━━╇━━━━━━━━━━━━━━━┩\n",
              "│ embedding_3 (<span style=\"color: #0087ff; text-decoration-color: #0087ff\">Embedding</span>)         │ ?                      │   <span style=\"color: #00af00; text-decoration-color: #00af00\">0</span> (unbuilt) │\n",
              "├─────────────────────────────────┼────────────────────────┼───────────────┤\n",
              "│ lstm_3 (<span style=\"color: #0087ff; text-decoration-color: #0087ff\">LSTM</span>)                   │ ?                      │   <span style=\"color: #00af00; text-decoration-color: #00af00\">0</span> (unbuilt) │\n",
              "├─────────────────────────────────┼────────────────────────┼───────────────┤\n",
              "│ dropout_6 (<span style=\"color: #0087ff; text-decoration-color: #0087ff\">Dropout</span>)             │ ?                      │             <span style=\"color: #00af00; text-decoration-color: #00af00\">0</span> │\n",
              "├─────────────────────────────────┼────────────────────────┼───────────────┤\n",
              "│ dense_6 (<span style=\"color: #0087ff; text-decoration-color: #0087ff\">Dense</span>)                 │ ?                      │   <span style=\"color: #00af00; text-decoration-color: #00af00\">0</span> (unbuilt) │\n",
              "├─────────────────────────────────┼────────────────────────┼───────────────┤\n",
              "│ dropout_7 (<span style=\"color: #0087ff; text-decoration-color: #0087ff\">Dropout</span>)             │ ?                      │             <span style=\"color: #00af00; text-decoration-color: #00af00\">0</span> │\n",
              "├─────────────────────────────────┼────────────────────────┼───────────────┤\n",
              "│ dense_7 (<span style=\"color: #0087ff; text-decoration-color: #0087ff\">Dense</span>)                 │ ?                      │   <span style=\"color: #00af00; text-decoration-color: #00af00\">0</span> (unbuilt) │\n",
              "└─────────────────────────────────┴────────────────────────┴───────────────┘\n",
              "</pre>\n"
            ]
          },
          "metadata": {}
        },
        {
          "output_type": "display_data",
          "data": {
            "text/plain": [
              "\u001b[1m Total params: \u001b[0m\u001b[38;5;34m0\u001b[0m (0.00 B)\n"
            ],
            "text/html": [
              "<pre style=\"white-space:pre;overflow-x:auto;line-height:normal;font-family:Menlo,'DejaVu Sans Mono',consolas,'Courier New',monospace\"><span style=\"font-weight: bold\"> Total params: </span><span style=\"color: #00af00; text-decoration-color: #00af00\">0</span> (0.00 B)\n",
              "</pre>\n"
            ]
          },
          "metadata": {}
        },
        {
          "output_type": "display_data",
          "data": {
            "text/plain": [
              "\u001b[1m Trainable params: \u001b[0m\u001b[38;5;34m0\u001b[0m (0.00 B)\n"
            ],
            "text/html": [
              "<pre style=\"white-space:pre;overflow-x:auto;line-height:normal;font-family:Menlo,'DejaVu Sans Mono',consolas,'Courier New',monospace\"><span style=\"font-weight: bold\"> Trainable params: </span><span style=\"color: #00af00; text-decoration-color: #00af00\">0</span> (0.00 B)\n",
              "</pre>\n"
            ]
          },
          "metadata": {}
        },
        {
          "output_type": "display_data",
          "data": {
            "text/plain": [
              "\u001b[1m Non-trainable params: \u001b[0m\u001b[38;5;34m0\u001b[0m (0.00 B)\n"
            ],
            "text/html": [
              "<pre style=\"white-space:pre;overflow-x:auto;line-height:normal;font-family:Menlo,'DejaVu Sans Mono',consolas,'Courier New',monospace\"><span style=\"font-weight: bold\"> Non-trainable params: </span><span style=\"color: #00af00; text-decoration-color: #00af00\">0</span> (0.00 B)\n",
              "</pre>\n"
            ]
          },
          "metadata": {}
        }
      ]
    },
    {
      "cell_type": "code",
      "source": [
        "# Train the model\n",
        "model.fit(X_train, y_train, epochs=10, batch_size=32)"
      ],
      "metadata": {
        "execution": {
          "iopub.status.busy": "2024-09-04T07:33:37.488314Z",
          "iopub.execute_input": "2024-09-04T07:33:37.488719Z",
          "iopub.status.idle": "2024-09-04T07:33:41.005522Z",
          "shell.execute_reply.started": "2024-09-04T07:33:37.488689Z",
          "shell.execute_reply": "2024-09-04T07:33:41.004282Z"
        },
        "trusted": true,
        "id": "1lxuF1sdpc9k",
        "outputId": "1e7838b6-c2a8-4ed0-bb00-d28b6a637632",
        "colab": {
          "base_uri": "https://localhost:8080/"
        }
      },
      "execution_count": 16,
      "outputs": [
        {
          "output_type": "stream",
          "name": "stdout",
          "text": [
            "Epoch 1/10\n",
            "\u001b[1m1/1\u001b[0m \u001b[32m━━━━━━━━━━━━━━━━━━━━\u001b[0m\u001b[37m\u001b[0m \u001b[1m2s\u001b[0m 2s/step - accuracy: 0.5000 - loss: 0.6925\n",
            "Epoch 2/10\n",
            "\u001b[1m1/1\u001b[0m \u001b[32m━━━━━━━━━━━━━━━━━━━━\u001b[0m\u001b[37m\u001b[0m \u001b[1m0s\u001b[0m 38ms/step - accuracy: 0.5000 - loss: 0.6913\n",
            "Epoch 3/10\n",
            "\u001b[1m1/1\u001b[0m \u001b[32m━━━━━━━━━━━━━━━━━━━━\u001b[0m\u001b[37m\u001b[0m \u001b[1m0s\u001b[0m 57ms/step - accuracy: 0.5000 - loss: 0.6950\n",
            "Epoch 4/10\n",
            "\u001b[1m1/1\u001b[0m \u001b[32m━━━━━━━━━━━━━━━━━━━━\u001b[0m\u001b[37m\u001b[0m \u001b[1m0s\u001b[0m 37ms/step - accuracy: 0.5000 - loss: 0.6908\n",
            "Epoch 5/10\n",
            "\u001b[1m1/1\u001b[0m \u001b[32m━━━━━━━━━━━━━━━━━━━━\u001b[0m\u001b[37m\u001b[0m \u001b[1m0s\u001b[0m 60ms/step - accuracy: 1.0000 - loss: 0.6894\n",
            "Epoch 6/10\n",
            "\u001b[1m1/1\u001b[0m \u001b[32m━━━━━━━━━━━━━━━━━━━━\u001b[0m\u001b[37m\u001b[0m \u001b[1m0s\u001b[0m 37ms/step - accuracy: 0.5000 - loss: 0.6884\n",
            "Epoch 7/10\n",
            "\u001b[1m1/1\u001b[0m \u001b[32m━━━━━━━━━━━━━━━━━━━━\u001b[0m\u001b[37m\u001b[0m \u001b[1m0s\u001b[0m 38ms/step - accuracy: 0.5000 - loss: 0.6946\n",
            "Epoch 8/10\n",
            "\u001b[1m1/1\u001b[0m \u001b[32m━━━━━━━━━━━━━━━━━━━━\u001b[0m\u001b[37m\u001b[0m \u001b[1m0s\u001b[0m 38ms/step - accuracy: 0.5000 - loss: 0.6919\n",
            "Epoch 9/10\n",
            "\u001b[1m1/1\u001b[0m \u001b[32m━━━━━━━━━━━━━━━━━━━━\u001b[0m\u001b[37m\u001b[0m \u001b[1m0s\u001b[0m 38ms/step - accuracy: 1.0000 - loss: 0.6886\n",
            "Epoch 10/10\n",
            "\u001b[1m1/1\u001b[0m \u001b[32m━━━━━━━━━━━━━━━━━━━━\u001b[0m\u001b[37m\u001b[0m \u001b[1m0s\u001b[0m 38ms/step - accuracy: 0.5000 - loss: 0.6860\n"
          ]
        },
        {
          "output_type": "execute_result",
          "data": {
            "text/plain": [
              "<keras.src.callbacks.history.History at 0x7e053a8003b0>"
            ]
          },
          "metadata": {},
          "execution_count": 16
        }
      ]
    },
    {
      "cell_type": "code",
      "source": [
        "model.summary()"
      ],
      "metadata": {
        "execution": {
          "iopub.status.busy": "2024-09-04T07:33:55.249160Z",
          "iopub.execute_input": "2024-09-04T07:33:55.249605Z",
          "iopub.status.idle": "2024-09-04T07:33:55.279264Z",
          "shell.execute_reply.started": "2024-09-04T07:33:55.249568Z",
          "shell.execute_reply": "2024-09-04T07:33:55.278116Z"
        },
        "trusted": true,
        "id": "s-aCaSw2pc9l",
        "outputId": "b2b2e60c-5578-4117-a429-bad952ef505d",
        "colab": {
          "base_uri": "https://localhost:8080/",
          "height": 352
        }
      },
      "execution_count": 17,
      "outputs": [
        {
          "output_type": "display_data",
          "data": {
            "text/plain": [
              "\u001b[1mModel: \"sequential_3\"\u001b[0m\n"
            ],
            "text/html": [
              "<pre style=\"white-space:pre;overflow-x:auto;line-height:normal;font-family:Menlo,'DejaVu Sans Mono',consolas,'Courier New',monospace\"><span style=\"font-weight: bold\">Model: \"sequential_3\"</span>\n",
              "</pre>\n"
            ]
          },
          "metadata": {}
        },
        {
          "output_type": "display_data",
          "data": {
            "text/plain": [
              "┏━━━━━━━━━━━━━━━━━━━━━━━━━━━━━━━━━┳━━━━━━━━━━━━━━━━━━━━━━━━┳━━━━━━━━━━━━━━━┓\n",
              "┃\u001b[1m \u001b[0m\u001b[1mLayer (type)                   \u001b[0m\u001b[1m \u001b[0m┃\u001b[1m \u001b[0m\u001b[1mOutput Shape          \u001b[0m\u001b[1m \u001b[0m┃\u001b[1m \u001b[0m\u001b[1m      Param #\u001b[0m\u001b[1m \u001b[0m┃\n",
              "┡━━━━━━━━━━━━━━━━━━━━━━━━━━━━━━━━━╇━━━━━━━━━━━━━━━━━━━━━━━━╇━━━━━━━━━━━━━━━┩\n",
              "│ embedding_3 (\u001b[38;5;33mEmbedding\u001b[0m)         │ (\u001b[38;5;45mNone\u001b[0m, \u001b[38;5;34m7\u001b[0m, \u001b[38;5;34m16\u001b[0m)          │           \u001b[38;5;34m224\u001b[0m │\n",
              "├─────────────────────────────────┼────────────────────────┼───────────────┤\n",
              "│ lstm_3 (\u001b[38;5;33mLSTM\u001b[0m)                   │ (\u001b[38;5;45mNone\u001b[0m, \u001b[38;5;34m64\u001b[0m)             │        \u001b[38;5;34m20,736\u001b[0m │\n",
              "├─────────────────────────────────┼────────────────────────┼───────────────┤\n",
              "│ dropout_6 (\u001b[38;5;33mDropout\u001b[0m)             │ (\u001b[38;5;45mNone\u001b[0m, \u001b[38;5;34m64\u001b[0m)             │             \u001b[38;5;34m0\u001b[0m │\n",
              "├─────────────────────────────────┼────────────────────────┼───────────────┤\n",
              "│ dense_6 (\u001b[38;5;33mDense\u001b[0m)                 │ (\u001b[38;5;45mNone\u001b[0m, \u001b[38;5;34m32\u001b[0m)             │         \u001b[38;5;34m2,080\u001b[0m │\n",
              "├─────────────────────────────────┼────────────────────────┼───────────────┤\n",
              "│ dropout_7 (\u001b[38;5;33mDropout\u001b[0m)             │ (\u001b[38;5;45mNone\u001b[0m, \u001b[38;5;34m32\u001b[0m)             │             \u001b[38;5;34m0\u001b[0m │\n",
              "├─────────────────────────────────┼────────────────────────┼───────────────┤\n",
              "│ dense_7 (\u001b[38;5;33mDense\u001b[0m)                 │ (\u001b[38;5;45mNone\u001b[0m, \u001b[38;5;34m1\u001b[0m)              │            \u001b[38;5;34m33\u001b[0m │\n",
              "└─────────────────────────────────┴────────────────────────┴───────────────┘\n"
            ],
            "text/html": [
              "<pre style=\"white-space:pre;overflow-x:auto;line-height:normal;font-family:Menlo,'DejaVu Sans Mono',consolas,'Courier New',monospace\">┏━━━━━━━━━━━━━━━━━━━━━━━━━━━━━━━━━┳━━━━━━━━━━━━━━━━━━━━━━━━┳━━━━━━━━━━━━━━━┓\n",
              "┃<span style=\"font-weight: bold\"> Layer (type)                    </span>┃<span style=\"font-weight: bold\"> Output Shape           </span>┃<span style=\"font-weight: bold\">       Param # </span>┃\n",
              "┡━━━━━━━━━━━━━━━━━━━━━━━━━━━━━━━━━╇━━━━━━━━━━━━━━━━━━━━━━━━╇━━━━━━━━━━━━━━━┩\n",
              "│ embedding_3 (<span style=\"color: #0087ff; text-decoration-color: #0087ff\">Embedding</span>)         │ (<span style=\"color: #00d7ff; text-decoration-color: #00d7ff\">None</span>, <span style=\"color: #00af00; text-decoration-color: #00af00\">7</span>, <span style=\"color: #00af00; text-decoration-color: #00af00\">16</span>)          │           <span style=\"color: #00af00; text-decoration-color: #00af00\">224</span> │\n",
              "├─────────────────────────────────┼────────────────────────┼───────────────┤\n",
              "│ lstm_3 (<span style=\"color: #0087ff; text-decoration-color: #0087ff\">LSTM</span>)                   │ (<span style=\"color: #00d7ff; text-decoration-color: #00d7ff\">None</span>, <span style=\"color: #00af00; text-decoration-color: #00af00\">64</span>)             │        <span style=\"color: #00af00; text-decoration-color: #00af00\">20,736</span> │\n",
              "├─────────────────────────────────┼────────────────────────┼───────────────┤\n",
              "│ dropout_6 (<span style=\"color: #0087ff; text-decoration-color: #0087ff\">Dropout</span>)             │ (<span style=\"color: #00d7ff; text-decoration-color: #00d7ff\">None</span>, <span style=\"color: #00af00; text-decoration-color: #00af00\">64</span>)             │             <span style=\"color: #00af00; text-decoration-color: #00af00\">0</span> │\n",
              "├─────────────────────────────────┼────────────────────────┼───────────────┤\n",
              "│ dense_6 (<span style=\"color: #0087ff; text-decoration-color: #0087ff\">Dense</span>)                 │ (<span style=\"color: #00d7ff; text-decoration-color: #00d7ff\">None</span>, <span style=\"color: #00af00; text-decoration-color: #00af00\">32</span>)             │         <span style=\"color: #00af00; text-decoration-color: #00af00\">2,080</span> │\n",
              "├─────────────────────────────────┼────────────────────────┼───────────────┤\n",
              "│ dropout_7 (<span style=\"color: #0087ff; text-decoration-color: #0087ff\">Dropout</span>)             │ (<span style=\"color: #00d7ff; text-decoration-color: #00d7ff\">None</span>, <span style=\"color: #00af00; text-decoration-color: #00af00\">32</span>)             │             <span style=\"color: #00af00; text-decoration-color: #00af00\">0</span> │\n",
              "├─────────────────────────────────┼────────────────────────┼───────────────┤\n",
              "│ dense_7 (<span style=\"color: #0087ff; text-decoration-color: #0087ff\">Dense</span>)                 │ (<span style=\"color: #00d7ff; text-decoration-color: #00d7ff\">None</span>, <span style=\"color: #00af00; text-decoration-color: #00af00\">1</span>)              │            <span style=\"color: #00af00; text-decoration-color: #00af00\">33</span> │\n",
              "└─────────────────────────────────┴────────────────────────┴───────────────┘\n",
              "</pre>\n"
            ]
          },
          "metadata": {}
        },
        {
          "output_type": "display_data",
          "data": {
            "text/plain": [
              "\u001b[1m Total params: \u001b[0m\u001b[38;5;34m69,221\u001b[0m (270.40 KB)\n"
            ],
            "text/html": [
              "<pre style=\"white-space:pre;overflow-x:auto;line-height:normal;font-family:Menlo,'DejaVu Sans Mono',consolas,'Courier New',monospace\"><span style=\"font-weight: bold\"> Total params: </span><span style=\"color: #00af00; text-decoration-color: #00af00\">69,221</span> (270.40 KB)\n",
              "</pre>\n"
            ]
          },
          "metadata": {}
        },
        {
          "output_type": "display_data",
          "data": {
            "text/plain": [
              "\u001b[1m Trainable params: \u001b[0m\u001b[38;5;34m23,073\u001b[0m (90.13 KB)\n"
            ],
            "text/html": [
              "<pre style=\"white-space:pre;overflow-x:auto;line-height:normal;font-family:Menlo,'DejaVu Sans Mono',consolas,'Courier New',monospace\"><span style=\"font-weight: bold\"> Trainable params: </span><span style=\"color: #00af00; text-decoration-color: #00af00\">23,073</span> (90.13 KB)\n",
              "</pre>\n"
            ]
          },
          "metadata": {}
        },
        {
          "output_type": "display_data",
          "data": {
            "text/plain": [
              "\u001b[1m Non-trainable params: \u001b[0m\u001b[38;5;34m0\u001b[0m (0.00 B)\n"
            ],
            "text/html": [
              "<pre style=\"white-space:pre;overflow-x:auto;line-height:normal;font-family:Menlo,'DejaVu Sans Mono',consolas,'Courier New',monospace\"><span style=\"font-weight: bold\"> Non-trainable params: </span><span style=\"color: #00af00; text-decoration-color: #00af00\">0</span> (0.00 B)\n",
              "</pre>\n"
            ]
          },
          "metadata": {}
        },
        {
          "output_type": "display_data",
          "data": {
            "text/plain": [
              "\u001b[1m Optimizer params: \u001b[0m\u001b[38;5;34m46,148\u001b[0m (180.27 KB)\n"
            ],
            "text/html": [
              "<pre style=\"white-space:pre;overflow-x:auto;line-height:normal;font-family:Menlo,'DejaVu Sans Mono',consolas,'Courier New',monospace\"><span style=\"font-weight: bold\"> Optimizer params: </span><span style=\"color: #00af00; text-decoration-color: #00af00\">46,148</span> (180.27 KB)\n",
              "</pre>\n"
            ]
          },
          "metadata": {}
        }
      ]
    },
    {
      "cell_type": "code",
      "source": [
        "from sklearn.metrics import accuracy_score"
      ],
      "metadata": {
        "id": "7DzB5EFnpAv7"
      },
      "execution_count": 19,
      "outputs": []
    },
    {
      "cell_type": "code",
      "source": [
        "# Evaluate the model\n",
        "y_pred = (model.predict(X_test) > 0.5).astype(\"int32\")  # Convert probabilities to binary output\n",
        "print(f'Accuracy: {accuracy_score(y_test, y_pred)}')\n"
      ],
      "metadata": {
        "execution": {
          "iopub.status.busy": "2024-09-04T07:34:10.694474Z",
          "iopub.execute_input": "2024-09-04T07:34:10.694898Z",
          "iopub.status.idle": "2024-09-04T07:34:10.967869Z",
          "shell.execute_reply.started": "2024-09-04T07:34:10.694851Z",
          "shell.execute_reply": "2024-09-04T07:34:10.966650Z"
        },
        "trusted": true,
        "id": "GrB9hxXGpc9l",
        "outputId": "6f43066c-01b5-489c-de81-9fd3f95f255f",
        "colab": {
          "base_uri": "https://localhost:8080/"
        }
      },
      "execution_count": 21,
      "outputs": [
        {
          "output_type": "stream",
          "name": "stdout",
          "text": [
            "\u001b[1m1/1\u001b[0m \u001b[32m━━━━━━━━━━━━━━━━━━━━\u001b[0m\u001b[37m\u001b[0m \u001b[1m0s\u001b[0m 29ms/step\n",
            "Accuracy: 0.0\n"
          ]
        }
      ]
    },
    {
      "cell_type": "markdown",
      "source": [
        "#### Lets apply on our dataset"
      ],
      "metadata": {
        "id": "jD_-vVZWpc9l"
      }
    },
    {
      "cell_type": "code",
      "source": [
        "df"
      ],
      "metadata": {
        "execution": {
          "iopub.status.busy": "2024-09-04T06:50:03.003264Z",
          "iopub.execute_input": "2024-09-04T06:50:03.004240Z",
          "iopub.status.idle": "2024-09-04T06:50:03.019847Z",
          "shell.execute_reply.started": "2024-09-04T06:50:03.004197Z",
          "shell.execute_reply": "2024-09-04T06:50:03.018516Z"
        },
        "trusted": true,
        "id": "JOWfuKxapc9l",
        "outputId": "9f55cab3-6ee4-4db0-a143-5966fb4f0c93",
        "colab": {
          "base_uri": "https://localhost:8080/",
          "height": 141
        }
      },
      "execution_count": 22,
      "outputs": [
        {
          "output_type": "error",
          "ename": "NameError",
          "evalue": "name 'df' is not defined",
          "traceback": [
            "\u001b[0;31m---------------------------------------------------------------------------\u001b[0m",
            "\u001b[0;31mNameError\u001b[0m                                 Traceback (most recent call last)",
            "\u001b[0;32m/tmp/ipython-input-1396537375.py\u001b[0m in \u001b[0;36m<cell line: 0>\u001b[0;34m()\u001b[0m\n\u001b[0;32m----> 1\u001b[0;31m \u001b[0mdf\u001b[0m\u001b[0;34m\u001b[0m\u001b[0;34m\u001b[0m\u001b[0m\n\u001b[0m",
            "\u001b[0;31mNameError\u001b[0m: name 'df' is not defined"
          ]
        }
      ]
    },
    {
      "cell_type": "code",
      "source": [
        "# Tokenize the text data\n",
        "tokenizer = Tokenizer(num_words=10000, oov_token=\"<OOV>\")\n",
        "tokenizer.fit_on_texts(df['review'].values)\n",
        "word_index = tokenizer.word_index\n"
      ],
      "metadata": {
        "execution": {
          "iopub.status.busy": "2024-09-04T06:52:58.005407Z",
          "iopub.execute_input": "2024-09-04T06:52:58.005870Z",
          "iopub.status.idle": "2024-09-04T06:52:58.288590Z",
          "shell.execute_reply.started": "2024-09-04T06:52:58.005832Z",
          "shell.execute_reply": "2024-09-04T06:52:58.287083Z"
        },
        "trusted": true,
        "id": "DUjLZbOhpc9l"
      },
      "execution_count": 74,
      "outputs": []
    },
    {
      "cell_type": "code",
      "source": [
        "word_index"
      ],
      "metadata": {
        "execution": {
          "iopub.status.busy": "2024-09-04T07:19:42.099050Z",
          "iopub.execute_input": "2024-09-04T07:19:42.099580Z",
          "iopub.status.idle": "2024-09-04T07:19:42.153075Z",
          "shell.execute_reply.started": "2024-09-04T07:19:42.099539Z",
          "shell.execute_reply": "2024-09-04T07:19:42.151789Z"
        },
        "scrolled": true,
        "trusted": true,
        "id": "SLeF98klpc9l",
        "outputId": "513fd099-a1d2-4729-fe4a-fbc6c0a7b2b2",
        "colab": {
          "base_uri": "https://localhost:8080/"
        }
      },
      "execution_count": 75,
      "outputs": [
        {
          "output_type": "execute_result",
          "data": {
            "text/plain": [
              "{'<OOV>': 1,\n",
              " 'depression': 2,\n",
              " 'im': 3,\n",
              " 'good': 4,\n",
              " 'love': 5,\n",
              " 'day': 6,\n",
              " 'like': 7,\n",
              " 'get': 8,\n",
              " 'laughing': 9,\n",
              " 'loud': 10,\n",
              " 'eyes': 11,\n",
              " 'dont': 12,\n",
              " 'tears': 13,\n",
              " 'out': 14,\n",
              " 'know': 15,\n",
              " 'you': 16,\n",
              " 'â\\x80¦': 17,\n",
              " 'go': 18,\n",
              " 'going': 19,\n",
              " 'thanks': 20,\n",
              " 'anxiety': 21,\n",
              " 'one': 22,\n",
              " 'today': 23,\n",
              " 'got': 24,\n",
              " 'see': 25,\n",
              " 'great': 26,\n",
              " 'new': 27,\n",
              " 'back': 28,\n",
              " 'well': 29,\n",
              " 'really': 30,\n",
              " 'think': 31,\n",
              " 'much': 32,\n",
              " 'night': 33,\n",
              " 'happy': 34,\n",
              " 'cant': 35,\n",
              " 'people': 36,\n",
              " 'work': 37,\n",
              " 'haha': 38,\n",
              " 'amp': 39,\n",
              " 'life': 40,\n",
              " 'ill': 41,\n",
              " 'twitter': 42,\n",
              " 'hope': 43,\n",
              " 'way': 44,\n",
              " 'thank': 45,\n",
              " 'thats': 46,\n",
              " '2': 47,\n",
              " 'morning': 48,\n",
              " 'need': 49,\n",
              " 'would': 50,\n",
              " 'youre': 51,\n",
              " 'want': 52,\n",
              " 'oh': 53,\n",
              " 'fun': 54,\n",
              " 'feel': 55,\n",
              " 'make': 56,\n",
              " 'still': 57,\n",
              " 'right': 58,\n",
              " 'hey': 59,\n",
              " 'better': 60,\n",
              " 'last': 61,\n",
              " 'ive': 62,\n",
              " 'everyone': 63,\n",
              " 'home': 64,\n",
              " 'nice': 65,\n",
              " 'watching': 66,\n",
              " 'best': 67,\n",
              " 'never': 68,\n",
              " 'tomorrow': 69,\n",
              " 'us': 70,\n",
              " 'gonna': 71,\n",
              " 'come': 72,\n",
              " 'getting': 73,\n",
              " 'awesome': 74,\n",
              " 'even': 75,\n",
              " 'help': 76,\n",
              " 'take': 77,\n",
              " 'first': 78,\n",
              " 'wait': 79,\n",
              " 'friends': 80,\n",
              " 'bed': 81,\n",
              " 'please': 82,\n",
              " 'say': 83,\n",
              " 'yeah': 84,\n",
              " 'could': 85,\n",
              " 'yes': 86,\n",
              " 'made': 87,\n",
              " 'something': 88,\n",
              " 'someone': 89,\n",
              " 'sure': 90,\n",
              " 'cool': 91,\n",
              " 'days': 92,\n",
              " 'guys': 93,\n",
              " 'things': 94,\n",
              " 'ok': 95,\n",
              " 'mental': 96,\n",
              " 'thing': 97,\n",
              " 'done': 98,\n",
              " 'always': 99,\n",
              " 'amazing': 100,\n",
              " 'tonight': 101,\n",
              " 'next': 102,\n",
              " 'soon': 103,\n",
              " 'ever': 104,\n",
              " 'look': 105,\n",
              " 'bad': 106,\n",
              " 'try': 107,\n",
              " 'world': 108,\n",
              " 'though': 109,\n",
              " 'long': 110,\n",
              " 'ready': 111,\n",
              " 'sleep': 112,\n",
              " 'week': 113,\n",
              " 'real': 114,\n",
              " 'follow': 115,\n",
              " 'feeling': 116,\n",
              " 'weekend': 117,\n",
              " 'ur': 118,\n",
              " 'show': 119,\n",
              " '4': 120,\n",
              " 'school': 121,\n",
              " 'didnt': 122,\n",
              " 'may': 123,\n",
              " 'glad': 124,\n",
              " 'watch': 125,\n",
              " 'let': 126,\n",
              " 'check': 127,\n",
              " 'maybe': 128,\n",
              " 'also': 129,\n",
              " 'health': 130,\n",
              " 'yay': 131,\n",
              " 'every': 132,\n",
              " 'lot': 133,\n",
              " 'excited': 134,\n",
              " 'looking': 135,\n",
              " 'man': 136,\n",
              " '3': 137,\n",
              " 'little': 138,\n",
              " 'nothing': 139,\n",
              " 'tweet': 140,\n",
              " 'pretty': 141,\n",
              " 'finally': 142,\n",
              " 'song': 143,\n",
              " 'wish': 144,\n",
              " 'went': 145,\n",
              " 'give': 146,\n",
              " 'actually': 147,\n",
              " 'use': 148,\n",
              " 'another': 149,\n",
              " 'big': 150,\n",
              " 'keep': 151,\n",
              " 'movie': 152,\n",
              " 'many': 153,\n",
              " 'post': 154,\n",
              " 'via': 155,\n",
              " 'already': 156,\n",
              " 'read': 157,\n",
              " 'music': 158,\n",
              " 'birthday': 159,\n",
              " 'hard': 160,\n",
              " 'trying': 161,\n",
              " 'god': 162,\n",
              " 'hi': 163,\n",
              " 'makes': 164,\n",
              " 'year': 165,\n",
              " 'friend': 166,\n",
              " '1': 167,\n",
              " 'beautiful': 168,\n",
              " 'sun': 169,\n",
              " 'around': 170,\n",
              " 'live': 171,\n",
              " 'x': 172,\n",
              " 'ya': 173,\n",
              " 'house': 174,\n",
              " 'laugh': 175,\n",
              " 'find': 176,\n",
              " 'years': 177,\n",
              " 'stop': 178,\n",
              " 'said': 179,\n",
              " 'job': 180,\n",
              " 'wont': 181,\n",
              " 'working': 182,\n",
              " 'kids': 183,\n",
              " 'start': 184,\n",
              " 'lt3': 185,\n",
              " 'tell': 186,\n",
              " 'wanna': 187,\n",
              " 'enjoy': 188,\n",
              " 'away': 189,\n",
              " 'sorry': 190,\n",
              " 'shit': 191,\n",
              " 'later': 192,\n",
              " 'thinking': 193,\n",
              " 'girl': 194,\n",
              " 'free': 195,\n",
              " 'doesnt': 196,\n",
              " 'talk': 197,\n",
              " 'wow': 198,\n",
              " '5': 199,\n",
              " 'summer': 200,\n",
              " 'miss': 201,\n",
              " 'listening': 202,\n",
              " 'hours': 203,\n",
              " 'eating': 204,\n",
              " 'making': 205,\n",
              " 'might': 206,\n",
              " 'id': 207,\n",
              " 'two': 208,\n",
              " 'least': 209,\n",
              " 'early': 210,\n",
              " 'care': 211,\n",
              " 'old': 212,\n",
              " 'anyone': 213,\n",
              " 'family': 214,\n",
              " 'n': 215,\n",
              " 'stuff': 216,\n",
              " 'isnt': 217,\n",
              " 'person': 218,\n",
              " 'times': 219,\n",
              " 'funny': 220,\n",
              " 'cause': 221,\n",
              " 'food': 222,\n",
              " 'almost': 223,\n",
              " 'hear': 224,\n",
              " 'mom': 225,\n",
              " 'stress': 226,\n",
              " 'cute': 227,\n",
              " 'sounds': 228,\n",
              " 'bit': 229,\n",
              " 'game': 230,\n",
              " 'mentalhealth': 231,\n",
              " 'baby': 232,\n",
              " 'yet': 233,\n",
              " 'lets': 234,\n",
              " 'welcome': 235,\n",
              " 'luck': 236,\n",
              " 'sweet': 237,\n",
              " 'guess': 238,\n",
              " 'waiting': 239,\n",
              " 'thought': 240,\n",
              " 'coming': 241,\n",
              " 'video': 242,\n",
              " 'mean': 243,\n",
              " 'party': 244,\n",
              " 'totally': 245,\n",
              " 'okay': 246,\n",
              " 'whats': 247,\n",
              " 'talking': 248,\n",
              " 'anything': 249,\n",
              " 'hes': 250,\n",
              " 'left': 251,\n",
              " 'friday': 252,\n",
              " 'hate': 253,\n",
              " 'the': 254,\n",
              " 'enough': 255,\n",
              " 'eat': 256,\n",
              " 'found': 257,\n",
              " 'end': 258,\n",
              " 'hair': 259,\n",
              " 'everything': 260,\n",
              " 'dinner': 261,\n",
              " 'study': 262,\n",
              " 'suicide': 263,\n",
              " 'theres': 264,\n",
              " 'taking': 265,\n",
              " 'since': 266,\n",
              " 'hot': 267,\n",
              " 'loved': 268,\n",
              " 'followers': 269,\n",
              " 'hello': 270,\n",
              " 'sad': 271,\n",
              " 'blog': 272,\n",
              " 'playing': 273,\n",
              " 'put': 274,\n",
              " 'play': 275,\n",
              " 'till': 276,\n",
              " 'true': 277,\n",
              " 'mind': 278,\n",
              " 'weather': 279,\n",
              " 'tired': 280,\n",
              " 'used': 281,\n",
              " 'my': 282,\n",
              " 'a': 283,\n",
              " 'omg': 284,\n",
              " 'fucking': 285,\n",
              " 'xx': 286,\n",
              " 'goodnight': 287,\n",
              " 'support': 288,\n",
              " 'hit': 289,\n",
              " 'saturday': 290,\n",
              " 'book': 291,\n",
              " 'looks': 292,\n",
              " 'stay': 293,\n",
              " 'havent': 294,\n",
              " 'yesterday': 295,\n",
              " 'saw': 296,\n",
              " 'else': 297,\n",
              " 'w': 298,\n",
              " 'risk': 299,\n",
              " 'coffee': 300,\n",
              " 'without': 301,\n",
              " 'off': 302,\n",
              " 'buy': 303,\n",
              " 'place': 304,\n",
              " 'phone': 305,\n",
              " 'using': 306,\n",
              " 'ha': 307,\n",
              " 'moms': 308,\n",
              " 'remember': 309,\n",
              " 'listen': 310,\n",
              " 'lovely': 311,\n",
              " 'call': 312,\n",
              " 'outside': 313,\n",
              " 'sunday': 314,\n",
              " 'anyway': 315,\n",
              " 'idea': 316,\n",
              " 'illness': 317,\n",
              " 'add': 318,\n",
              " 'forward': 319,\n",
              " 'youll': 320,\n",
              " 'shes': 321,\n",
              " 'nap': 322,\n",
              " 'far': 323,\n",
              " 'part': 324,\n",
              " 'whole': 325,\n",
              " 'emotional': 326,\n",
              " 'thoughts': 327,\n",
              " 'room': 328,\n",
              " '10': 329,\n",
              " 'took': 330,\n",
              " 'pain': 331,\n",
              " 'helps': 332,\n",
              " 'youtube': 333,\n",
              " 'mothers': 334,\n",
              " '100': 335,\n",
              " 'late': 336,\n",
              " 'change': 337,\n",
              " 'head': 338,\n",
              " 'hahaha': 339,\n",
              " '20': 340,\n",
              " 'pay': 341,\n",
              " 'called': 342,\n",
              " 'quite': 343,\n",
              " 'busy': 344,\n",
              " 'theyre': 345,\n",
              " 'rain': 346,\n",
              " 'crazy': 347,\n",
              " 'album': 348,\n",
              " 'following': 349,\n",
              " 'must': 350,\n",
              " 'seeing': 351,\n",
              " 'monday': 352,\n",
              " 'definitely': 353,\n",
              " 'cured': 354,\n",
              " 'ass': 355,\n",
              " 'pic': 356,\n",
              " 'came': 357,\n",
              " 'easy': 358,\n",
              " 'social': 359,\n",
              " 'june': 360,\n",
              " 'development': 361,\n",
              " 'therapy': 362,\n",
              " 'yall': 363,\n",
              " 'finished': 364,\n",
              " 'name': 365,\n",
              " 'together': 366,\n",
              " 'course': 367,\n",
              " 'email': 368,\n",
              " 'damn': 369,\n",
              " 'probably': 370,\n",
              " 'rest': 371,\n",
              " 'comes': 372,\n",
              " 'bring': 373,\n",
              " 'r': 374,\n",
              " 'money': 375,\n",
              " 'depressed': 376,\n",
              " 'bipolar': 377,\n",
              " 'wasnt': 378,\n",
              " 'ask': 379,\n",
              " 'b': 380,\n",
              " 'gone': 381,\n",
              " 'told': 382,\n",
              " 'forget': 383,\n",
              " 'congrats': 384,\n",
              " 'hopefully': 385,\n",
              " 'exercise': 386,\n",
              " 'cure': 387,\n",
              " 'suffering': 388,\n",
              " 'reading': 389,\n",
              " 'watched': 390,\n",
              " 'believe': 391,\n",
              " 'shopping': 392,\n",
              " 'by': 393,\n",
              " 'enjoying': 394,\n",
              " 'gotta': 395,\n",
              " 'win': 396,\n",
              " 'reason': 397,\n",
              " 'brain': 398,\n",
              " 'ago': 399,\n",
              " 'trip': 400,\n",
              " 'rock': 401,\n",
              " '6': 402,\n",
              " 'write': 403,\n",
              " 'mine': 404,\n",
              " 'started': 405,\n",
              " 'side': 406,\n",
              " 'fight': 407,\n",
              " 'deal': 408,\n",
              " 'heart': 409,\n",
              " 'bout': 410,\n",
              " 'fine': 411,\n",
              " 'movies': 412,\n",
              " 'run': 413,\n",
              " 'super': 414,\n",
              " 'gt': 415,\n",
              " 'self': 416,\n",
              " 'tweets': 417,\n",
              " 'interesting': 418,\n",
              " 'happen': 419,\n",
              " 'others': 420,\n",
              " 'fuck': 421,\n",
              " 'mood': 422,\n",
              " 'tied': 423,\n",
              " 'moment': 424,\n",
              " 'online': 425,\n",
              " 'wrong': 426,\n",
              " 'worth': 427,\n",
              " 'learn': 428,\n",
              " 'meet': 429,\n",
              " 'story': 430,\n",
              " 'breakfast': 431,\n",
              " 'heard': 432,\n",
              " 'class': 433,\n",
              " 'hell': 434,\n",
              " 'etc': 435,\n",
              " 'kind': 436,\n",
              " 'concert': 437,\n",
              " 'site': 438,\n",
              " 'seen': 439,\n",
              " 'symptoms': 440,\n",
              " 'visit': 441,\n",
              " 'lost': 442,\n",
              " 'full': 443,\n",
              " 'gets': 444,\n",
              " 'severe': 445,\n",
              " 'disorder': 446,\n",
              " 'intellectual': 447,\n",
              " 'tho': 448,\n",
              " 'positive': 449,\n",
              " 'favorite': 450,\n",
              " 'aint': 451,\n",
              " 'la': 452,\n",
              " 'lunch': 453,\n",
              " 'leave': 454,\n",
              " 'problem': 455,\n",
              " 'news': 456,\n",
              " 'join': 457,\n",
              " 'wanted': 458,\n",
              " 'issues': 459,\n",
              " 'send': 460,\n",
              " 'top': 461,\n",
              " 'able': 462,\n",
              " 'bought': 463,\n",
              " 'weeks': 464,\n",
              " 'car': 465,\n",
              " 'songs': 466,\n",
              " 'beach': 467,\n",
              " 'experience': 468,\n",
              " 'set': 469,\n",
              " 'especially': 470,\n",
              " 'worry': 471,\n",
              " 'ones': 472,\n",
              " 'kinda': 473,\n",
              " 'drive': 474,\n",
              " 'college': 475,\n",
              " 'second': 476,\n",
              " 'exactly': 477,\n",
              " 'wants': 478,\n",
              " 'girls': 479,\n",
              " 'sleeping': 480,\n",
              " 'youve': 481,\n",
              " 'children': 482,\n",
              " 'train': 483,\n",
              " 'sometimes': 484,\n",
              " 'followfriday': 485,\n",
              " 'ddlovato': 486,\n",
              " 'sitting': 487,\n",
              " 'low': 488,\n",
              " 'fact': 489,\n",
              " 'saying': 490,\n",
              " 'face': 491,\n",
              " 'ppl': 492,\n",
              " 'running': 493,\n",
              " 'wedding': 494,\n",
              " 'boy': 495,\n",
              " 'past': 496,\n",
              " 'share': 497,\n",
              " 'sucks': 498,\n",
              " 'decided': 499,\n",
              " 'shows': 500,\n",
              " 'joke': 501,\n",
              " 'struggle': 502,\n",
              " 'page': 503,\n",
              " 'turn': 504,\n",
              " 'mileycyrus': 505,\n",
              " 'state': 506,\n",
              " 'says': 507,\n",
              " 'appreciate': 508,\n",
              " 'living': 509,\n",
              " 'woke': 510,\n",
              " 'wonderful': 511,\n",
              " 'half': 512,\n",
              " 'break': 513,\n",
              " 'pick': 514,\n",
              " 'perfect': 515,\n",
              " 'problems': 516,\n",
              " 'high': 517,\n",
              " 'gave': 518,\n",
              " 'missed': 519,\n",
              " 'months': 520,\n",
              " 'worst': 521,\n",
              " 'reply': 522,\n",
              " 'works': 523,\n",
              " 'tommcfly': 524,\n",
              " 'drink': 525,\n",
              " 'couldnt': 526,\n",
              " 'black': 527,\n",
              " 'aww': 528,\n",
              " 'link': 529,\n",
              " 'hehe': 530,\n",
              " 'dude': 531,\n",
              " 'ah': 532,\n",
              " 'blue': 533,\n",
              " 'afternoon': 534,\n",
              " '8': 535,\n",
              " 'alone': 536,\n",
              " 'seems': 537,\n",
              " 'bc': 538,\n",
              " 'suffer': 539,\n",
              " 'cannabis': 540,\n",
              " 'band': 541,\n",
              " 'facebook': 542,\n",
              " 'shower': 543,\n",
              " '12': 544,\n",
              " 'serious': 545,\n",
              " 'liked': 546,\n",
              " 'luv': 547,\n",
              " 'understand': 548,\n",
              " 'smile': 549,\n",
              " 'feels': 550,\n",
              " 'wonder': 551,\n",
              " '7': 552,\n",
              " 'proud': 553,\n",
              " 'white': 554,\n",
              " 'tv': 555,\n",
              " 'addiction': 556,\n",
              " 'death': 557,\n",
              " 'loving': 558,\n",
              " 'sunny': 559,\n",
              " 'sooo': 560,\n",
              " 'fan': 561,\n",
              " 'lucky': 562,\n",
              " 'heading': 563,\n",
              " 'cut': 564,\n",
              " 'stupid': 565,\n",
              " 'parents': 566,\n",
              " 'drinking': 567,\n",
              " 'tea': 568,\n",
              " 'deep': 569,\n",
              " 'loves': 570,\n",
              " 'evening': 571,\n",
              " 'mother': 572,\n",
              " 'worse': 573,\n",
              " 'jonas': 574,\n",
              " 'episode': 575,\n",
              " 'xd': 576,\n",
              " 'pictures': 577,\n",
              " 'bitch': 578,\n",
              " 'point': 579,\n",
              " 'myspace': 580,\n",
              " 'nite': 581,\n",
              " 'awww': 582,\n",
              " 'dog': 583,\n",
              " 'less': 584,\n",
              " 'business': 585,\n",
              " 'knows': 586,\n",
              " '1st': 587,\n",
              " 'chance': 588,\n",
              " 'guy': 589,\n",
              " 'lots': 590,\n",
              " 'picture': 591,\n",
              " 'ice': 592,\n",
              " 'fall': 593,\n",
              " 'open': 594,\n",
              " 'honestly': 595,\n",
              " 'tried': 596,\n",
              " 'cuz': 597,\n",
              " 'felt': 598,\n",
              " 'war': 599,\n",
              " 'hows': 600,\n",
              " 'arent': 601,\n",
              " 'garden': 602,\n",
              " 'vip': 603,\n",
              " 'chronic': 604,\n",
              " '\\x9cë°\\x9cë\\x82´ë²\\x84ë': 605,\n",
              " 'everybody': 606,\n",
              " 'xoxo': 607,\n",
              " 'cold': 608,\n",
              " 'starting': 609,\n",
              " 'goin': 610,\n",
              " 'p': 611,\n",
              " 'forgot': 612,\n",
              " 'nights': 613,\n",
              " 'deserve': 614,\n",
              " 'awake': 615,\n",
              " 'word': 616,\n",
              " 'art': 617,\n",
              " 'guitar': 618,\n",
              " 'either': 619,\n",
              " 'books': 620,\n",
              " 'goes': 621,\n",
              " 'instead': 622,\n",
              " 'team': 623,\n",
              " 'helped': 624,\n",
              " 'attention': 625,\n",
              " 'drug': 626,\n",
              " 'crippling': 627,\n",
              " 'ptsd': 628,\n",
              " 'miley': 629,\n",
              " 'beat': 630,\n",
              " 'huge': 631,\n",
              " 'seriously': 632,\n",
              " 'lose': 633,\n",
              " 'brothers': 634,\n",
              " 'often': 635,\n",
              " 'dad': 636,\n",
              " 'type': 637,\n",
              " 'giving': 638,\n",
              " 'men': 639,\n",
              " 'internet': 640,\n",
              " 'peace': 641,\n",
              " 'hour': 642,\n",
              " 'dark': 643,\n",
              " 'along': 644,\n",
              " 'needs': 645,\n",
              " '30': 646,\n",
              " 'tour': 647,\n",
              " 'plan': 648,\n",
              " 'sick': 649,\n",
              " 'writing': 650,\n",
              " 'major': 651,\n",
              " 'media': 652,\n",
              " 'park': 653,\n",
              " 'daily': 654,\n",
              " 'suicidal': 655,\n",
              " 'teens': 656,\n",
              " '¤ë\\x91\\x90ì\\x84¸ì\\x9a\\x94': 657,\n",
              " 'congratulations': 658,\n",
              " 'sunshine': 659,\n",
              " 'safe': 660,\n",
              " 'red': 661,\n",
              " 'single': 662,\n",
              " 'aw': 663,\n",
              " 'beer': 664,\n",
              " 'words': 665,\n",
              " 'bday': 666,\n",
              " 'wake': 667,\n",
              " 'fb': 668,\n",
              " 'comment': 669,\n",
              " 'fit': 670,\n",
              " 'wouldnt': 671,\n",
              " 'lakers': 672,\n",
              " 'fix': 673,\n",
              " 'bom': 674,\n",
              " 'office': 675,\n",
              " 'heres': 676,\n",
              " 'bored': 677,\n",
              " 'city': 678,\n",
              " 'three': 679,\n",
              " 'month': 680,\n",
              " 'knew': 681,\n",
              " 'water': 682,\n",
              " 'whatever': 683,\n",
              " 'text': 684,\n",
              " 'cannot': 685,\n",
              " 'rt': 686,\n",
              " 'fighting': 687,\n",
              " 'literally': 688,\n",
              " 'ë°\\x95ë´\\x84ì': 689,\n",
              " 'physical': 690,\n",
              " 'puff': 691,\n",
              " 'til': 692,\n",
              " 'different': 693,\n",
              " 'case': 694,\n",
              " 'asleep': 695,\n",
              " 'thinks': 696,\n",
              " 'photo': 697,\n",
              " 'church': 698,\n",
              " 'due': 699,\n",
              " 'body': 700,\n",
              " 'cream': 701,\n",
              " 'poor': 702,\n",
              " 'leaving': 703,\n",
              " 'special': 704,\n",
              " 'walk': 705,\n",
              " 'piece': 706,\n",
              " 'number': 707,\n",
              " 'raining': 708,\n",
              " 'yea': 709,\n",
              " 'catch': 710,\n",
              " 'matter': 711,\n",
              " 'young': 712,\n",
              " 'fans': 713,\n",
              " 'soo': 714,\n",
              " 'weight': 715,\n",
              " 'absolutely': 716,\n",
              " 'vacation': 717,\n",
              " 'list': 718,\n",
              " 'cry': 719,\n",
              " 'idk': 720,\n",
              " 'age': 721,\n",
              " 'ease': 722,\n",
              " 'struggling': 723,\n",
              " 'fantastic': 724,\n",
              " 'woo': 725,\n",
              " 'history': 726,\n",
              " 'tweeting': 727,\n",
              " 'agree': 728,\n",
              " 'season': 729,\n",
              " 'answer': 730,\n",
              " 'glass': 731,\n",
              " 'town': 732,\n",
              " 'meant': 733,\n",
              " 'july': 734,\n",
              " 'question': 735,\n",
              " 'c': 736,\n",
              " 'itll': 737,\n",
              " 'hurt': 738,\n",
              " 'yummy': 739,\n",
              " 'hanging': 740,\n",
              " 'account': 741,\n",
              " 'worked': 742,\n",
              " 'hand': 743,\n",
              " 'hahahaha': 744,\n",
              " 'die': 745,\n",
              " 'power': 746,\n",
              " 'become': 747,\n",
              " 'strong': 748,\n",
              " 'sing': 749,\n",
              " 'spent': 750,\n",
              " 'interview': 751,\n",
              " 'talks': 752,\n",
              " 'relationship': 753,\n",
              " 'lead': 754,\n",
              " 'women': 755,\n",
              " 'million': 756,\n",
              " 'dealing': 757,\n",
              " 'caused': 758,\n",
              " 'dreams': 759,\n",
              " 'taken': 760,\n",
              " 'training': 761,\n",
              " 'xxx': 762,\n",
              " 'hahah': 763,\n",
              " 'yep': 764,\n",
              " 'road': 765,\n",
              " 'update': 766,\n",
              " 'cos': 767,\n",
              " 'film': 768,\n",
              " 'computer': 769,\n",
              " 'sent': 770,\n",
              " 'green': 771,\n",
              " 'star': 772,\n",
              " 'spend': 773,\n",
              " 'finish': 774,\n",
              " 'keeps': 775,\n",
              " 'vote': 776,\n",
              " 'record': 777,\n",
              " 'cd': 778,\n",
              " 'panic': 779,\n",
              " 'hug': 780,\n",
              " 'podcast': 781,\n",
              " 'battle': 782,\n",
              " 'met': 783,\n",
              " 'shall': 784,\n",
              " 'learning': 785,\n",
              " '16': 786,\n",
              " 'added': 787,\n",
              " 'move': 788,\n",
              " 'research': 789,\n",
              " 'dm': 790,\n",
              " 'lonely': 791,\n",
              " 'knowing': 792,\n",
              " 'sex': 793,\n",
              " 'crying': 794,\n",
              " 'patients': 795,\n",
              " 'avoid': 796,\n",
              " 'trauma': 797,\n",
              " 'em': 798,\n",
              " 'possible': 799,\n",
              " 'sound': 800,\n",
              " 'shop': 801,\n",
              " 'posted': 802,\n",
              " 'moon': 803,\n",
              " 'ride': 804,\n",
              " 'sign': 805,\n",
              " 'light': 806,\n",
              " 'clean': 807,\n",
              " 'jealous': 808,\n",
              " 'important': 809,\n",
              " 'short': 810,\n",
              " 'cheers': 811,\n",
              " 'london': 812,\n",
              " 'test': 813,\n",
              " 'enjoyed': 814,\n",
              " 'mr': 815,\n",
              " 'kidding': 816,\n",
              " 'jonasbrothers': 817,\n",
              " 'alright': 818,\n",
              " 'longer': 819,\n",
              " 'hoping': 820,\n",
              " 'lazy': 821,\n",
              " 'healthy': 822,\n",
              " 'message': 823,\n",
              " 'wine': 824,\n",
              " 'boys': 825,\n",
              " 'chat': 826,\n",
              " 'lil': 827,\n",
              " 'ff': 828,\n",
              " 'minutes': 829,\n",
              " 'hmm': 830,\n",
              " 'tom': 831,\n",
              " 'normal': 832,\n",
              " 'helping': 833,\n",
              " 'pink': 834,\n",
              " 'turned': 835,\n",
              " 'behind': 836,\n",
              " 'lives': 837,\n",
              " 'nobody': 838,\n",
              " 'anymore': 839,\n",
              " 'session': 840,\n",
              " 'signs': 841,\n",
              " 'happiness': 842,\n",
              " 'treatment': 843,\n",
              " 'attacks': 844,\n",
              " 'clinical': 845,\n",
              " 'recovery': 846,\n",
              " 'medication': 847,\n",
              " 'meeting': 848,\n",
              " 'inside': 849,\n",
              " 'voice': 850,\n",
              " 'weird': 851,\n",
              " 'website': 852,\n",
              " 'dance': 853,\n",
              " 'crap': 854,\n",
              " 'winning': 855,\n",
              " 'sister': 856,\n",
              " 'promise': 857,\n",
              " 'couple': 858,\n",
              " 'da': 859,\n",
              " 'hang': 860,\n",
              " 'twittering': 861,\n",
              " 'pizza': 862,\n",
              " 'truly': 863,\n",
              " 'ways': 864,\n",
              " 'wear': 865,\n",
              " 'hugs': 866,\n",
              " 'yo': 867,\n",
              " 'dream': 868,\n",
              " 'choice': 869,\n",
              " 'date': 870,\n",
              " 'def': 871,\n",
              " 'doubt': 872,\n",
              " 'driving': 873,\n",
              " 'pray': 874,\n",
              " 'bar': 875,\n",
              " 'asking': 876,\n",
              " 'pls': 877,\n",
              " 'walking': 878,\n",
              " 'doctor': 879,\n",
              " 'holiday': 880,\n",
              " 'thursday': 881,\n",
              " 'issue': 882,\n",
              " 'youd': 883,\n",
              " 'rise': 884,\n",
              " 'human': 885,\n",
              " 'mtv': 886,\n",
              " 'sexy': 887,\n",
              " 'group': 888,\n",
              " 'f': 889,\n",
              " 'content': 890,\n",
              " 'exam': 891,\n",
              " 'sense': 892,\n",
              " 'hungry': 893,\n",
              " 'personal': 894,\n",
              " 'ladies': 895,\n",
              " 'dear': 896,\n",
              " 'hits': 897,\n",
              " 'article': 898,\n",
              " 'style': 899,\n",
              " 'order': 900,\n",
              " 'joy': 901,\n",
              " 'awards': 902,\n",
              " 'seem': 903,\n",
              " 'control': 904,\n",
              " 'hands': 905,\n",
              " 'jesus': 906,\n",
              " 'meds': 907,\n",
              " 'whos': 908,\n",
              " 'wrote': 909,\n",
              " 'anger': 910,\n",
              " 'stigma': 911,\n",
              " 'exercising': 912,\n",
              " 'lady': 913,\n",
              " 'ate': 914,\n",
              " 'touch': 915,\n",
              " 'woot': 916,\n",
              " 'advice': 917,\n",
              " 'mall': 918,\n",
              " 'perhaps': 919,\n",
              " 'fingers': 920,\n",
              " 'yum': 921,\n",
              " 'energy': 922,\n",
              " 'front': 923,\n",
              " 'straight': 924,\n",
              " 'saved': 925,\n",
              " 'bet': 926,\n",
              " 'slept': 927,\n",
              " 'wondering': 928,\n",
              " 'nearly': 929,\n",
              " 'iphone': 930,\n",
              " 'happened': 931,\n",
              " 'warm': 932,\n",
              " 'staying': 933,\n",
              " 'broke': 934,\n",
              " 'uk': 935,\n",
              " 'headed': 936,\n",
              " 'david': 937,\n",
              " 'nick': 938,\n",
              " 'hold': 939,\n",
              " 'web': 940,\n",
              " 'line': 941,\n",
              " 'followed': 942,\n",
              " 'pleasure': 943,\n",
              " 'pass': 944,\n",
              " 'forever': 945,\n",
              " 'society': 946,\n",
              " 'keeping': 947,\n",
              " 'fat': 948,\n",
              " 'hangover': 949,\n",
              " 'fake': 950,\n",
              " 'cooking': 951,\n",
              " 'relax': 952,\n",
              " 'happens': 953,\n",
              " 'final': 954,\n",
              " 'tickets': 955,\n",
              " 'close': 956,\n",
              " 'feelings': 957,\n",
              " 'pool': 958,\n",
              " 'healing': 959,\n",
              " 'child': 960,\n",
              " 'treat': 961,\n",
              " 'sadness': 962,\n",
              " 'medical': 963,\n",
              " 'cuts': 964,\n",
              " 'pics': 965,\n",
              " 'means': 966,\n",
              " 'figure': 967,\n",
              " 'pm': 968,\n",
              " '25': 969,\n",
              " 'folks': 970,\n",
              " 'excellent': 971,\n",
              " 'relaxing': 972,\n",
              " 'model': 973,\n",
              " 'mad': 974,\n",
              " 'wife': 975,\n",
              " 'todays': 976,\n",
              " 'usually': 977,\n",
              " 'fixed': 978,\n",
              " 'process': 979,\n",
              " 'playlist': 980,\n",
              " 'alot': 981,\n",
              " 'spending': 982,\n",
              " 'changed': 983,\n",
              " 'sir': 984,\n",
              " 'cover': 985,\n",
              " 'supposed': 986,\n",
              " 'opinion': 987,\n",
              " 'rather': 988,\n",
              " 'blessed': 989,\n",
              " 'terrible': 990,\n",
              " 'played': 991,\n",
              " 'graduation': 992,\n",
              " 'note': 993,\n",
              " 'service': 994,\n",
              " 'lately': 995,\n",
              " 'twilight': 996,\n",
              " 'round': 997,\n",
              " 'indeed': 998,\n",
              " 'gives': 999,\n",
              " 'secret': 1000,\n",
              " ...}"
            ]
          },
          "metadata": {},
          "execution_count": 75
        }
      ]
    },
    {
      "cell_type": "code",
      "source": [
        "list(word_index.values())[22001] , list(word_index.keys())[20000]"
      ],
      "metadata": {
        "execution": {
          "iopub.status.busy": "2024-09-04T07:19:32.725156Z",
          "iopub.execute_input": "2024-09-04T07:19:32.725660Z",
          "iopub.status.idle": "2024-09-04T07:19:32.735654Z",
          "shell.execute_reply.started": "2024-09-04T07:19:32.725622Z",
          "shell.execute_reply": "2024-09-04T07:19:32.734353Z"
        },
        "trusted": true,
        "id": "ulRTlD3hpc9l",
        "outputId": "3b74f4f1-a83b-497b-99ad-d3a91ef18cbd",
        "colab": {
          "base_uri": "https://localhost:8080/"
        }
      },
      "execution_count": 76,
      "outputs": [
        {
          "output_type": "execute_result",
          "data": {
            "text/plain": [
              "(22002, 'consequence')"
            ]
          },
          "metadata": {},
          "execution_count": 76
        }
      ]
    },
    {
      "cell_type": "code",
      "source": [
        "# Convert texts to sequences of integers\n",
        "sequences = tokenizer.texts_to_sequences(df['review'].values)\n",
        "sequences[:10]"
      ],
      "metadata": {
        "execution": {
          "iopub.status.busy": "2024-09-04T06:54:40.930847Z",
          "iopub.execute_input": "2024-09-04T06:54:40.931618Z",
          "iopub.status.idle": "2024-09-04T06:54:41.133997Z",
          "shell.execute_reply.started": "2024-09-04T06:54:40.931577Z",
          "shell.execute_reply": "2024-09-04T06:54:41.132699Z"
        },
        "trusted": true,
        "id": "50Bvu2Kwpc9l",
        "outputId": "1faca3a5-4a3a-4fec-c387-0bf9999a9a9f",
        "colab": {
          "base_uri": "https://localhost:8080/"
        }
      },
      "execution_count": 77,
      "outputs": [
        {
          "output_type": "execute_result",
          "data": {
            "text/plain": [
              "[[114, 4, 424, 6287, 32],\n",
              " [389, 6288],\n",
              " [3086],\n",
              " [6289, 49, 460, 798, 6290, 69, 6291, 378, 75, 1851, 6292, 1486, 1126, 109],\n",
              " [318, 580, 6293],\n",
              " [1216, 4, 219, 101, 109],\n",
              " [6294, 6295, 89, 156, 179, 6296, 64, 243, 209, 1346],\n",
              " [1347, 6297, 799, 23, 65],\n",
              " [581, 3087, 1127, 6298],\n",
              " [6299, 33, 6300, 237, 759]]"
            ]
          },
          "metadata": {},
          "execution_count": 77
        }
      ]
    },
    {
      "cell_type": "code",
      "source": [
        "# Pad sequences to ensure equal length\n",
        "padded_sequences = pad_sequences(sequences, padding='post')\n",
        "padded_sequences[:1]"
      ],
      "metadata": {
        "execution": {
          "iopub.status.busy": "2024-09-04T06:55:12.923741Z",
          "iopub.execute_input": "2024-09-04T06:55:12.924209Z",
          "iopub.status.idle": "2024-09-04T06:55:12.990537Z",
          "shell.execute_reply.started": "2024-09-04T06:55:12.924171Z",
          "shell.execute_reply": "2024-09-04T06:55:12.989075Z"
        },
        "trusted": true,
        "id": "4KlMFYlKpc9l",
        "outputId": "750340d5-bd17-4ae5-c451-76046f220ccb",
        "colab": {
          "base_uri": "https://localhost:8080/"
        }
      },
      "execution_count": 78,
      "outputs": [
        {
          "output_type": "execute_result",
          "data": {
            "text/plain": [
              "array([[ 114,    4,  424, 6287,   32,    0,    0,    0,    0,    0,    0,\n",
              "           0,    0,    0,    0,    0,    0,    0,    0,    0,    0,    0,\n",
              "           0,    0,    0,    0,    0,    0,    0,    0,    0,    0,    0,\n",
              "           0,    0,    0,    0,    0,    0,    0,    0,    0,    0,    0,\n",
              "           0,    0,    0,    0,    0,    0,    0,    0,    0,    0,    0,\n",
              "           0,    0,    0,    0,    0,    0,    0,    0,    0,    0,    0,\n",
              "           0,    0,    0,    0,    0,    0,    0,    0,    0]],\n",
              "      dtype=int32)"
            ]
          },
          "metadata": {},
          "execution_count": 78
        }
      ]
    },
    {
      "cell_type": "code",
      "source": [
        "padded_sequences.shape"
      ],
      "metadata": {
        "execution": {
          "iopub.status.busy": "2024-09-04T06:56:25.166643Z",
          "iopub.execute_input": "2024-09-04T06:56:25.167104Z",
          "iopub.status.idle": "2024-09-04T06:56:25.175166Z",
          "shell.execute_reply.started": "2024-09-04T06:56:25.167068Z",
          "shell.execute_reply": "2024-09-04T06:56:25.173642Z"
        },
        "trusted": true,
        "id": "a48Yp-T0pc9l",
        "outputId": "88b6249d-b9da-403b-ba83-7b91f3fc1f86",
        "colab": {
          "base_uri": "https://localhost:8080/"
        }
      },
      "execution_count": 79,
      "outputs": [
        {
          "output_type": "execute_result",
          "data": {
            "text/plain": [
              "(10314, 75)"
            ]
          },
          "metadata": {},
          "execution_count": 79
        }
      ]
    },
    {
      "cell_type": "code",
      "source": [
        "# Convert labels to numpy array\n",
        "labels = np.array(df['Sentiment'].values)\n",
        "labels"
      ],
      "metadata": {
        "execution": {
          "iopub.status.busy": "2024-09-04T06:55:37.835991Z",
          "iopub.execute_input": "2024-09-04T06:55:37.837142Z",
          "iopub.status.idle": "2024-09-04T06:55:37.845539Z",
          "shell.execute_reply.started": "2024-09-04T06:55:37.837101Z",
          "shell.execute_reply": "2024-09-04T06:55:37.843914Z"
        },
        "trusted": true,
        "id": "5NSmTOn5pc9m",
        "outputId": "edfd0eb1-8038-440b-d71b-9f214d1441ee",
        "colab": {
          "base_uri": "https://localhost:8080/"
        }
      },
      "execution_count": 80,
      "outputs": [
        {
          "output_type": "execute_result",
          "data": {
            "text/plain": [
              "array([0, 0, 0, ..., 1, 1, 1])"
            ]
          },
          "metadata": {},
          "execution_count": 80
        }
      ]
    },
    {
      "cell_type": "code",
      "source": [
        "# Split the data into training and testing sets\n",
        "X_train, X_test, y_train, y_test = train_test_split(padded_sequences, labels, test_size=0.3, random_state=42)"
      ],
      "metadata": {
        "execution": {
          "iopub.status.busy": "2024-09-04T06:56:35.316459Z",
          "iopub.execute_input": "2024-09-04T06:56:35.316866Z",
          "iopub.status.idle": "2024-09-04T06:56:35.325596Z",
          "shell.execute_reply.started": "2024-09-04T06:56:35.316835Z",
          "shell.execute_reply": "2024-09-04T06:56:35.324246Z"
        },
        "trusted": true,
        "id": "8NEVlJdCpc9m"
      },
      "execution_count": 81,
      "outputs": []
    },
    {
      "cell_type": "code",
      "source": [
        "from tensorflow.keras.layers import Flatten"
      ],
      "metadata": {
        "id": "Wzf6TCGApyzr"
      },
      "execution_count": 83,
      "outputs": []
    },
    {
      "cell_type": "code",
      "source": [
        "\n",
        "# Build the model\n",
        "model = Sequential([\n",
        "    Embedding(input_dim=10000, output_dim=16),  # Embedding layer\n",
        "    LSTM(64, return_sequences=True),  # LSTM layer\n",
        "    Dropout(0.2),\n",
        "    LSTM(32, return_sequences=True),\n",
        "    Flatten(),\n",
        "    Dense(32, activation='relu'),\n",
        "    Dropout(0.1),\n",
        "    Dense(1, activation='sigmoid')  # Use 'softmax' if you have more than 2 classes\n",
        "])"
      ],
      "metadata": {
        "execution": {
          "iopub.status.busy": "2024-09-04T07:11:46.065319Z",
          "iopub.execute_input": "2024-09-04T07:11:46.065803Z",
          "iopub.status.idle": "2024-09-04T07:11:46.092302Z",
          "shell.execute_reply.started": "2024-09-04T07:11:46.065765Z",
          "shell.execute_reply": "2024-09-04T07:11:46.091030Z"
        },
        "trusted": true,
        "id": "e79hJcAppc9m"
      },
      "execution_count": 84,
      "outputs": []
    },
    {
      "cell_type": "code",
      "source": [
        "model.summary()"
      ],
      "metadata": {
        "execution": {
          "iopub.status.busy": "2024-09-04T07:14:49.791185Z",
          "iopub.execute_input": "2024-09-04T07:14:49.791648Z",
          "iopub.status.idle": "2024-09-04T07:14:49.826215Z",
          "shell.execute_reply.started": "2024-09-04T07:14:49.791612Z",
          "shell.execute_reply": "2024-09-04T07:14:49.824523Z"
        },
        "trusted": true,
        "id": "Qo_ljQvfpc9m",
        "outputId": "6d310185-19cf-45d1-8100-0247d50cfc5a",
        "colab": {
          "base_uri": "https://localhost:8080/",
          "height": 402
        }
      },
      "execution_count": 85,
      "outputs": [
        {
          "output_type": "display_data",
          "data": {
            "text/plain": [
              "\u001b[1mModel: \"sequential_4\"\u001b[0m\n"
            ],
            "text/html": [
              "<pre style=\"white-space:pre;overflow-x:auto;line-height:normal;font-family:Menlo,'DejaVu Sans Mono',consolas,'Courier New',monospace\"><span style=\"font-weight: bold\">Model: \"sequential_4\"</span>\n",
              "</pre>\n"
            ]
          },
          "metadata": {}
        },
        {
          "output_type": "display_data",
          "data": {
            "text/plain": [
              "┏━━━━━━━━━━━━━━━━━━━━━━━━━━━━━━━━━┳━━━━━━━━━━━━━━━━━━━━━━━━┳━━━━━━━━━━━━━━━┓\n",
              "┃\u001b[1m \u001b[0m\u001b[1mLayer (type)                   \u001b[0m\u001b[1m \u001b[0m┃\u001b[1m \u001b[0m\u001b[1mOutput Shape          \u001b[0m\u001b[1m \u001b[0m┃\u001b[1m \u001b[0m\u001b[1m      Param #\u001b[0m\u001b[1m \u001b[0m┃\n",
              "┡━━━━━━━━━━━━━━━━━━━━━━━━━━━━━━━━━╇━━━━━━━━━━━━━━━━━━━━━━━━╇━━━━━━━━━━━━━━━┩\n",
              "│ embedding_5 (\u001b[38;5;33mEmbedding\u001b[0m)         │ ?                      │   \u001b[38;5;34m0\u001b[0m (unbuilt) │\n",
              "├─────────────────────────────────┼────────────────────────┼───────────────┤\n",
              "│ lstm_6 (\u001b[38;5;33mLSTM\u001b[0m)                   │ ?                      │   \u001b[38;5;34m0\u001b[0m (unbuilt) │\n",
              "├─────────────────────────────────┼────────────────────────┼───────────────┤\n",
              "│ dropout_9 (\u001b[38;5;33mDropout\u001b[0m)             │ ?                      │             \u001b[38;5;34m0\u001b[0m │\n",
              "├─────────────────────────────────┼────────────────────────┼───────────────┤\n",
              "│ lstm_7 (\u001b[38;5;33mLSTM\u001b[0m)                   │ ?                      │   \u001b[38;5;34m0\u001b[0m (unbuilt) │\n",
              "├─────────────────────────────────┼────────────────────────┼───────────────┤\n",
              "│ flatten (\u001b[38;5;33mFlatten\u001b[0m)               │ ?                      │   \u001b[38;5;34m0\u001b[0m (unbuilt) │\n",
              "├─────────────────────────────────┼────────────────────────┼───────────────┤\n",
              "│ dense_8 (\u001b[38;5;33mDense\u001b[0m)                 │ ?                      │   \u001b[38;5;34m0\u001b[0m (unbuilt) │\n",
              "├─────────────────────────────────┼────────────────────────┼───────────────┤\n",
              "│ dropout_10 (\u001b[38;5;33mDropout\u001b[0m)            │ ?                      │             \u001b[38;5;34m0\u001b[0m │\n",
              "├─────────────────────────────────┼────────────────────────┼───────────────┤\n",
              "│ dense_9 (\u001b[38;5;33mDense\u001b[0m)                 │ ?                      │   \u001b[38;5;34m0\u001b[0m (unbuilt) │\n",
              "└─────────────────────────────────┴────────────────────────┴───────────────┘\n"
            ],
            "text/html": [
              "<pre style=\"white-space:pre;overflow-x:auto;line-height:normal;font-family:Menlo,'DejaVu Sans Mono',consolas,'Courier New',monospace\">┏━━━━━━━━━━━━━━━━━━━━━━━━━━━━━━━━━┳━━━━━━━━━━━━━━━━━━━━━━━━┳━━━━━━━━━━━━━━━┓\n",
              "┃<span style=\"font-weight: bold\"> Layer (type)                    </span>┃<span style=\"font-weight: bold\"> Output Shape           </span>┃<span style=\"font-weight: bold\">       Param # </span>┃\n",
              "┡━━━━━━━━━━━━━━━━━━━━━━━━━━━━━━━━━╇━━━━━━━━━━━━━━━━━━━━━━━━╇━━━━━━━━━━━━━━━┩\n",
              "│ embedding_5 (<span style=\"color: #0087ff; text-decoration-color: #0087ff\">Embedding</span>)         │ ?                      │   <span style=\"color: #00af00; text-decoration-color: #00af00\">0</span> (unbuilt) │\n",
              "├─────────────────────────────────┼────────────────────────┼───────────────┤\n",
              "│ lstm_6 (<span style=\"color: #0087ff; text-decoration-color: #0087ff\">LSTM</span>)                   │ ?                      │   <span style=\"color: #00af00; text-decoration-color: #00af00\">0</span> (unbuilt) │\n",
              "├─────────────────────────────────┼────────────────────────┼───────────────┤\n",
              "│ dropout_9 (<span style=\"color: #0087ff; text-decoration-color: #0087ff\">Dropout</span>)             │ ?                      │             <span style=\"color: #00af00; text-decoration-color: #00af00\">0</span> │\n",
              "├─────────────────────────────────┼────────────────────────┼───────────────┤\n",
              "│ lstm_7 (<span style=\"color: #0087ff; text-decoration-color: #0087ff\">LSTM</span>)                   │ ?                      │   <span style=\"color: #00af00; text-decoration-color: #00af00\">0</span> (unbuilt) │\n",
              "├─────────────────────────────────┼────────────────────────┼───────────────┤\n",
              "│ flatten (<span style=\"color: #0087ff; text-decoration-color: #0087ff\">Flatten</span>)               │ ?                      │   <span style=\"color: #00af00; text-decoration-color: #00af00\">0</span> (unbuilt) │\n",
              "├─────────────────────────────────┼────────────────────────┼───────────────┤\n",
              "│ dense_8 (<span style=\"color: #0087ff; text-decoration-color: #0087ff\">Dense</span>)                 │ ?                      │   <span style=\"color: #00af00; text-decoration-color: #00af00\">0</span> (unbuilt) │\n",
              "├─────────────────────────────────┼────────────────────────┼───────────────┤\n",
              "│ dropout_10 (<span style=\"color: #0087ff; text-decoration-color: #0087ff\">Dropout</span>)            │ ?                      │             <span style=\"color: #00af00; text-decoration-color: #00af00\">0</span> │\n",
              "├─────────────────────────────────┼────────────────────────┼───────────────┤\n",
              "│ dense_9 (<span style=\"color: #0087ff; text-decoration-color: #0087ff\">Dense</span>)                 │ ?                      │   <span style=\"color: #00af00; text-decoration-color: #00af00\">0</span> (unbuilt) │\n",
              "└─────────────────────────────────┴────────────────────────┴───────────────┘\n",
              "</pre>\n"
            ]
          },
          "metadata": {}
        },
        {
          "output_type": "display_data",
          "data": {
            "text/plain": [
              "\u001b[1m Total params: \u001b[0m\u001b[38;5;34m0\u001b[0m (0.00 B)\n"
            ],
            "text/html": [
              "<pre style=\"white-space:pre;overflow-x:auto;line-height:normal;font-family:Menlo,'DejaVu Sans Mono',consolas,'Courier New',monospace\"><span style=\"font-weight: bold\"> Total params: </span><span style=\"color: #00af00; text-decoration-color: #00af00\">0</span> (0.00 B)\n",
              "</pre>\n"
            ]
          },
          "metadata": {}
        },
        {
          "output_type": "display_data",
          "data": {
            "text/plain": [
              "\u001b[1m Trainable params: \u001b[0m\u001b[38;5;34m0\u001b[0m (0.00 B)\n"
            ],
            "text/html": [
              "<pre style=\"white-space:pre;overflow-x:auto;line-height:normal;font-family:Menlo,'DejaVu Sans Mono',consolas,'Courier New',monospace\"><span style=\"font-weight: bold\"> Trainable params: </span><span style=\"color: #00af00; text-decoration-color: #00af00\">0</span> (0.00 B)\n",
              "</pre>\n"
            ]
          },
          "metadata": {}
        },
        {
          "output_type": "display_data",
          "data": {
            "text/plain": [
              "\u001b[1m Non-trainable params: \u001b[0m\u001b[38;5;34m0\u001b[0m (0.00 B)\n"
            ],
            "text/html": [
              "<pre style=\"white-space:pre;overflow-x:auto;line-height:normal;font-family:Menlo,'DejaVu Sans Mono',consolas,'Courier New',monospace\"><span style=\"font-weight: bold\"> Non-trainable params: </span><span style=\"color: #00af00; text-decoration-color: #00af00\">0</span> (0.00 B)\n",
              "</pre>\n"
            ]
          },
          "metadata": {}
        }
      ]
    },
    {
      "cell_type": "code",
      "source": [
        "# Compile the model\n",
        "model.compile(optimizer='adam', loss='binary_crossentropy', metrics=['accuracy'])\n",
        "\n",
        "# Train the model\n",
        "model.fit(X_train, y_train, epochs=10, batch_size=32, validation_split=0.2)"
      ],
      "metadata": {
        "execution": {
          "iopub.status.busy": "2024-09-04T07:11:54.891368Z",
          "iopub.execute_input": "2024-09-04T07:11:54.891778Z",
          "iopub.status.idle": "2024-09-04T07:14:05.508567Z",
          "shell.execute_reply.started": "2024-09-04T07:11:54.891747Z",
          "shell.execute_reply": "2024-09-04T07:14:05.507166Z"
        },
        "trusted": true,
        "id": "hdYztUzTpc9m",
        "outputId": "c5c60fba-9485-447a-8f63-717498382dee",
        "colab": {
          "base_uri": "https://localhost:8080/"
        }
      },
      "execution_count": 86,
      "outputs": [
        {
          "output_type": "stream",
          "name": "stdout",
          "text": [
            "Epoch 1/10\n",
            "\u001b[1m181/181\u001b[0m \u001b[32m━━━━━━━━━━━━━━━━━━━━\u001b[0m\u001b[37m\u001b[0m \u001b[1m6s\u001b[0m 17ms/step - accuracy: 0.8291 - loss: 0.4135 - val_accuracy: 0.9924 - val_loss: 0.0369\n",
            "Epoch 2/10\n",
            "\u001b[1m181/181\u001b[0m \u001b[32m━━━━━━━━━━━━━━━━━━━━\u001b[0m\u001b[37m\u001b[0m \u001b[1m2s\u001b[0m 11ms/step - accuracy: 0.9933 - loss: 0.0331 - val_accuracy: 0.9931 - val_loss: 0.0359\n",
            "Epoch 3/10\n",
            "\u001b[1m181/181\u001b[0m \u001b[32m━━━━━━━━━━━━━━━━━━━━\u001b[0m\u001b[37m\u001b[0m \u001b[1m3s\u001b[0m 12ms/step - accuracy: 0.9959 - loss: 0.0118 - val_accuracy: 0.9917 - val_loss: 0.0344\n",
            "Epoch 4/10\n",
            "\u001b[1m181/181\u001b[0m \u001b[32m━━━━━━━━━━━━━━━━━━━━\u001b[0m\u001b[37m\u001b[0m \u001b[1m2s\u001b[0m 11ms/step - accuracy: 0.9969 - loss: 0.0103 - val_accuracy: 0.9875 - val_loss: 0.0476\n",
            "Epoch 5/10\n",
            "\u001b[1m181/181\u001b[0m \u001b[32m━━━━━━━━━━━━━━━━━━━━\u001b[0m\u001b[37m\u001b[0m \u001b[1m3s\u001b[0m 14ms/step - accuracy: 0.9931 - loss: 0.0305 - val_accuracy: 0.9799 - val_loss: 0.0568\n",
            "Epoch 6/10\n",
            "\u001b[1m181/181\u001b[0m \u001b[32m━━━━━━━━━━━━━━━━━━━━\u001b[0m\u001b[37m\u001b[0m \u001b[1m5s\u001b[0m 12ms/step - accuracy: 0.9981 - loss: 0.0116 - val_accuracy: 0.9799 - val_loss: 0.0606\n",
            "Epoch 7/10\n",
            "\u001b[1m181/181\u001b[0m \u001b[32m━━━━━━━━━━━━━━━━━━━━\u001b[0m\u001b[37m\u001b[0m \u001b[1m2s\u001b[0m 11ms/step - accuracy: 0.9990 - loss: 0.0069 - val_accuracy: 0.9882 - val_loss: 0.0471\n",
            "Epoch 8/10\n",
            "\u001b[1m181/181\u001b[0m \u001b[32m━━━━━━━━━━━━━━━━━━━━\u001b[0m\u001b[37m\u001b[0m \u001b[1m3s\u001b[0m 11ms/step - accuracy: 0.9997 - loss: 0.0017 - val_accuracy: 0.9855 - val_loss: 0.0521\n",
            "Epoch 9/10\n",
            "\u001b[1m181/181\u001b[0m \u001b[32m━━━━━━━━━━━━━━━━━━━━\u001b[0m\u001b[37m\u001b[0m \u001b[1m3s\u001b[0m 15ms/step - accuracy: 0.9996 - loss: 0.0020 - val_accuracy: 0.9924 - val_loss: 0.0598\n",
            "Epoch 10/10\n",
            "\u001b[1m181/181\u001b[0m \u001b[32m━━━━━━━━━━━━━━━━━━━━\u001b[0m\u001b[37m\u001b[0m \u001b[1m5s\u001b[0m 14ms/step - accuracy: 0.9983 - loss: 0.0041 - val_accuracy: 0.9855 - val_loss: 0.0481\n"
          ]
        },
        {
          "output_type": "execute_result",
          "data": {
            "text/plain": [
              "<keras.src.callbacks.history.History at 0x7e04ba463530>"
            ]
          },
          "metadata": {},
          "execution_count": 86
        }
      ]
    },
    {
      "cell_type": "code",
      "source": [
        "# Evaluate the model\n",
        "y_pred = (model.predict(X_test) > 0.5).astype(\"int32\")  # Convert probabilities to binary output\n",
        "print(f'Accuracy: {accuracy_score(y_test, y_pred)}')"
      ],
      "metadata": {
        "execution": {
          "iopub.status.busy": "2024-09-04T07:14:41.436386Z",
          "iopub.execute_input": "2024-09-04T07:14:41.436819Z",
          "iopub.status.idle": "2024-09-04T07:14:44.516869Z",
          "shell.execute_reply.started": "2024-09-04T07:14:41.436785Z",
          "shell.execute_reply": "2024-09-04T07:14:44.515462Z"
        },
        "trusted": true,
        "id": "FADRihzwpc9m",
        "outputId": "d3dfd3de-2ff8-43a6-aafc-88e798e8be70",
        "colab": {
          "base_uri": "https://localhost:8080/"
        }
      },
      "execution_count": 87,
      "outputs": [
        {
          "output_type": "stream",
          "name": "stdout",
          "text": [
            "\u001b[1m97/97\u001b[0m \u001b[32m━━━━━━━━━━━━━━━━━━━━\u001b[0m\u001b[37m\u001b[0m \u001b[1m1s\u001b[0m 5ms/step\n",
            "Accuracy: 0.9877221324717286\n"
          ]
        }
      ]
    },
    {
      "cell_type": "code",
      "source": [],
      "metadata": {
        "id": "B50NLld_pc9m"
      },
      "execution_count": null,
      "outputs": []
    },
    {
      "cell_type": "code",
      "source": [],
      "metadata": {
        "id": "c0Y4hSfCpc9m"
      },
      "execution_count": null,
      "outputs": []
    },
    {
      "cell_type": "code",
      "source": [],
      "metadata": {
        "id": "zaDLzjz7pc9m"
      },
      "execution_count": null,
      "outputs": []
    }
  ]
}